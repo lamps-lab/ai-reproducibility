{
 "cells": [
  {
   "cell_type": "code",
   "execution_count": null,
   "id": "293b03a4-192d-45d8-938b-0115bfef4a0d",
   "metadata": {
    "tags": []
   },
   "outputs": [],
   "source": [
    "\"\"\"\n",
    "R001_Fall_2023_AI_Reproducibility__\n",
    "|\n",
    "R001_JSON_to_csv_contexts_conversion.ipynb\n",
    "Created on Sun Nov 12 23:20:06 2023\n",
    "@author: Rochana Obadage\n",
    "\"\"\""
   ]
  },
  {
   "cell_type": "code",
   "execution_count": 11,
   "id": "8a2e798e",
   "metadata": {
    "scrolled": true,
    "tags": []
   },
   "outputs": [
    {
     "name": "stdout",
     "output_type": "stream",
     "text": [
      "Python 3.10.8\n"
     ]
    }
   ],
   "source": [
    "# !pip list\n",
    "\n",
    "!python --version"
   ]
  },
  {
   "cell_type": "markdown",
   "id": "961e5dce-7392-4aea-97d9-7f6633c530e1",
   "metadata": {
    "tags": []
   },
   "source": [
    "# JSON to CSV contexts conversion"
   ]
  },
  {
   "cell_type": "code",
   "execution_count": 3,
   "id": "fa3f6c99",
   "metadata": {
    "tags": []
   },
   "outputs": [],
   "source": [
    "import pandas as pd\n",
    "import json\n",
    "import urllib\n",
    "import time\n",
    "import string\n",
    "import os\n",
    "import shutil\n",
    "import math\n",
    "import json\n",
    "import glob\n",
    "# import seaborn as sns\n",
    "\n",
    "import numpy as np\n",
    "import matplotlib.pyplot as plt"
   ]
  },
  {
   "cell_type": "markdown",
   "id": "a2870a9a",
   "metadata": {},
   "source": [
    "## ``reading labelled json files``"
   ]
  },
  {
   "cell_type": "code",
   "execution_count": 4,
   "id": "1c114820",
   "metadata": {
    "tags": []
   },
   "outputs": [
    {
     "data": {
      "text/plain": [
       "['../data/Citing_Paper_contexts_lables/RS_148_ICDAR_2018_15.json',\n",
       " '../data/Citing_Paper_contexts_lables/RS_020_MLRC_2022_20.json',\n",
       " '../data/Citing_Paper_contexts_lables/RS_039_MLRC_2022_39.json',\n",
       " '../data/Citing_Paper_contexts_lables/RS_014_MLRC_2022_14.json',\n",
       " '../data/Citing_Paper_contexts_lables/RS_140_ICDAR_2018_07.json',\n",
       " '../data/Citing_Paper_contexts_lables/RS_011_MLRC_2022_11.json',\n",
       " '../data/Citing_Paper_contexts_lables/RS_132_ICLR_2019_04.json',\n",
       " '../data/Citing_Paper_contexts_lables/RS_135_ICDAR_2018_02.json',\n",
       " '../data/Citing_Paper_contexts_lables/RS_147_ICDAR_2018_14.json',\n",
       " '../data/Citing_Paper_contexts_lables/RS_085_MLRC_2021_40.json',\n",
       " '../data/Citing_Paper_contexts_lables/RS_134_ICDAR_2018_01.json',\n",
       " '../data/Citing_Paper_contexts_lables/RS_062_MLRC_2021_17.json',\n",
       " '../data/Citing_Paper_contexts_lables/RS_145_ICDAR_2018_12.json',\n",
       " '../data/Citing_Paper_contexts_lables/RS_149_ICDAR_2018_16.json',\n",
       " '../data/Citing_Paper_contexts_lables/RS_073_MLRC_2021_28.json',\n",
       " '../data/Citing_Paper_contexts_lables/RS_141_ICDAR_2018_08.json',\n",
       " '../data/Citing_Paper_contexts_lables/RS_052_MLRC_2021_07.json',\n",
       " '../data/Citing_Paper_contexts_lables/RS_142_ICDAR_2018_09.json',\n",
       " '../data/Citing_Paper_contexts_lables/RS_045_MLRC_2022_45.json',\n",
       " '../data/Citing_Paper_contexts_lables/RS_137_ICDAR_2018_04.json',\n",
       " '../data/Citing_Paper_contexts_lables/RS_138_ICDAR_2018_05.json',\n",
       " '../data/Citing_Paper_contexts_lables/RS_008_MLRC_2022_08.json']"
      ]
     },
     "execution_count": 4,
     "metadata": {},
     "output_type": "execute_result"
    }
   ],
   "source": [
    "# already_labelled_list = [i.replace(\"Citing_Paper_contexts_lables\\\\\",\"\") for i in glob.glob(\"Citing_Paper_contexts_lables/*.json\") if \"temp_labelling\" not in i]\n",
    "already_labelled_list = [i for i in glob.glob(\"../data/Citing_Paper_contexts_lables/*.json\") if \"temp_labelling\" not in i]\n",
    "already_labelled_list"
   ]
  },
  {
   "cell_type": "code",
   "execution_count": 5,
   "id": "9100280f",
   "metadata": {
    "tags": []
   },
   "outputs": [
    {
     "data": {
      "text/html": [
       "<div>\n",
       "<style scoped>\n",
       "    .dataframe tbody tr th:only-of-type {\n",
       "        vertical-align: middle;\n",
       "    }\n",
       "\n",
       "    .dataframe tbody tr th {\n",
       "        vertical-align: top;\n",
       "    }\n",
       "\n",
       "    .dataframe thead th {\n",
       "        text-align: right;\n",
       "    }\n",
       "</style>\n",
       "<table border=\"1\" class=\"dataframe\">\n",
       "  <thead>\n",
       "    <tr style=\"text-align: right;\">\n",
       "      <th></th>\n",
       "      <th>context</th>\n",
       "      <th>label_score</th>\n",
       "      <th>label</th>\n",
       "    </tr>\n",
       "  </thead>\n",
       "  <tbody>\n",
       "    <tr>\n",
       "      <th>0</th>\n",
       "      <td>The source codes of 6 papers were not executab...</td>\n",
       "      <td>-2.0</td>\n",
       "      <td>O-NR</td>\n",
       "    </tr>\n",
       "    <tr>\n",
       "      <th>1</th>\n",
       "      <td>[37] 2022 GTE WACV PubTabNet ICDAR 2013 + ICDA...</td>\n",
       "      <td>0.0</td>\n",
       "      <td>Neutral</td>\n",
       "    </tr>\n",
       "    <tr>\n",
       "      <th>2</th>\n",
       "      <td>A Jain [125] spatial associations + dynamic pr...</td>\n",
       "      <td>0.0</td>\n",
       "      <td>Neutral</td>\n",
       "    </tr>\n",
       "    <tr>\n",
       "      <th>3</th>\n",
       "      <td>A Jain [125] suggests training a deep network ...</td>\n",
       "      <td>0.0</td>\n",
       "      <td>Neutral</td>\n",
       "    </tr>\n",
       "    <tr>\n",
       "      <th>4</th>\n",
       "      <td>According to stakeholders considered in the al...</td>\n",
       "      <td>0.0</td>\n",
       "      <td>Neutral</td>\n",
       "    </tr>\n",
       "    <tr>\n",
       "      <th>...</th>\n",
       "      <td>...</td>\n",
       "      <td>...</td>\n",
       "      <td>...</td>\n",
       "    </tr>\n",
       "    <tr>\n",
       "      <th>1932</th>\n",
       "      <td>Modern image retrieval methods (Lim et al., 20...</td>\n",
       "      <td>0.0</td>\n",
       "      <td>Neutral</td>\n",
       "    </tr>\n",
       "    <tr>\n",
       "      <th>1933</th>\n",
       "      <td>Modern image retrieval methods (Lim et al., 20...</td>\n",
       "      <td>0.0</td>\n",
       "      <td>Neutral</td>\n",
       "    </tr>\n",
       "    <tr>\n",
       "      <th>1934</th>\n",
       "      <td>focusing on the feature fusion [39], [49] with...</td>\n",
       "      <td>0.5</td>\n",
       "      <td>Weak</td>\n",
       "    </tr>\n",
       "    <tr>\n",
       "      <th>1935</th>\n",
       "      <td>, multi-modal learning [24], [39], trajectory ...</td>\n",
       "      <td>0.0</td>\n",
       "      <td>Neutral</td>\n",
       "    </tr>\n",
       "    <tr>\n",
       "      <th>1936</th>\n",
       "      <td>To improve embedding quality, detaching class-...</td>\n",
       "      <td>0.5</td>\n",
       "      <td>Weak</td>\n",
       "    </tr>\n",
       "  </tbody>\n",
       "</table>\n",
       "<p>1937 rows × 3 columns</p>\n",
       "</div>"
      ],
      "text/plain": [
       "                                                context  label_score    label\n",
       "0     The source codes of 6 papers were not executab...         -2.0     O-NR\n",
       "1     [37] 2022 GTE WACV PubTabNet ICDAR 2013 + ICDA...          0.0  Neutral\n",
       "2     A Jain [125] spatial associations + dynamic pr...          0.0  Neutral\n",
       "3     A Jain [125] suggests training a deep network ...          0.0  Neutral\n",
       "4     According to stakeholders considered in the al...          0.0  Neutral\n",
       "...                                                 ...          ...      ...\n",
       "1932  Modern image retrieval methods (Lim et al., 20...          0.0  Neutral\n",
       "1933  Modern image retrieval methods (Lim et al., 20...          0.0  Neutral\n",
       "1934  focusing on the feature fusion [39], [49] with...          0.5     Weak\n",
       "1935  , multi-modal learning [24], [39], trajectory ...          0.0  Neutral\n",
       "1936  To improve embedding quality, detaching class-...          0.5     Weak\n",
       "\n",
       "[1937 rows x 3 columns]"
      ]
     },
     "execution_count": 5,
     "metadata": {},
     "output_type": "execute_result"
    }
   ],
   "source": [
    "df = pd.DataFrame() \n",
    "\n",
    "for file in already_labelled_list:\n",
    "    with open(file) as f:\n",
    "        file_data = json.load(f)['data']\n",
    "        for item in file_data:\n",
    "#             print(item['context_scores'])\n",
    "            \n",
    "            df1 = pd.DataFrame(item['context_scores'])\n",
    "            df = pd.concat([df, df1], ignore_index=True)\n",
    "            \n",
    "df.to_csv(\"../data/for_training_.csv\",index=False)\n",
    "df"
   ]
  },
  {
   "cell_type": "code",
   "execution_count": 6,
   "id": "d8d19350",
   "metadata": {
    "tags": []
   },
   "outputs": [
    {
     "data": {
      "text/html": [
       "<div>\n",
       "<style scoped>\n",
       "    .dataframe tbody tr th:only-of-type {\n",
       "        vertical-align: middle;\n",
       "    }\n",
       "\n",
       "    .dataframe tbody tr th {\n",
       "        vertical-align: top;\n",
       "    }\n",
       "\n",
       "    .dataframe thead th {\n",
       "        text-align: right;\n",
       "    }\n",
       "</style>\n",
       "<table border=\"1\" class=\"dataframe\">\n",
       "  <thead>\n",
       "    <tr style=\"text-align: right;\">\n",
       "      <th></th>\n",
       "      <th>label_score</th>\n",
       "      <th>context</th>\n",
       "      <th>label</th>\n",
       "    </tr>\n",
       "  </thead>\n",
       "  <tbody>\n",
       "    <tr>\n",
       "      <th>0</th>\n",
       "      <td>-2.0</td>\n",
       "      <td>12</td>\n",
       "      <td>12</td>\n",
       "    </tr>\n",
       "    <tr>\n",
       "      <th>1</th>\n",
       "      <td>-1.0</td>\n",
       "      <td>11</td>\n",
       "      <td>11</td>\n",
       "    </tr>\n",
       "    <tr>\n",
       "      <th>2</th>\n",
       "      <td>0.0</td>\n",
       "      <td>1756</td>\n",
       "      <td>1756</td>\n",
       "    </tr>\n",
       "    <tr>\n",
       "      <th>3</th>\n",
       "      <td>0.5</td>\n",
       "      <td>139</td>\n",
       "      <td>139</td>\n",
       "    </tr>\n",
       "    <tr>\n",
       "      <th>4</th>\n",
       "      <td>1.0</td>\n",
       "      <td>19</td>\n",
       "      <td>19</td>\n",
       "    </tr>\n",
       "  </tbody>\n",
       "</table>\n",
       "</div>"
      ],
      "text/plain": [
       "   label_score  context  label\n",
       "0         -2.0       12     12\n",
       "1         -1.0       11     11\n",
       "2          0.0     1756   1756\n",
       "3          0.5      139    139\n",
       "4          1.0       19     19"
      ]
     },
     "execution_count": 6,
     "metadata": {},
     "output_type": "execute_result"
    }
   ],
   "source": [
    "df_ = df.groupby('label_score').count()\n",
    "df_.reset_index()"
   ]
  },
  {
   "cell_type": "code",
   "execution_count": 9,
   "id": "a337a7ac",
   "metadata": {
    "tags": []
   },
   "outputs": [],
   "source": [
    "FOLDER_NAME = r\"../data/Citing_Paper_contexts_csv/\"\n",
    "\n",
    "if not os.path.exists(FOLDER_NAME):\n",
    "    os.makedirs(FOLDER_NAME)\n",
    "\n",
    "for file in glob.glob(\"../data/Citing_Paper_contexts/*.json\"):\n",
    "    with open(file) as f:\n",
    "        df = pd.DataFrame()\n",
    "        \n",
    "        file_data = json.load(f)['data']\n",
    "        \n",
    "        for item in file_data:\n",
    "            single_citing_paper = item['contexts']\n",
    "    \n",
    "            if single_citing_paper != []:\n",
    "                for key, context in enumerate(single_citing_paper):\n",
    "                    single_context = {\"text\":context,\"label_score\":'',\"label\":''}\n",
    "\n",
    "                    df1 = pd.DataFrame({k: [v] for k, v in single_context.items()})\n",
    "            \n",
    "                    df = pd.concat([df, df1], ignore_index=True)\n",
    "    \n",
    "        \n",
    "        csv_name = os.path.join(FOLDER_NAME, os.path.basename(file).replace('.json','.csv'))\n",
    "        \n",
    "        df.to_csv(csv_name,index=False)\n"
   ]
  }
 ],
 "metadata": {
  "kernelspec": {
   "display_name": "Python 3 (ipykernel)",
   "language": "python",
   "name": "python3"
  },
  "language_info": {
   "codemirror_mode": {
    "name": "ipython",
    "version": 3
   },
   "file_extension": ".py",
   "mimetype": "text/x-python",
   "name": "python",
   "nbconvert_exporter": "python",
   "pygments_lexer": "ipython3",
   "version": "3.10.11"
  }
 },
 "nbformat": 4,
 "nbformat_minor": 5
}
