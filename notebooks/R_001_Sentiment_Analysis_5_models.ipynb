{
 "cells": [
  {
   "cell_type": "code",
   "execution_count": 1,
   "id": "01d66de7-8da9-42f6-a16f-d5d1ce4326aa",
   "metadata": {
    "id": "01d66de7-8da9-42f6-a16f-d5d1ce4326aa"
   },
   "outputs": [
    {
     "name": "stdout",
     "output_type": "stream",
     "text": [
      "\n",
      "\u001b[1m[\u001b[0m\u001b[34;49mnotice\u001b[0m\u001b[1;39;49m]\u001b[0m\u001b[39;49m A new release of pip is available: \u001b[0m\u001b[31;49m23.2\u001b[0m\u001b[39;49m -> \u001b[0m\u001b[32;49m23.3.2\u001b[0m\n",
      "\u001b[1m[\u001b[0m\u001b[34;49mnotice\u001b[0m\u001b[1;39;49m]\u001b[0m\u001b[39;49m To update, run: \u001b[0m\u001b[32;49mpip install --upgrade pip\u001b[0m\n"
     ]
    }
   ],
   "source": [
    "!pip install -q transformers"
   ]
  },
  {
   "cell_type": "code",
   "execution_count": 1,
   "id": "f0ffb470-6dea-4ee9-918a-a8eb66ee76b7",
   "metadata": {},
   "outputs": [
    {
     "name": "stdout",
     "output_type": "stream",
     "text": [
      "True\n",
      "1\n",
      "0\n"
     ]
    }
   ],
   "source": [
    "import torch\n",
    "\n",
    "print(torch.cuda.is_available())\n",
    "print(torch.cuda.device_count())\n",
    "print(torch.cuda.current_device())"
   ]
  },
  {
   "cell_type": "markdown",
   "id": "3457b61f-e506-4520-8d90-b47a1037b5be",
   "metadata": {},
   "source": [
    "# Model 01\n",
    "##### https://huggingface.co/j-hartmann/sentiment-roberta-large-english-3-classes\n",
    "\n",
    "##### model=\"j-hartmann/sentiment-roberta-large-english-3-classes\"\n",
    "\n",
    "#### M1_j_hartmann\n",
    "\n",
    "The model was fine-tuned on 5,304 manually annotated social media posts.\n",
    "\n",
    "@article{hartmann2021,\n",
    "  title={The Power of Brand Selfies},\n",
    "  author={Hartmann, Jochen and Heitmann, Mark and Schamp, Christina and Netzer, Oded},\n",
    "  journal={Journal of Marketing Research}\n",
    "  year={2021}\n",
    "}1}\n",
    "}1}\n",
    "}"
   ]
  },
  {
   "cell_type": "code",
   "execution_count": 8,
   "id": "WT1d9_LUewDq",
   "metadata": {
    "colab": {
     "base_uri": "https://localhost:8080/"
    },
    "id": "WT1d9_LUewDq",
    "outputId": "9a54ee55-919c-4574-d847-d03d012a3640"
   },
   "outputs": [
    {
     "name": "stderr",
     "output_type": "stream",
     "text": [
      "Some weights of the model checkpoint at j-hartmann/sentiment-roberta-large-english-3-classes were not used when initializing RobertaForSequenceClassification: ['roberta.pooler.dense.bias', 'roberta.pooler.dense.weight']\n",
      "- This IS expected if you are initializing RobertaForSequenceClassification from the checkpoint of a model trained on another task or with another architecture (e.g. initializing a BertForSequenceClassification model from a BertForPreTraining model).\n",
      "- This IS NOT expected if you are initializing RobertaForSequenceClassification from the checkpoint of a model that you expect to be exactly identical (initializing a BertForSequenceClassification model from a BertForSequenceClassification model).\n"
     ]
    },
    {
     "name": "stdout",
     "output_type": "stream",
     "text": [
      "[[{'label': 'negative', 'score': 0.00018510829249862581}, {'label': 'neutral', 'score': 0.0001957259955815971}, {'label': 'positive', 'score': 0.9996191263198853}], [{'label': 'negative', 'score': 0.9990231990814209}, {'label': 'neutral', 'score': 0.0005650434759445488}, {'label': 'positive', 'score': 0.000411704444559291}], [{'label': 'negative', 'score': 0.0004821960174012929}, {'label': 'neutral', 'score': 0.9977341890335083}, {'label': 'positive', 'score': 0.0017836499027907848}]]\n",
      "<transformers.pipelines.text_classification.TextClassificationPipeline object at 0x7f75822b6dd0>\n"
     ]
    }
   ],
   "source": [
    "from transformers import pipeline\n",
    "sentiment_pipeline = pipeline(\"text-classification\", model=\"j-hartmann/sentiment-roberta-large-english-3-classes\", return_all_scores=True)\n",
    "data = [\"I love you\", \"I hate you\",\"I am neutral\"]\n",
    "print(sentiment_pipeline(data))\n",
    "\n",
    "# sentiment_pipeline.save_pretrained(\"sentiment_analysis/saved_5_models/model_01/\")\n",
    "\n",
    "model_01_pipeline = pipeline(\"text-classification\", model = \"sentiment_analysis/saved_5_models/model_01/\")\n",
    "\n",
    "print(model_01_pipeline)"
   ]
  },
  {
   "cell_type": "code",
   "execution_count": 10,
   "id": "e121b309-3b1d-4c9d-9645-48d5cc08ef3d",
   "metadata": {},
   "outputs": [
    {
     "name": "stdout",
     "output_type": "stream",
     "text": [
      "[{'label': 'positive', 'score': 0.9996191263198853}, {'label': 'negative', 'score': 0.9990231990814209}, {'label': 'neutral', 'score': 0.9977341890335083}]\n"
     ]
    }
   ],
   "source": [
    "print(model_01_pipeline(data))"
   ]
  },
  {
   "cell_type": "code",
   "execution_count": 5,
   "id": "7b6d719b-6d2a-4d0a-80ff-f1efc36093b9",
   "metadata": {},
   "outputs": [
    {
     "name": "stdout",
     "output_type": "stream",
     "text": [
      "[[{'label': 'negative', 'score': 0.00018510829249862581}, {'label': 'neutral', 'score': 0.0001957259955815971}, {'label': 'positive', 'score': 0.9996191263198853}], [{'label': 'negative', 'score': 0.9990231990814209}, {'label': 'neutral', 'score': 0.0005650434759445488}, {'label': 'positive', 'score': 0.000411704444559291}], [{'label': 'negative', 'score': 0.0004821960174012929}, {'label': 'neutral', 'score': 0.9977341890335083}, {'label': 'positive', 'score': 0.0017836499027907848}]]\n"
     ]
    }
   ],
   "source": [
    "# print(sentiment_pipeline(data))"
   ]
  },
  {
   "cell_type": "markdown",
   "id": "828a4673-8907-4cf7-99bf-5e091cacfdb6",
   "metadata": {},
   "source": [
    "# Model 02\n",
    "##### https://huggingface.co/Seethal/sentiment_analysis_generic_dataset\n",
    "\n",
    "##### model=\"Seethal/sentiment_analysis_generic_dataset\"\n",
    "\n",
    "#### M2_Seethal\n",
    "This is a fine-tuned downstream version of the bert-base-uncased model for sentiment analysis, this model is not intended for further downstream fine-tuning for any other tasks. This model is trained on a classified dataset for text classification. (GENERIC dataset)"
   ]
  },
  {
   "cell_type": "code",
   "execution_count": 14,
   "id": "11ecbc86-f33b-4e5f-bef2-ed2e3025b231",
   "metadata": {
    "colab": {
     "base_uri": "https://localhost:8080/"
    },
    "id": "WT1d9_LUewDq",
    "outputId": "9a54ee55-919c-4574-d847-d03d012a3640"
   },
   "outputs": [
    {
     "name": "stdout",
     "output_type": "stream",
     "text": [
      "[[{'label': 'LABEL_0', 'score': 0.00045377211063168943}, {'label': 'LABEL_1', 'score': 0.0032191548962146044}, {'label': 'LABEL_2', 'score': 0.9963271021842957}], [{'label': 'LABEL_0', 'score': 0.9952951073646545}, {'label': 'LABEL_1', 'score': 0.0033208171371370554}, {'label': 'LABEL_2', 'score': 0.0013840611791238189}], [{'label': 'LABEL_0', 'score': 0.16844259202480316}, {'label': 'LABEL_1', 'score': 0.4930097460746765}, {'label': 'LABEL_2', 'score': 0.33854764699935913}]]\n",
      "<transformers.pipelines.text_classification.TextClassificationPipeline object at 0x7f74a0afaef0>\n"
     ]
    }
   ],
   "source": [
    "from transformers import pipeline\n",
    "sentiment_pipeline = pipeline(\"text-classification\", model=\"Seethal/sentiment_analysis_generic_dataset\", return_all_scores=True)\n",
    "data = [\"I love you\", \"I hate you\",\"I am neutral\"]\n",
    "print(sentiment_pipeline(data))\n",
    "\n",
    "sentiment_pipeline.save_pretrained(\"sentiment_analysis/saved_5_models/model_02/\")\n",
    "\n",
    "model_02_pipeline = pipeline(\"text-classification\", model = \"sentiment_analysis/saved_5_models/model_02/\") #return_all_scores=True)\n",
    "\n",
    "print(model_02_pipeline)"
   ]
  },
  {
   "cell_type": "code",
   "execution_count": 13,
   "id": "88fca094-a4cd-4385-a824-adc9b8b6a735",
   "metadata": {},
   "outputs": [
    {
     "name": "stdout",
     "output_type": "stream",
     "text": [
      "[{'label': 'LABEL_2', 'score': 0.9963271021842957}, {'label': 'LABEL_0', 'score': 0.9952951073646545}, {'label': 'LABEL_1', 'score': 0.4930097460746765}]\n"
     ]
    }
   ],
   "source": [
    "print(model_02_pipeline(data))\n",
    "\n",
    "# LABEL_2 - positive\n",
    "# LABEL_0 - negative\n",
    "# LABEL_1 - neutral"
   ]
  },
  {
   "cell_type": "markdown",
   "id": "6856d4c3-258b-481e-9499-45bbb80231c4",
   "metadata": {},
   "source": [
    "# Model 03\n",
    "##### https://huggingface.co/finiteautomata/bertweet-base-sentiment-analysis\n",
    "\n",
    "##### model=\"finiteautomata/bertweet-base-sentiment-analysis\"\n",
    "\n",
    "#### M3_finiteautomata                                   \n",
    "\n",
    "Model trained with SemEval 2017 corpus (around ~40k tweets). Base model is BERTweet, a RoBERTa model trained on English tweets.Uses POS, NEG, NEU labels.\n",
    "\n",
    "@misc{perez2021pysentimiento,\n",
    "      title={pysentimiento: A Python Toolkit for Sentiment Analysis and SocialNLP tasks},\n",
    "      author={Juan Manuel Pérez and Juan Carlos Giudici and Franco Luque},\n",
    "      year={2021},\n",
    "      eprint={2106.09462},\n",
    "      archivePrefix={arXiv},\n",
    "      primaryClass={cs.CL}\n",
    "}s."
   ]
  },
  {
   "cell_type": "code",
   "execution_count": 15,
   "id": "a688b540-acbd-45a1-90ea-8c6968050d9d",
   "metadata": {
    "colab": {
     "base_uri": "https://localhost:8080/"
    },
    "id": "WT1d9_LUewDq",
    "outputId": "9a54ee55-919c-4574-d847-d03d012a3640"
   },
   "outputs": [
    {
     "data": {
      "application/vnd.jupyter.widget-view+json": {
       "model_id": "9244ee99eee04eb5a3f794fbb1381065",
       "version_major": 2,
       "version_minor": 0
      },
      "text/plain": [
       "config.json:   0%|          | 0.00/949 [00:00<?, ?B/s]"
      ]
     },
     "metadata": {},
     "output_type": "display_data"
    },
    {
     "data": {
      "application/vnd.jupyter.widget-view+json": {
       "model_id": "c065853a155b45b2b38621072d3bfdfc",
       "version_major": 2,
       "version_minor": 0
      },
      "text/plain": [
       "pytorch_model.bin:   0%|          | 0.00/540M [00:00<?, ?B/s]"
      ]
     },
     "metadata": {},
     "output_type": "display_data"
    },
    {
     "data": {
      "application/vnd.jupyter.widget-view+json": {
       "model_id": "5e1ab27ad3134eabaa12403cca7e6ba5",
       "version_major": 2,
       "version_minor": 0
      },
      "text/plain": [
       "tokenizer_config.json:   0%|          | 0.00/338 [00:00<?, ?B/s]"
      ]
     },
     "metadata": {},
     "output_type": "display_data"
    },
    {
     "data": {
      "application/vnd.jupyter.widget-view+json": {
       "model_id": "05a65c0bd5804761ae163a29d860f4a3",
       "version_major": 2,
       "version_minor": 0
      },
      "text/plain": [
       "vocab.txt:   0%|          | 0.00/843k [00:00<?, ?B/s]"
      ]
     },
     "metadata": {},
     "output_type": "display_data"
    },
    {
     "data": {
      "application/vnd.jupyter.widget-view+json": {
       "model_id": "6249c4968fb946f59bccdd62e5d3e45e",
       "version_major": 2,
       "version_minor": 0
      },
      "text/plain": [
       "bpe.codes:   0%|          | 0.00/1.08M [00:00<?, ?B/s]"
      ]
     },
     "metadata": {},
     "output_type": "display_data"
    },
    {
     "data": {
      "application/vnd.jupyter.widget-view+json": {
       "model_id": "ad0c12ee60a94a74a6389856cacffc75",
       "version_major": 2,
       "version_minor": 0
      },
      "text/plain": [
       "added_tokens.json:   0%|          | 0.00/22.0 [00:00<?, ?B/s]"
      ]
     },
     "metadata": {},
     "output_type": "display_data"
    },
    {
     "data": {
      "application/vnd.jupyter.widget-view+json": {
       "model_id": "dc7ce47027fc4581b0f9480a1802fbae",
       "version_major": 2,
       "version_minor": 0
      },
      "text/plain": [
       "special_tokens_map.json:   0%|          | 0.00/167 [00:00<?, ?B/s]"
      ]
     },
     "metadata": {},
     "output_type": "display_data"
    },
    {
     "name": "stderr",
     "output_type": "stream",
     "text": [
      "emoji is not installed, thus not converting emoticons or emojis into text. Install emoji: pip3 install emoji==0.6.0\n"
     ]
    },
    {
     "name": "stdout",
     "output_type": "stream",
     "text": [
      "[[{'label': 'NEG', 'score': 0.0030221662018448114}, {'label': 'NEU', 'score': 0.005308282561600208}, {'label': 'POS', 'score': 0.9916695356369019}], [{'label': 'NEG', 'score': 0.9806600213050842}, {'label': 'NEU', 'score': 0.013164082542061806}, {'label': 'POS', 'score': 0.0061759063974022865}], [{'label': 'NEG', 'score': 0.012936199083924294}, {'label': 'NEU', 'score': 0.9401857256889343}, {'label': 'POS', 'score': 0.046878132969141006}]]\n"
     ]
    },
    {
     "name": "stderr",
     "output_type": "stream",
     "text": [
      "emoji is not installed, thus not converting emoticons or emojis into text. Install emoji: pip3 install emoji==0.6.0\n"
     ]
    },
    {
     "name": "stdout",
     "output_type": "stream",
     "text": [
      "<transformers.pipelines.text_classification.TextClassificationPipeline object at 0x7f74a926f430>\n"
     ]
    }
   ],
   "source": [
    "from transformers import pipeline\n",
    "sentiment_pipeline = pipeline(\"text-classification\", model=\"finiteautomata/bertweet-base-sentiment-analysis\", return_all_scores=True)\n",
    "data = [\"I love you\", \"I hate you\",\"I am neutral\"]\n",
    "print(sentiment_pipeline(data))\n",
    "\n",
    "sentiment_pipeline.save_pretrained(\"sentiment_analysis/saved_5_models/model_03/\")\n",
    "\n",
    "model_03_pipeline = pipeline(\"text-classification\", model = \"sentiment_analysis/saved_5_models/model_03/\")\n",
    "\n",
    "print(model_03_pipeline)"
   ]
  },
  {
   "cell_type": "code",
   "execution_count": 16,
   "id": "c739635b-d149-42ea-8421-dece5d4b3fff",
   "metadata": {},
   "outputs": [
    {
     "name": "stdout",
     "output_type": "stream",
     "text": [
      "[{'label': 'POS', 'score': 0.9916695356369019}, {'label': 'NEG', 'score': 0.9806600213050842}, {'label': 'NEU', 'score': 0.9401857256889343}]\n"
     ]
    }
   ],
   "source": [
    "print(model_03_pipeline(data))"
   ]
  },
  {
   "cell_type": "markdown",
   "id": "ba6fcf08-e740-4790-9e3e-46bce5abe039",
   "metadata": {},
   "source": [
    "# Model 04\n",
    "##### https://huggingface.co/Souvikcmsa/BERT_sentiment_analysis\n",
    "\n",
    "##### model=\"Souvikcmsa/BERT_sentiment_analysis\"\n",
    "#### M4_Souvikcmsa\n",
    "Model Trained Using AutoTrain \n",
    "Problem type: Multi-class Classification (3-class Sentiment Classification)"
   ]
  },
  {
   "cell_type": "code",
   "execution_count": 17,
   "id": "ad32bb9d-9f63-494d-be98-577e79162828",
   "metadata": {
    "colab": {
     "base_uri": "https://localhost:8080/"
    },
    "id": "WT1d9_LUewDq",
    "outputId": "9a54ee55-919c-4574-d847-d03d012a3640"
   },
   "outputs": [
    {
     "data": {
      "application/vnd.jupyter.widget-view+json": {
       "model_id": "81f675e75c83436087c82085db1d2d29",
       "version_major": 2,
       "version_minor": 0
      },
      "text/plain": [
       "config.json:   0%|          | 0.00/944 [00:00<?, ?B/s]"
      ]
     },
     "metadata": {},
     "output_type": "display_data"
    },
    {
     "data": {
      "application/vnd.jupyter.widget-view+json": {
       "model_id": "6af9dc9a1cd0498b83701137f17d2d0f",
       "version_major": 2,
       "version_minor": 0
      },
      "text/plain": [
       "pytorch_model.bin:   0%|          | 0.00/438M [00:00<?, ?B/s]"
      ]
     },
     "metadata": {},
     "output_type": "display_data"
    },
    {
     "data": {
      "application/vnd.jupyter.widget-view+json": {
       "model_id": "e360f94a08f043258b3df3e7dbd26639",
       "version_major": 2,
       "version_minor": 0
      },
      "text/plain": [
       "tokenizer_config.json:   0%|          | 0.00/313 [00:00<?, ?B/s]"
      ]
     },
     "metadata": {},
     "output_type": "display_data"
    },
    {
     "data": {
      "application/vnd.jupyter.widget-view+json": {
       "model_id": "e267137a0c4a4045b17154951443d2ad",
       "version_major": 2,
       "version_minor": 0
      },
      "text/plain": [
       "vocab.txt:   0%|          | 0.00/232k [00:00<?, ?B/s]"
      ]
     },
     "metadata": {},
     "output_type": "display_data"
    },
    {
     "data": {
      "application/vnd.jupyter.widget-view+json": {
       "model_id": "a64301cc262048ec910098365250bb62",
       "version_major": 2,
       "version_minor": 0
      },
      "text/plain": [
       "tokenizer.json:   0%|          | 0.00/466k [00:00<?, ?B/s]"
      ]
     },
     "metadata": {},
     "output_type": "display_data"
    },
    {
     "data": {
      "application/vnd.jupyter.widget-view+json": {
       "model_id": "37115f9230d344c7abd81a9f3c76fc87",
       "version_major": 2,
       "version_minor": 0
      },
      "text/plain": [
       "special_tokens_map.json:   0%|          | 0.00/112 [00:00<?, ?B/s]"
      ]
     },
     "metadata": {},
     "output_type": "display_data"
    },
    {
     "name": "stderr",
     "output_type": "stream",
     "text": [
      "Some non-default generation parameters are set in the model config. These should go into a GenerationConfig file (https://huggingface.co/docs/transformers/generation_strategies#save-a-custom-decoding-strategy-with-your-model) instead. This warning will be raised to an exception in v4.41.\n",
      "Non-default generation parameters: {'max_length': 64}\n"
     ]
    },
    {
     "name": "stdout",
     "output_type": "stream",
     "text": [
      "[[{'label': 'negative', 'score': 0.004688798915594816}, {'label': 'neutral', 'score': 0.013497650623321533}, {'label': 'positive', 'score': 0.9818135499954224}], [{'label': 'negative', 'score': 0.9770167469978333}, {'label': 'neutral', 'score': 0.017669862136244774}, {'label': 'positive', 'score': 0.005313431844115257}], [{'label': 'negative', 'score': 0.058536890894174576}, {'label': 'neutral', 'score': 0.8292662501335144}, {'label': 'positive', 'score': 0.11219683289527893}]]\n",
      "<transformers.pipelines.text_classification.TextClassificationPipeline object at 0x7f74a0c27370>\n"
     ]
    }
   ],
   "source": [
    "from transformers import pipeline\n",
    "sentiment_pipeline = pipeline(\"text-classification\", model=\"Souvikcmsa/BERT_sentiment_analysis\", return_all_scores=True)\n",
    "data = [\"I love you\", \"I hate you\",\"I am neutral\"]\n",
    "print(sentiment_pipeline(data))\n",
    "\n",
    "sentiment_pipeline.save_pretrained(\"sentiment_analysis/saved_5_models/model_04/\")\n",
    "\n",
    "model_04_pipeline = pipeline(\"text-classification\", model = \"sentiment_analysis/saved_5_models/model_04/\")\n",
    "\n",
    "print(model_04_pipeline)"
   ]
  },
  {
   "cell_type": "code",
   "execution_count": 10,
   "id": "204f3a47-0eec-479b-9b0b-de297274e036",
   "metadata": {},
   "outputs": [
    {
     "name": "stdout",
     "output_type": "stream",
     "text": [
      "[{'label': 'positive', 'score': 0.9996191263198853}, {'label': 'negative', 'score': 0.9990231990814209}, {'label': 'neutral', 'score': 0.9977341890335083}]\n"
     ]
    }
   ],
   "source": [
    "# print(model_01_pipeline(data))"
   ]
  },
  {
   "cell_type": "code",
   "execution_count": 73,
   "id": "2864ef8b-20ec-4f75-8160-694df0bbdf3f",
   "metadata": {},
   "outputs": [
    {
     "name": "stdout",
     "output_type": "stream",
     "text": [
      "[{'label': 'positive', 'score': 0.9818135499954224}, {'label': 'negative', 'score': 0.9770167469978333}, {'label': 'neutral', 'score': 0.8292662501335144}]\n"
     ]
    }
   ],
   "source": [
    "print(model_04_pipeline(data))"
   ]
  },
  {
   "cell_type": "markdown",
   "id": "04c5d881-e729-4037-968e-0b67d1bf5298",
   "metadata": {},
   "source": [
    "# Model 05\n",
    "##### https://huggingface.co/sbcBI/sentiment_analysis_model\n",
    "\n",
    "##### model=\"sbcBI/sentiment_analysis_model\"\n",
    "\n",
    "#### M5_sbcBI"
   ]
  },
  {
   "cell_type": "code",
   "execution_count": 21,
   "id": "ba19c74e-3752-471f-b14d-cf5e13250544",
   "metadata": {
    "colab": {
     "base_uri": "https://localhost:8080/"
    },
    "id": "WT1d9_LUewDq",
    "outputId": "9a54ee55-919c-4574-d847-d03d012a3640"
   },
   "outputs": [
    {
     "data": {
      "application/vnd.jupyter.widget-view+json": {
       "model_id": "d872ce18b62846689ef0aa5c643f85ae",
       "version_major": 2,
       "version_minor": 0
      },
      "text/plain": [
       "config.json:   0%|          | 0.00/769 [00:00<?, ?B/s]"
      ]
     },
     "metadata": {},
     "output_type": "display_data"
    },
    {
     "data": {
      "application/vnd.jupyter.widget-view+json": {
       "model_id": "15bbed64377d468d87b9cc6e5275b2af",
       "version_major": 2,
       "version_minor": 0
      },
      "text/plain": [
       "pytorch_model.bin:   0%|          | 0.00/268M [00:00<?, ?B/s]"
      ]
     },
     "metadata": {},
     "output_type": "display_data"
    },
    {
     "data": {
      "application/vnd.jupyter.widget-view+json": {
       "model_id": "e515434ea3c34e40939042c48e4797aa",
       "version_major": 2,
       "version_minor": 0
      },
      "text/plain": [
       "tokenizer_config.json:   0%|          | 0.00/333 [00:00<?, ?B/s]"
      ]
     },
     "metadata": {},
     "output_type": "display_data"
    },
    {
     "data": {
      "application/vnd.jupyter.widget-view+json": {
       "model_id": "881196f98a9e4e128c931a0b997d10d9",
       "version_major": 2,
       "version_minor": 0
      },
      "text/plain": [
       "vocab.txt:   0%|          | 0.00/232k [00:00<?, ?B/s]"
      ]
     },
     "metadata": {},
     "output_type": "display_data"
    },
    {
     "data": {
      "application/vnd.jupyter.widget-view+json": {
       "model_id": "6b9b3d2a38f1422d9bec8e6dcbb76619",
       "version_major": 2,
       "version_minor": 0
      },
      "text/plain": [
       "tokenizer.json:   0%|          | 0.00/711k [00:00<?, ?B/s]"
      ]
     },
     "metadata": {},
     "output_type": "display_data"
    },
    {
     "data": {
      "application/vnd.jupyter.widget-view+json": {
       "model_id": "8b107f94cb8c476ea955164eb35e9a7a",
       "version_major": 2,
       "version_minor": 0
      },
      "text/plain": [
       "special_tokens_map.json:   0%|          | 0.00/112 [00:00<?, ?B/s]"
      ]
     },
     "metadata": {},
     "output_type": "display_data"
    },
    {
     "name": "stdout",
     "output_type": "stream",
     "text": [
      "[[{'label': 'LABEL_0', 'score': 0.047245677560567856}, {'label': 'LABEL_1', 'score': 0.08335553109645844}, {'label': 'LABEL_2', 'score': 0.8693987727165222}], [{'label': 'LABEL_0', 'score': 0.4927663505077362}, {'label': 'LABEL_1', 'score': 0.22907039523124695}, {'label': 'LABEL_2', 'score': 0.27816319465637207}], [{'label': 'LABEL_0', 'score': 0.28563007712364197}, {'label': 'LABEL_1', 'score': 0.35141831636428833}, {'label': 'LABEL_2', 'score': 0.3629515767097473}]]\n",
      "<transformers.pipelines.text_classification.TextClassificationPipeline object at 0x7f740dc8e6b0>\n"
     ]
    }
   ],
   "source": [
    "from transformers import pipeline\n",
    "sentiment_pipeline = pipeline(\"text-classification\", model=\"sbcBI/sentiment_analysis_model\", return_all_scores=True)\n",
    "data = [\"I love you\", \"I hate you\",\"I am neutral\"]\n",
    "print(sentiment_pipeline(data))\n",
    "\n",
    "sentiment_pipeline.save_pretrained(\"sentiment_analysis/saved_5_models/model_05/\")\n",
    "\n",
    "model_05_pipeline = pipeline(\"text-classification\", model = \"sentiment_analysis/saved_5_models/model_05/\")\n",
    "\n",
    "print(model_05_pipeline)"
   ]
  },
  {
   "cell_type": "code",
   "execution_count": 10,
   "id": "37401148-06b4-4ff3-bae6-2c985f693dbd",
   "metadata": {},
   "outputs": [
    {
     "name": "stdout",
     "output_type": "stream",
     "text": [
      "[{'label': 'positive', 'score': 0.9996191263198853}, {'label': 'negative', 'score': 0.9990231990814209}, {'label': 'neutral', 'score': 0.9977341890335083}]\n"
     ]
    }
   ],
   "source": [
    "print(model_01_pipeline(data))"
   ]
  },
  {
   "cell_type": "code",
   "execution_count": 20,
   "id": "81d32f7f-1a12-47ce-9f52-b0932ecdc2e8",
   "metadata": {},
   "outputs": [
    {
     "name": "stdout",
     "output_type": "stream",
     "text": [
      "[{'label': 'positive', 'score': 0.9818135499954224}, {'label': 'negative', 'score': 0.9770167469978333}, {'label': 'neutral', 'score': 0.8292662501335144}]\n"
     ]
    }
   ],
   "source": [
    "print(model_05_pipeline(data))"
   ]
  },
  {
   "cell_type": "code",
   "execution_count": 22,
   "id": "0ee6c9f8-36fb-4ac1-994b-d55b6d416145",
   "metadata": {},
   "outputs": [
    {
     "name": "stdout",
     "output_type": "stream",
     "text": [
      "[{'label': 'LABEL_2', 'score': 0.8693987727165222}, {'label': 'LABEL_0', 'score': 0.4927663505077362}, {'label': 'LABEL_2', 'score': 0.3629515767097473}]\n"
     ]
    }
   ],
   "source": [
    "print(model_05_pipeline(data))"
   ]
  },
  {
   "cell_type": "code",
   "execution_count": 24,
   "id": "5f083793-138e-4055-92e6-569b660f117d",
   "metadata": {},
   "outputs": [
    {
     "name": "stdout",
     "output_type": "stream",
     "text": [
      "[{'label': 'LABEL_2', 'score': 0.9963271021842957}, {'label': 'LABEL_0', 'score': 0.9952951073646545}, {'label': 'LABEL_1', 'score': 0.4930097460746765}]\n"
     ]
    }
   ],
   "source": [
    "print(model_02_pipeline(data))"
   ]
  },
  {
   "cell_type": "code",
   "execution_count": 26,
   "id": "7b005e3c-8330-4bf4-888d-48181c268956",
   "metadata": {},
   "outputs": [],
   "source": [
    "# LABEL_2 --> positive\n",
    "# LABEL_0 --> negative\n",
    "# LABEL_1 --> neutral"
   ]
  },
  {
   "cell_type": "markdown",
   "id": "ef40ed36",
   "metadata": {
    "id": "ef40ed36",
    "papermill": {
     "duration": 0.007174,
     "end_time": "2023-08-02T23:47:11.997843",
     "exception": false,
     "start_time": "2023-08-02T23:47:11.990669",
     "status": "completed"
    },
    "tags": []
   },
   "source": [
    "# Load the datasets\n",
    "`label_file_list = [i for i in glob.glob(\"related_binary_labelled/*.csv\")]`\n"
   ]
  },
  {
   "cell_type": "code",
   "execution_count": 2,
   "id": "rQC6qPjopK3A",
   "metadata": {
    "id": "rQC6qPjopK3A"
   },
   "outputs": [
    {
     "name": "stderr",
     "output_type": "stream",
     "text": [
      "2024-01-31 17:11:54.942638: I tensorflow/core/platform/cpu_feature_guard.cc:182] This TensorFlow binary is optimized to use available CPU instructions in performance-critical operations.\n",
      "To enable the following instructions: AVX2 AVX512F FMA, in other operations, rebuild TensorFlow with the appropriate compiler flags.\n",
      "2024-01-31 17:11:57.762076: W tensorflow/compiler/tf2tensorrt/utils/py_utils.cc:38] TF-TRT Warning: Could not find TensorRT\n"
     ]
    }
   ],
   "source": [
    "from sklearn.model_selection import train_test_split\n",
    "from sklearn.metrics import ConfusionMatrixDisplay, confusion_matrix\n",
    "from transformers import pipeline\n",
    "\n",
    "import os\n",
    "import numpy as np\n",
    "import pandas as pd\n",
    "import torch\n",
    "import argparse\n",
    "import sys\n",
    "import glob\n",
    "import os"
   ]
  },
  {
   "cell_type": "code",
   "execution_count": 47,
   "id": "vzSLbGkwwGl-",
   "metadata": {
    "colab": {
     "base_uri": "https://localhost:8080/"
    },
    "id": "vzSLbGkwwGl-",
    "outputId": "1a7bccbd-003e-43e0-daf7-267beacad8d8"
   },
   "outputs": [
    {
     "name": "stdout",
     "output_type": "stream",
     "text": [
      "142\n"
     ]
    },
    {
     "data": {
      "text/html": [
       "<div>\n",
       "<style scoped>\n",
       "    .dataframe tbody tr th:only-of-type {\n",
       "        vertical-align: middle;\n",
       "    }\n",
       "\n",
       "    .dataframe tbody tr th {\n",
       "        vertical-align: top;\n",
       "    }\n",
       "\n",
       "    .dataframe thead th {\n",
       "        text-align: right;\n",
       "    }\n",
       "</style>\n",
       "<table border=\"1\" class=\"dataframe\">\n",
       "  <thead>\n",
       "    <tr style=\"text-align: right;\">\n",
       "      <th></th>\n",
       "      <th>text</th>\n",
       "      <th>target_predict</th>\n",
       "      <th>target_predict_label</th>\n",
       "    </tr>\n",
       "  </thead>\n",
       "  <tbody>\n",
       "    <tr>\n",
       "      <th>0</th>\n",
       "      <td>Non-determinism of GPU operations also produce...</td>\n",
       "      <td>1</td>\n",
       "      <td>related</td>\n",
       "    </tr>\n",
       "    <tr>\n",
       "      <th>1</th>\n",
       "      <td>Our findings confirm the work of Summers and D...</td>\n",
       "      <td>1</td>\n",
       "      <td>related</td>\n",
       "    </tr>\n",
       "    <tr>\n",
       "      <th>2</th>\n",
       "      <td>In particular we show, confirming the results ...</td>\n",
       "      <td>1</td>\n",
       "      <td>related</td>\n",
       "    </tr>\n",
       "    <tr>\n",
       "      <th>3</th>\n",
       "      <td>We recently became aware of Summers and Dinnee...</td>\n",
       "      <td>1</td>\n",
       "      <td>related</td>\n",
       "    </tr>\n",
       "    <tr>\n",
       "      <th>4</th>\n",
       "      <td>During encoding, we suggest to continue to max...</td>\n",
       "      <td>1</td>\n",
       "      <td>related</td>\n",
       "    </tr>\n",
       "    <tr>\n",
       "      <th>5</th>\n",
       "      <td>While augmentation of data in training and sto...</td>\n",
       "      <td>1</td>\n",
       "      <td>related</td>\n",
       "    </tr>\n",
       "  </tbody>\n",
       "</table>\n",
       "</div>"
      ],
      "text/plain": [
       "                                                text  target_predict  \\\n",
       "0  Non-determinism of GPU operations also produce...               1   \n",
       "1  Our findings confirm the work of Summers and D...               1   \n",
       "2  In particular we show, confirming the results ...               1   \n",
       "3  We recently became aware of Summers and Dinnee...               1   \n",
       "4  During encoding, we suggest to continue to max...               1   \n",
       "5  While augmentation of data in training and sto...               1   \n",
       "\n",
       "  target_predict_label  \n",
       "0              related  \n",
       "1              related  \n",
       "2              related  \n",
       "3              related  \n",
       "4              related  \n",
       "5              related  "
      ]
     },
     "execution_count": 47,
     "metadata": {},
     "output_type": "execute_result"
    }
   ],
   "source": [
    "label_file_list = [i for i in glob.glob(\"related_binary_labelled/*.csv\")]\n",
    "\n",
    "print(len(label_file_list))\n",
    "df_test_1 = pd.read_csv(label_file_list[12])\n",
    "\n",
    "df_test_filtered = df_test_1[df_test_1['target_predict_label']=='related'][['text','target_predict','target_predict_label']].reset_index(drop=True)\n",
    "df_test_filtered"
   ]
  },
  {
   "cell_type": "code",
   "execution_count": 43,
   "id": "EwdgMyen5hgk",
   "metadata": {
    "colab": {
     "base_uri": "https://localhost:8080/"
    },
    "id": "EwdgMyen5hgk",
    "outputId": "2debfdae-d58d-4635-e7ee-de3d72d7ca8f"
   },
   "outputs": [
    {
     "name": "stdout",
     "output_type": "stream",
     "text": [
      "RS_010_MLRC_2022_10.csv\n"
     ]
    }
   ],
   "source": [
    "label_file_list = [i for i in glob.glob(\"related_binary_labelled/*.csv\")]\n",
    "\n",
    "label_file_list\n",
    "df_test_1 = pd.read_csv(label_file_list[12])\n",
    "\n",
    "for file_ in label_file_list:\n",
    "    filename = file_.replace(\"related_binary_labelled/\",\"\")\n",
    "print(filename)"
   ]
  },
  {
   "cell_type": "code",
   "execution_count": 44,
   "id": "oFzela-sw-hf",
   "metadata": {
    "id": "oFzela-sw-hf"
   },
   "outputs": [
    {
     "name": "stderr",
     "output_type": "stream",
     "text": [
      "/home/oruma001/envs/cs834_project/lib/python3.10/site-packages/pandas/io/formats/format.py:1595: RuntimeWarning: invalid value encountered in greater\n",
      "  has_large_values = (abs_vals > 1e6).any()\n",
      "/home/oruma001/envs/cs834_project/lib/python3.10/site-packages/pandas/io/formats/format.py:1596: RuntimeWarning: invalid value encountered in less\n",
      "  has_small_values = ((abs_vals < 10 ** (-self.digits)) & (abs_vals > 0)).any()\n",
      "/home/oruma001/envs/cs834_project/lib/python3.10/site-packages/pandas/io/formats/format.py:1596: RuntimeWarning: invalid value encountered in greater\n",
      "  has_small_values = ((abs_vals < 10 ** (-self.digits)) & (abs_vals > 0)).any()\n"
     ]
    },
    {
     "data": {
      "text/html": [
       "<div>\n",
       "<style scoped>\n",
       "    .dataframe tbody tr th:only-of-type {\n",
       "        vertical-align: middle;\n",
       "    }\n",
       "\n",
       "    .dataframe tbody tr th {\n",
       "        vertical-align: top;\n",
       "    }\n",
       "\n",
       "    .dataframe thead th {\n",
       "        text-align: right;\n",
       "    }\n",
       "</style>\n",
       "<table border=\"1\" class=\"dataframe\">\n",
       "  <thead>\n",
       "    <tr style=\"text-align: right;\">\n",
       "      <th></th>\n",
       "      <th>text</th>\n",
       "      <th>label_score</th>\n",
       "      <th>label</th>\n",
       "      <th>target_predict</th>\n",
       "      <th>target_predict_label</th>\n",
       "    </tr>\n",
       "  </thead>\n",
       "  <tbody>\n",
       "    <tr>\n",
       "      <th>0</th>\n",
       "      <td>Non-determinism of GPU operations also produce...</td>\n",
       "      <td>NaN</td>\n",
       "      <td>NaN</td>\n",
       "      <td>1</td>\n",
       "      <td>related</td>\n",
       "    </tr>\n",
       "    <tr>\n",
       "      <th>1</th>\n",
       "      <td>Summers and Dinneen [6], and Jordan [7] argue ...</td>\n",
       "      <td>NaN</td>\n",
       "      <td>NaN</td>\n",
       "      <td>0</td>\n",
       "      <td>not_related</td>\n",
       "    </tr>\n",
       "    <tr>\n",
       "      <th>2</th>\n",
       "      <td>Since the training of neural networks is stron...</td>\n",
       "      <td>NaN</td>\n",
       "      <td>NaN</td>\n",
       "      <td>0</td>\n",
       "      <td>not_related</td>\n",
       "    </tr>\n",
       "    <tr>\n",
       "      <th>3</th>\n",
       "      <td>normalisation, tooling and hardware [55,66].</td>\n",
       "      <td>NaN</td>\n",
       "      <td>NaN</td>\n",
       "      <td>0</td>\n",
       "      <td>not_related</td>\n",
       "    </tr>\n",
       "    <tr>\n",
       "      <th>4</th>\n",
       "      <td>For future work, we think it would be interest...</td>\n",
       "      <td>NaN</td>\n",
       "      <td>NaN</td>\n",
       "      <td>0</td>\n",
       "      <td>not_related</td>\n",
       "    </tr>\n",
       "  </tbody>\n",
       "</table>\n",
       "</div>"
      ],
      "text/plain": [
       "                                                text  label_score  label  \\\n",
       "0  Non-determinism of GPU operations also produce...          NaN    NaN   \n",
       "1  Summers and Dinneen [6], and Jordan [7] argue ...          NaN    NaN   \n",
       "2  Since the training of neural networks is stron...          NaN    NaN   \n",
       "3       normalisation, tooling and hardware [55,66].          NaN    NaN   \n",
       "4  For future work, we think it would be interest...          NaN    NaN   \n",
       "\n",
       "   target_predict target_predict_label  \n",
       "0               1              related  \n",
       "1               0          not_related  \n",
       "2               0          not_related  \n",
       "3               0          not_related  \n",
       "4               0          not_related  "
      ]
     },
     "execution_count": 44,
     "metadata": {},
     "output_type": "execute_result"
    }
   ],
   "source": [
    "df_test_1.head()"
   ]
  },
  {
   "cell_type": "code",
   "execution_count": 63,
   "id": "e50b076d-49bf-4234-a98f-e8ea6d84a7cb",
   "metadata": {
    "colab": {
     "base_uri": "https://localhost:8080/",
     "height": 1000
    },
    "id": "8R3pL0MapK-R",
    "outputId": "99e1f2a7-bb6d-4ebb-c75a-52716e58cfd1"
   },
   "outputs": [
    {
     "name": "stdout",
     "output_type": "stream",
     "text": [
      "                                                text\n",
      "0  Non-determinism of GPU operations also produce...\n",
      "1  Our findings confirm the work of Summers and D...\n",
      "2  In particular we show, confirming the results ...\n",
      "3  We recently became aware of Summers and Dinnee...\n",
      "4  During encoding, we suggest to continue to max...\n"
     ]
    },
    {
     "data": {
      "text/html": [
       "<div>\n",
       "<style scoped>\n",
       "    .dataframe tbody tr th:only-of-type {\n",
       "        vertical-align: middle;\n",
       "    }\n",
       "\n",
       "    .dataframe tbody tr th {\n",
       "        vertical-align: top;\n",
       "    }\n",
       "\n",
       "    .dataframe thead th {\n",
       "        text-align: right;\n",
       "    }\n",
       "</style>\n",
       "<table border=\"1\" class=\"dataframe\">\n",
       "  <thead>\n",
       "    <tr style=\"text-align: right;\">\n",
       "      <th></th>\n",
       "      <th>text</th>\n",
       "      <th>m1_label</th>\n",
       "      <th>m1_score</th>\n",
       "    </tr>\n",
       "  </thead>\n",
       "  <tbody>\n",
       "    <tr>\n",
       "      <th>0</th>\n",
       "      <td>Non-determinism of GPU operations also produce...</td>\n",
       "      <td>neutral</td>\n",
       "      <td>0.998542</td>\n",
       "    </tr>\n",
       "    <tr>\n",
       "      <th>1</th>\n",
       "      <td>Our findings confirm the work of Summers and D...</td>\n",
       "      <td>neutral</td>\n",
       "      <td>0.998580</td>\n",
       "    </tr>\n",
       "    <tr>\n",
       "      <th>2</th>\n",
       "      <td>In particular we show, confirming the results ...</td>\n",
       "      <td>neutral</td>\n",
       "      <td>0.998302</td>\n",
       "    </tr>\n",
       "    <tr>\n",
       "      <th>3</th>\n",
       "      <td>We recently became aware of Summers and Dinnee...</td>\n",
       "      <td>neutral</td>\n",
       "      <td>0.998528</td>\n",
       "    </tr>\n",
       "    <tr>\n",
       "      <th>4</th>\n",
       "      <td>During encoding, we suggest to continue to max...</td>\n",
       "      <td>neutral</td>\n",
       "      <td>0.998983</td>\n",
       "    </tr>\n",
       "    <tr>\n",
       "      <th>5</th>\n",
       "      <td>While augmentation of data in training and sto...</td>\n",
       "      <td>neutral</td>\n",
       "      <td>0.998255</td>\n",
       "    </tr>\n",
       "  </tbody>\n",
       "</table>\n",
       "</div>"
      ],
      "text/plain": [
       "                                                text m1_label  m1_score\n",
       "0  Non-determinism of GPU operations also produce...  neutral  0.998542\n",
       "1  Our findings confirm the work of Summers and D...  neutral  0.998580\n",
       "2  In particular we show, confirming the results ...  neutral  0.998302\n",
       "3  We recently became aware of Summers and Dinnee...  neutral  0.998528\n",
       "4  During encoding, we suggest to continue to max...  neutral  0.998983\n",
       "5  While augmentation of data in training and sto...  neutral  0.998255"
      ]
     },
     "execution_count": 63,
     "metadata": {},
     "output_type": "execute_result"
    }
   ],
   "source": [
    "# inferences model_01\n",
    "\n",
    "predictions_df = df_test_filtered.copy()[[\"text\"]]\n",
    "print(predictions_df.head())\n",
    "\n",
    "x_test_series = predictions_df['text']\n",
    "\n",
    "model_01_path = \"sentiment_analysis/saved_5_models/model_01/\"\n",
    "loaded_model_01 = pipeline(\"text-classification\", model = model_01_path, device=0)\n",
    "\n",
    "predicted = loaded_model_01(list(x_test_series))\n",
    "\n",
    "df_predicted = pd.DataFrame(predicted)\n",
    "joined_new_df = predictions_df.reset_index().join(df_predicted, on='index', lsuffix='_')\n",
    "\n",
    "# joined_new_df = joined_new_df[[\"text\",\"label\",\"score\"]]\n",
    "joined_new_df\n",
    "\n",
    "joined_new_df = joined_new_df.rename(columns={\"label\": \"m1_label\", \"score\": \"m1_score\"})\n",
    "joined_new_df = joined_new_df.drop(columns=['index'])\n",
    "joined_new_df\n",
    "\n",
    "\n",
    "# predictions_df.to_csv"
   ]
  },
  {
   "cell_type": "code",
   "execution_count": 64,
   "id": "db1b157d-e58b-4ae3-9d7b-94c75c176d60",
   "metadata": {},
   "outputs": [
    {
     "data": {
      "text/plain": [
       "[{'label': 'neutral', 'score': 0.9985419511795044},\n",
       " {'label': 'neutral', 'score': 0.9985802173614502},\n",
       " {'label': 'neutral', 'score': 0.9983024597167969},\n",
       " {'label': 'neutral', 'score': 0.9985278844833374},\n",
       " {'label': 'neutral', 'score': 0.9989827275276184},\n",
       " {'label': 'neutral', 'score': 0.9982549548149109}]"
      ]
     },
     "execution_count": 64,
     "metadata": {},
     "output_type": "execute_result"
    }
   ],
   "source": [
    "predicted"
   ]
  },
  {
   "cell_type": "code",
   "execution_count": 66,
   "id": "48ae6075-4534-4f8d-97b2-c96706fc5dea",
   "metadata": {},
   "outputs": [
    {
     "name": "stdout",
     "output_type": "stream",
     "text": [
      "                                                text\n",
      "0  Non-determinism of GPU operations also produce...\n",
      "1  Our findings confirm the work of Summers and D...\n",
      "2  In particular we show, confirming the results ...\n",
      "3  We recently became aware of Summers and Dinnee...\n",
      "4  During encoding, we suggest to continue to max...\n"
     ]
    },
    {
     "data": {
      "text/html": [
       "<div>\n",
       "<style scoped>\n",
       "    .dataframe tbody tr th:only-of-type {\n",
       "        vertical-align: middle;\n",
       "    }\n",
       "\n",
       "    .dataframe tbody tr th {\n",
       "        vertical-align: top;\n",
       "    }\n",
       "\n",
       "    .dataframe thead th {\n",
       "        text-align: right;\n",
       "    }\n",
       "</style>\n",
       "<table border=\"1\" class=\"dataframe\">\n",
       "  <thead>\n",
       "    <tr style=\"text-align: right;\">\n",
       "      <th></th>\n",
       "      <th>text</th>\n",
       "      <th>m1_label</th>\n",
       "      <th>m1_score</th>\n",
       "      <th>m2_label</th>\n",
       "      <th>m2_score</th>\n",
       "    </tr>\n",
       "  </thead>\n",
       "  <tbody>\n",
       "    <tr>\n",
       "      <th>0</th>\n",
       "      <td>Non-determinism of GPU operations also produce...</td>\n",
       "      <td>neutral</td>\n",
       "      <td>0.998542</td>\n",
       "      <td>neutral</td>\n",
       "      <td>0.919719</td>\n",
       "    </tr>\n",
       "    <tr>\n",
       "      <th>1</th>\n",
       "      <td>Our findings confirm the work of Summers and D...</td>\n",
       "      <td>neutral</td>\n",
       "      <td>0.998580</td>\n",
       "      <td>neutral</td>\n",
       "      <td>0.996763</td>\n",
       "    </tr>\n",
       "    <tr>\n",
       "      <th>2</th>\n",
       "      <td>In particular we show, confirming the results ...</td>\n",
       "      <td>neutral</td>\n",
       "      <td>0.998302</td>\n",
       "      <td>neutral</td>\n",
       "      <td>0.994285</td>\n",
       "    </tr>\n",
       "    <tr>\n",
       "      <th>3</th>\n",
       "      <td>We recently became aware of Summers and Dinnee...</td>\n",
       "      <td>neutral</td>\n",
       "      <td>0.998528</td>\n",
       "      <td>neutral</td>\n",
       "      <td>0.983494</td>\n",
       "    </tr>\n",
       "    <tr>\n",
       "      <th>4</th>\n",
       "      <td>During encoding, we suggest to continue to max...</td>\n",
       "      <td>neutral</td>\n",
       "      <td>0.998983</td>\n",
       "      <td>neutral</td>\n",
       "      <td>0.924084</td>\n",
       "    </tr>\n",
       "    <tr>\n",
       "      <th>5</th>\n",
       "      <td>While augmentation of data in training and sto...</td>\n",
       "      <td>neutral</td>\n",
       "      <td>0.998255</td>\n",
       "      <td>neutral</td>\n",
       "      <td>0.991625</td>\n",
       "    </tr>\n",
       "  </tbody>\n",
       "</table>\n",
       "</div>"
      ],
      "text/plain": [
       "                                                text m1_label  m1_score  \\\n",
       "0  Non-determinism of GPU operations also produce...  neutral  0.998542   \n",
       "1  Our findings confirm the work of Summers and D...  neutral  0.998580   \n",
       "2  In particular we show, confirming the results ...  neutral  0.998302   \n",
       "3  We recently became aware of Summers and Dinnee...  neutral  0.998528   \n",
       "4  During encoding, we suggest to continue to max...  neutral  0.998983   \n",
       "5  While augmentation of data in training and sto...  neutral  0.998255   \n",
       "\n",
       "  m2_label  m2_score  \n",
       "0  neutral  0.919719  \n",
       "1  neutral  0.996763  \n",
       "2  neutral  0.994285  \n",
       "3  neutral  0.983494  \n",
       "4  neutral  0.924084  \n",
       "5  neutral  0.991625  "
      ]
     },
     "execution_count": 66,
     "metadata": {},
     "output_type": "execute_result"
    }
   ],
   "source": [
    "# inferences model_02\n",
    "\n",
    "predictions_df_m2 = joined_new_df.copy() #[[\"text\"]]\n",
    "print(predictions_df.head())\n",
    "\n",
    "x_test_series_m2 = predictions_df_m2['text']\n",
    "\n",
    "model_02_path = \"sentiment_analysis/saved_5_models/model_02/\"\n",
    "loaded_model_02 = pipeline(\"text-classification\", model = model_02_path, device=0)\n",
    "\n",
    "predicted_m2 = loaded_model_02(list(x_test_series_m2))\n",
    "\n",
    "df_predicted_m2 = pd.DataFrame(predicted_m2)\n",
    "joined_new_df_m2 = predictions_df_m2.reset_index().join(df_predicted_m2, on='index', lsuffix='_')\n",
    "\n",
    "# joined_new_df = joined_new_df[[\"text\",\"label\",\"score\"]]\n",
    "# joined_new_df\n",
    "\n",
    "model_2_label_mapping = {'LABEL_1':'neutral','LABEL_0':'negative','LABEL_2':'positive'}\n",
    "joined_new_df_m2['label'] = joined_new_df_m2['label'].map(model_2_label_mapping)\n",
    "\n",
    "joined_new_df_m2 = joined_new_df_m2.rename(columns={\"label\": \"m2_label\", \"score\": \"m2_score\"})\n",
    "joined_new_df_m2 = joined_new_df_m2.drop(columns=['index'])\n",
    "joined_new_df_m2\n",
    "\n",
    "# LABEL_2 --> positive\n",
    "# LABEL_0 --> negative\n",
    "# LABEL_1 --> neutral"
   ]
  },
  {
   "cell_type": "code",
   "execution_count": 70,
   "id": "a389e84d-49a7-46a0-8210-f4eb4bb8c59a",
   "metadata": {},
   "outputs": [
    {
     "name": "stdout",
     "output_type": "stream",
     "text": [
      "                                                text m1_label  m1_score  \\\n",
      "0  Non-determinism of GPU operations also produce...  neutral  0.998542   \n",
      "1  Our findings confirm the work of Summers and D...  neutral  0.998580   \n",
      "2  In particular we show, confirming the results ...  neutral  0.998302   \n",
      "3  We recently became aware of Summers and Dinnee...  neutral  0.998528   \n",
      "4  During encoding, we suggest to continue to max...  neutral  0.998983   \n",
      "\n",
      "  m2_label  m2_score  \n",
      "0  neutral  0.919719  \n",
      "1  neutral  0.996763  \n",
      "2  neutral  0.994285  \n",
      "3  neutral  0.983494  \n",
      "4  neutral  0.924084  \n"
     ]
    },
    {
     "name": "stderr",
     "output_type": "stream",
     "text": [
      "emoji is not installed, thus not converting emoticons or emojis into text. Install emoji: pip3 install emoji==0.6.0\n"
     ]
    },
    {
     "data": {
      "text/html": [
       "<div>\n",
       "<style scoped>\n",
       "    .dataframe tbody tr th:only-of-type {\n",
       "        vertical-align: middle;\n",
       "    }\n",
       "\n",
       "    .dataframe tbody tr th {\n",
       "        vertical-align: top;\n",
       "    }\n",
       "\n",
       "    .dataframe thead th {\n",
       "        text-align: right;\n",
       "    }\n",
       "</style>\n",
       "<table border=\"1\" class=\"dataframe\">\n",
       "  <thead>\n",
       "    <tr style=\"text-align: right;\">\n",
       "      <th></th>\n",
       "      <th>text</th>\n",
       "      <th>m1_label</th>\n",
       "      <th>m1_score</th>\n",
       "      <th>m2_label</th>\n",
       "      <th>m2_score</th>\n",
       "      <th>m3_label</th>\n",
       "      <th>m3_score</th>\n",
       "    </tr>\n",
       "  </thead>\n",
       "  <tbody>\n",
       "    <tr>\n",
       "      <th>0</th>\n",
       "      <td>Non-determinism of GPU operations also produce...</td>\n",
       "      <td>neutral</td>\n",
       "      <td>0.998542</td>\n",
       "      <td>neutral</td>\n",
       "      <td>0.919719</td>\n",
       "      <td>neutral</td>\n",
       "      <td>0.828232</td>\n",
       "    </tr>\n",
       "    <tr>\n",
       "      <th>1</th>\n",
       "      <td>Our findings confirm the work of Summers and D...</td>\n",
       "      <td>neutral</td>\n",
       "      <td>0.998580</td>\n",
       "      <td>neutral</td>\n",
       "      <td>0.996763</td>\n",
       "      <td>neutral</td>\n",
       "      <td>0.921637</td>\n",
       "    </tr>\n",
       "    <tr>\n",
       "      <th>2</th>\n",
       "      <td>In particular we show, confirming the results ...</td>\n",
       "      <td>neutral</td>\n",
       "      <td>0.998302</td>\n",
       "      <td>neutral</td>\n",
       "      <td>0.994285</td>\n",
       "      <td>neutral</td>\n",
       "      <td>0.743436</td>\n",
       "    </tr>\n",
       "    <tr>\n",
       "      <th>3</th>\n",
       "      <td>We recently became aware of Summers and Dinnee...</td>\n",
       "      <td>neutral</td>\n",
       "      <td>0.998528</td>\n",
       "      <td>neutral</td>\n",
       "      <td>0.983494</td>\n",
       "      <td>neutral</td>\n",
       "      <td>0.825781</td>\n",
       "    </tr>\n",
       "    <tr>\n",
       "      <th>4</th>\n",
       "      <td>During encoding, we suggest to continue to max...</td>\n",
       "      <td>neutral</td>\n",
       "      <td>0.998983</td>\n",
       "      <td>neutral</td>\n",
       "      <td>0.924084</td>\n",
       "      <td>neutral</td>\n",
       "      <td>0.890860</td>\n",
       "    </tr>\n",
       "    <tr>\n",
       "      <th>5</th>\n",
       "      <td>While augmentation of data in training and sto...</td>\n",
       "      <td>neutral</td>\n",
       "      <td>0.998255</td>\n",
       "      <td>neutral</td>\n",
       "      <td>0.991625</td>\n",
       "      <td>neutral</td>\n",
       "      <td>0.894961</td>\n",
       "    </tr>\n",
       "  </tbody>\n",
       "</table>\n",
       "</div>"
      ],
      "text/plain": [
       "                                                text m1_label  m1_score  \\\n",
       "0  Non-determinism of GPU operations also produce...  neutral  0.998542   \n",
       "1  Our findings confirm the work of Summers and D...  neutral  0.998580   \n",
       "2  In particular we show, confirming the results ...  neutral  0.998302   \n",
       "3  We recently became aware of Summers and Dinnee...  neutral  0.998528   \n",
       "4  During encoding, we suggest to continue to max...  neutral  0.998983   \n",
       "5  While augmentation of data in training and sto...  neutral  0.998255   \n",
       "\n",
       "  m2_label  m2_score m3_label  m3_score  \n",
       "0  neutral  0.919719  neutral  0.828232  \n",
       "1  neutral  0.996763  neutral  0.921637  \n",
       "2  neutral  0.994285  neutral  0.743436  \n",
       "3  neutral  0.983494  neutral  0.825781  \n",
       "4  neutral  0.924084  neutral  0.890860  \n",
       "5  neutral  0.991625  neutral  0.894961  "
      ]
     },
     "execution_count": 70,
     "metadata": {},
     "output_type": "execute_result"
    }
   ],
   "source": [
    "# inferences model_03\n",
    "\n",
    "predictions_df_m3 = joined_new_df_m2.copy() #[[\"text\"]]\n",
    "print(predictions_df_m3.head())\n",
    "\n",
    "x_test_series_m3 = predictions_df_m3['text']\n",
    "\n",
    "model_03_path = \"sentiment_analysis/saved_5_models/model_03/\"\n",
    "loaded_model_03 = pipeline(\"text-classification\", model = model_03_path, device=0)\n",
    "\n",
    "predicted_m3 = loaded_model_03(list(x_test_series_m3))\n",
    "\n",
    "df_predicted_m3 = pd.DataFrame(predicted_m3)\n",
    "joined_new_df_m3 = predictions_df_m3.reset_index().join(df_predicted_m3, on='index', lsuffix='_')\n",
    "\n",
    "# joined_new_df = joined_new_df[[\"text\",\"label\",\"score\"]]\n",
    "# joined_new_df\n",
    "\n",
    "\n",
    "model_3_label_mapping = {'NEU':'neutral','NEG':'negative','POS':'positive'}\n",
    "joined_new_df_m3['label'] = joined_new_df_m3['label'].map(model_3_label_mapping)\n",
    "\n",
    "joined_new_df_m3 = joined_new_df_m3.rename(columns={\"label\": \"m3_label\", \"score\": \"m3_score\"})\n",
    "joined_new_df_m3 = joined_new_df_m3.drop(columns=['index'])\n",
    "joined_new_df_m3"
   ]
  },
  {
   "cell_type": "code",
   "execution_count": 68,
   "id": "a563e9c8-f83b-4d06-b612-92e67c182918",
   "metadata": {},
   "outputs": [
    {
     "data": {
      "text/plain": [
       "[{'label': 'NEU', 'score': 0.828231930732727},\n",
       " {'label': 'NEU', 'score': 0.9216371774673462},\n",
       " {'label': 'NEU', 'score': 0.7434359788894653},\n",
       " {'label': 'NEU', 'score': 0.8257814049720764},\n",
       " {'label': 'NEU', 'score': 0.8908603191375732},\n",
       " {'label': 'NEU', 'score': 0.8949613571166992}]"
      ]
     },
     "execution_count": 68,
     "metadata": {},
     "output_type": "execute_result"
    }
   ],
   "source": [
    "predicted_m3"
   ]
  },
  {
   "cell_type": "code",
   "execution_count": 74,
   "id": "9aa277b5-b652-43f6-ae54-db21d990b2bb",
   "metadata": {},
   "outputs": [
    {
     "name": "stdout",
     "output_type": "stream",
     "text": [
      "                                                text m1_label  m1_score  \\\n",
      "0  Non-determinism of GPU operations also produce...  neutral  0.998542   \n",
      "1  Our findings confirm the work of Summers and D...  neutral  0.998580   \n",
      "2  In particular we show, confirming the results ...  neutral  0.998302   \n",
      "3  We recently became aware of Summers and Dinnee...  neutral  0.998528   \n",
      "4  During encoding, we suggest to continue to max...  neutral  0.998983   \n",
      "\n",
      "  m2_label  m2_score m3_label  m3_score  \n",
      "0  neutral  0.919719  neutral  0.828232  \n",
      "1  neutral  0.996763  neutral  0.921637  \n",
      "2  neutral  0.994285  neutral  0.743436  \n",
      "3  neutral  0.983494  neutral  0.825781  \n",
      "4  neutral  0.924084  neutral  0.890860  \n"
     ]
    },
    {
     "data": {
      "text/html": [
       "<div>\n",
       "<style scoped>\n",
       "    .dataframe tbody tr th:only-of-type {\n",
       "        vertical-align: middle;\n",
       "    }\n",
       "\n",
       "    .dataframe tbody tr th {\n",
       "        vertical-align: top;\n",
       "    }\n",
       "\n",
       "    .dataframe thead th {\n",
       "        text-align: right;\n",
       "    }\n",
       "</style>\n",
       "<table border=\"1\" class=\"dataframe\">\n",
       "  <thead>\n",
       "    <tr style=\"text-align: right;\">\n",
       "      <th></th>\n",
       "      <th>text</th>\n",
       "      <th>m1_label</th>\n",
       "      <th>m1_score</th>\n",
       "      <th>m2_label</th>\n",
       "      <th>m2_score</th>\n",
       "      <th>m3_label</th>\n",
       "      <th>m3_score</th>\n",
       "      <th>m4_label</th>\n",
       "      <th>m4_score</th>\n",
       "    </tr>\n",
       "  </thead>\n",
       "  <tbody>\n",
       "    <tr>\n",
       "      <th>0</th>\n",
       "      <td>Non-determinism of GPU operations also produce...</td>\n",
       "      <td>neutral</td>\n",
       "      <td>0.998542</td>\n",
       "      <td>neutral</td>\n",
       "      <td>0.919719</td>\n",
       "      <td>neutral</td>\n",
       "      <td>0.828232</td>\n",
       "      <td>neutral</td>\n",
       "      <td>0.657153</td>\n",
       "    </tr>\n",
       "    <tr>\n",
       "      <th>1</th>\n",
       "      <td>Our findings confirm the work of Summers and D...</td>\n",
       "      <td>neutral</td>\n",
       "      <td>0.998580</td>\n",
       "      <td>neutral</td>\n",
       "      <td>0.996763</td>\n",
       "      <td>neutral</td>\n",
       "      <td>0.921637</td>\n",
       "      <td>neutral</td>\n",
       "      <td>0.618644</td>\n",
       "    </tr>\n",
       "    <tr>\n",
       "      <th>2</th>\n",
       "      <td>In particular we show, confirming the results ...</td>\n",
       "      <td>neutral</td>\n",
       "      <td>0.998302</td>\n",
       "      <td>neutral</td>\n",
       "      <td>0.994285</td>\n",
       "      <td>neutral</td>\n",
       "      <td>0.743436</td>\n",
       "      <td>neutral</td>\n",
       "      <td>0.705777</td>\n",
       "    </tr>\n",
       "    <tr>\n",
       "      <th>3</th>\n",
       "      <td>We recently became aware of Summers and Dinnee...</td>\n",
       "      <td>neutral</td>\n",
       "      <td>0.998528</td>\n",
       "      <td>neutral</td>\n",
       "      <td>0.983494</td>\n",
       "      <td>neutral</td>\n",
       "      <td>0.825781</td>\n",
       "      <td>neutral</td>\n",
       "      <td>0.696007</td>\n",
       "    </tr>\n",
       "    <tr>\n",
       "      <th>4</th>\n",
       "      <td>During encoding, we suggest to continue to max...</td>\n",
       "      <td>neutral</td>\n",
       "      <td>0.998983</td>\n",
       "      <td>neutral</td>\n",
       "      <td>0.924084</td>\n",
       "      <td>neutral</td>\n",
       "      <td>0.890860</td>\n",
       "      <td>neutral</td>\n",
       "      <td>0.821415</td>\n",
       "    </tr>\n",
       "    <tr>\n",
       "      <th>5</th>\n",
       "      <td>While augmentation of data in training and sto...</td>\n",
       "      <td>neutral</td>\n",
       "      <td>0.998255</td>\n",
       "      <td>neutral</td>\n",
       "      <td>0.991625</td>\n",
       "      <td>neutral</td>\n",
       "      <td>0.894961</td>\n",
       "      <td>neutral</td>\n",
       "      <td>0.713239</td>\n",
       "    </tr>\n",
       "  </tbody>\n",
       "</table>\n",
       "</div>"
      ],
      "text/plain": [
       "                                                text m1_label  m1_score  \\\n",
       "0  Non-determinism of GPU operations also produce...  neutral  0.998542   \n",
       "1  Our findings confirm the work of Summers and D...  neutral  0.998580   \n",
       "2  In particular we show, confirming the results ...  neutral  0.998302   \n",
       "3  We recently became aware of Summers and Dinnee...  neutral  0.998528   \n",
       "4  During encoding, we suggest to continue to max...  neutral  0.998983   \n",
       "5  While augmentation of data in training and sto...  neutral  0.998255   \n",
       "\n",
       "  m2_label  m2_score m3_label  m3_score m4_label  m4_score  \n",
       "0  neutral  0.919719  neutral  0.828232  neutral  0.657153  \n",
       "1  neutral  0.996763  neutral  0.921637  neutral  0.618644  \n",
       "2  neutral  0.994285  neutral  0.743436  neutral  0.705777  \n",
       "3  neutral  0.983494  neutral  0.825781  neutral  0.696007  \n",
       "4  neutral  0.924084  neutral  0.890860  neutral  0.821415  \n",
       "5  neutral  0.991625  neutral  0.894961  neutral  0.713239  "
      ]
     },
     "execution_count": 74,
     "metadata": {},
     "output_type": "execute_result"
    }
   ],
   "source": [
    "# inferences model_04\n",
    "\n",
    "predictions_df_m4 = joined_new_df_m3.copy() #[[\"text\"]]\n",
    "print(predictions_df_m4.head())\n",
    "\n",
    "x_test_series_m4 = predictions_df_m4['text']\n",
    "\n",
    "model_04_path = \"sentiment_analysis/saved_5_models/model_04/\"\n",
    "loaded_model_04 = pipeline(\"text-classification\", model = model_04_path, device=0)\n",
    "\n",
    "predicted_m4 = loaded_model_04(list(x_test_series_m4))\n",
    "\n",
    "df_predicted_m4 = pd.DataFrame(predicted_m4)\n",
    "joined_new_df_m4 = predictions_df_m4.reset_index().join(df_predicted_m4, on='index', lsuffix='_')\n",
    "\n",
    "# joined_new_df = joined_new_df[[\"text\",\"label\",\"score\"]]\n",
    "# joined_new_df\n",
    "\n",
    "\n",
    "# model_4_label_mapping = {'NEU':'neutral','NEG':'negative','POS':'positive'}\n",
    "# joined_new_df_m4['label'] = joined_new_df_m4['label'].map(model_4_label_mapping)\n",
    "\n",
    "joined_new_df_m4 = joined_new_df_m4.rename(columns={\"label\": \"m4_label\", \"score\": \"m4_score\"})\n",
    "joined_new_df_m4 = joined_new_df_m4.drop(columns=['index'])\n",
    "joined_new_df_m4"
   ]
  },
  {
   "cell_type": "code",
   "execution_count": 79,
   "id": "51121430-2418-4c9c-8f6f-c0738cc5b2c1",
   "metadata": {},
   "outputs": [
    {
     "name": "stdout",
     "output_type": "stream",
     "text": [
      "                                                text m1_label  m1_score  \\\n",
      "0  Non-determinism of GPU operations also produce...  neutral  0.998542   \n",
      "1  Our findings confirm the work of Summers and D...  neutral  0.998580   \n",
      "2  In particular we show, confirming the results ...  neutral  0.998302   \n",
      "3  We recently became aware of Summers and Dinnee...  neutral  0.998528   \n",
      "4  During encoding, we suggest to continue to max...  neutral  0.998983   \n",
      "\n",
      "  m2_label  m2_score m3_label  m3_score m4_label  m4_score  \n",
      "0  neutral  0.919719  neutral  0.828232  neutral  0.657153  \n",
      "1  neutral  0.996763  neutral  0.921637  neutral  0.618644  \n",
      "2  neutral  0.994285  neutral  0.743436  neutral  0.705777  \n",
      "3  neutral  0.983494  neutral  0.825781  neutral  0.696007  \n",
      "4  neutral  0.924084  neutral  0.890860  neutral  0.821415  \n"
     ]
    },
    {
     "data": {
      "text/html": [
       "<div>\n",
       "<style scoped>\n",
       "    .dataframe tbody tr th:only-of-type {\n",
       "        vertical-align: middle;\n",
       "    }\n",
       "\n",
       "    .dataframe tbody tr th {\n",
       "        vertical-align: top;\n",
       "    }\n",
       "\n",
       "    .dataframe thead th {\n",
       "        text-align: right;\n",
       "    }\n",
       "</style>\n",
       "<table border=\"1\" class=\"dataframe\">\n",
       "  <thead>\n",
       "    <tr style=\"text-align: right;\">\n",
       "      <th></th>\n",
       "      <th>text</th>\n",
       "      <th>m1_label</th>\n",
       "      <th>m1_score</th>\n",
       "      <th>m2_label</th>\n",
       "      <th>m2_score</th>\n",
       "      <th>m3_label</th>\n",
       "      <th>m3_score</th>\n",
       "      <th>m4_label</th>\n",
       "      <th>m4_score</th>\n",
       "      <th>m5_label</th>\n",
       "      <th>m5_score</th>\n",
       "    </tr>\n",
       "  </thead>\n",
       "  <tbody>\n",
       "    <tr>\n",
       "      <th>0</th>\n",
       "      <td>Non-determinism of GPU operations also produce...</td>\n",
       "      <td>neutral</td>\n",
       "      <td>0.998542</td>\n",
       "      <td>neutral</td>\n",
       "      <td>0.919719</td>\n",
       "      <td>neutral</td>\n",
       "      <td>0.828232</td>\n",
       "      <td>neutral</td>\n",
       "      <td>0.657153</td>\n",
       "      <td>negative</td>\n",
       "      <td>0.751930</td>\n",
       "    </tr>\n",
       "    <tr>\n",
       "      <th>1</th>\n",
       "      <td>Our findings confirm the work of Summers and D...</td>\n",
       "      <td>neutral</td>\n",
       "      <td>0.998580</td>\n",
       "      <td>neutral</td>\n",
       "      <td>0.996763</td>\n",
       "      <td>neutral</td>\n",
       "      <td>0.921637</td>\n",
       "      <td>neutral</td>\n",
       "      <td>0.618644</td>\n",
       "      <td>positive</td>\n",
       "      <td>0.530578</td>\n",
       "    </tr>\n",
       "    <tr>\n",
       "      <th>2</th>\n",
       "      <td>In particular we show, confirming the results ...</td>\n",
       "      <td>neutral</td>\n",
       "      <td>0.998302</td>\n",
       "      <td>neutral</td>\n",
       "      <td>0.994285</td>\n",
       "      <td>neutral</td>\n",
       "      <td>0.743436</td>\n",
       "      <td>neutral</td>\n",
       "      <td>0.705777</td>\n",
       "      <td>neutral</td>\n",
       "      <td>0.409567</td>\n",
       "    </tr>\n",
       "    <tr>\n",
       "      <th>3</th>\n",
       "      <td>We recently became aware of Summers and Dinnee...</td>\n",
       "      <td>neutral</td>\n",
       "      <td>0.998528</td>\n",
       "      <td>neutral</td>\n",
       "      <td>0.983494</td>\n",
       "      <td>neutral</td>\n",
       "      <td>0.825781</td>\n",
       "      <td>neutral</td>\n",
       "      <td>0.696007</td>\n",
       "      <td>positive</td>\n",
       "      <td>0.693094</td>\n",
       "    </tr>\n",
       "    <tr>\n",
       "      <th>4</th>\n",
       "      <td>During encoding, we suggest to continue to max...</td>\n",
       "      <td>neutral</td>\n",
       "      <td>0.998983</td>\n",
       "      <td>neutral</td>\n",
       "      <td>0.924084</td>\n",
       "      <td>neutral</td>\n",
       "      <td>0.890860</td>\n",
       "      <td>neutral</td>\n",
       "      <td>0.821415</td>\n",
       "      <td>negative</td>\n",
       "      <td>0.675279</td>\n",
       "    </tr>\n",
       "    <tr>\n",
       "      <th>5</th>\n",
       "      <td>While augmentation of data in training and sto...</td>\n",
       "      <td>neutral</td>\n",
       "      <td>0.998255</td>\n",
       "      <td>neutral</td>\n",
       "      <td>0.991625</td>\n",
       "      <td>neutral</td>\n",
       "      <td>0.894961</td>\n",
       "      <td>neutral</td>\n",
       "      <td>0.713239</td>\n",
       "      <td>negative</td>\n",
       "      <td>0.777866</td>\n",
       "    </tr>\n",
       "  </tbody>\n",
       "</table>\n",
       "</div>"
      ],
      "text/plain": [
       "                                                text m1_label  m1_score  \\\n",
       "0  Non-determinism of GPU operations also produce...  neutral  0.998542   \n",
       "1  Our findings confirm the work of Summers and D...  neutral  0.998580   \n",
       "2  In particular we show, confirming the results ...  neutral  0.998302   \n",
       "3  We recently became aware of Summers and Dinnee...  neutral  0.998528   \n",
       "4  During encoding, we suggest to continue to max...  neutral  0.998983   \n",
       "5  While augmentation of data in training and sto...  neutral  0.998255   \n",
       "\n",
       "  m2_label  m2_score m3_label  m3_score m4_label  m4_score  m5_label  m5_score  \n",
       "0  neutral  0.919719  neutral  0.828232  neutral  0.657153  negative  0.751930  \n",
       "1  neutral  0.996763  neutral  0.921637  neutral  0.618644  positive  0.530578  \n",
       "2  neutral  0.994285  neutral  0.743436  neutral  0.705777   neutral  0.409567  \n",
       "3  neutral  0.983494  neutral  0.825781  neutral  0.696007  positive  0.693094  \n",
       "4  neutral  0.924084  neutral  0.890860  neutral  0.821415  negative  0.675279  \n",
       "5  neutral  0.991625  neutral  0.894961  neutral  0.713239  negative  0.777866  "
      ]
     },
     "execution_count": 79,
     "metadata": {},
     "output_type": "execute_result"
    }
   ],
   "source": [
    "# inferences model_05\n",
    "\n",
    "predictions_df_m5 = joined_new_df_m4.copy() #[[\"text\"]]\n",
    "print(predictions_df_m5.head())\n",
    "\n",
    "x_test_series_m5 = predictions_df_m5['text']\n",
    "\n",
    "model_05_path = \"sentiment_analysis/saved_5_models/model_05/\"\n",
    "loaded_model_05 = pipeline(\"text-classification\", model = model_05_path, device=0)\n",
    "\n",
    "predicted_m5 = loaded_model_05(list(x_test_series_m5))\n",
    "\n",
    "df_predicted_m5 = pd.DataFrame(predicted_m5)\n",
    "joined_new_df_m5 = predictions_df_m5.reset_index().join(df_predicted_m5, on='index', lsuffix='_')\n",
    "\n",
    "# joined_new_df = joined_new_df[[\"text\",\"label\",\"score\"]]\n",
    "# joined_new_df\n",
    "\n",
    "\n",
    "model_5_label_mapping = {'LABEL_1':'neutral','LABEL_0':'negative','LABEL_2':'positive'}\n",
    "joined_new_df_m5['label'] = joined_new_df_m5['label'].map(model_5_label_mapping)\n",
    "\n",
    "joined_new_df_m5 = joined_new_df_m5.rename(columns={\"label\": \"m5_label\", \"score\": \"m5_score\"})\n",
    "joined_new_df_m5 = joined_new_df_m5.drop(columns=['index'])\n",
    "joined_new_df_m5\n",
    "\n",
    "# LABEL_2 --> positive\n",
    "# LABEL_0 --> negative\n",
    "# LABEL_1 --> neutral\n",
    "\n"
   ]
  },
  {
   "cell_type": "code",
   "execution_count": 89,
   "id": "502d7fd5-ac57-4eab-8fc0-6b18ce4c61f8",
   "metadata": {},
   "outputs": [
    {
     "data": {
      "text/html": [
       "<div>\n",
       "<style scoped>\n",
       "    .dataframe tbody tr th:only-of-type {\n",
       "        vertical-align: middle;\n",
       "    }\n",
       "\n",
       "    .dataframe tbody tr th {\n",
       "        vertical-align: top;\n",
       "    }\n",
       "\n",
       "    .dataframe thead th {\n",
       "        text-align: right;\n",
       "    }\n",
       "</style>\n",
       "<table border=\"1\" class=\"dataframe\">\n",
       "  <thead>\n",
       "    <tr style=\"text-align: right;\">\n",
       "      <th></th>\n",
       "      <th>text</th>\n",
       "      <th>m1_label</th>\n",
       "      <th>m1_score</th>\n",
       "      <th>m2_label</th>\n",
       "      <th>m2_score</th>\n",
       "      <th>m3_label</th>\n",
       "      <th>m3_score</th>\n",
       "      <th>m4_label</th>\n",
       "      <th>m4_score</th>\n",
       "      <th>m5_label</th>\n",
       "      <th>m5_score</th>\n",
       "      <th>majority</th>\n",
       "      <th>majority_vote</th>\n",
       "    </tr>\n",
       "  </thead>\n",
       "  <tbody>\n",
       "    <tr>\n",
       "      <th>0</th>\n",
       "      <td>Non-determinism of GPU operations also produce...</td>\n",
       "      <td>neutral</td>\n",
       "      <td>0.998542</td>\n",
       "      <td>neutral</td>\n",
       "      <td>0.919719</td>\n",
       "      <td>neutral</td>\n",
       "      <td>0.828232</td>\n",
       "      <td>neutral</td>\n",
       "      <td>0.657153</td>\n",
       "      <td>negative</td>\n",
       "      <td>0.751930</td>\n",
       "      <td>neutral</td>\n",
       "      <td>neutral</td>\n",
       "    </tr>\n",
       "    <tr>\n",
       "      <th>1</th>\n",
       "      <td>Our findings confirm the work of Summers and D...</td>\n",
       "      <td>neutral</td>\n",
       "      <td>0.998580</td>\n",
       "      <td>neutral</td>\n",
       "      <td>0.996763</td>\n",
       "      <td>neutral</td>\n",
       "      <td>0.921637</td>\n",
       "      <td>neutral</td>\n",
       "      <td>0.618644</td>\n",
       "      <td>positive</td>\n",
       "      <td>0.530578</td>\n",
       "      <td>neutral</td>\n",
       "      <td>neutral</td>\n",
       "    </tr>\n",
       "    <tr>\n",
       "      <th>2</th>\n",
       "      <td>In particular we show, confirming the results ...</td>\n",
       "      <td>neutral</td>\n",
       "      <td>0.998302</td>\n",
       "      <td>neutral</td>\n",
       "      <td>0.994285</td>\n",
       "      <td>neutral</td>\n",
       "      <td>0.743436</td>\n",
       "      <td>neutral</td>\n",
       "      <td>0.705777</td>\n",
       "      <td>neutral</td>\n",
       "      <td>0.409567</td>\n",
       "      <td>neutral</td>\n",
       "      <td>neutral</td>\n",
       "    </tr>\n",
       "    <tr>\n",
       "      <th>3</th>\n",
       "      <td>We recently became aware of Summers and Dinnee...</td>\n",
       "      <td>neutral</td>\n",
       "      <td>0.998528</td>\n",
       "      <td>neutral</td>\n",
       "      <td>0.983494</td>\n",
       "      <td>neutral</td>\n",
       "      <td>0.825781</td>\n",
       "      <td>neutral</td>\n",
       "      <td>0.696007</td>\n",
       "      <td>positive</td>\n",
       "      <td>0.693094</td>\n",
       "      <td>neutral</td>\n",
       "      <td>neutral</td>\n",
       "    </tr>\n",
       "    <tr>\n",
       "      <th>4</th>\n",
       "      <td>During encoding, we suggest to continue to max...</td>\n",
       "      <td>neutral</td>\n",
       "      <td>0.998983</td>\n",
       "      <td>neutral</td>\n",
       "      <td>0.924084</td>\n",
       "      <td>neutral</td>\n",
       "      <td>0.890860</td>\n",
       "      <td>neutral</td>\n",
       "      <td>0.821415</td>\n",
       "      <td>negative</td>\n",
       "      <td>0.675279</td>\n",
       "      <td>neutral</td>\n",
       "      <td>neutral</td>\n",
       "    </tr>\n",
       "    <tr>\n",
       "      <th>5</th>\n",
       "      <td>While augmentation of data in training and sto...</td>\n",
       "      <td>neutral</td>\n",
       "      <td>0.998255</td>\n",
       "      <td>neutral</td>\n",
       "      <td>0.991625</td>\n",
       "      <td>neutral</td>\n",
       "      <td>0.894961</td>\n",
       "      <td>neutral</td>\n",
       "      <td>0.713239</td>\n",
       "      <td>negative</td>\n",
       "      <td>0.777866</td>\n",
       "      <td>neutral</td>\n",
       "      <td>neutral</td>\n",
       "    </tr>\n",
       "  </tbody>\n",
       "</table>\n",
       "</div>"
      ],
      "text/plain": [
       "                                                text m1_label  m1_score  \\\n",
       "0  Non-determinism of GPU operations also produce...  neutral  0.998542   \n",
       "1  Our findings confirm the work of Summers and D...  neutral  0.998580   \n",
       "2  In particular we show, confirming the results ...  neutral  0.998302   \n",
       "3  We recently became aware of Summers and Dinnee...  neutral  0.998528   \n",
       "4  During encoding, we suggest to continue to max...  neutral  0.998983   \n",
       "5  While augmentation of data in training and sto...  neutral  0.998255   \n",
       "\n",
       "  m2_label  m2_score m3_label  m3_score m4_label  m4_score  m5_label  \\\n",
       "0  neutral  0.919719  neutral  0.828232  neutral  0.657153  negative   \n",
       "1  neutral  0.996763  neutral  0.921637  neutral  0.618644  positive   \n",
       "2  neutral  0.994285  neutral  0.743436  neutral  0.705777   neutral   \n",
       "3  neutral  0.983494  neutral  0.825781  neutral  0.696007  positive   \n",
       "4  neutral  0.924084  neutral  0.890860  neutral  0.821415  negative   \n",
       "5  neutral  0.991625  neutral  0.894961  neutral  0.713239  negative   \n",
       "\n",
       "   m5_score majority majority_vote  \n",
       "0  0.751930  neutral       neutral  \n",
       "1  0.530578  neutral       neutral  \n",
       "2  0.409567  neutral       neutral  \n",
       "3  0.693094  neutral       neutral  \n",
       "4  0.675279  neutral       neutral  \n",
       "5  0.777866  neutral       neutral  "
      ]
     },
     "execution_count": 89,
     "metadata": {},
     "output_type": "execute_result"
    }
   ],
   "source": [
    "joined_new_df_m5['majority_vote'] = joined_new_df_m5[['m1_label','m2_label','m3_label','m4_label','m5_label']].mode(axis=1) #[0]\n",
    "# print(df)\n",
    "joined_new_df_m5\n",
    "# mode = df.mode(axis=1)\n",
    "# df['majority'] = np.where(mode.isna().any(1), mode[0], 'CHOOSE')\n",
    "\n"
   ]
  },
  {
   "cell_type": "code",
   "execution_count": 85,
   "id": "918d5ef9-11b9-4977-9951-f04a7499725b",
   "metadata": {},
   "outputs": [
    {
     "data": {
      "text/html": [
       "<div>\n",
       "<style scoped>\n",
       "    .dataframe tbody tr th:only-of-type {\n",
       "        vertical-align: middle;\n",
       "    }\n",
       "\n",
       "    .dataframe tbody tr th {\n",
       "        vertical-align: top;\n",
       "    }\n",
       "\n",
       "    .dataframe thead th {\n",
       "        text-align: right;\n",
       "    }\n",
       "</style>\n",
       "<table border=\"1\" class=\"dataframe\">\n",
       "  <thead>\n",
       "    <tr style=\"text-align: right;\">\n",
       "      <th></th>\n",
       "      <th>m1_label</th>\n",
       "      <th>m2_label</th>\n",
       "      <th>m3_label</th>\n",
       "      <th>m4_label</th>\n",
       "      <th>m5_label</th>\n",
       "    </tr>\n",
       "  </thead>\n",
       "  <tbody>\n",
       "    <tr>\n",
       "      <th>0</th>\n",
       "      <td>neutral</td>\n",
       "      <td>neutral</td>\n",
       "      <td>neutral</td>\n",
       "      <td>neutral</td>\n",
       "      <td>negative</td>\n",
       "    </tr>\n",
       "  </tbody>\n",
       "</table>\n",
       "</div>"
      ],
      "text/plain": [
       "  m1_label m2_label m3_label m4_label  m5_label\n",
       "0  neutral  neutral  neutral  neutral  negative"
      ]
     },
     "execution_count": 85,
     "metadata": {},
     "output_type": "execute_result"
    }
   ],
   "source": [
    "joined_new_df_m5[['m1_label','m2_label','m3_label','m4_label','m5_label']].mode(axis=0) #[0]"
   ]
  },
  {
   "cell_type": "code",
   "execution_count": 88,
   "id": "51c880e7-7121-4d14-94c7-eaa1b49dc54d",
   "metadata": {},
   "outputs": [
    {
     "data": {
      "text/html": [
       "<div>\n",
       "<style scoped>\n",
       "    .dataframe tbody tr th:only-of-type {\n",
       "        vertical-align: middle;\n",
       "    }\n",
       "\n",
       "    .dataframe tbody tr th {\n",
       "        vertical-align: top;\n",
       "    }\n",
       "\n",
       "    .dataframe thead th {\n",
       "        text-align: right;\n",
       "    }\n",
       "</style>\n",
       "<table border=\"1\" class=\"dataframe\">\n",
       "  <thead>\n",
       "    <tr style=\"text-align: right;\">\n",
       "      <th></th>\n",
       "      <th>0</th>\n",
       "    </tr>\n",
       "  </thead>\n",
       "  <tbody>\n",
       "    <tr>\n",
       "      <th>0</th>\n",
       "      <td>neutral</td>\n",
       "    </tr>\n",
       "    <tr>\n",
       "      <th>1</th>\n",
       "      <td>neutral</td>\n",
       "    </tr>\n",
       "    <tr>\n",
       "      <th>2</th>\n",
       "      <td>neutral</td>\n",
       "    </tr>\n",
       "    <tr>\n",
       "      <th>3</th>\n",
       "      <td>neutral</td>\n",
       "    </tr>\n",
       "    <tr>\n",
       "      <th>4</th>\n",
       "      <td>neutral</td>\n",
       "    </tr>\n",
       "    <tr>\n",
       "      <th>5</th>\n",
       "      <td>neutral</td>\n",
       "    </tr>\n",
       "  </tbody>\n",
       "</table>\n",
       "</div>"
      ],
      "text/plain": [
       "         0\n",
       "0  neutral\n",
       "1  neutral\n",
       "2  neutral\n",
       "3  neutral\n",
       "4  neutral\n",
       "5  neutral"
      ]
     },
     "execution_count": 88,
     "metadata": {},
     "output_type": "execute_result"
    }
   ],
   "source": [
    "joined_new_df_m5[['m1_label','m2_label','m3_label','m4_label','m5_label']].mode(axis=1) #[0]"
   ]
  },
  {
   "cell_type": "code",
   "execution_count": 4,
   "id": "7EAhUaG8pLFv",
   "metadata": {
    "id": "7EAhUaG8pLFv",
    "scrolled": true
   },
   "outputs": [
    {
     "name": "stdout",
     "output_type": "stream",
     "text": [
      "Model 01 loaded\n",
      "Models 02 loaded\n"
     ]
    },
    {
     "name": "stderr",
     "output_type": "stream",
     "text": [
      "emoji is not installed, thus not converting emoticons or emojis into text. Install emoji: pip3 install emoji==0.6.0\n"
     ]
    },
    {
     "name": "stdout",
     "output_type": "stream",
     "text": [
      "Models 03 loaded\n",
      "Models 04 loaded\n",
      "Models 05 loaded\n",
      "RS_083_MLRC_2021_38.csv - model 1 --- model 2 --- model 3 --- model 4 --- model 5 ---\n",
      "                                                text m1_label  m1_score  \\\n",
      "0  At last, we mention NGAR [74] and GEN [85] as ...  neutral  0.998985   \n",
      "\n",
      "  m2_label  m2_score m3_label  m3_score m4_label  m4_score m5_label  m5_score  \\\n",
      "0  neutral  0.997039  neutral  0.878238  neutral  0.769374  neutral  0.508898   \n",
      "\n",
      "  majority_vote  \n",
      "0       neutral  \n",
      "sentiment_analysis/inferences_from_all_5_models/RS_083_MLRC_2021_38.csv saved\n",
      "\n",
      "\n",
      "\n",
      "\n",
      "RS_116_MLRC_2020_23.csv - model 1 --- model 2 --- model 3 --- model 4 --- model 5 ---\n",
      "                                                text m1_label  m1_score  \\\n",
      "0  Note that, although we do not use “do” operato...  neutral  0.999067   \n",
      "1  Simplifying causal metric for training the sel...  neutral  0.998851   \n",
      "2  We follow an information-theoretical approach ...  neutral  0.998781   \n",
      "3  After localizing the features through the two ...  neutral  0.998943   \n",
      "4  We are conducting a data collection study to o...  neutral  0.998795   \n",
      "\n",
      "  m2_label  m2_score m3_label  m3_score m4_label  m4_score  m5_label  \\\n",
      "0  neutral  0.976753  neutral  0.969061  neutral  0.850055   neutral   \n",
      "1  neutral  0.993176  neutral  0.605639  neutral  0.633875  negative   \n",
      "2  neutral  0.976052  neutral  0.748417  neutral  0.813539  positive   \n",
      "3  neutral  0.992970  neutral  0.959251  neutral  0.886039   neutral   \n",
      "4  neutral  0.995939  neutral  0.951199  neutral  0.794308   neutral   \n",
      "\n",
      "   m5_score majority_vote  \n",
      "0  0.542280       neutral  \n",
      "1  0.639823       neutral  \n",
      "2  0.573018       neutral  \n",
      "3  0.529588       neutral  \n",
      "4  0.512258       neutral  \n",
      "sentiment_analysis/inferences_from_all_5_models/RS_116_MLRC_2020_23.csv saved\n",
      "\n",
      "\n",
      "\n",
      "\n",
      "RS_033_MLRC_2022_33.csv - model 1 --- model 2 --- model 3 --- model 4 --- model 5 ---\n",
      "                                                text m1_label  m1_score  \\\n",
      "0  AutoL (Gao et al., 2021) and AMuLaP (Wang et a...  neutral  0.999072   \n",
      "1  , 2021); AMuLaP: method in (Wang et al., 2022)...  neutral  0.998985   \n",
      "\n",
      "  m2_label  m2_score m3_label  m3_score m4_label  m4_score m5_label  m5_score  \\\n",
      "0  neutral  0.961197  neutral  0.962556  neutral  0.913496  neutral  0.483401   \n",
      "1  neutral  0.997047  neutral  0.977502  neutral  0.925044  neutral  0.732504   \n",
      "\n",
      "  majority_vote  \n",
      "0       neutral  \n",
      "1       neutral  \n",
      "sentiment_analysis/inferences_from_all_5_models/RS_033_MLRC_2022_33.csv saved\n",
      "\n",
      "\n",
      "\n",
      "\n",
      "RS_087_MLRC_2021_42.csv - model 1 --- model 2 --- model 3 --- model 4 --- model 5 ---\n",
      "                                                text m1_label  m1_score  \\\n",
      "0  To accurately measure the model’s dependence o...  neutral  0.998205   \n",
      "1  The work of (Lang et al. 2021) proposes a trai...  neutral  0.999025   \n",
      "2  Domain Adaptation: Our approach builds on adva...  neutral  0.998769   \n",
      "3  We also did not compare with [13] because thei...  neutral  0.998770   \n",
      "4  Then, we borrow and revise the feature attribu...  neutral  0.998938   \n",
      "\n",
      "  m2_label  m2_score  m3_label  m3_score m4_label  m4_score  m5_label  \\\n",
      "0  neutral  0.993821   neutral  0.937373  neutral  0.666510   neutral   \n",
      "1  neutral  0.996802   neutral  0.960215  neutral  0.880965   neutral   \n",
      "2  neutral  0.994622  positive  0.673383  neutral  0.708800  positive   \n",
      "3  neutral  0.996876   neutral  0.685839  neutral  0.828780  negative   \n",
      "4  neutral  0.996459   neutral  0.946276  neutral  0.752070   neutral   \n",
      "\n",
      "   m5_score majority_vote  \n",
      "0  0.498816       neutral  \n",
      "1  0.542137       neutral  \n",
      "2  0.446468       neutral  \n",
      "3  0.529409       neutral  \n",
      "4  0.638560       neutral  \n",
      "sentiment_analysis/inferences_from_all_5_models/RS_087_MLRC_2021_42.csv saved\n",
      "\n",
      "\n",
      "\n",
      "\n",
      "RS_005_MLRC_2022_05.csv - model 1 --- model 2 --- model 3 --- model 4 --- model 5 ---\n",
      "                                                text m1_label  m1_score  \\\n",
      "0  Additionally, we release the checkpoints of th...  neutral  0.998954   \n",
      "1  …with 12 hidden layers) provided by Devlin et ...  neutral  0.999070   \n",
      "2  In addition, we have created a new dataset in ...  neutral  0.998946   \n",
      "\n",
      "  m2_label  m2_score m3_label  m3_score m4_label  m4_score m5_label  m5_score  \\\n",
      "0  neutral  0.986611  neutral  0.944035  neutral  0.933720  neutral  0.751291   \n",
      "1  neutral  0.997080  neutral  0.969036  neutral  0.900916  neutral  0.600525   \n",
      "2  neutral  0.994651  neutral  0.815496  neutral  0.883406  neutral  0.605023   \n",
      "\n",
      "  majority_vote  \n",
      "0       neutral  \n",
      "1       neutral  \n",
      "2       neutral  \n",
      "sentiment_analysis/inferences_from_all_5_models/RS_005_MLRC_2022_05.csv saved\n",
      "\n",
      "\n",
      "\n",
      "\n",
      "RS_084_MLRC_2021_39.csv - model 1 --- model 2 --- model 3 --- model 4 --- model 5 ---\n",
      "                                                text m1_label  m1_score  \\\n",
      "0  We use the FSC-147 dataset [5] to train the ba...  neutral  0.998764   \n",
      "1  To verify that, we use our selected patches as...  neutral  0.998926   \n",
      "2  By using our patch selection method with the S...  neutral  0.998779   \n",
      "3  , we observe for FamNet+ [5], there is an erro...  neutral  0.998891   \n",
      "4  Xian et al. [54] use a conditional Wasserstein...  neutral  0.998780   \n",
      "\n",
      "  m2_label  m2_score m3_label  m3_score m4_label  m4_score  m5_label  \\\n",
      "0  neutral  0.996285  neutral  0.965263  neutral  0.900007   neutral   \n",
      "1  neutral  0.995520  neutral  0.908634  neutral  0.899894   neutral   \n",
      "2  neutral  0.988219  neutral  0.668447  neutral  0.487017  negative   \n",
      "3  neutral  0.862341  neutral  0.896043  neutral  0.568241   neutral   \n",
      "4  neutral  0.996100  neutral  0.965801  neutral  0.920195  negative   \n",
      "\n",
      "   m5_score majority_vote  \n",
      "0  0.687858       neutral  \n",
      "1  0.717514       neutral  \n",
      "2  0.571519       neutral  \n",
      "3  0.577737       neutral  \n",
      "4  0.464717       neutral  \n",
      "sentiment_analysis/inferences_from_all_5_models/RS_084_MLRC_2021_39.csv saved\n",
      "\n",
      "\n",
      "\n",
      "\n",
      "RS_148_ICDAR_2018_15.csv - model 1 --- model 2 --- model 3 --- model 4 --- model 5 ---\n",
      "                                                text  m1_label  m1_score  \\\n",
      "0  The source codes of 6 papers were not executab...  negative  0.963882   \n",
      "\n",
      "  m2_label  m2_score  m3_label  m3_score m4_label  m4_score  m5_label  \\\n",
      "0  neutral  0.997458  negative  0.874491  neutral  0.797379  negative   \n",
      "\n",
      "   m5_score majority_vote  \n",
      "0  0.583812      negative  \n",
      "sentiment_analysis/inferences_from_all_5_models/RS_148_ICDAR_2018_15.csv saved\n",
      "\n",
      "\n",
      "\n",
      "\n",
      "RS_019_MLRC_2022_19.csv - model 1 --- model 2 --- model 3 --- model 4 --- model 5 ---\n",
      "                                                text m1_label  m1_score  \\\n",
      "0  By incorporating shrinkage using ridge regress...  neutral  0.999040   \n",
      "1  The starting point of our framework is a recen...  neutral  0.998706   \n",
      "2  Finally, we consider Hierarchical Shrinkage [2...  neutral  0.999091   \n",
      "3  We consider 4 impelementations of decision tre...  neutral  0.998984   \n",
      "\n",
      "   m2_label  m2_score  m3_label  m3_score  m4_label  m4_score  m5_label  \\\n",
      "0  positive  0.979129  positive  0.854704  positive  0.661255  positive   \n",
      "1   neutral  0.995893   neutral  0.885758   neutral  0.837898  positive   \n",
      "2   neutral  0.997097   neutral  0.947425   neutral  0.913932   neutral   \n",
      "3   neutral  0.997599   neutral  0.909206   neutral  0.891996   neutral   \n",
      "\n",
      "   m5_score majority_vote  \n",
      "0  0.637260      positive  \n",
      "1  0.406228       neutral  \n",
      "2  0.587313       neutral  \n",
      "3  0.500004       neutral  \n",
      "sentiment_analysis/inferences_from_all_5_models/RS_019_MLRC_2022_19.csv saved\n",
      "\n",
      "\n",
      "\n",
      "\n",
      "RS_079_MLRC_2021_34.csv - model 1 --- model 2 --- model 3 --- model 4 --- model 5 ---\n",
      "                                                text m1_label  m1_score  \\\n",
      "0  C IMPLEMENTATION DETAILS\\nC.1 IMPLEMENTATION O...  neutral  0.999027   \n",
      "1  We follow the setup in (Lee et al., 2018; Chap...  neutral  0.998889   \n",
      "2  We also run on other tasks including visual na...  neutral  0.998854   \n",
      "3  We also run on other tasks including visual na...  neutral  0.998835   \n",
      "4  We can handle tasks with more challenging inpu...  neutral  0.998787   \n",
      "\n",
      "  m2_label  m2_score m3_label  m3_score m4_label  m4_score  m5_label  \\\n",
      "0  neutral  0.919035  neutral  0.945895  neutral  0.903109   neutral   \n",
      "1  neutral  0.997183  neutral  0.974865  neutral  0.936206   neutral   \n",
      "2  neutral  0.997354  neutral  0.969794  neutral  0.904563   neutral   \n",
      "3  neutral  0.997405  neutral  0.968928  neutral  0.906484   neutral   \n",
      "4  neutral  0.992981  neutral  0.891505  neutral  0.615384  negative   \n",
      "\n",
      "   m5_score majority_vote  \n",
      "0  0.651679       neutral  \n",
      "1  0.711489       neutral  \n",
      "2  0.544367       neutral  \n",
      "3  0.540271       neutral  \n",
      "4  0.454481       neutral  \n",
      "sentiment_analysis/inferences_from_all_5_models/RS_079_MLRC_2021_34.csv saved\n",
      "\n",
      "\n",
      "\n",
      "\n",
      "RS_145_ICDAR_2018_12.csv - model 1 --- model 2 --- model 3 --- model 4 --- model 5 ---\n",
      "                                                text  m1_label  m1_score  \\\n",
      "0  Due to the absence of released annotations for...   neutral  0.998903   \n",
      "1  - 93.0 SEM [46] 93.7 - LGPMA [35] 94.6 96.7 FL...   neutral  0.999159   \n",
      "2              LGPMA obtained a TEDS score (see Sec.   neutral  0.998891   \n",
      "3  6, we can see that LGPMA generates many extran...  negative  0.975035   \n",
      "4  We selected the Local and Global Pyramid Mask ...   neutral  0.998960   \n",
      "\n",
      "   m2_label  m2_score m3_label  m3_score m4_label  m4_score  m5_label  \\\n",
      "0   neutral  0.997346  neutral  0.881400  neutral  0.879753  negative   \n",
      "1   neutral  0.991598  neutral  0.973770  neutral  0.800617   neutral   \n",
      "2  positive  0.941477  neutral  0.812544  neutral  0.919578   neutral   \n",
      "3  negative  0.973920  neutral  0.589129  neutral  0.657894  negative   \n",
      "4   neutral  0.997414  neutral  0.892042  neutral  0.836397   neutral   \n",
      "\n",
      "   m5_score majority_vote  \n",
      "0  0.558338       neutral  \n",
      "1  0.749172       neutral  \n",
      "2  0.688625       neutral  \n",
      "3  0.556714      negative  \n",
      "4  0.642600       neutral  \n",
      "sentiment_analysis/inferences_from_all_5_models/RS_145_ICDAR_2018_12.csv saved\n",
      "\n",
      "\n",
      "\n",
      "\n"
     ]
    },
    {
     "name": "stderr",
     "output_type": "stream",
     "text": [
      "/home/oruma001/envs/cs834_project/lib/python3.10/site-packages/transformers/pipelines/base.py:1123: UserWarning: You seem to be using the pipelines sequentially on GPU. In order to maximize efficiency please use a dataset\n",
      "  warnings.warn(\n",
      "/home/oruma001/envs/cs834_project/lib/python3.10/site-packages/transformers/pipelines/base.py:1123: UserWarning: You seem to be using the pipelines sequentially on GPU. In order to maximize efficiency please use a dataset\n",
      "  warnings.warn(\n"
     ]
    },
    {
     "name": "stdout",
     "output_type": "stream",
     "text": [
      "RS_052_MLRC_2021_07.csv - model 1 --- model 2 --- model 3 --- "
     ]
    },
    {
     "name": "stderr",
     "output_type": "stream",
     "text": [
      "/home/oruma001/envs/cs834_project/lib/python3.10/site-packages/transformers/pipelines/base.py:1123: UserWarning: You seem to be using the pipelines sequentially on GPU. In order to maximize efficiency please use a dataset\n",
      "  warnings.warn(\n",
      "/home/oruma001/envs/cs834_project/lib/python3.10/site-packages/transformers/pipelines/base.py:1123: UserWarning: You seem to be using the pipelines sequentially on GPU. In order to maximize efficiency please use a dataset\n",
      "  warnings.warn(\n"
     ]
    },
    {
     "name": "stdout",
     "output_type": "stream",
     "text": [
      "model 4 --- model 5 ---\n",
      "                                                text m1_label  m1_score  \\\n",
      "0  Although DCL does not use any external data, D...  neutral  0.998965   \n",
      "1  We used the different F1 score metrics on two ...  neutral  0.998753   \n",
      "2  For the DV dataset, we adopt the mean accuracy...  neutral  0.998952   \n",
      "3  Inspired by Zhou et al. (2021a), we design a t...  neutral  0.998364   \n",
      "4  11https://github.com/dadangewp/HurtBERT 12http...  neutral  0.999052   \n",
      "\n",
      "   m2_label  m2_score  m3_label  m3_score m4_label  m4_score  m5_label  \\\n",
      "0  positive  0.960750  positive  0.766533  neutral  0.639786   neutral   \n",
      "1   neutral  0.996825   neutral  0.836398  neutral  0.721268   neutral   \n",
      "2   neutral  0.974490   neutral  0.950444  neutral  0.803332   neutral   \n",
      "3   neutral  0.995859   neutral  0.821856  neutral  0.757731  negative   \n",
      "4   neutral  0.993088   neutral  0.970724  neutral  0.924070   neutral   \n",
      "\n",
      "   m5_score majority_vote  \n",
      "0  0.479591       neutral  \n",
      "1  0.571577       neutral  \n",
      "2  0.623581       neutral  \n",
      "3  0.372304       neutral  \n",
      "4  0.789835       neutral  \n",
      "sentiment_analysis/inferences_from_all_5_models/RS_052_MLRC_2021_07.csv saved\n",
      "\n",
      "\n",
      "\n",
      "\n"
     ]
    },
    {
     "name": "stderr",
     "output_type": "stream",
     "text": [
      "/home/oruma001/envs/cs834_project/lib/python3.10/site-packages/transformers/pipelines/base.py:1123: UserWarning: You seem to be using the pipelines sequentially on GPU. In order to maximize efficiency please use a dataset\n",
      "  warnings.warn(\n",
      "/home/oruma001/envs/cs834_project/lib/python3.10/site-packages/transformers/pipelines/base.py:1123: UserWarning: You seem to be using the pipelines sequentially on GPU. In order to maximize efficiency please use a dataset\n",
      "  warnings.warn(\n"
     ]
    },
    {
     "name": "stdout",
     "output_type": "stream",
     "text": [
      "RS_064_MLRC_2021_19.csv - model 1 --- model 2 --- "
     ]
    },
    {
     "name": "stderr",
     "output_type": "stream",
     "text": [
      "/home/oruma001/envs/cs834_project/lib/python3.10/site-packages/transformers/pipelines/base.py:1123: UserWarning: You seem to be using the pipelines sequentially on GPU. In order to maximize efficiency please use a dataset\n",
      "  warnings.warn(\n",
      "/home/oruma001/envs/cs834_project/lib/python3.10/site-packages/transformers/pipelines/base.py:1123: UserWarning: You seem to be using the pipelines sequentially on GPU. In order to maximize efficiency please use a dataset\n",
      "  warnings.warn(\n"
     ]
    },
    {
     "name": "stdout",
     "output_type": "stream",
     "text": [
      "model 3 --- model 4 --- "
     ]
    },
    {
     "name": "stderr",
     "output_type": "stream",
     "text": [
      "/home/oruma001/envs/cs834_project/lib/python3.10/site-packages/transformers/pipelines/base.py:1123: UserWarning: You seem to be using the pipelines sequentially on GPU. In order to maximize efficiency please use a dataset\n",
      "  warnings.warn(\n",
      "/home/oruma001/envs/cs834_project/lib/python3.10/site-packages/transformers/pipelines/base.py:1123: UserWarning: You seem to be using the pipelines sequentially on GPU. In order to maximize efficiency please use a dataset\n",
      "  warnings.warn(\n"
     ]
    },
    {
     "name": "stdout",
     "output_type": "stream",
     "text": [
      "model 5 ---\n",
      "                                                text  m1_label  m1_score  \\\n",
      "0  We compare ENG-based attacks with four variant...   neutral  0.997900   \n",
      "1  We follow previous attacks on classical fair m...   neutral  0.998127   \n",
      "2  We base our research on two separate yet relat...   neutral  0.998253   \n",
      "3  To the best of our knowledge, research in this...   neutral  0.998771   \n",
      "4  For instance, the attacker may poison the trai...  negative  0.976059   \n",
      "\n",
      "   m2_label  m2_score  m3_label  m3_score  m4_label  m4_score  m5_label  \\\n",
      "0   neutral  0.995964  negative  0.632520   neutral  0.824428   neutral   \n",
      "1   neutral  0.975174   neutral  0.769173   neutral  0.716552   neutral   \n",
      "2   neutral  0.996290  negative  0.801499   neutral  0.486540  negative   \n",
      "3   neutral  0.891047   neutral  0.835491   neutral  0.479708  negative   \n",
      "4  negative  0.722730  negative  0.902405  negative  0.831049  negative   \n",
      "\n",
      "   m5_score majority_vote  \n",
      "0  0.506471       neutral  \n",
      "1  0.435975       neutral  \n",
      "2  0.481793       neutral  \n",
      "3  0.911130       neutral  \n",
      "4  0.795245      negative  \n",
      "sentiment_analysis/inferences_from_all_5_models/RS_064_MLRC_2021_19.csv saved\n",
      "\n",
      "\n",
      "\n",
      "\n",
      "RS_093_MLRC_2021_48.csv - model 1 --- model 2 --- "
     ]
    },
    {
     "name": "stderr",
     "output_type": "stream",
     "text": [
      "/home/oruma001/envs/cs834_project/lib/python3.10/site-packages/transformers/pipelines/base.py:1123: UserWarning: You seem to be using the pipelines sequentially on GPU. In order to maximize efficiency please use a dataset\n",
      "  warnings.warn(\n",
      "/home/oruma001/envs/cs834_project/lib/python3.10/site-packages/transformers/pipelines/base.py:1123: UserWarning: You seem to be using the pipelines sequentially on GPU. In order to maximize efficiency please use a dataset\n",
      "  warnings.warn(\n",
      "/home/oruma001/envs/cs834_project/lib/python3.10/site-packages/transformers/pipelines/base.py:1123: UserWarning: You seem to be using the pipelines sequentially on GPU. In order to maximize efficiency please use a dataset\n",
      "  warnings.warn(\n"
     ]
    },
    {
     "name": "stdout",
     "output_type": "stream",
     "text": [
      "model 3 --- model 4 --- model 5 ---\n",
      "                                                text m1_label  m1_score  \\\n",
      "0  Non-determinism of GPU operations also produce...  neutral  0.998542   \n",
      "1  Our findings confirm the work of Summers and D...  neutral  0.998580   \n",
      "2  In particular we show, confirming the results ...  neutral  0.998302   \n",
      "3  We recently became aware of Summers and Dinnee...  neutral  0.998528   \n",
      "4  During encoding, we suggest to continue to max...  neutral  0.998983   \n",
      "\n",
      "  m2_label  m2_score m3_label  m3_score m4_label  m4_score  m5_label  \\\n",
      "0  neutral  0.919719  neutral  0.828232  neutral  0.657153  negative   \n",
      "1  neutral  0.996763  neutral  0.921637  neutral  0.618644  positive   \n",
      "2  neutral  0.994285  neutral  0.743436  neutral  0.705777   neutral   \n",
      "3  neutral  0.983494  neutral  0.825781  neutral  0.696007  positive   \n",
      "4  neutral  0.924084  neutral  0.890860  neutral  0.821415  negative   \n",
      "\n",
      "   m5_score majority_vote  \n",
      "0  0.751930       neutral  \n",
      "1  0.530578       neutral  \n",
      "2  0.409567       neutral  \n",
      "3  0.693094       neutral  \n",
      "4  0.675279       neutral  \n",
      "sentiment_analysis/inferences_from_all_5_models/RS_093_MLRC_2021_48.csv saved\n",
      "\n",
      "\n",
      "\n",
      "\n",
      "RS_073_MLRC_2021_28.csv - model 1 --- model 2 --- "
     ]
    },
    {
     "name": "stderr",
     "output_type": "stream",
     "text": [
      "/home/oruma001/envs/cs834_project/lib/python3.10/site-packages/transformers/pipelines/base.py:1123: UserWarning: You seem to be using the pipelines sequentially on GPU. In order to maximize efficiency please use a dataset\n",
      "  warnings.warn(\n",
      "/home/oruma001/envs/cs834_project/lib/python3.10/site-packages/transformers/pipelines/base.py:1123: UserWarning: You seem to be using the pipelines sequentially on GPU. In order to maximize efficiency please use a dataset\n",
      "  warnings.warn(\n",
      "/home/oruma001/envs/cs834_project/lib/python3.10/site-packages/transformers/pipelines/base.py:1123: UserWarning: You seem to be using the pipelines sequentially on GPU. In order to maximize efficiency please use a dataset\n",
      "  warnings.warn(\n",
      "/home/oruma001/envs/cs834_project/lib/python3.10/site-packages/transformers/pipelines/base.py:1123: UserWarning: You seem to be using the pipelines sequentially on GPU. In order to maximize efficiency please use a dataset\n",
      "  warnings.warn(\n",
      "/home/oruma001/envs/cs834_project/lib/python3.10/site-packages/transformers/pipelines/base.py:1123: UserWarning: You seem to be using the pipelines sequentially on GPU. In order to maximize efficiency please use a dataset\n",
      "  warnings.warn(\n"
     ]
    },
    {
     "name": "stdout",
     "output_type": "stream",
     "text": [
      "model 3 --- model 4 --- model 5 ---\n",
      "                                                text m1_label  m1_score  \\\n",
      "0  We examine two different categories of related...  neutral  0.998793   \n",
      "1  [19] as a baseline for fairness, using their p...  neutral  0.998848   \n",
      "\n",
      "  m2_label  m2_score m3_label  m3_score m4_label  m4_score m5_label  m5_score  \\\n",
      "0  neutral  0.997364  neutral  0.969866  neutral  0.767221  neutral  0.513705   \n",
      "1  neutral  0.993701  neutral  0.736033  neutral  0.558948  neutral  0.469789   \n",
      "\n",
      "  majority_vote  \n",
      "0       neutral  \n",
      "1       neutral  \n",
      "sentiment_analysis/inferences_from_all_5_models/RS_073_MLRC_2021_28.csv saved\n",
      "\n",
      "\n",
      "\n",
      "\n"
     ]
    },
    {
     "name": "stderr",
     "output_type": "stream",
     "text": [
      "/home/oruma001/envs/cs834_project/lib/python3.10/site-packages/transformers/pipelines/base.py:1123: UserWarning: You seem to be using the pipelines sequentially on GPU. In order to maximize efficiency please use a dataset\n",
      "  warnings.warn(\n",
      "/home/oruma001/envs/cs834_project/lib/python3.10/site-packages/transformers/pipelines/base.py:1123: UserWarning: You seem to be using the pipelines sequentially on GPU. In order to maximize efficiency please use a dataset\n",
      "  warnings.warn(\n",
      "/home/oruma001/envs/cs834_project/lib/python3.10/site-packages/transformers/pipelines/base.py:1123: UserWarning: You seem to be using the pipelines sequentially on GPU. In order to maximize efficiency please use a dataset\n",
      "  warnings.warn(\n"
     ]
    },
    {
     "name": "stdout",
     "output_type": "stream",
     "text": [
      "RS_096_MLRC_2020_03.csv - model 1 --- model 2 --- "
     ]
    },
    {
     "name": "stderr",
     "output_type": "stream",
     "text": [
      "/home/oruma001/envs/cs834_project/lib/python3.10/site-packages/transformers/pipelines/base.py:1123: UserWarning: You seem to be using the pipelines sequentially on GPU. In order to maximize efficiency please use a dataset\n",
      "  warnings.warn(\n",
      "/home/oruma001/envs/cs834_project/lib/python3.10/site-packages/transformers/pipelines/base.py:1123: UserWarning: You seem to be using the pipelines sequentially on GPU. In order to maximize efficiency please use a dataset\n",
      "  warnings.warn(\n"
     ]
    },
    {
     "name": "stdout",
     "output_type": "stream",
     "text": [
      "model 3 --- "
     ]
    },
    {
     "name": "stderr",
     "output_type": "stream",
     "text": [
      "/home/oruma001/envs/cs834_project/lib/python3.10/site-packages/transformers/pipelines/base.py:1123: UserWarning: You seem to be using the pipelines sequentially on GPU. In order to maximize efficiency please use a dataset\n",
      "  warnings.warn(\n"
     ]
    },
    {
     "name": "stdout",
     "output_type": "stream",
     "text": [
      "model 4 --- model 5 ---\n"
     ]
    },
    {
     "name": "stderr",
     "output_type": "stream",
     "text": [
      "/home/oruma001/envs/cs834_project/lib/python3.10/site-packages/transformers/pipelines/base.py:1123: UserWarning: You seem to be using the pipelines sequentially on GPU. In order to maximize efficiency please use a dataset\n",
      "  warnings.warn(\n"
     ]
    },
    {
     "name": "stdout",
     "output_type": "stream",
     "text": [
      "                                                text m1_label  m1_score  \\\n",
      "0  Furthermore, we replace leaky ReLU activation ...  neutral  0.998889   \n",
      "1  We also substitute the MSD discriminator [14] ...  neutral  0.998308   \n",
      "2  We compare snakebeta activation with snake act...  neutral  0.998995   \n",
      "3  The NSF-HiFiGAN vocoder is optimized and integ...  neutral  0.998508   \n",
      "4        F02: SO-VITS (NSF-HifiGAN with Snake [18]).  neutral  0.998902   \n",
      "\n",
      "   m2_label  m2_score  m3_label  m3_score m4_label  m4_score  m5_label  \\\n",
      "0   neutral  0.828381   neutral  0.957299  neutral  0.910908   neutral   \n",
      "1   neutral  0.992543   neutral  0.970223  neutral  0.876356   neutral   \n",
      "2   neutral  0.964780   neutral  0.971720  neutral  0.799246   neutral   \n",
      "3  positive  0.626740  positive  0.736570  neutral  0.605457  positive   \n",
      "4   neutral  0.522545   neutral  0.970125  neutral  0.928079   neutral   \n",
      "\n",
      "   m5_score majority_vote  \n",
      "0  0.600302       neutral  \n",
      "1  0.637586       neutral  \n",
      "2  0.621644       neutral  \n",
      "3  0.634862      positive  \n",
      "4  0.755925       neutral  \n",
      "sentiment_analysis/inferences_from_all_5_models/RS_096_MLRC_2020_03.csv saved\n",
      "\n",
      "\n",
      "\n",
      "\n"
     ]
    },
    {
     "name": "stderr",
     "output_type": "stream",
     "text": [
      "/home/oruma001/envs/cs834_project/lib/python3.10/site-packages/transformers/pipelines/base.py:1123: UserWarning: You seem to be using the pipelines sequentially on GPU. In order to maximize efficiency please use a dataset\n",
      "  warnings.warn(\n"
     ]
    },
    {
     "name": "stdout",
     "output_type": "stream",
     "text": [
      "RS_144_ICDAR_2018_11.csv - model 1 --- model 2 --- model 3 --- "
     ]
    },
    {
     "name": "stderr",
     "output_type": "stream",
     "text": [
      "/home/oruma001/envs/cs834_project/lib/python3.10/site-packages/transformers/pipelines/base.py:1123: UserWarning: You seem to be using the pipelines sequentially on GPU. In order to maximize efficiency please use a dataset\n",
      "  warnings.warn(\n",
      "/home/oruma001/envs/cs834_project/lib/python3.10/site-packages/transformers/pipelines/base.py:1123: UserWarning: You seem to be using the pipelines sequentially on GPU. In order to maximize efficiency please use a dataset\n",
      "  warnings.warn(\n",
      "/home/oruma001/envs/cs834_project/lib/python3.10/site-packages/transformers/pipelines/base.py:1123: UserWarning: You seem to be using the pipelines sequentially on GPU. In order to maximize efficiency please use a dataset\n",
      "  warnings.warn(\n"
     ]
    },
    {
     "name": "stdout",
     "output_type": "stream",
     "text": [
      "model 4 --- model 5 ---\n",
      "                                                text m1_label  m1_score  \\\n",
      "0  The code of one paper (TGRNet; [35]) was execu...  neutral  0.998917   \n",
      "1  First, we compare LORE with models which direc...  neutral  0.998964   \n",
      "2  We tune the model provided by Xue et al. (2021...  neutral  0.998889   \n",
      "3  In experiment 2a, we replace the self-attentio...  neutral  0.998980   \n",
      "4  We evaluate LORE on a wide range of benchmarks...  neutral  0.998555   \n",
      "\n",
      "   m2_label  m2_score m3_label  m3_score m4_label  m4_score m5_label  \\\n",
      "0   neutral  0.997111  neutral  0.964983  neutral  0.933975  neutral   \n",
      "1   neutral  0.997871  neutral  0.940214  neutral  0.886108  neutral   \n",
      "2  positive  0.660363  neutral  0.969445  neutral  0.846407  neutral   \n",
      "3   neutral  0.991774  neutral  0.948190  neutral  0.903997  neutral   \n",
      "4   neutral  0.997796  neutral  0.932923  neutral  0.861254  neutral   \n",
      "\n",
      "   m5_score majority_vote  \n",
      "0  0.549615       neutral  \n",
      "1  0.680018       neutral  \n",
      "2  0.621052       neutral  \n",
      "3  0.576058       neutral  \n",
      "4  0.636438       neutral  \n",
      "sentiment_analysis/inferences_from_all_5_models/RS_144_ICDAR_2018_11.csv saved\n",
      "\n",
      "\n",
      "\n",
      "\n"
     ]
    },
    {
     "name": "stderr",
     "output_type": "stream",
     "text": [
      "/home/oruma001/envs/cs834_project/lib/python3.10/site-packages/transformers/pipelines/base.py:1123: UserWarning: You seem to be using the pipelines sequentially on GPU. In order to maximize efficiency please use a dataset\n",
      "  warnings.warn(\n",
      "/home/oruma001/envs/cs834_project/lib/python3.10/site-packages/transformers/pipelines/base.py:1123: UserWarning: You seem to be using the pipelines sequentially on GPU. In order to maximize efficiency please use a dataset\n",
      "  warnings.warn(\n"
     ]
    },
    {
     "name": "stdout",
     "output_type": "stream",
     "text": [
      "RS_113_MLRC_2020_20.csv - model 1 --- model 2 --- model 3 --- model 4 --- "
     ]
    },
    {
     "name": "stderr",
     "output_type": "stream",
     "text": [
      "/home/oruma001/envs/cs834_project/lib/python3.10/site-packages/transformers/pipelines/base.py:1123: UserWarning: You seem to be using the pipelines sequentially on GPU. In order to maximize efficiency please use a dataset\n",
      "  warnings.warn(\n",
      "/home/oruma001/envs/cs834_project/lib/python3.10/site-packages/transformers/pipelines/base.py:1123: UserWarning: You seem to be using the pipelines sequentially on GPU. In order to maximize efficiency please use a dataset\n",
      "  warnings.warn(\n",
      "/home/oruma001/envs/cs834_project/lib/python3.10/site-packages/transformers/pipelines/base.py:1123: UserWarning: You seem to be using the pipelines sequentially on GPU. In order to maximize efficiency please use a dataset\n",
      "  warnings.warn(\n",
      "/home/oruma001/envs/cs834_project/lib/python3.10/site-packages/transformers/pipelines/base.py:1123: UserWarning: You seem to be using the pipelines sequentially on GPU. In order to maximize efficiency please use a dataset\n",
      "  warnings.warn(\n"
     ]
    },
    {
     "name": "stdout",
     "output_type": "stream",
     "text": [
      "model 5 ---\n",
      "                                                text m1_label  m1_score  \\\n",
      "0  On the other hand, even if our model and trans...  neutral  0.997944   \n",
      "1  The attacker merely accesses the smashed data ...  neutral  0.985786   \n",
      "2  An inversion attack can be launched to infer p...  neutral  0.983858   \n",
      "3  …and Reinier Bekkenutte (13438557)\\nReproducib...  neutral  0.998946   \n",
      "4  Scope of Reproducibility In this reproducibili...  neutral  0.998659   \n",
      "\n",
      "   m2_label  m2_score  m3_label  m3_score  m4_label  m4_score  m5_label  \\\n",
      "0  positive  0.802238   neutral  0.603387   neutral  0.564226  negative   \n",
      "1   neutral  0.995854   neutral  0.687634  negative  0.579987  negative   \n",
      "2   neutral  0.997552  negative  0.618985   neutral  0.625342  negative   \n",
      "3   neutral  0.798680   neutral  0.964465   neutral  0.493268   neutral   \n",
      "4   neutral  0.996878   neutral  0.977377   neutral  0.809300   neutral   \n",
      "\n",
      "   m5_score majority_vote  \n",
      "0  0.694219       neutral  \n",
      "1  0.715179       neutral  \n",
      "2  0.825698       neutral  \n",
      "3  0.414861       neutral  \n",
      "4  0.556485       neutral  \n",
      "sentiment_analysis/inferences_from_all_5_models/RS_113_MLRC_2020_20.csv saved\n",
      "\n",
      "\n",
      "\n",
      "\n",
      "RS_042_MLRC_2022_42.csv - model 1 --- "
     ]
    },
    {
     "name": "stderr",
     "output_type": "stream",
     "text": [
      "/home/oruma001/envs/cs834_project/lib/python3.10/site-packages/transformers/pipelines/base.py:1123: UserWarning: You seem to be using the pipelines sequentially on GPU. In order to maximize efficiency please use a dataset\n",
      "  warnings.warn(\n",
      "/home/oruma001/envs/cs834_project/lib/python3.10/site-packages/transformers/pipelines/base.py:1123: UserWarning: You seem to be using the pipelines sequentially on GPU. In order to maximize efficiency please use a dataset\n",
      "  warnings.warn(\n"
     ]
    },
    {
     "name": "stdout",
     "output_type": "stream",
     "text": [
      "model 2 --- model 3 --- "
     ]
    },
    {
     "name": "stderr",
     "output_type": "stream",
     "text": [
      "/home/oruma001/envs/cs834_project/lib/python3.10/site-packages/transformers/pipelines/base.py:1123: UserWarning: You seem to be using the pipelines sequentially on GPU. In order to maximize efficiency please use a dataset\n",
      "  warnings.warn(\n",
      "/home/oruma001/envs/cs834_project/lib/python3.10/site-packages/transformers/pipelines/base.py:1123: UserWarning: You seem to be using the pipelines sequentially on GPU. In order to maximize efficiency please use a dataset\n",
      "  warnings.warn(\n"
     ]
    },
    {
     "name": "stdout",
     "output_type": "stream",
     "text": [
      "model 4 --- model 5 ---\n",
      "                                                text m1_label  m1_score  \\\n",
      "0  We are left with the question: why does the ne...  neutral  0.999021   \n",
      "1  1 Review of the Clock Algorithm As in past wor...  neutral  0.998917   \n",
      "2  Liu et al. (2022) demonstrate that grokking ge...  neutral  0.998737   \n",
      "3  1, we provide additional evidence that weight ...  neutral  0.998260   \n",
      "4  Our findings differ from those of [8] in that ...  neutral  0.998701   \n",
      "\n",
      "   m2_label  m2_score m3_label  m3_score m4_label  m4_score  m5_label  \\\n",
      "0  positive  0.618735  neutral  0.862616  neutral  0.556852  negative   \n",
      "1   neutral  0.997514  neutral  0.973075  neutral  0.909115   neutral   \n",
      "2   neutral  0.920727  neutral  0.688148  neutral  0.599848   neutral   \n",
      "3   neutral  0.982809  neutral  0.913355  neutral  0.634340  negative   \n",
      "4   neutral  0.996998  neutral  0.955956  neutral  0.845010   neutral   \n",
      "\n",
      "   m5_score majority_vote  \n",
      "0  0.444027       neutral  \n",
      "1  0.603215       neutral  \n",
      "2  0.526273       neutral  \n",
      "3  0.694487       neutral  \n",
      "4  0.410471       neutral  \n",
      "sentiment_analysis/inferences_from_all_5_models/RS_042_MLRC_2022_42.csv saved\n",
      "\n",
      "\n",
      "\n",
      "\n",
      "RS_045_MLRC_2022_45.csv - model 1 --- model 2 --- model 3 --- model 4 --- "
     ]
    },
    {
     "name": "stderr",
     "output_type": "stream",
     "text": [
      "/home/oruma001/envs/cs834_project/lib/python3.10/site-packages/transformers/pipelines/base.py:1123: UserWarning: You seem to be using the pipelines sequentially on GPU. In order to maximize efficiency please use a dataset\n",
      "  warnings.warn(\n",
      "/home/oruma001/envs/cs834_project/lib/python3.10/site-packages/transformers/pipelines/base.py:1123: UserWarning: You seem to be using the pipelines sequentially on GPU. In order to maximize efficiency please use a dataset\n",
      "  warnings.warn(\n",
      "/home/oruma001/envs/cs834_project/lib/python3.10/site-packages/transformers/pipelines/base.py:1123: UserWarning: You seem to be using the pipelines sequentially on GPU. In order to maximize efficiency please use a dataset\n",
      "  warnings.warn(\n",
      "/home/oruma001/envs/cs834_project/lib/python3.10/site-packages/transformers/pipelines/base.py:1123: UserWarning: You seem to be using the pipelines sequentially on GPU. In order to maximize efficiency please use a dataset\n",
      "  warnings.warn(\n",
      "/home/oruma001/envs/cs834_project/lib/python3.10/site-packages/transformers/pipelines/base.py:1123: UserWarning: You seem to be using the pipelines sequentially on GPU. In order to maximize efficiency please use a dataset\n",
      "  warnings.warn(\n",
      "/home/oruma001/envs/cs834_project/lib/python3.10/site-packages/transformers/pipelines/base.py:1123: UserWarning: You seem to be using the pipelines sequentially on GPU. In order to maximize efficiency please use a dataset\n",
      "  warnings.warn(\n"
     ]
    },
    {
     "name": "stdout",
     "output_type": "stream",
     "text": [
      "model 5 ---\n",
      "                                                text m1_label  m1_score  \\\n",
      "0  Besides, the core\\nalgorithmic principle of ou...  neutral  0.999012   \n",
      "1  , 2021), perform data-augmentation (Chawla et ...  neutral  0.999102   \n",
      "\n",
      "  m2_label  m2_score m3_label  m3_score m4_label  m4_score  m5_label  \\\n",
      "0  neutral  0.997619  neutral  0.957685  neutral  0.863834  negative   \n",
      "1  neutral  0.994782  neutral  0.976153  neutral  0.921089   neutral   \n",
      "\n",
      "   m5_score majority_vote  \n",
      "0  0.788996       neutral  \n",
      "1  0.649111       neutral  \n",
      "sentiment_analysis/inferences_from_all_5_models/RS_045_MLRC_2022_45.csv saved\n",
      "\n",
      "\n",
      "\n",
      "\n"
     ]
    },
    {
     "name": "stderr",
     "output_type": "stream",
     "text": [
      "/home/oruma001/envs/cs834_project/lib/python3.10/site-packages/transformers/pipelines/base.py:1123: UserWarning: You seem to be using the pipelines sequentially on GPU. In order to maximize efficiency please use a dataset\n",
      "  warnings.warn(\n"
     ]
    },
    {
     "name": "stdout",
     "output_type": "stream",
     "text": [
      "RS_006_MLRC_2022_06.csv - model 1 --- "
     ]
    },
    {
     "name": "stderr",
     "output_type": "stream",
     "text": [
      "/home/oruma001/envs/cs834_project/lib/python3.10/site-packages/transformers/pipelines/base.py:1123: UserWarning: You seem to be using the pipelines sequentially on GPU. In order to maximize efficiency please use a dataset\n",
      "  warnings.warn(\n"
     ]
    },
    {
     "name": "stdout",
     "output_type": "stream",
     "text": [
      "model 2 --- "
     ]
    },
    {
     "name": "stderr",
     "output_type": "stream",
     "text": [
      "/home/oruma001/envs/cs834_project/lib/python3.10/site-packages/transformers/pipelines/base.py:1123: UserWarning: You seem to be using the pipelines sequentially on GPU. In order to maximize efficiency please use a dataset\n",
      "  warnings.warn(\n"
     ]
    },
    {
     "name": "stdout",
     "output_type": "stream",
     "text": [
      "model 3 --- "
     ]
    },
    {
     "name": "stderr",
     "output_type": "stream",
     "text": [
      "/home/oruma001/envs/cs834_project/lib/python3.10/site-packages/transformers/pipelines/base.py:1123: UserWarning: You seem to be using the pipelines sequentially on GPU. In order to maximize efficiency please use a dataset\n",
      "  warnings.warn(\n"
     ]
    },
    {
     "name": "stdout",
     "output_type": "stream",
     "text": [
      "model 4 --- "
     ]
    },
    {
     "name": "stderr",
     "output_type": "stream",
     "text": [
      "/home/oruma001/envs/cs834_project/lib/python3.10/site-packages/transformers/pipelines/base.py:1123: UserWarning: You seem to be using the pipelines sequentially on GPU. In order to maximize efficiency please use a dataset\n",
      "  warnings.warn(\n"
     ]
    },
    {
     "name": "stdout",
     "output_type": "stream",
     "text": [
      "model 5 ---\n",
      "                                                text m1_label  m1_score  \\\n",
      "0  We find the optimal θ to be around [1, 20], de...  neutral  0.998298   \n",
      "1  Our work differ in the way that we include a c...  neutral  0.998718   \n",
      "2  As the primary loss function, we use the norma...  neutral  0.998741   \n",
      "3  Effect of embedding size on feature suppressio...  neutral  0.999018   \n",
      "4  To provide empirical evidence for this, we con...  neutral  0.998851   \n",
      "\n",
      "  m2_label  m2_score m3_label  m3_score m4_label  m4_score  m5_label  \\\n",
      "0  neutral  0.995454  neutral  0.890706  neutral  0.799376   neutral   \n",
      "1  neutral  0.992999  neutral  0.909584  neutral  0.809462  negative   \n",
      "2  neutral  0.857329  neutral  0.739842  neutral  0.518073  negative   \n",
      "3  neutral  0.996898  neutral  0.962658  neutral  0.866993  negative   \n",
      "4  neutral  0.997924  neutral  0.963398  neutral  0.896820   neutral   \n",
      "\n",
      "   m5_score majority_vote  \n",
      "0  0.533584       neutral  \n",
      "1  0.406364       neutral  \n",
      "2  0.440030       neutral  \n",
      "3  0.626072       neutral  \n",
      "4  0.552076       neutral  \n",
      "sentiment_analysis/inferences_from_all_5_models/RS_006_MLRC_2022_06.csv saved\n",
      "\n",
      "\n",
      "\n",
      "\n"
     ]
    },
    {
     "name": "stderr",
     "output_type": "stream",
     "text": [
      "/home/oruma001/envs/cs834_project/lib/python3.10/site-packages/transformers/pipelines/base.py:1123: UserWarning: You seem to be using the pipelines sequentially on GPU. In order to maximize efficiency please use a dataset\n",
      "  warnings.warn(\n"
     ]
    },
    {
     "name": "stdout",
     "output_type": "stream",
     "text": [
      "RS_097_MLRC_2020_04.csv - model 1 --- model 2 --- "
     ]
    },
    {
     "name": "stderr",
     "output_type": "stream",
     "text": [
      "/home/oruma001/envs/cs834_project/lib/python3.10/site-packages/transformers/pipelines/base.py:1123: UserWarning: You seem to be using the pipelines sequentially on GPU. In order to maximize efficiency please use a dataset\n",
      "  warnings.warn(\n",
      "/home/oruma001/envs/cs834_project/lib/python3.10/site-packages/transformers/pipelines/base.py:1123: UserWarning: You seem to be using the pipelines sequentially on GPU. In order to maximize efficiency please use a dataset\n",
      "  warnings.warn(\n"
     ]
    },
    {
     "name": "stdout",
     "output_type": "stream",
     "text": [
      "model 3 --- model 4 --- "
     ]
    },
    {
     "name": "stderr",
     "output_type": "stream",
     "text": [
      "/home/oruma001/envs/cs834_project/lib/python3.10/site-packages/transformers/pipelines/base.py:1123: UserWarning: You seem to be using the pipelines sequentially on GPU. In order to maximize efficiency please use a dataset\n",
      "  warnings.warn(\n",
      "/home/oruma001/envs/cs834_project/lib/python3.10/site-packages/transformers/pipelines/base.py:1123: UserWarning: You seem to be using the pipelines sequentially on GPU. In order to maximize efficiency please use a dataset\n",
      "  warnings.warn(\n"
     ]
    },
    {
     "name": "stdout",
     "output_type": "stream",
     "text": [
      "model 5 ---\n",
      "                                                text m1_label  m1_score  \\\n",
      "0  For fairness utility we consider Balance [Chie...  neutral  0.998900   \n",
      "1  Similar to other deep clustering approaches [X...  neutral  0.998894   \n",
      "2  Since optimizing the fair clustering loss Lf c...  neutral  0.998249   \n",
      "3  MNIST-USPS: Similar to previous work in deep f...  neutral  0.999066   \n",
      "4  Fair task assignment and truthdiscovery (Goel ...  neutral  0.998836   \n",
      "\n",
      "   m2_label  m2_score m3_label  m3_score m4_label  m4_score m5_label  \\\n",
      "0  positive  0.913270  neutral  0.886961  neutral  0.635701  neutral   \n",
      "1   neutral  0.611524  neutral  0.958881  neutral  0.915773  neutral   \n",
      "2   neutral  0.639369  neutral  0.908322  neutral  0.655449  neutral   \n",
      "3   neutral  0.997423  neutral  0.961647  neutral  0.907412  neutral   \n",
      "4   neutral  0.996879  neutral  0.963218  neutral  0.783488  neutral   \n",
      "\n",
      "   m5_score majority_vote  \n",
      "0  0.482227       neutral  \n",
      "1  0.421404       neutral  \n",
      "2  0.431462       neutral  \n",
      "3  0.644457       neutral  \n",
      "4  0.380986       neutral  \n",
      "sentiment_analysis/inferences_from_all_5_models/RS_097_MLRC_2020_04.csv saved\n",
      "\n",
      "\n",
      "\n",
      "\n"
     ]
    },
    {
     "name": "stderr",
     "output_type": "stream",
     "text": [
      "/home/oruma001/envs/cs834_project/lib/python3.10/site-packages/transformers/pipelines/base.py:1123: UserWarning: You seem to be using the pipelines sequentially on GPU. In order to maximize efficiency please use a dataset\n",
      "  warnings.warn(\n"
     ]
    },
    {
     "name": "stdout",
     "output_type": "stream",
     "text": [
      "RS_072_MLRC_2021_27.csv - model 1 --- model 2 --- "
     ]
    },
    {
     "name": "stderr",
     "output_type": "stream",
     "text": [
      "/home/oruma001/envs/cs834_project/lib/python3.10/site-packages/transformers/pipelines/base.py:1123: UserWarning: You seem to be using the pipelines sequentially on GPU. In order to maximize efficiency please use a dataset\n",
      "  warnings.warn(\n",
      "/home/oruma001/envs/cs834_project/lib/python3.10/site-packages/transformers/pipelines/base.py:1123: UserWarning: You seem to be using the pipelines sequentially on GPU. In order to maximize efficiency please use a dataset\n",
      "  warnings.warn(\n"
     ]
    },
    {
     "name": "stdout",
     "output_type": "stream",
     "text": [
      "model 3 --- model 4 --- "
     ]
    },
    {
     "name": "stderr",
     "output_type": "stream",
     "text": [
      "/home/oruma001/envs/cs834_project/lib/python3.10/site-packages/transformers/pipelines/base.py:1123: UserWarning: You seem to be using the pipelines sequentially on GPU. In order to maximize efficiency please use a dataset\n",
      "  warnings.warn(\n",
      "/home/oruma001/envs/cs834_project/lib/python3.10/site-packages/transformers/pipelines/base.py:1123: UserWarning: You seem to be using the pipelines sequentially on GPU. In order to maximize efficiency please use a dataset\n",
      "  warnings.warn(\n"
     ]
    },
    {
     "name": "stdout",
     "output_type": "stream",
     "text": [
      "model 5 ---\n",
      "                                                text  m1_label  m1_score  \\\n",
      "0  We compare ENG-based attacks with four variant...   neutral  0.997900   \n",
      "1  We follow previous attacks on classical fair m...   neutral  0.998127   \n",
      "2  We base our research on two separate yet relat...   neutral  0.998253   \n",
      "3  To the best of our knowledge, research in this...   neutral  0.998771   \n",
      "4  For instance, the attacker may poison the trai...  negative  0.976059   \n",
      "\n",
      "   m2_label  m2_score  m3_label  m3_score  m4_label  m4_score  m5_label  \\\n",
      "0   neutral  0.995964  negative  0.632520   neutral  0.824428   neutral   \n",
      "1   neutral  0.975174   neutral  0.769173   neutral  0.716552   neutral   \n",
      "2   neutral  0.996290  negative  0.801499   neutral  0.486540  negative   \n",
      "3   neutral  0.891047   neutral  0.835491   neutral  0.479708  negative   \n",
      "4  negative  0.722730  negative  0.902405  negative  0.831049  negative   \n",
      "\n",
      "   m5_score majority_vote  \n",
      "0  0.506471       neutral  \n",
      "1  0.435975       neutral  \n",
      "2  0.481793       neutral  \n",
      "3  0.911130       neutral  \n",
      "4  0.795245      negative  \n",
      "sentiment_analysis/inferences_from_all_5_models/RS_072_MLRC_2021_27.csv saved\n",
      "\n",
      "\n",
      "\n",
      "\n",
      "RS_065_MLRC_2021_20.csv - model 1 --- model 2 --- "
     ]
    },
    {
     "name": "stderr",
     "output_type": "stream",
     "text": [
      "/home/oruma001/envs/cs834_project/lib/python3.10/site-packages/transformers/pipelines/base.py:1123: UserWarning: You seem to be using the pipelines sequentially on GPU. In order to maximize efficiency please use a dataset\n",
      "  warnings.warn(\n",
      "/home/oruma001/envs/cs834_project/lib/python3.10/site-packages/transformers/pipelines/base.py:1123: UserWarning: You seem to be using the pipelines sequentially on GPU. In order to maximize efficiency please use a dataset\n",
      "  warnings.warn(\n",
      "/home/oruma001/envs/cs834_project/lib/python3.10/site-packages/transformers/pipelines/base.py:1123: UserWarning: You seem to be using the pipelines sequentially on GPU. In order to maximize efficiency please use a dataset\n",
      "  warnings.warn(\n"
     ]
    },
    {
     "name": "stdout",
     "output_type": "stream",
     "text": [
      "model 3 --- model 4 --- model 5 ---\n",
      "                                                text m1_label  m1_score  \\\n",
      "0  We now turn to experiments based on real data ...  neutral  0.998888   \n",
      "1  Modification costs are defined by a cost funct...  neutral  0.998814   \n",
      "2  …response to h. Modification costs are defined...  neutral  0.998797   \n",
      "3  As a preliminary project, we addressed the opt...  neutral  0.998998   \n",
      "4  Strategic classification made practical: repro...  neutral  0.998919   \n",
      "\n",
      "   m2_label  m2_score m3_label  m3_score m4_label  m4_score  m5_label  \\\n",
      "0  negative  0.971640  neutral  0.820284  neutral  0.824299   neutral   \n",
      "1   neutral  0.997775  neutral  0.975407  neutral  0.756348   neutral   \n",
      "2   neutral  0.997591  neutral  0.977958  neutral  0.731380   neutral   \n",
      "3   neutral  0.987211  neutral  0.538235  neutral  0.504187  positive   \n",
      "4   neutral  0.997570  neutral  0.900434  neutral  0.853706  negative   \n",
      "\n",
      "   m5_score majority_vote  \n",
      "0  0.534912       neutral  \n",
      "1  0.556388       neutral  \n",
      "2  0.565952       neutral  \n",
      "3  0.710663       neutral  \n",
      "4  0.484454       neutral  \n",
      "sentiment_analysis/inferences_from_all_5_models/RS_065_MLRC_2021_20.csv saved\n",
      "\n",
      "\n",
      "\n",
      "\n"
     ]
    },
    {
     "name": "stderr",
     "output_type": "stream",
     "text": [
      "/home/oruma001/envs/cs834_project/lib/python3.10/site-packages/transformers/pipelines/base.py:1123: UserWarning: You seem to be using the pipelines sequentially on GPU. In order to maximize efficiency please use a dataset\n",
      "  warnings.warn(\n",
      "/home/oruma001/envs/cs834_project/lib/python3.10/site-packages/transformers/pipelines/base.py:1123: UserWarning: You seem to be using the pipelines sequentially on GPU. In order to maximize efficiency please use a dataset\n",
      "  warnings.warn(\n",
      "/home/oruma001/envs/cs834_project/lib/python3.10/site-packages/transformers/pipelines/base.py:1123: UserWarning: You seem to be using the pipelines sequentially on GPU. In order to maximize efficiency please use a dataset\n",
      "  warnings.warn(\n"
     ]
    },
    {
     "name": "stdout",
     "output_type": "stream",
     "text": [
      "RS_147_ICDAR_2018_14.csv - model 1 --- "
     ]
    },
    {
     "name": "stderr",
     "output_type": "stream",
     "text": [
      "/home/oruma001/envs/cs834_project/lib/python3.10/site-packages/transformers/pipelines/base.py:1123: UserWarning: You seem to be using the pipelines sequentially on GPU. In order to maximize efficiency please use a dataset\n",
      "  warnings.warn(\n"
     ]
    },
    {
     "name": "stdout",
     "output_type": "stream",
     "text": [
      "model 2 --- "
     ]
    },
    {
     "name": "stderr",
     "output_type": "stream",
     "text": [
      "/home/oruma001/envs/cs834_project/lib/python3.10/site-packages/transformers/pipelines/base.py:1123: UserWarning: You seem to be using the pipelines sequentially on GPU. In order to maximize efficiency please use a dataset\n",
      "  warnings.warn(\n"
     ]
    },
    {
     "name": "stdout",
     "output_type": "stream",
     "text": [
      "model 3 --- "
     ]
    },
    {
     "name": "stderr",
     "output_type": "stream",
     "text": [
      "/home/oruma001/envs/cs834_project/lib/python3.10/site-packages/transformers/pipelines/base.py:1123: UserWarning: You seem to be using the pipelines sequentially on GPU. In order to maximize efficiency please use a dataset\n",
      "  warnings.warn(\n"
     ]
    },
    {
     "name": "stdout",
     "output_type": "stream",
     "text": [
      "model 4 --- "
     ]
    },
    {
     "name": "stderr",
     "output_type": "stream",
     "text": [
      "/home/oruma001/envs/cs834_project/lib/python3.10/site-packages/transformers/pipelines/base.py:1123: UserWarning: You seem to be using the pipelines sequentially on GPU. In order to maximize efficiency please use a dataset\n",
      "  warnings.warn(\n"
     ]
    },
    {
     "name": "stdout",
     "output_type": "stream",
     "text": [
      "model 5 ---\n",
      "                                                text m1_label  m1_score  \\\n",
      "0  As shown in Figure 8, we list the visualizatio...  neutral  0.998823   \n",
      "1  On FinTabNet, our method achieves a TEDS-Struc...  neutral  0.998236   \n",
      "2  We conducted a comprehensive validation of our...  neutral  0.998574   \n",
      "3  Due to the absence of released annotations for...  neutral  0.998903   \n",
      "4  Following [29, 47], we use the split set of tr...  neutral  0.998711   \n",
      "\n",
      "   m2_label  m2_score  m3_label  m3_score  m4_label  m4_score  m5_label  \\\n",
      "0   neutral  0.997382   neutral  0.944801   neutral  0.916660   neutral   \n",
      "1  positive  0.993615  positive  0.950130  positive  0.639129  positive   \n",
      "2   neutral  0.997122   neutral  0.704314   neutral  0.752856  positive   \n",
      "3   neutral  0.997346   neutral  0.881400   neutral  0.879753  negative   \n",
      "4   neutral  0.997741   neutral  0.958522   neutral  0.939044   neutral   \n",
      "\n",
      "   m5_score majority_vote  \n",
      "0  0.748582       neutral  \n",
      "1  0.406148      positive  \n",
      "2  0.750958       neutral  \n",
      "3  0.558338       neutral  \n",
      "4  0.685252       neutral  \n",
      "sentiment_analysis/inferences_from_all_5_models/RS_147_ICDAR_2018_14.csv saved\n",
      "\n",
      "\n",
      "\n",
      "\n"
     ]
    },
    {
     "name": "stderr",
     "output_type": "stream",
     "text": [
      "/home/oruma001/envs/cs834_project/lib/python3.10/site-packages/transformers/pipelines/base.py:1123: UserWarning: You seem to be using the pipelines sequentially on GPU. In order to maximize efficiency please use a dataset\n",
      "  warnings.warn(\n"
     ]
    },
    {
     "name": "stdout",
     "output_type": "stream",
     "text": [
      "RS_141_ICDAR_2018_08.csv - model 1 --- model 2 --- "
     ]
    },
    {
     "name": "stderr",
     "output_type": "stream",
     "text": [
      "/home/oruma001/envs/cs834_project/lib/python3.10/site-packages/transformers/pipelines/base.py:1123: UserWarning: You seem to be using the pipelines sequentially on GPU. In order to maximize efficiency please use a dataset\n",
      "  warnings.warn(\n",
      "/home/oruma001/envs/cs834_project/lib/python3.10/site-packages/transformers/pipelines/base.py:1123: UserWarning: You seem to be using the pipelines sequentially on GPU. In order to maximize efficiency please use a dataset\n",
      "  warnings.warn(\n"
     ]
    },
    {
     "name": "stdout",
     "output_type": "stream",
     "text": [
      "model 3 --- model 4 --- "
     ]
    },
    {
     "name": "stderr",
     "output_type": "stream",
     "text": [
      "/home/oruma001/envs/cs834_project/lib/python3.10/site-packages/transformers/pipelines/base.py:1123: UserWarning: You seem to be using the pipelines sequentially on GPU. In order to maximize efficiency please use a dataset\n",
      "  warnings.warn(\n",
      "/home/oruma001/envs/cs834_project/lib/python3.10/site-packages/transformers/pipelines/base.py:1123: UserWarning: You seem to be using the pipelines sequentially on GPU. In order to maximize efficiency please use a dataset\n",
      "  warnings.warn(\n"
     ]
    },
    {
     "name": "stdout",
     "output_type": "stream",
     "text": [
      "model 5 ---\n",
      "                                                text  m1_label  m1_score  \\\n",
      "0  The source codes of 6 papers were not executab...  negative  0.963882   \n",
      "1  We build the TFE as an attention bi-directiona...   neutral  0.998830   \n",
      "2  We unfortunately could not directly evaluate t...   neutral  0.801562   \n",
      "3  Experimentation achieved the highest accuracy ...   neutral  0.998932   \n",
      "4  (ii) LSTM [42], Bi-LSTM [43], GRU [44], and Bi...   neutral  0.998939   \n",
      "\n",
      "   m2_label  m2_score  m3_label  m3_score  m4_label  m4_score  m5_label  \\\n",
      "0   neutral  0.997458  negative  0.874491   neutral  0.797379  negative   \n",
      "1   neutral  0.994975   neutral  0.956109   neutral  0.945398   neutral   \n",
      "2   neutral  0.973289  negative  0.950047  negative  0.909697  negative   \n",
      "3  positive  0.996311  positive  0.908738   neutral  0.732149  positive   \n",
      "4   neutral  0.996787   neutral  0.975045   neutral  0.915655   neutral   \n",
      "\n",
      "   m5_score majority_vote  \n",
      "0  0.583812      negative  \n",
      "1  0.442745       neutral  \n",
      "2  0.892854      negative  \n",
      "3  0.861882      positive  \n",
      "4  0.627870       neutral  \n",
      "sentiment_analysis/inferences_from_all_5_models/RS_141_ICDAR_2018_08.csv saved\n",
      "\n",
      "\n",
      "\n",
      "\n",
      "RS_136_ICDAR_2018_03.csv - model 1 --- "
     ]
    },
    {
     "name": "stderr",
     "output_type": "stream",
     "text": [
      "/home/oruma001/envs/cs834_project/lib/python3.10/site-packages/transformers/pipelines/base.py:1123: UserWarning: You seem to be using the pipelines sequentially on GPU. In order to maximize efficiency please use a dataset\n",
      "  warnings.warn(\n",
      "/home/oruma001/envs/cs834_project/lib/python3.10/site-packages/transformers/pipelines/base.py:1123: UserWarning: You seem to be using the pipelines sequentially on GPU. In order to maximize efficiency please use a dataset\n",
      "  warnings.warn(\n"
     ]
    },
    {
     "name": "stdout",
     "output_type": "stream",
     "text": [
      "model 2 --- model 3 --- model 4 --- "
     ]
    },
    {
     "name": "stderr",
     "output_type": "stream",
     "text": [
      "/home/oruma001/envs/cs834_project/lib/python3.10/site-packages/transformers/pipelines/base.py:1123: UserWarning: You seem to be using the pipelines sequentially on GPU. In order to maximize efficiency please use a dataset\n",
      "  warnings.warn(\n",
      "/home/oruma001/envs/cs834_project/lib/python3.10/site-packages/transformers/pipelines/base.py:1123: UserWarning: You seem to be using the pipelines sequentially on GPU. In order to maximize efficiency please use a dataset\n",
      "  warnings.warn(\n",
      "/home/oruma001/envs/cs834_project/lib/python3.10/site-packages/transformers/pipelines/base.py:1123: UserWarning: You seem to be using the pipelines sequentially on GPU. In order to maximize efficiency please use a dataset\n",
      "  warnings.warn(\n"
     ]
    },
    {
     "name": "stdout",
     "output_type": "stream",
     "text": [
      "model 5 ---\n",
      "                                                text m1_label  m1_score  \\\n",
      "0  For the first question, we compare LORE with b...  neutral  0.998980   \n",
      "1  First, we compare LORE with models which direc...  neutral  0.998964   \n",
      "2  For cell logical location prediction, we compa...  neutral  0.999095   \n",
      "3  Because the original dataset does not specify ...  neutral  0.999083   \n",
      "4  For cell logical location prediction, we follo...  neutral  0.998821   \n",
      "\n",
      "  m2_label  m2_score m3_label  m3_score m4_label  m4_score m5_label  m5_score  \\\n",
      "0  neutral  0.997447  neutral  0.968953  neutral  0.908536  neutral  0.675632   \n",
      "1  neutral  0.997871  neutral  0.940214  neutral  0.886108  neutral  0.680018   \n",
      "2  neutral  0.994017  neutral  0.951441  neutral  0.909950  neutral  0.743315   \n",
      "3  neutral  0.997544  neutral  0.889895  neutral  0.909747  neutral  0.621113   \n",
      "4  neutral  0.996991  neutral  0.967889  neutral  0.925955  neutral  0.648446   \n",
      "\n",
      "  majority_vote  \n",
      "0       neutral  \n",
      "1       neutral  \n",
      "2       neutral  \n",
      "3       neutral  \n",
      "4       neutral  \n",
      "sentiment_analysis/inferences_from_all_5_models/RS_136_ICDAR_2018_03.csv saved\n",
      "\n",
      "\n",
      "\n",
      "\n"
     ]
    },
    {
     "name": "stderr",
     "output_type": "stream",
     "text": [
      "/home/oruma001/envs/cs834_project/lib/python3.10/site-packages/transformers/pipelines/base.py:1123: UserWarning: You seem to be using the pipelines sequentially on GPU. In order to maximize efficiency please use a dataset\n",
      "  warnings.warn(\n"
     ]
    },
    {
     "name": "stdout",
     "output_type": "stream",
     "text": [
      "RS_089_MLRC_2021_44.csv - model 1 --- model 2 --- "
     ]
    },
    {
     "name": "stderr",
     "output_type": "stream",
     "text": [
      "/home/oruma001/envs/cs834_project/lib/python3.10/site-packages/transformers/pipelines/base.py:1123: UserWarning: You seem to be using the pipelines sequentially on GPU. In order to maximize efficiency please use a dataset\n",
      "  warnings.warn(\n",
      "/home/oruma001/envs/cs834_project/lib/python3.10/site-packages/transformers/pipelines/base.py:1123: UserWarning: You seem to be using the pipelines sequentially on GPU. In order to maximize efficiency please use a dataset\n",
      "  warnings.warn(\n"
     ]
    },
    {
     "name": "stdout",
     "output_type": "stream",
     "text": [
      "model 3 --- "
     ]
    },
    {
     "name": "stderr",
     "output_type": "stream",
     "text": [
      "/home/oruma001/envs/cs834_project/lib/python3.10/site-packages/transformers/pipelines/base.py:1123: UserWarning: You seem to be using the pipelines sequentially on GPU. In order to maximize efficiency please use a dataset\n",
      "  warnings.warn(\n"
     ]
    },
    {
     "name": "stdout",
     "output_type": "stream",
     "text": [
      "model 4 --- model 5 ---\n",
      "                                                text m1_label  m1_score  \\\n",
      "0  We use the following backbones: ResNet20, ResN...  neutral  0.998749   \n",
      "1  In (A), according to PSNR, MSE, SSIM and LPIPS...  neutral  0.989535   \n",
      "2  For each dataset and architecture, we consider...  neutral  0.998865   \n",
      "3  TABLE VI COMPARISONS BETWEEN POLICIES CHOSEN F...  neutral  0.998832   \n",
      "4  Besides, we can also follow the works [48] to ...  neutral  0.998713   \n",
      "\n",
      "  m2_label  m2_score m3_label  m3_score m4_label  m4_score  m5_label  \\\n",
      "0  neutral  0.997124  neutral  0.908368  neutral  0.912711   neutral   \n",
      "1  neutral  0.936462  neutral  0.896953  neutral  0.891283  negative   \n",
      "2  neutral  0.997486  neutral  0.952200  neutral  0.908214   neutral   \n",
      "3  neutral  0.997330  neutral  0.971763  neutral  0.914160   neutral   \n",
      "4  neutral  0.830559  neutral  0.961074  neutral  0.777586   neutral   \n",
      "\n",
      "   m5_score majority_vote  \n",
      "0  0.585794       neutral  \n",
      "1  0.574304       neutral  \n",
      "2  0.610831       neutral  \n",
      "3  0.757859       neutral  \n",
      "4  0.532438       neutral  \n",
      "sentiment_analysis/inferences_from_all_5_models/RS_089_MLRC_2021_44.csv saved\n",
      "\n",
      "\n",
      "\n",
      "\n"
     ]
    },
    {
     "name": "stderr",
     "output_type": "stream",
     "text": [
      "/home/oruma001/envs/cs834_project/lib/python3.10/site-packages/transformers/pipelines/base.py:1123: UserWarning: You seem to be using the pipelines sequentially on GPU. In order to maximize efficiency please use a dataset\n",
      "  warnings.warn(\n",
      "/home/oruma001/envs/cs834_project/lib/python3.10/site-packages/transformers/pipelines/base.py:1123: UserWarning: You seem to be using the pipelines sequentially on GPU. In order to maximize efficiency please use a dataset\n",
      "  warnings.warn(\n"
     ]
    },
    {
     "name": "stdout",
     "output_type": "stream",
     "text": [
      "RS_127_NeurIPS_2019_10.csv - model 1 --- "
     ]
    },
    {
     "name": "stderr",
     "output_type": "stream",
     "text": [
      "/home/oruma001/envs/cs834_project/lib/python3.10/site-packages/transformers/pipelines/base.py:1123: UserWarning: You seem to be using the pipelines sequentially on GPU. In order to maximize efficiency please use a dataset\n",
      "  warnings.warn(\n"
     ]
    },
    {
     "name": "stdout",
     "output_type": "stream",
     "text": [
      "model 2 --- "
     ]
    },
    {
     "name": "stderr",
     "output_type": "stream",
     "text": [
      "/home/oruma001/envs/cs834_project/lib/python3.10/site-packages/transformers/pipelines/base.py:1123: UserWarning: You seem to be using the pipelines sequentially on GPU. In order to maximize efficiency please use a dataset\n",
      "  warnings.warn(\n"
     ]
    },
    {
     "name": "stdout",
     "output_type": "stream",
     "text": [
      "model 3 --- "
     ]
    },
    {
     "name": "stderr",
     "output_type": "stream",
     "text": [
      "/home/oruma001/envs/cs834_project/lib/python3.10/site-packages/transformers/pipelines/base.py:1123: UserWarning: You seem to be using the pipelines sequentially on GPU. In order to maximize efficiency please use a dataset\n",
      "  warnings.warn(\n"
     ]
    },
    {
     "name": "stdout",
     "output_type": "stream",
     "text": [
      "model 4 --- "
     ]
    },
    {
     "name": "stderr",
     "output_type": "stream",
     "text": [
      "/home/oruma001/envs/cs834_project/lib/python3.10/site-packages/transformers/pipelines/base.py:1123: UserWarning: You seem to be using the pipelines sequentially on GPU. In order to maximize efficiency please use a dataset\n",
      "  warnings.warn(\n"
     ]
    },
    {
     "name": "stdout",
     "output_type": "stream",
     "text": [
      "model 5 ---\n",
      "                                                text m1_label  m1_score  \\\n",
      "0  Given non-standardized adoption of CNN models ...  neutral  0.998976   \n",
      "1  Inspired by [47], we conduct experiments to st...  neutral  0.998619   \n",
      "2  We take inspiration by the work of Morcos et a...  neutral  0.998794   \n",
      "3  1) Experiment Setup: To answer the RQ3, we sel...  neutral  0.999004   \n",
      "4  Finally, the resulting ⊙ is the winning ticket...  neutral  0.998709   \n",
      "\n",
      "  m2_label  m2_score  m3_label  m3_score m4_label  m4_score  m5_label  \\\n",
      "0  neutral  0.997457   neutral  0.924013  neutral  0.873040   neutral   \n",
      "1  neutral  0.996904  positive  0.712008  neutral  0.678996  positive   \n",
      "2  neutral  0.997182  positive  0.752397  neutral  0.788624   neutral   \n",
      "3  neutral  0.981602   neutral  0.945160  neutral  0.826508   neutral   \n",
      "4  neutral  0.993488  positive  0.504456  neutral  0.536485   neutral   \n",
      "\n",
      "   m5_score majority_vote  \n",
      "0  0.627255       neutral  \n",
      "1  0.669779       neutral  \n",
      "2  0.484560       neutral  \n",
      "3  0.582930       neutral  \n",
      "4  0.633039       neutral  \n",
      "sentiment_analysis/inferences_from_all_5_models/RS_127_NeurIPS_2019_10.csv saved\n",
      "\n",
      "\n",
      "\n",
      "\n",
      "RS_059_MLRC_2021_14.csv - model 1 --- model 2 --- "
     ]
    },
    {
     "name": "stderr",
     "output_type": "stream",
     "text": [
      "/home/oruma001/envs/cs834_project/lib/python3.10/site-packages/transformers/pipelines/base.py:1123: UserWarning: You seem to be using the pipelines sequentially on GPU. In order to maximize efficiency please use a dataset\n",
      "  warnings.warn(\n",
      "/home/oruma001/envs/cs834_project/lib/python3.10/site-packages/transformers/pipelines/base.py:1123: UserWarning: You seem to be using the pipelines sequentially on GPU. In order to maximize efficiency please use a dataset\n",
      "  warnings.warn(\n",
      "/home/oruma001/envs/cs834_project/lib/python3.10/site-packages/transformers/pipelines/base.py:1123: UserWarning: You seem to be using the pipelines sequentially on GPU. In order to maximize efficiency please use a dataset\n",
      "  warnings.warn(\n",
      "/home/oruma001/envs/cs834_project/lib/python3.10/site-packages/transformers/pipelines/base.py:1123: UserWarning: You seem to be using the pipelines sequentially on GPU. In order to maximize efficiency please use a dataset\n",
      "  warnings.warn(\n"
     ]
    },
    {
     "name": "stdout",
     "output_type": "stream",
     "text": [
      "model 3 --- model 4 --- model 5 ---\n",
      "                                                text m1_label  m1_score  \\\n",
      "0  We utilize min balance(Cl ) as the overall bal...  neutral  0.998764   \n",
      "1  For Ziko et al. (2021), even in untuned versio...  neutral  0.999190   \n",
      "2  To the best of our knowledge, the only approac...  neutral  0.998875   \n",
      "3  …Author(s) Affiliation Address email\\nReproduc...  neutral  0.998689   \n",
      "\n",
      "   m2_label  m2_score m3_label  m3_score m4_label  m4_score  m5_label  \\\n",
      "0  positive  0.963259  neutral  0.896528  neutral  0.659227   neutral   \n",
      "1  positive  0.555565  neutral  0.969163  neutral  0.932006  negative   \n",
      "2   neutral  0.966111  neutral  0.960125  neutral  0.691778   neutral   \n",
      "3   neutral  0.996581  neutral  0.733950  neutral  0.517810   neutral   \n",
      "\n",
      "   m5_score majority_vote  \n",
      "0  0.597076       neutral  \n",
      "1  0.605838       neutral  \n",
      "2  0.431300       neutral  \n",
      "3  0.613507       neutral  \n",
      "sentiment_analysis/inferences_from_all_5_models/RS_059_MLRC_2021_14.csv saved\n",
      "\n",
      "\n",
      "\n",
      "\n"
     ]
    },
    {
     "name": "stderr",
     "output_type": "stream",
     "text": [
      "/home/oruma001/envs/cs834_project/lib/python3.10/site-packages/transformers/pipelines/base.py:1123: UserWarning: You seem to be using the pipelines sequentially on GPU. In order to maximize efficiency please use a dataset\n",
      "  warnings.warn(\n",
      "/home/oruma001/envs/cs834_project/lib/python3.10/site-packages/transformers/pipelines/base.py:1123: UserWarning: You seem to be using the pipelines sequentially on GPU. In order to maximize efficiency please use a dataset\n",
      "  warnings.warn(\n",
      "/home/oruma001/envs/cs834_project/lib/python3.10/site-packages/transformers/pipelines/base.py:1123: UserWarning: You seem to be using the pipelines sequentially on GPU. In order to maximize efficiency please use a dataset\n",
      "  warnings.warn(\n",
      "/home/oruma001/envs/cs834_project/lib/python3.10/site-packages/transformers/pipelines/base.py:1123: UserWarning: You seem to be using the pipelines sequentially on GPU. In order to maximize efficiency please use a dataset\n",
      "  warnings.warn(\n"
     ]
    },
    {
     "name": "stdout",
     "output_type": "stream",
     "text": [
      "RS_003_MLRC_2022_03.csv - model 1 --- model 2 --- model 3 --- model 4 --- "
     ]
    },
    {
     "name": "stderr",
     "output_type": "stream",
     "text": [
      "/home/oruma001/envs/cs834_project/lib/python3.10/site-packages/transformers/pipelines/base.py:1123: UserWarning: You seem to be using the pipelines sequentially on GPU. In order to maximize efficiency please use a dataset\n",
      "  warnings.warn(\n",
      "/home/oruma001/envs/cs834_project/lib/python3.10/site-packages/transformers/pipelines/base.py:1123: UserWarning: You seem to be using the pipelines sequentially on GPU. In order to maximize efficiency please use a dataset\n",
      "  warnings.warn(\n",
      "/home/oruma001/envs/cs834_project/lib/python3.10/site-packages/transformers/pipelines/base.py:1123: UserWarning: You seem to be using the pipelines sequentially on GPU. In order to maximize efficiency please use a dataset\n",
      "  warnings.warn(\n"
     ]
    },
    {
     "name": "stdout",
     "output_type": "stream",
     "text": [
      "model 5 ---\n",
      "                                                text m1_label  m1_score  \\\n",
      "0  Copyright 2023 by the author(s).\\net al., 2022...  neutral  0.998904   \n",
      "1  Our current work is closely related to previou...  neutral  0.998569   \n",
      "2  We used the original code released by [Bansal ...  neutral  0.998920   \n",
      "3  For experiments with truncated backpropagation...  neutral  0.998844   \n",
      "4  2a we show upward generalization performance u...  neutral  0.999039   \n",
      "\n",
      "   m2_label  m2_score m3_label  m3_score m4_label  m4_score  m5_label  \\\n",
      "0   neutral  0.996746  neutral  0.973388  neutral  0.900437   neutral   \n",
      "1   neutral  0.996825  neutral  0.944904  neutral  0.695886  positive   \n",
      "2   neutral  0.995269  neutral  0.916792  neutral  0.708527  positive   \n",
      "3   neutral  0.996536  neutral  0.954772  neutral  0.881835   neutral   \n",
      "4  positive  0.972198  neutral  0.828720  neutral  0.645336   neutral   \n",
      "\n",
      "   m5_score majority_vote  \n",
      "0  0.780975       neutral  \n",
      "1  0.445963       neutral  \n",
      "2  0.432947       neutral  \n",
      "3  0.597406       neutral  \n",
      "4  0.377889       neutral  \n",
      "sentiment_analysis/inferences_from_all_5_models/RS_003_MLRC_2022_03.csv saved\n",
      "\n",
      "\n",
      "\n",
      "\n",
      "RS_026_MLRC_2022_26.csv - model 1 --- "
     ]
    },
    {
     "name": "stderr",
     "output_type": "stream",
     "text": [
      "/home/oruma001/envs/cs834_project/lib/python3.10/site-packages/transformers/pipelines/base.py:1123: UserWarning: You seem to be using the pipelines sequentially on GPU. In order to maximize efficiency please use a dataset\n",
      "  warnings.warn(\n",
      "/home/oruma001/envs/cs834_project/lib/python3.10/site-packages/transformers/pipelines/base.py:1123: UserWarning: You seem to be using the pipelines sequentially on GPU. In order to maximize efficiency please use a dataset\n",
      "  warnings.warn(\n",
      "/home/oruma001/envs/cs834_project/lib/python3.10/site-packages/transformers/pipelines/base.py:1123: UserWarning: You seem to be using the pipelines sequentially on GPU. In order to maximize efficiency please use a dataset\n",
      "  warnings.warn(\n"
     ]
    },
    {
     "name": "stdout",
     "output_type": "stream",
     "text": [
      "model 2 --- model 3 --- model 4 --- "
     ]
    },
    {
     "name": "stderr",
     "output_type": "stream",
     "text": [
      "/home/oruma001/envs/cs834_project/lib/python3.10/site-packages/transformers/pipelines/base.py:1123: UserWarning: You seem to be using the pipelines sequentially on GPU. In order to maximize efficiency please use a dataset\n",
      "  warnings.warn(\n",
      "/home/oruma001/envs/cs834_project/lib/python3.10/site-packages/transformers/pipelines/base.py:1123: UserWarning: You seem to be using the pipelines sequentially on GPU. In order to maximize efficiency please use a dataset\n",
      "  warnings.warn(\n"
     ]
    },
    {
     "name": "stdout",
     "output_type": "stream",
     "text": [
      "model 5 ---\n",
      "                                                text m1_label  m1_score  \\\n",
      "0  We noticed an inconsistency in LIC [17], when ...  neutral  0.999183   \n",
      "1  We chose T5-generation and Merged as it well b...  neutral  0.998738   \n",
      "2  Given y ∈ Dg, FPG instantiated by first maskin...  neutral  0.998947   \n",
      "3  First, based on the observations in previous w...  neutral  0.998662   \n",
      "4  Bias metrics We mainly rely on three metrics t...  neutral  0.998864   \n",
      "\n",
      "   m2_label  m2_score m3_label  m3_score m4_label  m4_score  m5_label  \\\n",
      "0   neutral  0.969009  neutral  0.800683  neutral  0.590080   neutral   \n",
      "1   neutral  0.775910  neutral  0.661553  neutral  0.632498  negative   \n",
      "2   neutral  0.994216  neutral  0.967841  neutral  0.932529   neutral   \n",
      "3  negative  0.876526  neutral  0.946692  neutral  0.614815  negative   \n",
      "4   neutral  0.995701  neutral  0.932901  neutral  0.792337  negative   \n",
      "\n",
      "   m5_score majority_vote  \n",
      "0  0.455172       neutral  \n",
      "1  0.825147       neutral  \n",
      "2  0.492489       neutral  \n",
      "3  0.428513       neutral  \n",
      "4  0.718447       neutral  \n",
      "sentiment_analysis/inferences_from_all_5_models/RS_026_MLRC_2022_26.csv saved\n",
      "\n",
      "\n",
      "\n",
      "\n",
      "RS_067_MLRC_2021_22.csv - model 1 --- model 2 --- "
     ]
    },
    {
     "name": "stderr",
     "output_type": "stream",
     "text": [
      "/home/oruma001/envs/cs834_project/lib/python3.10/site-packages/transformers/pipelines/base.py:1123: UserWarning: You seem to be using the pipelines sequentially on GPU. In order to maximize efficiency please use a dataset\n",
      "  warnings.warn(\n",
      "/home/oruma001/envs/cs834_project/lib/python3.10/site-packages/transformers/pipelines/base.py:1123: UserWarning: You seem to be using the pipelines sequentially on GPU. In order to maximize efficiency please use a dataset\n",
      "  warnings.warn(\n"
     ]
    },
    {
     "name": "stdout",
     "output_type": "stream",
     "text": [
      "model 3 --- model 4 --- "
     ]
    },
    {
     "name": "stderr",
     "output_type": "stream",
     "text": [
      "/home/oruma001/envs/cs834_project/lib/python3.10/site-packages/transformers/pipelines/base.py:1123: UserWarning: You seem to be using the pipelines sequentially on GPU. In order to maximize efficiency please use a dataset\n",
      "  warnings.warn(\n",
      "/home/oruma001/envs/cs834_project/lib/python3.10/site-packages/transformers/pipelines/base.py:1123: UserWarning: You seem to be using the pipelines sequentially on GPU. In order to maximize efficiency please use a dataset\n",
      "  warnings.warn(\n"
     ]
    },
    {
     "name": "stdout",
     "output_type": "stream",
     "text": [
      "model 5 ---\n",
      "                                                text  m1_label  m1_score  \\\n",
      "0  We compare ENG-based attacks with four variant...   neutral  0.997900   \n",
      "1  We follow previous attacks on classical fair m...   neutral  0.998127   \n",
      "2  We base our research on two separate yet relat...   neutral  0.998253   \n",
      "3  To the best of our knowledge, research in this...   neutral  0.998771   \n",
      "4  For instance, the attacker may poison the trai...  negative  0.976059   \n",
      "\n",
      "   m2_label  m2_score  m3_label  m3_score  m4_label  m4_score  m5_label  \\\n",
      "0   neutral  0.995964  negative  0.632520   neutral  0.824428   neutral   \n",
      "1   neutral  0.975174   neutral  0.769173   neutral  0.716552   neutral   \n",
      "2   neutral  0.996290  negative  0.801499   neutral  0.486540  negative   \n",
      "3   neutral  0.891047   neutral  0.835491   neutral  0.479708  negative   \n",
      "4  negative  0.722730  negative  0.902405  negative  0.831049  negative   \n",
      "\n",
      "   m5_score majority_vote  \n",
      "0  0.506471       neutral  \n",
      "1  0.435975       neutral  \n",
      "2  0.481793       neutral  \n",
      "3  0.911130       neutral  \n",
      "4  0.795245      negative  \n",
      "sentiment_analysis/inferences_from_all_5_models/RS_067_MLRC_2021_22.csv saved\n",
      "\n",
      "\n",
      "\n",
      "\n"
     ]
    },
    {
     "name": "stderr",
     "output_type": "stream",
     "text": [
      "/home/oruma001/envs/cs834_project/lib/python3.10/site-packages/transformers/pipelines/base.py:1123: UserWarning: You seem to be using the pipelines sequentially on GPU. In order to maximize efficiency please use a dataset\n",
      "  warnings.warn(\n"
     ]
    },
    {
     "name": "stdout",
     "output_type": "stream",
     "text": [
      "RS_063_MLRC_2021_18.csv - model 1 --- "
     ]
    },
    {
     "name": "stderr",
     "output_type": "stream",
     "text": [
      "/home/oruma001/envs/cs834_project/lib/python3.10/site-packages/transformers/pipelines/base.py:1123: UserWarning: You seem to be using the pipelines sequentially on GPU. In order to maximize efficiency please use a dataset\n",
      "  warnings.warn(\n"
     ]
    },
    {
     "name": "stdout",
     "output_type": "stream",
     "text": [
      "model 2 --- "
     ]
    },
    {
     "name": "stderr",
     "output_type": "stream",
     "text": [
      "/home/oruma001/envs/cs834_project/lib/python3.10/site-packages/transformers/pipelines/base.py:1123: UserWarning: You seem to be using the pipelines sequentially on GPU. In order to maximize efficiency please use a dataset\n",
      "  warnings.warn(\n"
     ]
    },
    {
     "name": "stdout",
     "output_type": "stream",
     "text": [
      "model 3 --- "
     ]
    },
    {
     "name": "stderr",
     "output_type": "stream",
     "text": [
      "/home/oruma001/envs/cs834_project/lib/python3.10/site-packages/transformers/pipelines/base.py:1123: UserWarning: You seem to be using the pipelines sequentially on GPU. In order to maximize efficiency please use a dataset\n",
      "  warnings.warn(\n"
     ]
    },
    {
     "name": "stdout",
     "output_type": "stream",
     "text": [
      "model 4 --- "
     ]
    },
    {
     "name": "stderr",
     "output_type": "stream",
     "text": [
      "/home/oruma001/envs/cs834_project/lib/python3.10/site-packages/transformers/pipelines/base.py:1123: UserWarning: You seem to be using the pipelines sequentially on GPU. In order to maximize efficiency please use a dataset\n",
      "  warnings.warn(\n"
     ]
    },
    {
     "name": "stdout",
     "output_type": "stream",
     "text": [
      "model 5 ---\n",
      "                                                text m1_label  m1_score  \\\n",
      "0  Hence, with reference to [5, 33], we make the ...  neutral  0.998969   \n",
      "1  When contrastive pairs are available, we can d...  neutral  0.998963   \n",
      "2                  This is done in CoRE and MatchDG.  neutral  0.998701   \n",
      "3  To address the above problem, the widely conce...  neutral  0.998709   \n",
      "4  Mahajan et al. (2021) focus on cases where the...  neutral  0.998910   \n",
      "\n",
      "  m2_label  m2_score m3_label  m3_score m4_label  m4_score  m5_label  \\\n",
      "0  neutral  0.996316  neutral  0.958360  neutral  0.907173   neutral   \n",
      "1  neutral  0.995797  neutral  0.960967  neutral  0.917189   neutral   \n",
      "2  neutral  0.966180  neutral  0.966859  neutral  0.939742   neutral   \n",
      "3  neutral  0.996178  neutral  0.899774  neutral  0.492400  positive   \n",
      "4  neutral  0.512015  neutral  0.939819  neutral  0.843520   neutral   \n",
      "\n",
      "   m5_score majority_vote  \n",
      "0  0.522605       neutral  \n",
      "1  0.597262       neutral  \n",
      "2  0.518646       neutral  \n",
      "3  0.571140       neutral  \n",
      "4  0.575593       neutral  \n",
      "sentiment_analysis/inferences_from_all_5_models/RS_063_MLRC_2021_18.csv saved\n",
      "\n",
      "\n",
      "\n",
      "\n"
     ]
    },
    {
     "name": "stderr",
     "output_type": "stream",
     "text": [
      "/home/oruma001/envs/cs834_project/lib/python3.10/site-packages/transformers/pipelines/base.py:1123: UserWarning: You seem to be using the pipelines sequentially on GPU. In order to maximize efficiency please use a dataset\n",
      "  warnings.warn(\n"
     ]
    },
    {
     "name": "stdout",
     "output_type": "stream",
     "text": [
      "RS_048_MLRC_2021_03.csv - model 1 --- "
     ]
    },
    {
     "name": "stderr",
     "output_type": "stream",
     "text": [
      "/home/oruma001/envs/cs834_project/lib/python3.10/site-packages/transformers/pipelines/base.py:1123: UserWarning: You seem to be using the pipelines sequentially on GPU. In order to maximize efficiency please use a dataset\n",
      "  warnings.warn(\n"
     ]
    },
    {
     "name": "stdout",
     "output_type": "stream",
     "text": [
      "model 2 --- "
     ]
    },
    {
     "name": "stderr",
     "output_type": "stream",
     "text": [
      "/home/oruma001/envs/cs834_project/lib/python3.10/site-packages/transformers/pipelines/base.py:1123: UserWarning: You seem to be using the pipelines sequentially on GPU. In order to maximize efficiency please use a dataset\n",
      "  warnings.warn(\n"
     ]
    },
    {
     "name": "stdout",
     "output_type": "stream",
     "text": [
      "model 3 --- "
     ]
    },
    {
     "name": "stderr",
     "output_type": "stream",
     "text": [
      "/home/oruma001/envs/cs834_project/lib/python3.10/site-packages/transformers/pipelines/base.py:1123: UserWarning: You seem to be using the pipelines sequentially on GPU. In order to maximize efficiency please use a dataset\n",
      "  warnings.warn(\n"
     ]
    },
    {
     "name": "stdout",
     "output_type": "stream",
     "text": [
      "model 4 --- "
     ]
    },
    {
     "name": "stderr",
     "output_type": "stream",
     "text": [
      "/home/oruma001/envs/cs834_project/lib/python3.10/site-packages/transformers/pipelines/base.py:1123: UserWarning: You seem to be using the pipelines sequentially on GPU. In order to maximize efficiency please use a dataset\n",
      "  warnings.warn(\n"
     ]
    },
    {
     "name": "stdout",
     "output_type": "stream",
     "text": [
      "model 5 ---\n",
      "                                                text m1_label  m1_score  \\\n",
      "0  We split the dataset into 100 classes for trai...  neutral  0.998813   \n",
      "1            22 WACV20 Proto+Jig [20] ResNet18 - 89.  neutral  0.999014   \n",
      "2  In this work, we opt rotation prediction [20] ...  neutral  0.998931   \n",
      "3  For other four datasets, we follow the split o...  neutral  0.998885   \n",
      "4  † denotes the values are reported from the imp...  neutral  0.999008   \n",
      "\n",
      "   m2_label  m2_score  m3_label  m3_score  m4_label  m4_score  m5_label  \\\n",
      "0   neutral  0.997356   neutral  0.967022   neutral  0.915748   neutral   \n",
      "1   neutral  0.996907   neutral  0.968350   neutral  0.946974   neutral   \n",
      "2  positive  0.973773  positive  0.718107  positive  0.735287  positive   \n",
      "3   neutral  0.996674   neutral  0.970292   neutral  0.918735   neutral   \n",
      "4   neutral  0.996813   neutral  0.969018   neutral  0.912770   neutral   \n",
      "\n",
      "   m5_score majority_vote  \n",
      "0  0.666520       neutral  \n",
      "1  0.776761       neutral  \n",
      "2  0.558057      positive  \n",
      "3  0.671469       neutral  \n",
      "4  0.777882       neutral  \n",
      "sentiment_analysis/inferences_from_all_5_models/RS_048_MLRC_2021_03.csv saved\n",
      "\n",
      "\n",
      "\n",
      "\n"
     ]
    },
    {
     "name": "stderr",
     "output_type": "stream",
     "text": [
      "/home/oruma001/envs/cs834_project/lib/python3.10/site-packages/transformers/pipelines/base.py:1123: UserWarning: You seem to be using the pipelines sequentially on GPU. In order to maximize efficiency please use a dataset\n",
      "  warnings.warn(\n"
     ]
    },
    {
     "name": "stdout",
     "output_type": "stream",
     "text": [
      "RS_054_MLRC_2021_09.csv - model 1 --- "
     ]
    },
    {
     "name": "stderr",
     "output_type": "stream",
     "text": [
      "/home/oruma001/envs/cs834_project/lib/python3.10/site-packages/transformers/pipelines/base.py:1123: UserWarning: You seem to be using the pipelines sequentially on GPU. In order to maximize efficiency please use a dataset\n",
      "  warnings.warn(\n"
     ]
    },
    {
     "name": "stdout",
     "output_type": "stream",
     "text": [
      "model 2 --- "
     ]
    },
    {
     "name": "stderr",
     "output_type": "stream",
     "text": [
      "/home/oruma001/envs/cs834_project/lib/python3.10/site-packages/transformers/pipelines/base.py:1123: UserWarning: You seem to be using the pipelines sequentially on GPU. In order to maximize efficiency please use a dataset\n",
      "  warnings.warn(\n"
     ]
    },
    {
     "name": "stdout",
     "output_type": "stream",
     "text": [
      "model 3 --- "
     ]
    },
    {
     "name": "stderr",
     "output_type": "stream",
     "text": [
      "/home/oruma001/envs/cs834_project/lib/python3.10/site-packages/transformers/pipelines/base.py:1123: UserWarning: You seem to be using the pipelines sequentially on GPU. In order to maximize efficiency please use a dataset\n",
      "  warnings.warn(\n"
     ]
    },
    {
     "name": "stdout",
     "output_type": "stream",
     "text": [
      "model 4 --- "
     ]
    },
    {
     "name": "stderr",
     "output_type": "stream",
     "text": [
      "/home/oruma001/envs/cs834_project/lib/python3.10/site-packages/transformers/pipelines/base.py:1123: UserWarning: You seem to be using the pipelines sequentially on GPU. In order to maximize efficiency please use a dataset\n",
      "  warnings.warn(\n"
     ]
    },
    {
     "name": "stdout",
     "output_type": "stream",
     "text": [
      "model 5 ---\n",
      "                                                text m1_label  m1_score  \\\n",
      "0  The training was performed for 1M steps using ...  neutral  0.998813   \n",
      "1  We compare AdaPlus with six state-of-the-art o...  neutral  0.999105   \n",
      "2  1, we further integrate the stepsize adjusting...  neutral  0.999017   \n",
      "3  As that reported in [6], using each optimizer,...  neutral  0.998650   \n",
      "4  We mainly consider the “large gradient, small ...  neutral  0.998966   \n",
      "\n",
      "   m2_label  m2_score m3_label  m3_score m4_label  m4_score  m5_label  \\\n",
      "0   neutral  0.995327  neutral  0.865546  neutral  0.902391  negative   \n",
      "1   neutral  0.966055  neutral  0.743169  neutral  0.817588   neutral   \n",
      "2   neutral  0.992252  neutral  0.775922  neutral  0.901974   neutral   \n",
      "3  negative  0.528553  neutral  0.731213  neutral  0.767908  negative   \n",
      "4  positive  0.519574  neutral  0.953364  neutral  0.788038  negative   \n",
      "\n",
      "   m5_score majority_vote  \n",
      "0  0.656574       neutral  \n",
      "1  0.536817       neutral  \n",
      "2  0.654236       neutral  \n",
      "3  0.556737       neutral  \n",
      "4  0.412346       neutral  \n",
      "sentiment_analysis/inferences_from_all_5_models/RS_054_MLRC_2021_09.csv saved\n",
      "\n",
      "\n",
      "\n",
      "\n",
      "RS_022_MLRC_2022_22.csv - model 1 --- model 2 --- "
     ]
    },
    {
     "name": "stderr",
     "output_type": "stream",
     "text": [
      "/home/oruma001/envs/cs834_project/lib/python3.10/site-packages/transformers/pipelines/base.py:1123: UserWarning: You seem to be using the pipelines sequentially on GPU. In order to maximize efficiency please use a dataset\n",
      "  warnings.warn(\n",
      "/home/oruma001/envs/cs834_project/lib/python3.10/site-packages/transformers/pipelines/base.py:1123: UserWarning: You seem to be using the pipelines sequentially on GPU. In order to maximize efficiency please use a dataset\n",
      "  warnings.warn(\n",
      "/home/oruma001/envs/cs834_project/lib/python3.10/site-packages/transformers/pipelines/base.py:1123: UserWarning: You seem to be using the pipelines sequentially on GPU. In order to maximize efficiency please use a dataset\n",
      "  warnings.warn(\n",
      "/home/oruma001/envs/cs834_project/lib/python3.10/site-packages/transformers/pipelines/base.py:1123: UserWarning: You seem to be using the pipelines sequentially on GPU. In order to maximize efficiency please use a dataset\n",
      "  warnings.warn(\n",
      "/home/oruma001/envs/cs834_project/lib/python3.10/site-packages/transformers/pipelines/base.py:1123: UserWarning: You seem to be using the pipelines sequentially on GPU. In order to maximize efficiency please use a dataset\n",
      "  warnings.warn(\n",
      "/home/oruma001/envs/cs834_project/lib/python3.10/site-packages/transformers/pipelines/base.py:1123: UserWarning: You seem to be using the pipelines sequentially on GPU. In order to maximize efficiency please use a dataset\n",
      "  warnings.warn(\n"
     ]
    },
    {
     "name": "stdout",
     "output_type": "stream",
     "text": [
      "model 3 --- model 4 --- model 5 ---\n",
      "                                                text m1_label  m1_score  \\\n",
      "0  5 (bb); Proto2Proto [24]: 84 (full); TesNet* [...  neutral  0.999117   \n",
      "1  Therefore, we introduce an additional regulari...  neutral  0.998921   \n",
      "\n",
      "  m2_label  m2_score m3_label  m3_score m4_label  m4_score m5_label  m5_score  \\\n",
      "0  neutral  0.996434  neutral  0.965651  neutral  0.932660  neutral  0.735690   \n",
      "1  neutral  0.977830  neutral  0.896463  neutral  0.692829  neutral  0.512045   \n",
      "\n",
      "  majority_vote  \n",
      "0       neutral  \n",
      "1       neutral  \n",
      "sentiment_analysis/inferences_from_all_5_models/RS_022_MLRC_2022_22.csv saved\n",
      "\n",
      "\n",
      "\n",
      "\n",
      "RS_032_MLRC_2022_32.csv - model 1 --- model 2 --- model 3 --- "
     ]
    },
    {
     "name": "stderr",
     "output_type": "stream",
     "text": [
      "/home/oruma001/envs/cs834_project/lib/python3.10/site-packages/transformers/pipelines/base.py:1123: UserWarning: You seem to be using the pipelines sequentially on GPU. In order to maximize efficiency please use a dataset\n",
      "  warnings.warn(\n",
      "/home/oruma001/envs/cs834_project/lib/python3.10/site-packages/transformers/pipelines/base.py:1123: UserWarning: You seem to be using the pipelines sequentially on GPU. In order to maximize efficiency please use a dataset\n",
      "  warnings.warn(\n",
      "/home/oruma001/envs/cs834_project/lib/python3.10/site-packages/transformers/pipelines/base.py:1123: UserWarning: You seem to be using the pipelines sequentially on GPU. In order to maximize efficiency please use a dataset\n",
      "  warnings.warn(\n"
     ]
    },
    {
     "name": "stdout",
     "output_type": "stream",
     "text": [
      "model 4 --- model 5 ---\n",
      "                                                text m1_label  m1_score  \\\n",
      "0  To do this, we leverage resuls from [2], [3], ...  neutral  0.998718   \n",
      "1  We also consider the popular data valuation ap...  neutral  0.999110   \n",
      "2  For larger datasets, since it is impractical t...  neutral  0.998483   \n",
      "3  For LC estimation, we use Monte Carlo (MC) app...  neutral  0.998909   \n",
      "4  In the experiment, when we talk about the LC, ...  neutral  0.998813   \n",
      "\n",
      "   m2_label  m2_score  m3_label  m3_score  m4_label  m4_score  m5_label  \\\n",
      "0  positive  0.810382  positive  0.568193  positive  0.636716  positive   \n",
      "1   neutral  0.997651   neutral  0.891309   neutral  0.856406   neutral   \n",
      "2   neutral  0.996990   neutral  0.957657   neutral  0.742407  negative   \n",
      "3   neutral  0.986107   neutral  0.955312   neutral  0.867865   neutral   \n",
      "4   neutral  0.995083   neutral  0.919721   neutral  0.862674   neutral   \n",
      "\n",
      "   m5_score majority_vote  \n",
      "0  0.409276      positive  \n",
      "1  0.623695       neutral  \n",
      "2  0.631123       neutral  \n",
      "3  0.591377       neutral  \n",
      "4  0.609109       neutral  \n",
      "sentiment_analysis/inferences_from_all_5_models/RS_032_MLRC_2022_32.csv saved\n",
      "\n",
      "\n",
      "\n",
      "\n"
     ]
    },
    {
     "name": "stderr",
     "output_type": "stream",
     "text": [
      "/home/oruma001/envs/cs834_project/lib/python3.10/site-packages/transformers/pipelines/base.py:1123: UserWarning: You seem to be using the pipelines sequentially on GPU. In order to maximize efficiency please use a dataset\n",
      "  warnings.warn(\n",
      "/home/oruma001/envs/cs834_project/lib/python3.10/site-packages/transformers/pipelines/base.py:1123: UserWarning: You seem to be using the pipelines sequentially on GPU. In order to maximize efficiency please use a dataset\n",
      "  warnings.warn(\n"
     ]
    },
    {
     "name": "stdout",
     "output_type": "stream",
     "text": [
      "RS_047_MLRC_2021_02.csv - model 1 --- "
     ]
    },
    {
     "name": "stderr",
     "output_type": "stream",
     "text": [
      "/home/oruma001/envs/cs834_project/lib/python3.10/site-packages/transformers/pipelines/base.py:1123: UserWarning: You seem to be using the pipelines sequentially on GPU. In order to maximize efficiency please use a dataset\n",
      "  warnings.warn(\n"
     ]
    },
    {
     "name": "stdout",
     "output_type": "stream",
     "text": [
      "model 2 --- "
     ]
    },
    {
     "name": "stderr",
     "output_type": "stream",
     "text": [
      "/home/oruma001/envs/cs834_project/lib/python3.10/site-packages/transformers/pipelines/base.py:1123: UserWarning: You seem to be using the pipelines sequentially on GPU. In order to maximize efficiency please use a dataset\n",
      "  warnings.warn(\n"
     ]
    },
    {
     "name": "stdout",
     "output_type": "stream",
     "text": [
      "model 3 --- "
     ]
    },
    {
     "name": "stderr",
     "output_type": "stream",
     "text": [
      "/home/oruma001/envs/cs834_project/lib/python3.10/site-packages/transformers/pipelines/base.py:1123: UserWarning: You seem to be using the pipelines sequentially on GPU. In order to maximize efficiency please use a dataset\n",
      "  warnings.warn(\n"
     ]
    },
    {
     "name": "stdout",
     "output_type": "stream",
     "text": [
      "model 4 --- "
     ]
    },
    {
     "name": "stderr",
     "output_type": "stream",
     "text": [
      "/home/oruma001/envs/cs834_project/lib/python3.10/site-packages/transformers/pipelines/base.py:1123: UserWarning: You seem to be using the pipelines sequentially on GPU. In order to maximize efficiency please use a dataset\n",
      "  warnings.warn(\n"
     ]
    },
    {
     "name": "stdout",
     "output_type": "stream",
     "text": [
      "model 5 ---\n",
      "                                                text m1_label  m1_score  \\\n",
      "0  Similar to the interpretation of image generat...  neutral  0.998992   \n",
      "1  We adopt this hypothesis from Schölkopf et al....  neutral  0.998886   \n",
      "2  , n}, X := g(Z) (5) U ∼ pU, Zi ∼ pZi ; ∀Zi ∈ Z...  neutral  0.998980   \n",
      "3  X Y Gdo({Z0}∪Zcnf ) [43, 15] Gdo(X) [16, 57, 1...  neutral  0.999189   \n",
      "4  Recall that we use CGN [19] to generate counte...  neutral  0.998899   \n",
      "\n",
      "  m2_label  m2_score m3_label  m3_score m4_label  m4_score  m5_label  \\\n",
      "0  neutral  0.993975  neutral  0.971033  neutral  0.925057   neutral   \n",
      "1  neutral  0.996331  neutral  0.956501  neutral  0.859875   neutral   \n",
      "2  neutral  0.997184  neutral  0.967278  neutral  0.780951  negative   \n",
      "3  neutral  0.981424  neutral  0.971272  neutral  0.920046   neutral   \n",
      "4  neutral  0.995837  neutral  0.967588  neutral  0.909668   neutral   \n",
      "\n",
      "   m5_score majority_vote  \n",
      "0  0.567100       neutral  \n",
      "1  0.509276       neutral  \n",
      "2  0.588431       neutral  \n",
      "3  0.685162       neutral  \n",
      "4  0.720147       neutral  \n",
      "sentiment_analysis/inferences_from_all_5_models/RS_047_MLRC_2021_02.csv saved\n",
      "\n",
      "\n",
      "\n",
      "\n"
     ]
    },
    {
     "name": "stderr",
     "output_type": "stream",
     "text": [
      "/home/oruma001/envs/cs834_project/lib/python3.10/site-packages/transformers/pipelines/base.py:1123: UserWarning: You seem to be using the pipelines sequentially on GPU. In order to maximize efficiency please use a dataset\n",
      "  warnings.warn(\n"
     ]
    },
    {
     "name": "stdout",
     "output_type": "stream",
     "text": [
      "RS_114_MLRC_2020_21.csv - model 1 --- "
     ]
    },
    {
     "name": "stderr",
     "output_type": "stream",
     "text": [
      "/home/oruma001/envs/cs834_project/lib/python3.10/site-packages/transformers/pipelines/base.py:1123: UserWarning: You seem to be using the pipelines sequentially on GPU. In order to maximize efficiency please use a dataset\n",
      "  warnings.warn(\n"
     ]
    },
    {
     "name": "stdout",
     "output_type": "stream",
     "text": [
      "model 2 --- "
     ]
    },
    {
     "name": "stderr",
     "output_type": "stream",
     "text": [
      "/home/oruma001/envs/cs834_project/lib/python3.10/site-packages/transformers/pipelines/base.py:1123: UserWarning: You seem to be using the pipelines sequentially on GPU. In order to maximize efficiency please use a dataset\n",
      "  warnings.warn(\n"
     ]
    },
    {
     "name": "stdout",
     "output_type": "stream",
     "text": [
      "model 3 --- "
     ]
    },
    {
     "name": "stderr",
     "output_type": "stream",
     "text": [
      "/home/oruma001/envs/cs834_project/lib/python3.10/site-packages/transformers/pipelines/base.py:1123: UserWarning: You seem to be using the pipelines sequentially on GPU. In order to maximize efficiency please use a dataset\n",
      "  warnings.warn(\n"
     ]
    },
    {
     "name": "stdout",
     "output_type": "stream",
     "text": [
      "model 4 --- "
     ]
    },
    {
     "name": "stderr",
     "output_type": "stream",
     "text": [
      "/home/oruma001/envs/cs834_project/lib/python3.10/site-packages/transformers/pipelines/base.py:1123: UserWarning: You seem to be using the pipelines sequentially on GPU. In order to maximize efficiency please use a dataset\n",
      "  warnings.warn(\n"
     ]
    },
    {
     "name": "stdout",
     "output_type": "stream",
     "text": [
      "model 5 ---\n",
      "                                                text m1_label  m1_score  \\\n",
      "0  If considering s0 > 0, the layerwise sparsity ...  neutral  0.998548   \n",
      "1  PruneFL starts with a pre-selected node to tra...  neutral  0.998825   \n",
      "2  Similar to the previous studies [25, 31, 32, 3...  neutral  0.998921   \n",
      "3  We know that uniform initialization assigns eq...  neutral  0.998632   \n",
      "4  Table 1: Classification accuracy of sparse NNs...  neutral  0.999063   \n",
      "\n",
      "  m2_label  m2_score m3_label  m3_score m4_label  m4_score  m5_label  \\\n",
      "0  neutral  0.993686  neutral  0.971954  neutral  0.876797   neutral   \n",
      "1  neutral  0.997850  neutral  0.970994  neutral  0.924136   neutral   \n",
      "2  neutral  0.991715  neutral  0.962990  neutral  0.901067   neutral   \n",
      "3  neutral  0.996638  neutral  0.944817  neutral  0.859749  negative   \n",
      "4  neutral  0.945075  neutral  0.955313  neutral  0.790903   neutral   \n",
      "\n",
      "   m5_score majority_vote  \n",
      "0  0.573060       neutral  \n",
      "1  0.709611       neutral  \n",
      "2  0.617792       neutral  \n",
      "3  0.503938       neutral  \n",
      "4  0.505659       neutral  \n",
      "sentiment_analysis/inferences_from_all_5_models/RS_114_MLRC_2020_21.csv saved\n",
      "\n",
      "\n",
      "\n",
      "\n",
      "RS_030_MLRC_2022_30.csv - model 1 --- model 2 --- model 3 --- model 4 --- "
     ]
    },
    {
     "name": "stderr",
     "output_type": "stream",
     "text": [
      "/home/oruma001/envs/cs834_project/lib/python3.10/site-packages/transformers/pipelines/base.py:1123: UserWarning: You seem to be using the pipelines sequentially on GPU. In order to maximize efficiency please use a dataset\n",
      "  warnings.warn(\n",
      "/home/oruma001/envs/cs834_project/lib/python3.10/site-packages/transformers/pipelines/base.py:1123: UserWarning: You seem to be using the pipelines sequentially on GPU. In order to maximize efficiency please use a dataset\n",
      "  warnings.warn(\n",
      "/home/oruma001/envs/cs834_project/lib/python3.10/site-packages/transformers/pipelines/base.py:1123: UserWarning: You seem to be using the pipelines sequentially on GPU. In order to maximize efficiency please use a dataset\n",
      "  warnings.warn(\n",
      "/home/oruma001/envs/cs834_project/lib/python3.10/site-packages/transformers/pipelines/base.py:1123: UserWarning: You seem to be using the pipelines sequentially on GPU. In order to maximize efficiency please use a dataset\n",
      "  warnings.warn(\n",
      "/home/oruma001/envs/cs834_project/lib/python3.10/site-packages/transformers/pipelines/base.py:1123: UserWarning: You seem to be using the pipelines sequentially on GPU. In order to maximize efficiency please use a dataset\n",
      "  warnings.warn(\n",
      "/home/oruma001/envs/cs834_project/lib/python3.10/site-packages/transformers/pipelines/base.py:1123: UserWarning: You seem to be using the pipelines sequentially on GPU. In order to maximize efficiency please use a dataset\n",
      "  warnings.warn(\n"
     ]
    },
    {
     "name": "stdout",
     "output_type": "stream",
     "text": [
      "model 5 ---\n",
      "                                                text m1_label  m1_score  \\\n",
      "0  It is also a natural upper bound for certified...  neutral  0.998893   \n",
      "\n",
      "  m2_label  m2_score m3_label  m3_score m4_label  m4_score  m5_label  \\\n",
      "0  neutral  0.994924  neutral  0.872736  neutral  0.571465  negative   \n",
      "\n",
      "   m5_score majority_vote  \n",
      "0  0.444805       neutral  \n",
      "sentiment_analysis/inferences_from_all_5_models/RS_030_MLRC_2022_30.csv saved\n",
      "\n",
      "\n",
      "\n",
      "\n",
      "RS_106_MLRC_2020_13.csv - model 1 --- model 2 --- "
     ]
    },
    {
     "name": "stderr",
     "output_type": "stream",
     "text": [
      "/home/oruma001/envs/cs834_project/lib/python3.10/site-packages/transformers/pipelines/base.py:1123: UserWarning: You seem to be using the pipelines sequentially on GPU. In order to maximize efficiency please use a dataset\n",
      "  warnings.warn(\n",
      "/home/oruma001/envs/cs834_project/lib/python3.10/site-packages/transformers/pipelines/base.py:1123: UserWarning: You seem to be using the pipelines sequentially on GPU. In order to maximize efficiency please use a dataset\n",
      "  warnings.warn(\n"
     ]
    },
    {
     "name": "stdout",
     "output_type": "stream",
     "text": [
      "model 3 --- "
     ]
    },
    {
     "name": "stderr",
     "output_type": "stream",
     "text": [
      "/home/oruma001/envs/cs834_project/lib/python3.10/site-packages/transformers/pipelines/base.py:1123: UserWarning: You seem to be using the pipelines sequentially on GPU. In order to maximize efficiency please use a dataset\n",
      "  warnings.warn(\n"
     ]
    },
    {
     "name": "stdout",
     "output_type": "stream",
     "text": [
      "model 4 --- model 5 ---\n",
      "                                                text m1_label  m1_score  \\\n",
      "0  …we show that LogitClip can boost the performa...  neutral  0.998899   \n",
      "1  Domain adaptation (DA) [15, 18, 22, 31] reliev...  neutral  0.998580   \n",
      "2  We also compare with Co-teaching[9], which is ...  neutral  0.999060   \n",
      "3  We also compare with Co-teaching[9], which is ...  neutral  0.999061   \n",
      "4  As shown in Table 4, our method works better t...  neutral  0.998272   \n",
      "\n",
      "   m2_label  m2_score  m3_label  m3_score  m4_label  m4_score  m5_label  \\\n",
      "0  positive  0.981781  positive  0.863539   neutral  0.530255  positive   \n",
      "1  positive  0.678429  positive  0.712325  positive  0.501203  negative   \n",
      "2   neutral  0.985504   neutral  0.947334   neutral  0.898086   neutral   \n",
      "3   neutral  0.987841   neutral  0.950126   neutral  0.893087   neutral   \n",
      "4   neutral  0.634793  positive  0.973421  positive  0.826013  positive   \n",
      "\n",
      "   m5_score majority_vote  \n",
      "0  0.427025      positive  \n",
      "1  0.483932      positive  \n",
      "2  0.596608       neutral  \n",
      "3  0.573510       neutral  \n",
      "4  0.752427      positive  \n"
     ]
    },
    {
     "name": "stderr",
     "output_type": "stream",
     "text": [
      "/home/oruma001/envs/cs834_project/lib/python3.10/site-packages/transformers/pipelines/base.py:1123: UserWarning: You seem to be using the pipelines sequentially on GPU. In order to maximize efficiency please use a dataset\n",
      "  warnings.warn(\n"
     ]
    },
    {
     "name": "stdout",
     "output_type": "stream",
     "text": [
      "sentiment_analysis/inferences_from_all_5_models/RS_106_MLRC_2020_13.csv saved\n",
      "\n",
      "\n",
      "\n",
      "\n"
     ]
    },
    {
     "name": "stderr",
     "output_type": "stream",
     "text": [
      "/home/oruma001/envs/cs834_project/lib/python3.10/site-packages/transformers/pipelines/base.py:1123: UserWarning: You seem to be using the pipelines sequentially on GPU. In order to maximize efficiency please use a dataset\n",
      "  warnings.warn(\n"
     ]
    },
    {
     "name": "stdout",
     "output_type": "stream",
     "text": [
      "RS_012_MLRC_2022_12.csv - model 1 --- model 2 --- model 3 --- "
     ]
    },
    {
     "name": "stderr",
     "output_type": "stream",
     "text": [
      "/home/oruma001/envs/cs834_project/lib/python3.10/site-packages/transformers/pipelines/base.py:1123: UserWarning: You seem to be using the pipelines sequentially on GPU. In order to maximize efficiency please use a dataset\n",
      "  warnings.warn(\n",
      "/home/oruma001/envs/cs834_project/lib/python3.10/site-packages/transformers/pipelines/base.py:1123: UserWarning: You seem to be using the pipelines sequentially on GPU. In order to maximize efficiency please use a dataset\n",
      "  warnings.warn(\n",
      "/home/oruma001/envs/cs834_project/lib/python3.10/site-packages/transformers/pipelines/base.py:1123: UserWarning: You seem to be using the pipelines sequentially on GPU. In order to maximize efficiency please use a dataset\n",
      "  warnings.warn(\n"
     ]
    },
    {
     "name": "stdout",
     "output_type": "stream",
     "text": [
      "model 4 --- model 5 ---\n",
      "                                                text m1_label  m1_score  \\\n",
      "0  Finally, we also tried to compare with the cod...  neutral  0.999209   \n",
      "1  METHOD FT FOCUS FACE NN\\nVALIDITY 72.9% 72.8% ...  neutral  0.998872   \n",
      "2  …after generating counterfactuals using any of...  neutral  0.998953   \n",
      "3  METHOD L1 COST VALIDITY LOF\\nCCF 3.05 99.9% 1....  neutral  0.998963   \n",
      "4  Our proposed strategy is a post-processing one...  neutral  0.998897   \n",
      "\n",
      "  m2_label  m2_score m3_label  m3_score m4_label  m4_score  m5_label  \\\n",
      "0  neutral  0.996063  neutral  0.949625  neutral  0.916580   neutral   \n",
      "1  neutral  0.925399  neutral  0.970731  neutral  0.882634  negative   \n",
      "2  neutral  0.996381  neutral  0.977055  neutral  0.932786   neutral   \n",
      "3  neutral  0.977999  neutral  0.974442  neutral  0.714053   neutral   \n",
      "4  neutral  0.993474  neutral  0.952970  neutral  0.918540   neutral   \n",
      "\n",
      "   m5_score majority_vote  \n",
      "0  0.605031       neutral  \n",
      "1  0.551081       neutral  \n",
      "2  0.529156       neutral  \n",
      "3  0.696786       neutral  \n",
      "4  0.465345       neutral  \n",
      "sentiment_analysis/inferences_from_all_5_models/RS_012_MLRC_2022_12.csv saved\n",
      "\n",
      "\n",
      "\n",
      "\n"
     ]
    },
    {
     "name": "stderr",
     "output_type": "stream",
     "text": [
      "/home/oruma001/envs/cs834_project/lib/python3.10/site-packages/transformers/pipelines/base.py:1123: UserWarning: You seem to be using the pipelines sequentially on GPU. In order to maximize efficiency please use a dataset\n",
      "  warnings.warn(\n",
      "/home/oruma001/envs/cs834_project/lib/python3.10/site-packages/transformers/pipelines/base.py:1123: UserWarning: You seem to be using the pipelines sequentially on GPU. In order to maximize efficiency please use a dataset\n",
      "  warnings.warn(\n"
     ]
    },
    {
     "name": "stdout",
     "output_type": "stream",
     "text": [
      "RS_014_MLRC_2022_14.csv - model 1 --- model 2 --- "
     ]
    },
    {
     "name": "stderr",
     "output_type": "stream",
     "text": [
      "/home/oruma001/envs/cs834_project/lib/python3.10/site-packages/transformers/pipelines/base.py:1123: UserWarning: You seem to be using the pipelines sequentially on GPU. In order to maximize efficiency please use a dataset\n",
      "  warnings.warn(\n",
      "/home/oruma001/envs/cs834_project/lib/python3.10/site-packages/transformers/pipelines/base.py:1123: UserWarning: You seem to be using the pipelines sequentially on GPU. In order to maximize efficiency please use a dataset\n",
      "  warnings.warn(\n"
     ]
    },
    {
     "name": "stdout",
     "output_type": "stream",
     "text": [
      "model 3 --- model 4 --- "
     ]
    },
    {
     "name": "stderr",
     "output_type": "stream",
     "text": [
      "/home/oruma001/envs/cs834_project/lib/python3.10/site-packages/transformers/pipelines/base.py:1123: UserWarning: You seem to be using the pipelines sequentially on GPU. In order to maximize efficiency please use a dataset\n",
      "  warnings.warn(\n",
      "/home/oruma001/envs/cs834_project/lib/python3.10/site-packages/transformers/pipelines/base.py:1123: UserWarning: You seem to be using the pipelines sequentially on GPU. In order to maximize efficiency please use a dataset\n",
      "  warnings.warn(\n"
     ]
    },
    {
     "name": "stdout",
     "output_type": "stream",
     "text": [
      "model 5 ---\n",
      "                                                text m1_label  m1_score  \\\n",
      "0  The outputs of each system on the SAMSum test ...  neutral  0.998814   \n",
      "1  DialSummEval: Revisiting summarization evaluat...  neutral  0.999020   \n",
      "2  The DialSummEval (Gao and Wan, 2022) benchmark...  neutral  0.999091   \n",
      "3  The DialSummEval (Gao and Wan, 2022) benchmark...  neutral  0.999137   \n",
      "4  , 2022) and DialSummEval (Gao and Wan, 2022) a...  neutral  0.999061   \n",
      "\n",
      "  m2_label  m2_score m3_label  m3_score m4_label  m4_score m5_label  m5_score  \\\n",
      "0  neutral  0.997835  neutral  0.970161  neutral  0.904457  neutral  0.729558   \n",
      "1  neutral  0.995930  neutral  0.973602  neutral  0.928476  neutral  0.582966   \n",
      "2  neutral  0.997695  neutral  0.972930  neutral  0.863906  neutral  0.659713   \n",
      "3  neutral  0.997647  neutral  0.973183  neutral  0.890374  neutral  0.606821   \n",
      "4  neutral  0.995717  neutral  0.941162  neutral  0.612905  neutral  0.425291   \n",
      "\n",
      "  majority_vote  \n",
      "0       neutral  \n",
      "1       neutral  \n",
      "2       neutral  \n",
      "3       neutral  \n",
      "4       neutral  \n",
      "sentiment_analysis/inferences_from_all_5_models/RS_014_MLRC_2022_14.csv saved\n",
      "\n",
      "\n",
      "\n",
      "\n"
     ]
    },
    {
     "name": "stderr",
     "output_type": "stream",
     "text": [
      "/home/oruma001/envs/cs834_project/lib/python3.10/site-packages/transformers/pipelines/base.py:1123: UserWarning: You seem to be using the pipelines sequentially on GPU. In order to maximize efficiency please use a dataset\n",
      "  warnings.warn(\n"
     ]
    },
    {
     "name": "stdout",
     "output_type": "stream",
     "text": [
      "RS_099_MLRC_2020_06.csv - model 1 --- "
     ]
    },
    {
     "name": "stderr",
     "output_type": "stream",
     "text": [
      "/home/oruma001/envs/cs834_project/lib/python3.10/site-packages/transformers/pipelines/base.py:1123: UserWarning: You seem to be using the pipelines sequentially on GPU. In order to maximize efficiency please use a dataset\n",
      "  warnings.warn(\n"
     ]
    },
    {
     "name": "stdout",
     "output_type": "stream",
     "text": [
      "model 2 --- "
     ]
    },
    {
     "name": "stderr",
     "output_type": "stream",
     "text": [
      "/home/oruma001/envs/cs834_project/lib/python3.10/site-packages/transformers/pipelines/base.py:1123: UserWarning: You seem to be using the pipelines sequentially on GPU. In order to maximize efficiency please use a dataset\n",
      "  warnings.warn(\n"
     ]
    },
    {
     "name": "stdout",
     "output_type": "stream",
     "text": [
      "model 3 --- "
     ]
    },
    {
     "name": "stderr",
     "output_type": "stream",
     "text": [
      "/home/oruma001/envs/cs834_project/lib/python3.10/site-packages/transformers/pipelines/base.py:1123: UserWarning: You seem to be using the pipelines sequentially on GPU. In order to maximize efficiency please use a dataset\n",
      "  warnings.warn(\n"
     ]
    },
    {
     "name": "stdout",
     "output_type": "stream",
     "text": [
      "model 4 --- "
     ]
    },
    {
     "name": "stderr",
     "output_type": "stream",
     "text": [
      "/home/oruma001/envs/cs834_project/lib/python3.10/site-packages/transformers/pipelines/base.py:1123: UserWarning: You seem to be using the pipelines sequentially on GPU. In order to maximize efficiency please use a dataset\n",
      "  warnings.warn(\n"
     ]
    },
    {
     "name": "stdout",
     "output_type": "stream",
     "text": [
      "model 5 ---\n",
      "                                                text m1_label  m1_score  \\\n",
      "0                    First, we extract tLS from ViT.  neutral  0.997931   \n",
      "1  V iT (·) denotes the output vector of the ViT ...  neutral  0.998782   \n",
      "2  We firstly generate the patch tokens tLS by re...  neutral  0.998506   \n",
      "3  To compute the weight scores w for each pertur...  neutral  0.998689   \n",
      "4  2) Implementation Details: In our experiments,...  neutral  0.998893   \n",
      "\n",
      "   m2_label  m2_score m3_label  m3_score m4_label  m4_score  m5_label  \\\n",
      "0   neutral  0.997190  neutral  0.958348  neutral  0.955259   neutral   \n",
      "1   neutral  0.973323  neutral  0.973300  neutral  0.906708   neutral   \n",
      "2  negative  0.937765  neutral  0.974112  neutral  0.888224  negative   \n",
      "3   neutral  0.997455  neutral  0.973196  neutral  0.903540   neutral   \n",
      "4   neutral  0.939383  neutral  0.777222  neutral  0.607702  positive   \n",
      "\n",
      "   m5_score majority_vote  \n",
      "0  0.688979       neutral  \n",
      "1  0.602389       neutral  \n",
      "2  0.781383       neutral  \n",
      "3  0.625297       neutral  \n",
      "4  0.607243       neutral  \n",
      "sentiment_analysis/inferences_from_all_5_models/RS_099_MLRC_2020_06.csv saved\n",
      "\n",
      "\n",
      "\n",
      "\n"
     ]
    },
    {
     "name": "stderr",
     "output_type": "stream",
     "text": [
      "/home/oruma001/envs/cs834_project/lib/python3.10/site-packages/transformers/pipelines/base.py:1123: UserWarning: You seem to be using the pipelines sequentially on GPU. In order to maximize efficiency please use a dataset\n",
      "  warnings.warn(\n"
     ]
    },
    {
     "name": "stdout",
     "output_type": "stream",
     "text": [
      "RS_103_MLRC_2020_10.csv - model 1 --- "
     ]
    },
    {
     "name": "stderr",
     "output_type": "stream",
     "text": [
      "/home/oruma001/envs/cs834_project/lib/python3.10/site-packages/transformers/pipelines/base.py:1123: UserWarning: You seem to be using the pipelines sequentially on GPU. In order to maximize efficiency please use a dataset\n",
      "  warnings.warn(\n"
     ]
    },
    {
     "name": "stdout",
     "output_type": "stream",
     "text": [
      "model 2 --- "
     ]
    },
    {
     "name": "stderr",
     "output_type": "stream",
     "text": [
      "/home/oruma001/envs/cs834_project/lib/python3.10/site-packages/transformers/pipelines/base.py:1123: UserWarning: You seem to be using the pipelines sequentially on GPU. In order to maximize efficiency please use a dataset\n",
      "  warnings.warn(\n"
     ]
    },
    {
     "name": "stdout",
     "output_type": "stream",
     "text": [
      "model 3 --- "
     ]
    },
    {
     "name": "stderr",
     "output_type": "stream",
     "text": [
      "/home/oruma001/envs/cs834_project/lib/python3.10/site-packages/transformers/pipelines/base.py:1123: UserWarning: You seem to be using the pipelines sequentially on GPU. In order to maximize efficiency please use a dataset\n",
      "  warnings.warn(\n"
     ]
    },
    {
     "name": "stdout",
     "output_type": "stream",
     "text": [
      "model 4 --- "
     ]
    },
    {
     "name": "stderr",
     "output_type": "stream",
     "text": [
      "/home/oruma001/envs/cs834_project/lib/python3.10/site-packages/transformers/pipelines/base.py:1123: UserWarning: You seem to be using the pipelines sequentially on GPU. In order to maximize efficiency please use a dataset\n",
      "  warnings.warn(\n"
     ]
    },
    {
     "name": "stdout",
     "output_type": "stream",
     "text": [
      "model 5 ---\n",
      "                                                text m1_label  m1_score  \\\n",
      "0  Therefore, Uep = H( 1 M ∑M i=1 p ) − 1 M ∑M i=...  neutral  0.998810   \n",
      "1  For Type (b), the unification operators are ap...  neutral  0.998944   \n",
      "2  (1), while EnD2 is a variant of EnD elaborated...  neutral  0.998974   \n",
      "3  Detection of Unreliable Task under Various Sou...  neutral  0.998919   \n",
      "4  single DNN to explicitly model a distribution ...  neutral  0.998789   \n",
      "\n",
      "   m2_label  m2_score m3_label  m3_score  m4_label  m4_score  m5_label  \\\n",
      "0   neutral  0.991840  neutral  0.974783   neutral  0.896751   neutral   \n",
      "1  positive  0.930973  neutral  0.912104  positive  0.485542   neutral   \n",
      "2   neutral  0.990593  neutral  0.968079   neutral  0.936292   neutral   \n",
      "3   neutral  0.992736  neutral  0.961901   neutral  0.533660  negative   \n",
      "4   neutral  0.996355  neutral  0.973701   neutral  0.952434   neutral   \n",
      "\n",
      "   m5_score majority_vote  \n",
      "0  0.570418       neutral  \n",
      "1  0.428707       neutral  \n",
      "2  0.737990       neutral  \n",
      "3  0.892253       neutral  \n",
      "4  0.623663       neutral  \n",
      "sentiment_analysis/inferences_from_all_5_models/RS_103_MLRC_2020_10.csv saved\n",
      "\n",
      "\n",
      "\n",
      "\n"
     ]
    },
    {
     "name": "stderr",
     "output_type": "stream",
     "text": [
      "/home/oruma001/envs/cs834_project/lib/python3.10/site-packages/transformers/pipelines/base.py:1123: UserWarning: You seem to be using the pipelines sequentially on GPU. In order to maximize efficiency please use a dataset\n",
      "  warnings.warn(\n"
     ]
    },
    {
     "name": "stdout",
     "output_type": "stream",
     "text": [
      "RS_123_NeurIPS_2019_06.csv - model 1 --- "
     ]
    },
    {
     "name": "stderr",
     "output_type": "stream",
     "text": [
      "/home/oruma001/envs/cs834_project/lib/python3.10/site-packages/transformers/pipelines/base.py:1123: UserWarning: You seem to be using the pipelines sequentially on GPU. In order to maximize efficiency please use a dataset\n",
      "  warnings.warn(\n"
     ]
    },
    {
     "name": "stdout",
     "output_type": "stream",
     "text": [
      "model 2 --- "
     ]
    },
    {
     "name": "stderr",
     "output_type": "stream",
     "text": [
      "/home/oruma001/envs/cs834_project/lib/python3.10/site-packages/transformers/pipelines/base.py:1123: UserWarning: You seem to be using the pipelines sequentially on GPU. In order to maximize efficiency please use a dataset\n",
      "  warnings.warn(\n"
     ]
    },
    {
     "name": "stdout",
     "output_type": "stream",
     "text": [
      "model 3 --- "
     ]
    },
    {
     "name": "stderr",
     "output_type": "stream",
     "text": [
      "/home/oruma001/envs/cs834_project/lib/python3.10/site-packages/transformers/pipelines/base.py:1123: UserWarning: You seem to be using the pipelines sequentially on GPU. In order to maximize efficiency please use a dataset\n",
      "  warnings.warn(\n"
     ]
    },
    {
     "name": "stdout",
     "output_type": "stream",
     "text": [
      "model 4 --- "
     ]
    },
    {
     "name": "stderr",
     "output_type": "stream",
     "text": [
      "/home/oruma001/envs/cs834_project/lib/python3.10/site-packages/transformers/pipelines/base.py:1123: UserWarning: You seem to be using the pipelines sequentially on GPU. In order to maximize efficiency please use a dataset\n",
      "  warnings.warn(\n"
     ]
    },
    {
     "name": "stdout",
     "output_type": "stream",
     "text": [
      "model 5 ---\n",
      "                                                text m1_label  m1_score  \\\n",
      "0  Given the positions and velocities as a functi...  neutral  0.998652   \n",
      "1  Note that this set up is different from the or...  neutral  0.999013   \n",
      "2  For the model, we are using Hamiltonian neural...  neutral  0.998985   \n",
      "3  We adapt Hamiltonian neural networks (HNNs) [2...  neutral  0.998635   \n",
      "4  Our work emulates theirs, by embedding Hamilto...  neutral  0.998780   \n",
      "\n",
      "  m2_label  m2_score m3_label  m3_score m4_label  m4_score  m5_label  \\\n",
      "0  neutral  0.996736  neutral  0.935445  neutral  0.824321   neutral   \n",
      "1  neutral  0.997122  neutral  0.960455  neutral  0.894009   neutral   \n",
      "2  neutral  0.995376  neutral  0.940517  neutral  0.916544  negative   \n",
      "3  neutral  0.936901  neutral  0.953844  neutral  0.911930   neutral   \n",
      "4  neutral  0.996644  neutral  0.937460  neutral  0.877619   neutral   \n",
      "\n",
      "   m5_score majority_vote  \n",
      "0  0.520270       neutral  \n",
      "1  0.544822       neutral  \n",
      "2  0.530142       neutral  \n",
      "3  0.576249       neutral  \n",
      "4  0.414090       neutral  \n",
      "sentiment_analysis/inferences_from_all_5_models/RS_123_NeurIPS_2019_06.csv saved\n",
      "\n",
      "\n",
      "\n",
      "\n"
     ]
    },
    {
     "name": "stderr",
     "output_type": "stream",
     "text": [
      "/home/oruma001/envs/cs834_project/lib/python3.10/site-packages/transformers/pipelines/base.py:1123: UserWarning: You seem to be using the pipelines sequentially on GPU. In order to maximize efficiency please use a dataset\n",
      "  warnings.warn(\n"
     ]
    },
    {
     "name": "stdout",
     "output_type": "stream",
     "text": [
      "RS_056_MLRC_2021_11.csv - model 1 --- model 2 --- "
     ]
    },
    {
     "name": "stderr",
     "output_type": "stream",
     "text": [
      "/home/oruma001/envs/cs834_project/lib/python3.10/site-packages/transformers/pipelines/base.py:1123: UserWarning: You seem to be using the pipelines sequentially on GPU. In order to maximize efficiency please use a dataset\n",
      "  warnings.warn(\n",
      "/home/oruma001/envs/cs834_project/lib/python3.10/site-packages/transformers/pipelines/base.py:1123: UserWarning: You seem to be using the pipelines sequentially on GPU. In order to maximize efficiency please use a dataset\n",
      "  warnings.warn(\n"
     ]
    },
    {
     "name": "stdout",
     "output_type": "stream",
     "text": [
      "model 3 --- "
     ]
    },
    {
     "name": "stderr",
     "output_type": "stream",
     "text": [
      "/home/oruma001/envs/cs834_project/lib/python3.10/site-packages/transformers/pipelines/base.py:1123: UserWarning: You seem to be using the pipelines sequentially on GPU. In order to maximize efficiency please use a dataset\n",
      "  warnings.warn(\n"
     ]
    },
    {
     "name": "stdout",
     "output_type": "stream",
     "text": [
      "model 4 --- model 5 ---\n",
      "                                                text m1_label  m1_score  \\\n",
      "0  We use the following backbones: ResNet20, ResN...  neutral  0.998749   \n",
      "1  In (A), according to PSNR, MSE, SSIM and LPIPS...  neutral  0.989535   \n",
      "2  For each dataset and architecture, we consider...  neutral  0.998865   \n",
      "3  TABLE VI COMPARISONS BETWEEN POLICIES CHOSEN F...  neutral  0.998832   \n",
      "4  Besides, we can also follow the works [48] to ...  neutral  0.998713   \n",
      "\n",
      "  m2_label  m2_score m3_label  m3_score m4_label  m4_score  m5_label  \\\n",
      "0  neutral  0.997124  neutral  0.908368  neutral  0.912711   neutral   \n",
      "1  neutral  0.936462  neutral  0.896953  neutral  0.891283  negative   \n",
      "2  neutral  0.997486  neutral  0.952200  neutral  0.908214   neutral   \n",
      "3  neutral  0.997330  neutral  0.971763  neutral  0.914160   neutral   \n",
      "4  neutral  0.830559  neutral  0.961074  neutral  0.777586   neutral   \n",
      "\n",
      "   m5_score majority_vote  \n",
      "0  0.585794       neutral  \n",
      "1  0.574304       neutral  \n",
      "2  0.610831       neutral  \n",
      "3  0.757859       neutral  \n",
      "4  0.532438       neutral  \n",
      "sentiment_analysis/inferences_from_all_5_models/RS_056_MLRC_2021_11.csv saved\n",
      "\n",
      "\n",
      "\n",
      "\n"
     ]
    },
    {
     "name": "stderr",
     "output_type": "stream",
     "text": [
      "/home/oruma001/envs/cs834_project/lib/python3.10/site-packages/transformers/pipelines/base.py:1123: UserWarning: You seem to be using the pipelines sequentially on GPU. In order to maximize efficiency please use a dataset\n",
      "  warnings.warn(\n",
      "/home/oruma001/envs/cs834_project/lib/python3.10/site-packages/transformers/pipelines/base.py:1123: UserWarning: You seem to be using the pipelines sequentially on GPU. In order to maximize efficiency please use a dataset\n",
      "  warnings.warn(\n"
     ]
    },
    {
     "name": "stdout",
     "output_type": "stream",
     "text": [
      "RS_078_MLRC_2021_33.csv - model 1 --- model 2 --- "
     ]
    },
    {
     "name": "stderr",
     "output_type": "stream",
     "text": [
      "/home/oruma001/envs/cs834_project/lib/python3.10/site-packages/transformers/pipelines/base.py:1123: UserWarning: You seem to be using the pipelines sequentially on GPU. In order to maximize efficiency please use a dataset\n",
      "  warnings.warn(\n",
      "/home/oruma001/envs/cs834_project/lib/python3.10/site-packages/transformers/pipelines/base.py:1123: UserWarning: You seem to be using the pipelines sequentially on GPU. In order to maximize efficiency please use a dataset\n",
      "  warnings.warn(\n"
     ]
    },
    {
     "name": "stdout",
     "output_type": "stream",
     "text": [
      "model 3 --- model 4 --- "
     ]
    },
    {
     "name": "stderr",
     "output_type": "stream",
     "text": [
      "/home/oruma001/envs/cs834_project/lib/python3.10/site-packages/transformers/pipelines/base.py:1123: UserWarning: You seem to be using the pipelines sequentially on GPU. In order to maximize efficiency please use a dataset\n",
      "  warnings.warn(\n",
      "/home/oruma001/envs/cs834_project/lib/python3.10/site-packages/transformers/pipelines/base.py:1123: UserWarning: You seem to be using the pipelines sequentially on GPU. In order to maximize efficiency please use a dataset\n",
      "  warnings.warn(\n"
     ]
    },
    {
     "name": "stdout",
     "output_type": "stream",
     "text": [
      "model 5 ---\n",
      "                                                text m1_label  m1_score  \\\n",
      "0  (4) FSCS [41] adopted the conditional mutual i...  neutral  0.999094   \n",
      "1  …(a) the area under the majority MSE vs. cover...  neutral  0.999065   \n",
      "2  …end for for each batch do\\n# update feature e...  neutral  0.998804   \n",
      "3  In Section 6, we compared the different algori...  neutral  0.999048   \n",
      "4  upper bound for I(Y ;D|Φ(X)) from (Lee et al.,...  neutral  0.999071   \n",
      "\n",
      "  m2_label  m2_score m3_label  m3_score m4_label  m4_score m5_label  m5_score  \\\n",
      "0  neutral  0.991626  neutral  0.844760  neutral  0.589813  neutral  0.588437   \n",
      "1  neutral  0.996692  neutral  0.974855  neutral  0.888485  neutral  0.682345   \n",
      "2  neutral  0.995983  neutral  0.977648  neutral  0.855556  neutral  0.579031   \n",
      "3  neutral  0.985553  neutral  0.938296  neutral  0.604054  neutral  0.424245   \n",
      "4  neutral  0.997309  neutral  0.979855  neutral  0.911389  neutral  0.628526   \n",
      "\n",
      "  majority_vote  \n",
      "0       neutral  \n",
      "1       neutral  \n",
      "2       neutral  \n",
      "3       neutral  \n",
      "4       neutral  \n",
      "sentiment_analysis/inferences_from_all_5_models/RS_078_MLRC_2021_33.csv saved\n",
      "\n",
      "\n",
      "\n",
      "\n",
      "RS_020_MLRC_2022_20.csv - model 1 --- model 2 --- model 3 --- model 4 --- model 5 ---\n",
      "                                                text m1_label  m1_score  \\\n",
      "0  0K gender, age, occupation category timestamps...  neutral  0.999044   \n",
      "\n",
      "  m2_label  m2_score m3_label  m3_score m4_label  m4_score m5_label  m5_score  \\\n",
      "0  neutral  0.962421  neutral  0.978618  neutral  0.951352  neutral  0.721088   \n",
      "\n",
      "  majority_vote  \n",
      "0       neutral  \n",
      "sentiment_analysis/inferences_from_all_5_models/RS_020_MLRC_2022_20.csv saved\n",
      "\n",
      "\n",
      "\n",
      "\n"
     ]
    },
    {
     "name": "stderr",
     "output_type": "stream",
     "text": [
      "/home/oruma001/envs/cs834_project/lib/python3.10/site-packages/transformers/pipelines/base.py:1123: UserWarning: You seem to be using the pipelines sequentially on GPU. In order to maximize efficiency please use a dataset\n",
      "  warnings.warn(\n",
      "/home/oruma001/envs/cs834_project/lib/python3.10/site-packages/transformers/pipelines/base.py:1123: UserWarning: You seem to be using the pipelines sequentially on GPU. In order to maximize efficiency please use a dataset\n",
      "  warnings.warn(\n",
      "/home/oruma001/envs/cs834_project/lib/python3.10/site-packages/transformers/pipelines/base.py:1123: UserWarning: You seem to be using the pipelines sequentially on GPU. In order to maximize efficiency please use a dataset\n",
      "  warnings.warn(\n",
      "/home/oruma001/envs/cs834_project/lib/python3.10/site-packages/transformers/pipelines/base.py:1123: UserWarning: You seem to be using the pipelines sequentially on GPU. In order to maximize efficiency please use a dataset\n",
      "  warnings.warn(\n",
      "/home/oruma001/envs/cs834_project/lib/python3.10/site-packages/transformers/pipelines/base.py:1123: UserWarning: You seem to be using the pipelines sequentially on GPU. In order to maximize efficiency please use a dataset\n",
      "  warnings.warn(\n",
      "/home/oruma001/envs/cs834_project/lib/python3.10/site-packages/transformers/pipelines/base.py:1123: UserWarning: You seem to be using the pipelines sequentially on GPU. In order to maximize efficiency please use a dataset\n",
      "  warnings.warn(\n"
     ]
    },
    {
     "name": "stdout",
     "output_type": "stream",
     "text": [
      "RS_060_MLRC_2021_15.csv - model 1 --- "
     ]
    },
    {
     "name": "stderr",
     "output_type": "stream",
     "text": [
      "/home/oruma001/envs/cs834_project/lib/python3.10/site-packages/transformers/pipelines/base.py:1123: UserWarning: You seem to be using the pipelines sequentially on GPU. In order to maximize efficiency please use a dataset\n",
      "  warnings.warn(\n"
     ]
    },
    {
     "name": "stdout",
     "output_type": "stream",
     "text": [
      "model 2 --- "
     ]
    },
    {
     "name": "stderr",
     "output_type": "stream",
     "text": [
      "/home/oruma001/envs/cs834_project/lib/python3.10/site-packages/transformers/pipelines/base.py:1123: UserWarning: You seem to be using the pipelines sequentially on GPU. In order to maximize efficiency please use a dataset\n",
      "  warnings.warn(\n"
     ]
    },
    {
     "name": "stdout",
     "output_type": "stream",
     "text": [
      "model 3 --- "
     ]
    },
    {
     "name": "stderr",
     "output_type": "stream",
     "text": [
      "/home/oruma001/envs/cs834_project/lib/python3.10/site-packages/transformers/pipelines/base.py:1123: UserWarning: You seem to be using the pipelines sequentially on GPU. In order to maximize efficiency please use a dataset\n",
      "  warnings.warn(\n"
     ]
    },
    {
     "name": "stdout",
     "output_type": "stream",
     "text": [
      "model 4 --- "
     ]
    },
    {
     "name": "stderr",
     "output_type": "stream",
     "text": [
      "/home/oruma001/envs/cs834_project/lib/python3.10/site-packages/transformers/pipelines/base.py:1123: UserWarning: You seem to be using the pipelines sequentially on GPU. In order to maximize efficiency please use a dataset\n",
      "  warnings.warn(\n"
     ]
    },
    {
     "name": "stdout",
     "output_type": "stream",
     "text": [
      "model 5 ---\n",
      "                                                text m1_label  m1_score  \\\n",
      "0  To accurately measure the model’s dependence o...  neutral  0.998205   \n",
      "1  The work of (Lang et al. 2021) proposes a trai...  neutral  0.999025   \n",
      "2  Domain Adaptation: Our approach builds on adva...  neutral  0.998769   \n",
      "3  We also did not compare with [13] because thei...  neutral  0.998770   \n",
      "4  Then, we borrow and revise the feature attribu...  neutral  0.998938   \n",
      "\n",
      "  m2_label  m2_score  m3_label  m3_score m4_label  m4_score  m5_label  \\\n",
      "0  neutral  0.993821   neutral  0.937373  neutral  0.666510   neutral   \n",
      "1  neutral  0.996802   neutral  0.960215  neutral  0.880965   neutral   \n",
      "2  neutral  0.994622  positive  0.673383  neutral  0.708800  positive   \n",
      "3  neutral  0.996876   neutral  0.685839  neutral  0.828780  negative   \n",
      "4  neutral  0.996459   neutral  0.946276  neutral  0.752070   neutral   \n",
      "\n",
      "   m5_score majority_vote  \n",
      "0  0.498816       neutral  \n",
      "1  0.542137       neutral  \n",
      "2  0.446468       neutral  \n",
      "3  0.529409       neutral  \n",
      "4  0.638560       neutral  \n",
      "sentiment_analysis/inferences_from_all_5_models/RS_060_MLRC_2021_15.csv saved\n",
      "\n",
      "\n",
      "\n",
      "\n"
     ]
    },
    {
     "name": "stderr",
     "output_type": "stream",
     "text": [
      "/home/oruma001/envs/cs834_project/lib/python3.10/site-packages/transformers/pipelines/base.py:1123: UserWarning: You seem to be using the pipelines sequentially on GPU. In order to maximize efficiency please use a dataset\n",
      "  warnings.warn(\n"
     ]
    },
    {
     "name": "stdout",
     "output_type": "stream",
     "text": [
      "RS_058_MLRC_2021_13.csv - model 1 --- "
     ]
    },
    {
     "name": "stderr",
     "output_type": "stream",
     "text": [
      "/home/oruma001/envs/cs834_project/lib/python3.10/site-packages/transformers/pipelines/base.py:1123: UserWarning: You seem to be using the pipelines sequentially on GPU. In order to maximize efficiency please use a dataset\n",
      "  warnings.warn(\n"
     ]
    },
    {
     "name": "stdout",
     "output_type": "stream",
     "text": [
      "model 2 --- "
     ]
    },
    {
     "name": "stderr",
     "output_type": "stream",
     "text": [
      "/home/oruma001/envs/cs834_project/lib/python3.10/site-packages/transformers/pipelines/base.py:1123: UserWarning: You seem to be using the pipelines sequentially on GPU. In order to maximize efficiency please use a dataset\n",
      "  warnings.warn(\n"
     ]
    },
    {
     "name": "stdout",
     "output_type": "stream",
     "text": [
      "model 3 --- "
     ]
    },
    {
     "name": "stderr",
     "output_type": "stream",
     "text": [
      "/home/oruma001/envs/cs834_project/lib/python3.10/site-packages/transformers/pipelines/base.py:1123: UserWarning: You seem to be using the pipelines sequentially on GPU. In order to maximize efficiency please use a dataset\n",
      "  warnings.warn(\n"
     ]
    },
    {
     "name": "stdout",
     "output_type": "stream",
     "text": [
      "model 4 --- "
     ]
    },
    {
     "name": "stderr",
     "output_type": "stream",
     "text": [
      "/home/oruma001/envs/cs834_project/lib/python3.10/site-packages/transformers/pipelines/base.py:1123: UserWarning: You seem to be using the pipelines sequentially on GPU. In order to maximize efficiency please use a dataset\n",
      "  warnings.warn(\n"
     ]
    },
    {
     "name": "stdout",
     "output_type": "stream",
     "text": [
      "model 5 ---\n",
      "                                                text m1_label  m1_score  \\\n",
      "0  In this way, the training corpus is directly r...  neutral  0.998831   \n",
      "1  , 2022b), including work from our group (Xu et...  neutral  0.998932   \n",
      "2  Results reflect more robust pronoun consistenc...  neutral  0.952146   \n",
      "3  Motivation To assess LLMs for misgendering beh...  neutral  0.998432   \n",
      "4  6https://github.com/anaeliaovalle/TANGO-Center...  neutral  0.998960   \n",
      "\n",
      "   m2_label  m2_score m3_label  m3_score  m4_label  m4_score  m5_label  \\\n",
      "0   neutral  0.995633  neutral  0.966145   neutral  0.723891  negative   \n",
      "1   neutral  0.997348  neutral  0.967278   neutral  0.888620   neutral   \n",
      "2  positive  0.725403  neutral  0.607040  negative  0.465041   neutral   \n",
      "3   neutral  0.997684  neutral  0.842350   neutral  0.736039  negative   \n",
      "4  negative  0.989443  neutral  0.935151   neutral  0.828725  negative   \n",
      "\n",
      "   m5_score majority_vote  \n",
      "0  0.441457       neutral  \n",
      "1  0.672314       neutral  \n",
      "2  0.529371       neutral  \n",
      "3  0.590784       neutral  \n",
      "4  0.549319       neutral  \n",
      "sentiment_analysis/inferences_from_all_5_models/RS_058_MLRC_2021_13.csv saved\n",
      "\n",
      "\n",
      "\n",
      "\n",
      "RS_140_ICDAR_2018_07.csv - model 1 --- model 2 --- model 3 --- "
     ]
    },
    {
     "name": "stderr",
     "output_type": "stream",
     "text": [
      "/home/oruma001/envs/cs834_project/lib/python3.10/site-packages/transformers/pipelines/base.py:1123: UserWarning: You seem to be using the pipelines sequentially on GPU. In order to maximize efficiency please use a dataset\n",
      "  warnings.warn(\n",
      "/home/oruma001/envs/cs834_project/lib/python3.10/site-packages/transformers/pipelines/base.py:1123: UserWarning: You seem to be using the pipelines sequentially on GPU. In order to maximize efficiency please use a dataset\n",
      "  warnings.warn(\n",
      "/home/oruma001/envs/cs834_project/lib/python3.10/site-packages/transformers/pipelines/base.py:1123: UserWarning: You seem to be using the pipelines sequentially on GPU. In order to maximize efficiency please use a dataset\n",
      "  warnings.warn(\n",
      "/home/oruma001/envs/cs834_project/lib/python3.10/site-packages/transformers/pipelines/base.py:1123: UserWarning: You seem to be using the pipelines sequentially on GPU. In order to maximize efficiency please use a dataset\n",
      "  warnings.warn(\n",
      "/home/oruma001/envs/cs834_project/lib/python3.10/site-packages/transformers/pipelines/base.py:1123: UserWarning: You seem to be using the pipelines sequentially on GPU. In order to maximize efficiency please use a dataset\n",
      "  warnings.warn(\n"
     ]
    },
    {
     "name": "stdout",
     "output_type": "stream",
     "text": [
      "model 4 --- model 5 ---\n",
      "                                                text m1_label  m1_score  \\\n",
      "0             [8] recently reported an F-score of 0.  neutral  0.944755   \n",
      "1  According to Hashmi et al. (2021a), on “ICDAR2...  neutral  0.998659   \n",
      "2  The task statements of TD/TSR are essentially ...  neutral  0.999061   \n",
      "\n",
      "   m2_label  m2_score m3_label  m3_score m4_label  m4_score  m5_label  \\\n",
      "0   neutral  0.997515  neutral  0.962860  neutral  0.656490  negative   \n",
      "1  positive  0.560056  neutral  0.975536  neutral  0.800671   neutral   \n",
      "2   neutral  0.997662  neutral  0.974489  neutral  0.897050   neutral   \n",
      "\n",
      "   m5_score majority_vote  \n",
      "0  0.467371       neutral  \n",
      "1  0.477091       neutral  \n",
      "2  0.591538       neutral  \n",
      "sentiment_analysis/inferences_from_all_5_models/RS_140_ICDAR_2018_07.csv saved\n",
      "\n",
      "\n",
      "\n",
      "\n"
     ]
    },
    {
     "name": "stderr",
     "output_type": "stream",
     "text": [
      "/home/oruma001/envs/cs834_project/lib/python3.10/site-packages/transformers/pipelines/base.py:1123: UserWarning: You seem to be using the pipelines sequentially on GPU. In order to maximize efficiency please use a dataset\n",
      "  warnings.warn(\n"
     ]
    },
    {
     "name": "stdout",
     "output_type": "stream",
     "text": [
      "RS_044_MLRC_2022_44.csv - model 1 --- "
     ]
    },
    {
     "name": "stderr",
     "output_type": "stream",
     "text": [
      "/home/oruma001/envs/cs834_project/lib/python3.10/site-packages/transformers/pipelines/base.py:1123: UserWarning: You seem to be using the pipelines sequentially on GPU. In order to maximize efficiency please use a dataset\n",
      "  warnings.warn(\n"
     ]
    },
    {
     "name": "stdout",
     "output_type": "stream",
     "text": [
      "model 2 --- "
     ]
    },
    {
     "name": "stderr",
     "output_type": "stream",
     "text": [
      "/home/oruma001/envs/cs834_project/lib/python3.10/site-packages/transformers/pipelines/base.py:1123: UserWarning: You seem to be using the pipelines sequentially on GPU. In order to maximize efficiency please use a dataset\n",
      "  warnings.warn(\n"
     ]
    },
    {
     "name": "stdout",
     "output_type": "stream",
     "text": [
      "model 3 --- "
     ]
    },
    {
     "name": "stderr",
     "output_type": "stream",
     "text": [
      "/home/oruma001/envs/cs834_project/lib/python3.10/site-packages/transformers/pipelines/base.py:1123: UserWarning: You seem to be using the pipelines sequentially on GPU. In order to maximize efficiency please use a dataset\n",
      "  warnings.warn(\n"
     ]
    },
    {
     "name": "stdout",
     "output_type": "stream",
     "text": [
      "model 4 --- "
     ]
    },
    {
     "name": "stderr",
     "output_type": "stream",
     "text": [
      "/home/oruma001/envs/cs834_project/lib/python3.10/site-packages/transformers/pipelines/base.py:1123: UserWarning: You seem to be using the pipelines sequentially on GPU. In order to maximize efficiency please use a dataset\n",
      "  warnings.warn(\n"
     ]
    },
    {
     "name": "stdout",
     "output_type": "stream",
     "text": [
      "model 5 ---\n",
      "                                                text m1_label  m1_score  \\\n",
      "0  Type Perturbation # Test SMBOP [34] T5-3B LK [...  neutral  0.999264   \n",
      "1  To support Text-to-SQL, similar to [24, 26], w...  neutral  0.998724   \n",
      "2  (2) Because finding the most probable string t...  neutral  0.998394   \n",
      "3  , 2021b) and NLP fields (Shaw et al., 2021; Fu...  neutral  0.998946   \n",
      "4  …disenchanted representation effectively impro...  neutral  0.998348   \n",
      "\n",
      "   m2_label  m2_score m3_label  m3_score  m4_label  m4_score  m5_label  \\\n",
      "0   neutral  0.995373  neutral  0.968906   neutral  0.935475   neutral   \n",
      "1  positive  0.985895  neutral  0.888716   neutral  0.805606  positive   \n",
      "2   neutral  0.914647  neutral  0.916050  negative  0.604312   neutral   \n",
      "3   neutral  0.936195  neutral  0.954732   neutral  0.520860  negative   \n",
      "4  positive  0.583471  neutral  0.538292  positive  0.449756  negative   \n",
      "\n",
      "   m5_score majority_vote  \n",
      "0  0.800930       neutral  \n",
      "1  0.433198       neutral  \n",
      "2  0.469897       neutral  \n",
      "3  0.633416       neutral  \n",
      "4  0.584993       neutral  \n",
      "sentiment_analysis/inferences_from_all_5_models/RS_044_MLRC_2022_44.csv saved\n",
      "\n",
      "\n",
      "\n",
      "\n",
      "RS_080_MLRC_2021_35.csv - model 1 --- model 2 --- model 3 --- model 4 --- model 5 ---\n",
      "                                                text m1_label  m1_score  \\\n",
      "0  In our recent work [21], we used the idea of u...  neutral  0.998966   \n",
      "\n",
      "  m2_label  m2_score m3_label  m3_score m4_label  m4_score  m5_label  \\\n",
      "0  neutral  0.984776  neutral  0.856062  neutral  0.869892  positive   \n",
      "\n",
      "   m5_score majority_vote  \n",
      "0   0.35049       neutral  \n",
      "sentiment_analysis/inferences_from_all_5_models/RS_080_MLRC_2021_35.csv saved\n",
      "\n",
      "\n",
      "\n",
      "\n"
     ]
    },
    {
     "name": "stderr",
     "output_type": "stream",
     "text": [
      "/home/oruma001/envs/cs834_project/lib/python3.10/site-packages/transformers/pipelines/base.py:1123: UserWarning: You seem to be using the pipelines sequentially on GPU. In order to maximize efficiency please use a dataset\n",
      "  warnings.warn(\n",
      "/home/oruma001/envs/cs834_project/lib/python3.10/site-packages/transformers/pipelines/base.py:1123: UserWarning: You seem to be using the pipelines sequentially on GPU. In order to maximize efficiency please use a dataset\n",
      "  warnings.warn(\n",
      "/home/oruma001/envs/cs834_project/lib/python3.10/site-packages/transformers/pipelines/base.py:1123: UserWarning: You seem to be using the pipelines sequentially on GPU. In order to maximize efficiency please use a dataset\n",
      "  warnings.warn(\n",
      "/home/oruma001/envs/cs834_project/lib/python3.10/site-packages/transformers/pipelines/base.py:1123: UserWarning: You seem to be using the pipelines sequentially on GPU. In order to maximize efficiency please use a dataset\n",
      "  warnings.warn(\n",
      "/home/oruma001/envs/cs834_project/lib/python3.10/site-packages/transformers/pipelines/base.py:1123: UserWarning: You seem to be using the pipelines sequentially on GPU. In order to maximize efficiency please use a dataset\n",
      "  warnings.warn(\n",
      "/home/oruma001/envs/cs834_project/lib/python3.10/site-packages/transformers/pipelines/base.py:1123: UserWarning: You seem to be using the pipelines sequentially on GPU. In order to maximize efficiency please use a dataset\n",
      "  warnings.warn(\n"
     ]
    },
    {
     "name": "stdout",
     "output_type": "stream",
     "text": [
      "RS_111_MLRC_2020_18.csv - model 1 --- "
     ]
    },
    {
     "name": "stderr",
     "output_type": "stream",
     "text": [
      "/home/oruma001/envs/cs834_project/lib/python3.10/site-packages/transformers/pipelines/base.py:1123: UserWarning: You seem to be using the pipelines sequentially on GPU. In order to maximize efficiency please use a dataset\n",
      "  warnings.warn(\n"
     ]
    },
    {
     "name": "stdout",
     "output_type": "stream",
     "text": [
      "model 2 --- "
     ]
    },
    {
     "name": "stderr",
     "output_type": "stream",
     "text": [
      "/home/oruma001/envs/cs834_project/lib/python3.10/site-packages/transformers/pipelines/base.py:1123: UserWarning: You seem to be using the pipelines sequentially on GPU. In order to maximize efficiency please use a dataset\n",
      "  warnings.warn(\n"
     ]
    },
    {
     "name": "stdout",
     "output_type": "stream",
     "text": [
      "model 3 --- "
     ]
    },
    {
     "name": "stderr",
     "output_type": "stream",
     "text": [
      "/home/oruma001/envs/cs834_project/lib/python3.10/site-packages/transformers/pipelines/base.py:1123: UserWarning: You seem to be using the pipelines sequentially on GPU. In order to maximize efficiency please use a dataset\n",
      "  warnings.warn(\n"
     ]
    },
    {
     "name": "stdout",
     "output_type": "stream",
     "text": [
      "model 4 --- "
     ]
    },
    {
     "name": "stderr",
     "output_type": "stream",
     "text": [
      "/home/oruma001/envs/cs834_project/lib/python3.10/site-packages/transformers/pipelines/base.py:1123: UserWarning: You seem to be using the pipelines sequentially on GPU. In order to maximize efficiency please use a dataset\n",
      "  warnings.warn(\n"
     ]
    },
    {
     "name": "stdout",
     "output_type": "stream",
     "text": [
      "model 5 ---\n",
      "                                                text m1_label  m1_score  \\\n",
      "0  We evaluate our model and compare to three bas...  neutral  0.999146   \n",
      "1  [47], we use a latent Hamiltonian neural netwo...  neutral  0.998876   \n",
      "2  Note that we do not compare against HGN since ...  neutral  0.999097   \n",
      "3  As evidenced by Figure 6, our model produces q...  neutral  0.991204   \n",
      "4  We compare the performance of our model agains...  neutral  0.998834   \n",
      "\n",
      "   m2_label  m2_score  m3_label  m3_score  m4_label  m4_score  m5_label  \\\n",
      "0   neutral  0.988326   neutral  0.973823   neutral  0.886739   neutral   \n",
      "1   neutral  0.996360   neutral  0.893479   neutral  0.933599   neutral   \n",
      "2   neutral  0.996562   neutral  0.935220   neutral  0.898150   neutral   \n",
      "3  positive  0.991200  positive  0.959997  positive  0.867205  positive   \n",
      "4   neutral  0.992549   neutral  0.948942   neutral  0.890320   neutral   \n",
      "\n",
      "   m5_score majority_vote  \n",
      "0  0.655392       neutral  \n",
      "1  0.495152       neutral  \n",
      "2  0.581323       neutral  \n",
      "3  0.451788      positive  \n",
      "4  0.672461       neutral  \n",
      "sentiment_analysis/inferences_from_all_5_models/RS_111_MLRC_2020_18.csv saved\n",
      "\n",
      "\n",
      "\n",
      "\n"
     ]
    },
    {
     "name": "stderr",
     "output_type": "stream",
     "text": [
      "/home/oruma001/envs/cs834_project/lib/python3.10/site-packages/transformers/pipelines/base.py:1123: UserWarning: You seem to be using the pipelines sequentially on GPU. In order to maximize efficiency please use a dataset\n",
      "  warnings.warn(\n"
     ]
    },
    {
     "name": "stdout",
     "output_type": "stream",
     "text": [
      "RS_057_MLRC_2021_12.csv - model 1 --- model 2 --- model 3 --- "
     ]
    },
    {
     "name": "stderr",
     "output_type": "stream",
     "text": [
      "/home/oruma001/envs/cs834_project/lib/python3.10/site-packages/transformers/pipelines/base.py:1123: UserWarning: You seem to be using the pipelines sequentially on GPU. In order to maximize efficiency please use a dataset\n",
      "  warnings.warn(\n",
      "/home/oruma001/envs/cs834_project/lib/python3.10/site-packages/transformers/pipelines/base.py:1123: UserWarning: You seem to be using the pipelines sequentially on GPU. In order to maximize efficiency please use a dataset\n",
      "  warnings.warn(\n",
      "/home/oruma001/envs/cs834_project/lib/python3.10/site-packages/transformers/pipelines/base.py:1123: UserWarning: You seem to be using the pipelines sequentially on GPU. In order to maximize efficiency please use a dataset\n",
      "  warnings.warn(\n"
     ]
    },
    {
     "name": "stdout",
     "output_type": "stream",
     "text": [
      "model 4 --- model 5 ---\n",
      "                                                text m1_label  m1_score  \\\n",
      "0  To investigate the effect of isotropy enhancem...  neutral  0.998860   \n",
      "1  By applying a cluster-based isotropy enhanceme...  neutral  0.998608   \n",
      "2  As mentioned previously, improving the isotrop...  neutral  0.821272   \n",
      "3  As shown by Rajaee & Pilehvar (2021b), it is n...  neutral  0.998831   \n",
      "4  We follow (Mu et al., 2017) (Rajaee and Pilehv...  neutral  0.998959   \n",
      "\n",
      "   m2_label  m2_score  m3_label  m3_score  m4_label  m4_score  m5_label  \\\n",
      "0   neutral  0.979420   neutral  0.897371   neutral  0.821095   neutral   \n",
      "1  positive  0.978967  positive  0.926072  positive  0.642721   neutral   \n",
      "2   neutral  0.793745   neutral  0.855871  negative  0.640392  negative   \n",
      "3   neutral  0.950079   neutral  0.951789   neutral  0.534422  negative   \n",
      "4   neutral  0.997032   neutral  0.975414   neutral  0.863624   neutral   \n",
      "\n",
      "   m5_score majority_vote  \n",
      "0  0.541933       neutral  \n",
      "1  0.467484      positive  \n",
      "2  0.616231       neutral  \n",
      "3  0.508738       neutral  \n",
      "4  0.593786       neutral  \n",
      "sentiment_analysis/inferences_from_all_5_models/RS_057_MLRC_2021_12.csv saved\n",
      "\n",
      "\n",
      "\n",
      "\n"
     ]
    },
    {
     "name": "stderr",
     "output_type": "stream",
     "text": [
      "/home/oruma001/envs/cs834_project/lib/python3.10/site-packages/transformers/pipelines/base.py:1123: UserWarning: You seem to be using the pipelines sequentially on GPU. In order to maximize efficiency please use a dataset\n",
      "  warnings.warn(\n",
      "/home/oruma001/envs/cs834_project/lib/python3.10/site-packages/transformers/pipelines/base.py:1123: UserWarning: You seem to be using the pipelines sequentially on GPU. In order to maximize efficiency please use a dataset\n",
      "  warnings.warn(\n"
     ]
    },
    {
     "name": "stdout",
     "output_type": "stream",
     "text": [
      "RS_102_MLRC_2020_09.csv - model 1 --- "
     ]
    },
    {
     "name": "stderr",
     "output_type": "stream",
     "text": [
      "/home/oruma001/envs/cs834_project/lib/python3.10/site-packages/transformers/pipelines/base.py:1123: UserWarning: You seem to be using the pipelines sequentially on GPU. In order to maximize efficiency please use a dataset\n",
      "  warnings.warn(\n"
     ]
    },
    {
     "name": "stdout",
     "output_type": "stream",
     "text": [
      "model 2 --- "
     ]
    },
    {
     "name": "stderr",
     "output_type": "stream",
     "text": [
      "/home/oruma001/envs/cs834_project/lib/python3.10/site-packages/transformers/pipelines/base.py:1123: UserWarning: You seem to be using the pipelines sequentially on GPU. In order to maximize efficiency please use a dataset\n",
      "  warnings.warn(\n"
     ]
    },
    {
     "name": "stdout",
     "output_type": "stream",
     "text": [
      "model 3 --- "
     ]
    },
    {
     "name": "stderr",
     "output_type": "stream",
     "text": [
      "/home/oruma001/envs/cs834_project/lib/python3.10/site-packages/transformers/pipelines/base.py:1123: UserWarning: You seem to be using the pipelines sequentially on GPU. In order to maximize efficiency please use a dataset\n",
      "  warnings.warn(\n"
     ]
    },
    {
     "name": "stdout",
     "output_type": "stream",
     "text": [
      "model 4 --- "
     ]
    },
    {
     "name": "stderr",
     "output_type": "stream",
     "text": [
      "/home/oruma001/envs/cs834_project/lib/python3.10/site-packages/transformers/pipelines/base.py:1123: UserWarning: You seem to be using the pipelines sequentially on GPU. In order to maximize efficiency please use a dataset\n",
      "  warnings.warn(\n"
     ]
    },
    {
     "name": "stdout",
     "output_type": "stream",
     "text": [
      "model 5 ---\n",
      "                                                text m1_label  m1_score  \\\n",
      "0  Similarly, given a mini-batch of BU unlabeled ...  neutral  0.998627   \n",
      "1  , FixMatch (Sohn et al., 2020)) might confuse ...  neutral  0.986669   \n",
      "2  To regularize gψ, we design SCR based on consi...  neutral  0.998597   \n",
      "3  As the oracle SSL methods, We used three repre...  neutral  0.999022   \n",
      "4  , Therefore training with the synthetic sample...  neutral  0.983552   \n",
      "\n",
      "  m2_label  m2_score  m3_label  m3_score  m4_label  m4_score  m5_label  \\\n",
      "0  neutral  0.991204   neutral  0.948180  negative  0.598613  negative   \n",
      "1  neutral  0.675003  negative  0.623389  negative  0.707161  negative   \n",
      "2  neutral  0.974162   neutral  0.703466   neutral  0.738817   neutral   \n",
      "3  neutral  0.996576   neutral  0.955443   neutral  0.899337   neutral   \n",
      "4  neutral  0.995805   neutral  0.638020  negative  0.762475  negative   \n",
      "\n",
      "   m5_score majority_vote  \n",
      "0  0.468735       neutral  \n",
      "1  0.678407      negative  \n",
      "2  0.504728       neutral  \n",
      "3  0.540341       neutral  \n",
      "4  0.889995       neutral  \n",
      "sentiment_analysis/inferences_from_all_5_models/RS_102_MLRC_2020_09.csv saved\n",
      "\n",
      "\n",
      "\n",
      "\n",
      "RS_037_MLRC_2022_37.csv - model 1 --- model 2 --- model 3 --- model 4 --- model 5 ---\n",
      "                                                text m1_label  m1_score  \\\n",
      "0  If the decoder and encoder are from an exponen...  neutral   0.99892   \n",
      "\n",
      "   m2_label  m2_score m3_label  m3_score  m4_label  m4_score  m5_label  \\\n",
      "0  positive  0.937327  neutral  0.900369  positive  0.615618  negative   \n",
      "\n",
      "   m5_score majority_vote  \n",
      "0  0.451914       neutral  \n",
      "sentiment_analysis/inferences_from_all_5_models/RS_037_MLRC_2022_37.csv saved\n",
      "\n",
      "\n",
      "\n",
      "\n",
      "RS_143_ICDAR_2018_10.csv - model 1 --- "
     ]
    },
    {
     "name": "stderr",
     "output_type": "stream",
     "text": [
      "/home/oruma001/envs/cs834_project/lib/python3.10/site-packages/transformers/pipelines/base.py:1123: UserWarning: You seem to be using the pipelines sequentially on GPU. In order to maximize efficiency please use a dataset\n",
      "  warnings.warn(\n",
      "/home/oruma001/envs/cs834_project/lib/python3.10/site-packages/transformers/pipelines/base.py:1123: UserWarning: You seem to be using the pipelines sequentially on GPU. In order to maximize efficiency please use a dataset\n",
      "  warnings.warn(\n",
      "/home/oruma001/envs/cs834_project/lib/python3.10/site-packages/transformers/pipelines/base.py:1123: UserWarning: You seem to be using the pipelines sequentially on GPU. In order to maximize efficiency please use a dataset\n",
      "  warnings.warn(\n",
      "/home/oruma001/envs/cs834_project/lib/python3.10/site-packages/transformers/pipelines/base.py:1123: UserWarning: You seem to be using the pipelines sequentially on GPU. In order to maximize efficiency please use a dataset\n",
      "  warnings.warn(\n",
      "/home/oruma001/envs/cs834_project/lib/python3.10/site-packages/transformers/pipelines/base.py:1123: UserWarning: You seem to be using the pipelines sequentially on GPU. In order to maximize efficiency please use a dataset\n",
      "  warnings.warn(\n",
      "/home/oruma001/envs/cs834_project/lib/python3.10/site-packages/transformers/pipelines/base.py:1123: UserWarning: You seem to be using the pipelines sequentially on GPU. In order to maximize efficiency please use a dataset\n",
      "  warnings.warn(\n",
      "/home/oruma001/envs/cs834_project/lib/python3.10/site-packages/transformers/pipelines/base.py:1123: UserWarning: You seem to be using the pipelines sequentially on GPU. In order to maximize efficiency please use a dataset\n",
      "  warnings.warn(\n",
      "/home/oruma001/envs/cs834_project/lib/python3.10/site-packages/transformers/pipelines/base.py:1123: UserWarning: You seem to be using the pipelines sequentially on GPU. In order to maximize efficiency please use a dataset\n",
      "  warnings.warn(\n",
      "/home/oruma001/envs/cs834_project/lib/python3.10/site-packages/transformers/pipelines/base.py:1123: UserWarning: You seem to be using the pipelines sequentially on GPU. In order to maximize efficiency please use a dataset\n",
      "  warnings.warn(\n"
     ]
    },
    {
     "name": "stdout",
     "output_type": "stream",
     "text": [
      "model 2 --- model 3 --- model 4 --- model 5 ---\n",
      "                                                text m1_label  m1_score  \\\n",
      "0  We compared with morphology-based methods usin...  neutral  0.998832   \n",
      "1  The results shown in Figure 3 and Figure 4 ind...  neutral  0.744393   \n",
      "\n",
      "   m2_label  m2_score m3_label  m3_score m4_label  m4_score  m5_label  \\\n",
      "0  positive  0.871946  neutral  0.973311  neutral   0.91101   neutral   \n",
      "1   neutral  0.989662  neutral  0.846819  neutral   0.73222  negative   \n",
      "\n",
      "   m5_score majority_vote  \n",
      "0  0.535897       neutral  \n",
      "1  0.585488       neutral  \n",
      "sentiment_analysis/inferences_from_all_5_models/RS_143_ICDAR_2018_10.csv saved\n",
      "\n",
      "\n",
      "\n",
      "\n",
      "RS_009_MLRC_2022_09.csv - model 1 --- model 2 --- model 3 --- model 4 --- model 5 ---\n",
      "                                                text m1_label  m1_score  \\\n",
      "0  We leave it to future work to further study th...  neutral  0.998981   \n",
      "\n",
      "  m2_label  m2_score m3_label  m3_score m4_label  m4_score m5_label  m5_score  \\\n",
      "0  neutral  0.994457  neutral  0.976041  neutral  0.826087  neutral  0.611992   \n",
      "\n",
      "  majority_vote  \n",
      "0       neutral  \n",
      "sentiment_analysis/inferences_from_all_5_models/RS_009_MLRC_2022_09.csv saved\n",
      "\n",
      "\n",
      "\n",
      "\n"
     ]
    },
    {
     "name": "stderr",
     "output_type": "stream",
     "text": [
      "/home/oruma001/envs/cs834_project/lib/python3.10/site-packages/transformers/pipelines/base.py:1123: UserWarning: You seem to be using the pipelines sequentially on GPU. In order to maximize efficiency please use a dataset\n",
      "  warnings.warn(\n",
      "/home/oruma001/envs/cs834_project/lib/python3.10/site-packages/transformers/pipelines/base.py:1123: UserWarning: You seem to be using the pipelines sequentially on GPU. In order to maximize efficiency please use a dataset\n",
      "  warnings.warn(\n",
      "/home/oruma001/envs/cs834_project/lib/python3.10/site-packages/transformers/pipelines/base.py:1123: UserWarning: You seem to be using the pipelines sequentially on GPU. In order to maximize efficiency please use a dataset\n",
      "  warnings.warn(\n",
      "/home/oruma001/envs/cs834_project/lib/python3.10/site-packages/transformers/pipelines/base.py:1123: UserWarning: You seem to be using the pipelines sequentially on GPU. In order to maximize efficiency please use a dataset\n",
      "  warnings.warn(\n",
      "/home/oruma001/envs/cs834_project/lib/python3.10/site-packages/transformers/pipelines/base.py:1123: UserWarning: You seem to be using the pipelines sequentially on GPU. In order to maximize efficiency please use a dataset\n",
      "  warnings.warn(\n",
      "/home/oruma001/envs/cs834_project/lib/python3.10/site-packages/transformers/pipelines/base.py:1123: UserWarning: You seem to be using the pipelines sequentially on GPU. In order to maximize efficiency please use a dataset\n",
      "  warnings.warn(\n",
      "/home/oruma001/envs/cs834_project/lib/python3.10/site-packages/transformers/pipelines/base.py:1123: UserWarning: You seem to be using the pipelines sequentially on GPU. In order to maximize efficiency please use a dataset\n",
      "  warnings.warn(\n"
     ]
    },
    {
     "name": "stdout",
     "output_type": "stream",
     "text": [
      "RS_086_MLRC_2021_41.csv - model 1 --- model 2 --- "
     ]
    },
    {
     "name": "stderr",
     "output_type": "stream",
     "text": [
      "/home/oruma001/envs/cs834_project/lib/python3.10/site-packages/transformers/pipelines/base.py:1123: UserWarning: You seem to be using the pipelines sequentially on GPU. In order to maximize efficiency please use a dataset\n",
      "  warnings.warn(\n",
      "/home/oruma001/envs/cs834_project/lib/python3.10/site-packages/transformers/pipelines/base.py:1123: UserWarning: You seem to be using the pipelines sequentially on GPU. In order to maximize efficiency please use a dataset\n",
      "  warnings.warn(\n"
     ]
    },
    {
     "name": "stdout",
     "output_type": "stream",
     "text": [
      "model 3 --- "
     ]
    },
    {
     "name": "stderr",
     "output_type": "stream",
     "text": [
      "/home/oruma001/envs/cs834_project/lib/python3.10/site-packages/transformers/pipelines/base.py:1123: UserWarning: You seem to be using the pipelines sequentially on GPU. In order to maximize efficiency please use a dataset\n",
      "  warnings.warn(\n"
     ]
    },
    {
     "name": "stdout",
     "output_type": "stream",
     "text": [
      "model 4 --- model 5 ---\n",
      "                                                text m1_label  m1_score  \\\n",
      "0  For evaluation, we mainly use the Transparent ...  neutral  0.998521   \n",
      "1  Given the lack of any labeled training data se...  neutral  0.998965   \n",
      "2  Motivated by the transfer learning approach in...  neutral  0.998643   \n",
      "3  • We perform extensive experiments over the tr...  neutral  0.998377   \n",
      "4  To establish baselines for comparison, we empl...  neutral  0.998934   \n",
      "\n",
      "  m2_label  m2_score  m3_label  m3_score  m4_label  m4_score  m5_label  \\\n",
      "0  neutral  0.996313   neutral  0.898811   neutral  0.875769   neutral   \n",
      "1  neutral  0.997880   neutral  0.950404   neutral  0.916580   neutral   \n",
      "2  neutral  0.984194   neutral  0.648486   neutral  0.870483   neutral   \n",
      "3  neutral  0.986357  positive  0.714520  positive  0.756268  positive   \n",
      "4  neutral  0.885579   neutral  0.920514   neutral  0.918624   neutral   \n",
      "\n",
      "   m5_score majority_vote  \n",
      "0  0.603362       neutral  \n",
      "1  0.583875       neutral  \n",
      "2  0.516983       neutral  \n",
      "3  0.795244      positive  \n",
      "4  0.657679       neutral  \n",
      "sentiment_analysis/inferences_from_all_5_models/RS_086_MLRC_2021_41.csv saved\n",
      "\n",
      "\n",
      "\n",
      "\n"
     ]
    },
    {
     "name": "stderr",
     "output_type": "stream",
     "text": [
      "/home/oruma001/envs/cs834_project/lib/python3.10/site-packages/transformers/pipelines/base.py:1123: UserWarning: You seem to be using the pipelines sequentially on GPU. In order to maximize efficiency please use a dataset\n",
      "  warnings.warn(\n",
      "/home/oruma001/envs/cs834_project/lib/python3.10/site-packages/transformers/pipelines/base.py:1123: UserWarning: You seem to be using the pipelines sequentially on GPU. In order to maximize efficiency please use a dataset\n",
      "  warnings.warn(\n"
     ]
    },
    {
     "name": "stdout",
     "output_type": "stream",
     "text": [
      "RS_104_MLRC_2020_11.csv - model 1 --- "
     ]
    },
    {
     "name": "stderr",
     "output_type": "stream",
     "text": [
      "/home/oruma001/envs/cs834_project/lib/python3.10/site-packages/transformers/pipelines/base.py:1123: UserWarning: You seem to be using the pipelines sequentially on GPU. In order to maximize efficiency please use a dataset\n",
      "  warnings.warn(\n"
     ]
    },
    {
     "name": "stdout",
     "output_type": "stream",
     "text": [
      "model 2 --- "
     ]
    },
    {
     "name": "stderr",
     "output_type": "stream",
     "text": [
      "/home/oruma001/envs/cs834_project/lib/python3.10/site-packages/transformers/pipelines/base.py:1123: UserWarning: You seem to be using the pipelines sequentially on GPU. In order to maximize efficiency please use a dataset\n",
      "  warnings.warn(\n"
     ]
    },
    {
     "name": "stdout",
     "output_type": "stream",
     "text": [
      "model 3 --- "
     ]
    },
    {
     "name": "stderr",
     "output_type": "stream",
     "text": [
      "/home/oruma001/envs/cs834_project/lib/python3.10/site-packages/transformers/pipelines/base.py:1123: UserWarning: You seem to be using the pipelines sequentially on GPU. In order to maximize efficiency please use a dataset\n",
      "  warnings.warn(\n"
     ]
    },
    {
     "name": "stdout",
     "output_type": "stream",
     "text": [
      "model 4 --- "
     ]
    },
    {
     "name": "stderr",
     "output_type": "stream",
     "text": [
      "/home/oruma001/envs/cs834_project/lib/python3.10/site-packages/transformers/pipelines/base.py:1123: UserWarning: You seem to be using the pipelines sequentially on GPU. In order to maximize efficiency please use a dataset\n",
      "  warnings.warn(\n"
     ]
    },
    {
     "name": "stdout",
     "output_type": "stream",
     "text": [
      "model 5 ---\n",
      "                                                text m1_label  m1_score  \\\n",
      "0  Regarding VAD, we compare AnomalyCLIP against ...  neutral  0.999049   \n",
      "1  It should be pointed out that the experimental...  neutral  0.998997   \n",
      "2  To this end, we can employ many methods to gen...  neutral  0.998798   \n",
      "3  Finally, similar to the previous work [6], [29...  neutral  0.998909   \n",
      "4  Due to the lack of published results on human-...  neutral  0.999100   \n",
      "\n",
      "  m2_label  m2_score  m3_label  m3_score m4_label  m4_score  m5_label  \\\n",
      "0  neutral  0.897978   neutral  0.975058  neutral  0.805795  negative   \n",
      "1  neutral  0.966649   neutral  0.851482  neutral  0.610770  negative   \n",
      "2  neutral  0.996223   neutral  0.941915  neutral  0.910297  negative   \n",
      "3  neutral  0.997205   neutral  0.928246  neutral  0.866380   neutral   \n",
      "4  neutral  0.996221  negative  0.560187  neutral  0.691485  negative   \n",
      "\n",
      "   m5_score majority_vote  \n",
      "0  0.548972       neutral  \n",
      "1  0.550693       neutral  \n",
      "2  0.512794       neutral  \n",
      "3  0.570755       neutral  \n",
      "4  0.630623       neutral  \n",
      "sentiment_analysis/inferences_from_all_5_models/RS_104_MLRC_2020_11.csv saved\n",
      "\n",
      "\n",
      "\n",
      "\n",
      "RS_036_MLRC_2022_36.csv - model 1 --- "
     ]
    },
    {
     "name": "stderr",
     "output_type": "stream",
     "text": [
      "/home/oruma001/envs/cs834_project/lib/python3.10/site-packages/transformers/pipelines/base.py:1123: UserWarning: You seem to be using the pipelines sequentially on GPU. In order to maximize efficiency please use a dataset\n",
      "  warnings.warn(\n",
      "/home/oruma001/envs/cs834_project/lib/python3.10/site-packages/transformers/pipelines/base.py:1123: UserWarning: You seem to be using the pipelines sequentially on GPU. In order to maximize efficiency please use a dataset\n",
      "  warnings.warn(\n"
     ]
    },
    {
     "name": "stdout",
     "output_type": "stream",
     "text": [
      "model 2 --- model 3 --- model 4 --- "
     ]
    },
    {
     "name": "stderr",
     "output_type": "stream",
     "text": [
      "/home/oruma001/envs/cs834_project/lib/python3.10/site-packages/transformers/pipelines/base.py:1123: UserWarning: You seem to be using the pipelines sequentially on GPU. In order to maximize efficiency please use a dataset\n",
      "  warnings.warn(\n",
      "/home/oruma001/envs/cs834_project/lib/python3.10/site-packages/transformers/pipelines/base.py:1123: UserWarning: You seem to be using the pipelines sequentially on GPU. In order to maximize efficiency please use a dataset\n",
      "  warnings.warn(\n",
      "/home/oruma001/envs/cs834_project/lib/python3.10/site-packages/transformers/pipelines/base.py:1123: UserWarning: You seem to be using the pipelines sequentially on GPU. In order to maximize efficiency please use a dataset\n",
      "  warnings.warn(\n"
     ]
    },
    {
     "name": "stdout",
     "output_type": "stream",
     "text": [
      "model 5 ---\n",
      "                                                text m1_label  m1_score  \\\n",
      "0  We noticed an inconsistency in LIC [17], when ...  neutral  0.999183   \n",
      "1  We chose T5-generation and Merged as it well b...  neutral  0.998738   \n",
      "2  Given y ∈ Dg, FPG instantiated by first maskin...  neutral  0.998947   \n",
      "3  First, based on the observations in previous w...  neutral  0.998662   \n",
      "4  Bias metrics We mainly rely on three metrics t...  neutral  0.998864   \n",
      "\n",
      "   m2_label  m2_score m3_label  m3_score m4_label  m4_score  m5_label  \\\n",
      "0   neutral  0.969009  neutral  0.800683  neutral  0.590080   neutral   \n",
      "1   neutral  0.775910  neutral  0.661553  neutral  0.632498  negative   \n",
      "2   neutral  0.994216  neutral  0.967841  neutral  0.932529   neutral   \n",
      "3  negative  0.876526  neutral  0.946692  neutral  0.614815  negative   \n",
      "4   neutral  0.995701  neutral  0.932901  neutral  0.792337  negative   \n",
      "\n",
      "   m5_score majority_vote  \n",
      "0  0.455172       neutral  \n",
      "1  0.825147       neutral  \n",
      "2  0.492489       neutral  \n",
      "3  0.428513       neutral  \n",
      "4  0.718447       neutral  \n",
      "sentiment_analysis/inferences_from_all_5_models/RS_036_MLRC_2022_36.csv saved\n",
      "\n",
      "\n",
      "\n",
      "\n"
     ]
    },
    {
     "name": "stderr",
     "output_type": "stream",
     "text": [
      "/home/oruma001/envs/cs834_project/lib/python3.10/site-packages/transformers/pipelines/base.py:1123: UserWarning: You seem to be using the pipelines sequentially on GPU. In order to maximize efficiency please use a dataset\n",
      "  warnings.warn(\n"
     ]
    },
    {
     "name": "stdout",
     "output_type": "stream",
     "text": [
      "RS_122_NeurIPS_2019_05.csv - model 1 --- model 2 --- "
     ]
    },
    {
     "name": "stderr",
     "output_type": "stream",
     "text": [
      "/home/oruma001/envs/cs834_project/lib/python3.10/site-packages/transformers/pipelines/base.py:1123: UserWarning: You seem to be using the pipelines sequentially on GPU. In order to maximize efficiency please use a dataset\n",
      "  warnings.warn(\n",
      "/home/oruma001/envs/cs834_project/lib/python3.10/site-packages/transformers/pipelines/base.py:1123: UserWarning: You seem to be using the pipelines sequentially on GPU. In order to maximize efficiency please use a dataset\n",
      "  warnings.warn(\n"
     ]
    },
    {
     "name": "stdout",
     "output_type": "stream",
     "text": [
      "model 3 --- "
     ]
    },
    {
     "name": "stderr",
     "output_type": "stream",
     "text": [
      "/home/oruma001/envs/cs834_project/lib/python3.10/site-packages/transformers/pipelines/base.py:1123: UserWarning: You seem to be using the pipelines sequentially on GPU. In order to maximize efficiency please use a dataset\n",
      "  warnings.warn(\n"
     ]
    },
    {
     "name": "stdout",
     "output_type": "stream",
     "text": [
      "model 4 --- model 5 ---\n",
      "                                                text  m1_label  m1_score  \\\n",
      "0  This quantity is very similar to that given in...   neutral  0.998754   \n",
      "1  We can see that the TMC (orange) [Aitchison, 2...  negative  0.992515   \n",
      "2  To sample all K copies of the full joint laten...   neutral  0.998690   \n",
      "3  …log 1\\nL L∑ ℓ=1 pθ(zℓ, x) qϕ(zℓ|x)\\n] , (2)\\n...   neutral  0.998734   \n",
      "4  Applications of the product-form estimators it...   neutral  0.998608   \n",
      "\n",
      "   m2_label  m2_score  m3_label  m3_score  m4_label  m4_score  m5_label  \\\n",
      "0   neutral  0.996591   neutral  0.869253   neutral  0.870369   neutral   \n",
      "1  negative  0.978344  negative  0.949974  negative  0.896315  negative   \n",
      "2   neutral  0.997465   neutral  0.967219   neutral  0.932449   neutral   \n",
      "3   neutral  0.988531   neutral  0.970402   neutral  0.811759   neutral   \n",
      "4   neutral  0.997370   neutral  0.879357   neutral  0.910245   neutral   \n",
      "\n",
      "   m5_score majority_vote  \n",
      "0  0.571818       neutral  \n",
      "1  0.539057      negative  \n",
      "2  0.663833       neutral  \n",
      "3  0.510054       neutral  \n",
      "4  0.404411       neutral  \n",
      "sentiment_analysis/inferences_from_all_5_models/RS_122_NeurIPS_2019_05.csv saved\n",
      "\n",
      "\n",
      "\n",
      "\n"
     ]
    },
    {
     "name": "stderr",
     "output_type": "stream",
     "text": [
      "/home/oruma001/envs/cs834_project/lib/python3.10/site-packages/transformers/pipelines/base.py:1123: UserWarning: You seem to be using the pipelines sequentially on GPU. In order to maximize efficiency please use a dataset\n",
      "  warnings.warn(\n",
      "/home/oruma001/envs/cs834_project/lib/python3.10/site-packages/transformers/pipelines/base.py:1123: UserWarning: You seem to be using the pipelines sequentially on GPU. In order to maximize efficiency please use a dataset\n",
      "  warnings.warn(\n"
     ]
    },
    {
     "name": "stdout",
     "output_type": "stream",
     "text": [
      "RS_085_MLRC_2021_40.csv - model 1 --- model 2 --- "
     ]
    },
    {
     "name": "stderr",
     "output_type": "stream",
     "text": [
      "/home/oruma001/envs/cs834_project/lib/python3.10/site-packages/transformers/pipelines/base.py:1123: UserWarning: You seem to be using the pipelines sequentially on GPU. In order to maximize efficiency please use a dataset\n",
      "  warnings.warn(\n",
      "/home/oruma001/envs/cs834_project/lib/python3.10/site-packages/transformers/pipelines/base.py:1123: UserWarning: You seem to be using the pipelines sequentially on GPU. In order to maximize efficiency please use a dataset\n",
      "  warnings.warn(\n"
     ]
    },
    {
     "name": "stdout",
     "output_type": "stream",
     "text": [
      "model 3 --- "
     ]
    },
    {
     "name": "stderr",
     "output_type": "stream",
     "text": [
      "/home/oruma001/envs/cs834_project/lib/python3.10/site-packages/transformers/pipelines/base.py:1123: UserWarning: You seem to be using the pipelines sequentially on GPU. In order to maximize efficiency please use a dataset\n",
      "  warnings.warn(\n"
     ]
    },
    {
     "name": "stdout",
     "output_type": "stream",
     "text": [
      "model 4 --- model 5 ---\n",
      "                                                text m1_label  m1_score  \\\n",
      "0  In this work, we define social bias as the unb...  neutral  0.518121   \n",
      "1  The lexica are adapted from public sources(4) ...  neutral  0.998817   \n",
      "2  We give concrete examples in Appendix A.\\nAnto...  neutral  0.999063   \n",
      "3  We develop on the insights of Antoniak and Mim...  neutral  0.998846   \n",
      "4  For this, we reproduced an experiment by Anton...  neutral  0.998922   \n",
      "\n",
      "   m2_label  m2_score  m3_label  m3_score  m4_label  m4_score  m5_label  \\\n",
      "0  negative  0.994804   neutral  0.881629  negative  0.852565  negative   \n",
      "1  negative  0.944839   neutral  0.931376   neutral  0.783008   neutral   \n",
      "2   neutral  0.990612   neutral  0.949300   neutral  0.589695   neutral   \n",
      "3   neutral  0.996062  positive  0.793841   neutral  0.660004  positive   \n",
      "4   neutral  0.996441   neutral  0.965347   neutral  0.893357   neutral   \n",
      "\n",
      "   m5_score majority_vote  \n",
      "0  0.500081      negative  \n",
      "1  0.499361       neutral  \n",
      "2  0.435321       neutral  \n",
      "3  0.622002       neutral  \n",
      "4  0.642971       neutral  \n",
      "sentiment_analysis/inferences_from_all_5_models/RS_085_MLRC_2021_40.csv saved\n",
      "\n",
      "\n",
      "\n",
      "\n"
     ]
    },
    {
     "name": "stderr",
     "output_type": "stream",
     "text": [
      "/home/oruma001/envs/cs834_project/lib/python3.10/site-packages/transformers/pipelines/base.py:1123: UserWarning: You seem to be using the pipelines sequentially on GPU. In order to maximize efficiency please use a dataset\n",
      "  warnings.warn(\n",
      "/home/oruma001/envs/cs834_project/lib/python3.10/site-packages/transformers/pipelines/base.py:1123: UserWarning: You seem to be using the pipelines sequentially on GPU. In order to maximize efficiency please use a dataset\n",
      "  warnings.warn(\n"
     ]
    },
    {
     "name": "stdout",
     "output_type": "stream",
     "text": [
      "RS_040_MLRC_2022_40.csv - model 1 --- "
     ]
    },
    {
     "name": "stderr",
     "output_type": "stream",
     "text": [
      "/home/oruma001/envs/cs834_project/lib/python3.10/site-packages/transformers/pipelines/base.py:1123: UserWarning: You seem to be using the pipelines sequentially on GPU. In order to maximize efficiency please use a dataset\n",
      "  warnings.warn(\n"
     ]
    },
    {
     "name": "stdout",
     "output_type": "stream",
     "text": [
      "model 2 --- "
     ]
    },
    {
     "name": "stderr",
     "output_type": "stream",
     "text": [
      "/home/oruma001/envs/cs834_project/lib/python3.10/site-packages/transformers/pipelines/base.py:1123: UserWarning: You seem to be using the pipelines sequentially on GPU. In order to maximize efficiency please use a dataset\n",
      "  warnings.warn(\n"
     ]
    },
    {
     "name": "stdout",
     "output_type": "stream",
     "text": [
      "model 3 --- "
     ]
    },
    {
     "name": "stderr",
     "output_type": "stream",
     "text": [
      "/home/oruma001/envs/cs834_project/lib/python3.10/site-packages/transformers/pipelines/base.py:1123: UserWarning: You seem to be using the pipelines sequentially on GPU. In order to maximize efficiency please use a dataset\n",
      "  warnings.warn(\n"
     ]
    },
    {
     "name": "stdout",
     "output_type": "stream",
     "text": [
      "model 4 --- "
     ]
    },
    {
     "name": "stderr",
     "output_type": "stream",
     "text": [
      "/home/oruma001/envs/cs834_project/lib/python3.10/site-packages/transformers/pipelines/base.py:1123: UserWarning: You seem to be using the pipelines sequentially on GPU. In order to maximize efficiency please use a dataset\n",
      "  warnings.warn(\n"
     ]
    },
    {
     "name": "stdout",
     "output_type": "stream",
     "text": [
      "model 5 ---\n",
      "                                                text m1_label  m1_score  \\\n",
      "0  We use three self-supervised learning algorith...  neutral  0.998850   \n",
      "1  We have selected three representative algorith...  neutral  0.998776   \n",
      "2  Implementation details: We experiment with ViT...  neutral  0.998844   \n",
      "3  In this paper, we adopt a novel perspective to...  neutral  0.998687   \n",
      "4  Masked Autoencoders (MAE) (He et al., 2022) is...  neutral  0.998818   \n",
      "\n",
      "   m2_label  m2_score m3_label  m3_score  m4_label  m4_score  m5_label  \\\n",
      "0   neutral  0.996872  neutral  0.886255   neutral  0.905601  negative   \n",
      "1   neutral  0.997503  neutral  0.950702   neutral  0.912857   neutral   \n",
      "2   neutral  0.997315  neutral  0.947611   neutral  0.916888   neutral   \n",
      "3   neutral  0.992767  neutral  0.930532   neutral  0.762594   neutral   \n",
      "4  positive  0.989929  neutral  0.529749  positive  0.724365  positive   \n",
      "\n",
      "   m5_score majority_vote  \n",
      "0  0.447747       neutral  \n",
      "1  0.616743       neutral  \n",
      "2  0.615080       neutral  \n",
      "3  0.422423       neutral  \n",
      "4  0.698904      positive  \n",
      "sentiment_analysis/inferences_from_all_5_models/RS_040_MLRC_2022_40.csv saved\n",
      "\n",
      "\n",
      "\n",
      "\n"
     ]
    },
    {
     "name": "stderr",
     "output_type": "stream",
     "text": [
      "/home/oruma001/envs/cs834_project/lib/python3.10/site-packages/transformers/pipelines/base.py:1123: UserWarning: You seem to be using the pipelines sequentially on GPU. In order to maximize efficiency please use a dataset\n",
      "  warnings.warn(\n"
     ]
    },
    {
     "name": "stdout",
     "output_type": "stream",
     "text": [
      "RS_137_ICDAR_2018_04.csv - model 1 --- model 2 --- "
     ]
    },
    {
     "name": "stderr",
     "output_type": "stream",
     "text": [
      "/home/oruma001/envs/cs834_project/lib/python3.10/site-packages/transformers/pipelines/base.py:1123: UserWarning: You seem to be using the pipelines sequentially on GPU. In order to maximize efficiency please use a dataset\n",
      "  warnings.warn(\n",
      "/home/oruma001/envs/cs834_project/lib/python3.10/site-packages/transformers/pipelines/base.py:1123: UserWarning: You seem to be using the pipelines sequentially on GPU. In order to maximize efficiency please use a dataset\n",
      "  warnings.warn(\n"
     ]
    },
    {
     "name": "stdout",
     "output_type": "stream",
     "text": [
      "model 3 --- "
     ]
    },
    {
     "name": "stderr",
     "output_type": "stream",
     "text": [
      "/home/oruma001/envs/cs834_project/lib/python3.10/site-packages/transformers/pipelines/base.py:1123: UserWarning: You seem to be using the pipelines sequentially on GPU. In order to maximize efficiency please use a dataset\n",
      "  warnings.warn(\n"
     ]
    },
    {
     "name": "stdout",
     "output_type": "stream",
     "text": [
      "model 4 --- model 5 ---\n",
      "                                                text  m1_label  m1_score  \\\n",
      "0  The source codes of 6 papers were not executab...  negative  0.963882   \n",
      "1  In experiment 2a, we replace the self-attentio...   neutral  0.998980   \n",
      "2  For line detection, we take advantage of recen...   neutral  0.998690   \n",
      "3  To do this, a GNN based on (Qasim et al., 2019...   neutral  0.998833   \n",
      "4  For line detection, we take advantage of recen...   neutral  0.998977   \n",
      "\n",
      "  m2_label  m2_score  m3_label  m3_score m4_label  m4_score  m5_label  \\\n",
      "0  neutral  0.997458  negative  0.874491  neutral  0.797379  negative   \n",
      "1  neutral  0.991774   neutral  0.948190  neutral  0.903997   neutral   \n",
      "2  neutral  0.932882   neutral  0.720074  neutral  0.875242   neutral   \n",
      "3  neutral  0.996740   neutral  0.955458  neutral  0.894639   neutral   \n",
      "4  neutral  0.916229   neutral  0.665130  neutral  0.699694   neutral   \n",
      "\n",
      "   m5_score majority_vote  \n",
      "0  0.583812      negative  \n",
      "1  0.576058       neutral  \n",
      "2  0.614600       neutral  \n",
      "3  0.630408       neutral  \n",
      "4  0.620857       neutral  \n",
      "sentiment_analysis/inferences_from_all_5_models/RS_137_ICDAR_2018_04.csv saved\n",
      "\n",
      "\n",
      "\n",
      "\n"
     ]
    },
    {
     "name": "stderr",
     "output_type": "stream",
     "text": [
      "/home/oruma001/envs/cs834_project/lib/python3.10/site-packages/transformers/pipelines/base.py:1123: UserWarning: You seem to be using the pipelines sequentially on GPU. In order to maximize efficiency please use a dataset\n",
      "  warnings.warn(\n",
      "/home/oruma001/envs/cs834_project/lib/python3.10/site-packages/transformers/pipelines/base.py:1123: UserWarning: You seem to be using the pipelines sequentially on GPU. In order to maximize efficiency please use a dataset\n",
      "  warnings.warn(\n"
     ]
    },
    {
     "name": "stdout",
     "output_type": "stream",
     "text": [
      "RS_119_NeurIPS_2019_02.csv - model 1 --- "
     ]
    },
    {
     "name": "stderr",
     "output_type": "stream",
     "text": [
      "/home/oruma001/envs/cs834_project/lib/python3.10/site-packages/transformers/pipelines/base.py:1123: UserWarning: You seem to be using the pipelines sequentially on GPU. In order to maximize efficiency please use a dataset\n",
      "  warnings.warn(\n"
     ]
    },
    {
     "name": "stdout",
     "output_type": "stream",
     "text": [
      "model 2 --- "
     ]
    },
    {
     "name": "stderr",
     "output_type": "stream",
     "text": [
      "/home/oruma001/envs/cs834_project/lib/python3.10/site-packages/transformers/pipelines/base.py:1123: UserWarning: You seem to be using the pipelines sequentially on GPU. In order to maximize efficiency please use a dataset\n",
      "  warnings.warn(\n"
     ]
    },
    {
     "name": "stdout",
     "output_type": "stream",
     "text": [
      "model 3 --- "
     ]
    },
    {
     "name": "stderr",
     "output_type": "stream",
     "text": [
      "/home/oruma001/envs/cs834_project/lib/python3.10/site-packages/transformers/pipelines/base.py:1123: UserWarning: You seem to be using the pipelines sequentially on GPU. In order to maximize efficiency please use a dataset\n",
      "  warnings.warn(\n"
     ]
    },
    {
     "name": "stdout",
     "output_type": "stream",
     "text": [
      "model 4 --- "
     ]
    },
    {
     "name": "stderr",
     "output_type": "stream",
     "text": [
      "/home/oruma001/envs/cs834_project/lib/python3.10/site-packages/transformers/pipelines/base.py:1123: UserWarning: You seem to be using the pipelines sequentially on GPU. In order to maximize efficiency please use a dataset\n",
      "  warnings.warn(\n"
     ]
    },
    {
     "name": "stdout",
     "output_type": "stream",
     "text": [
      "model 5 ---\n",
      "                                                text m1_label  m1_score  \\\n",
      "0  Continuous weights in our framework are update...  neutral  0.998723   \n",
      "1  This is achieved by first learning the edges o...  neutral  0.998810   \n",
      "2  This is achieved in our works using a binary n...  neutral  0.998493   \n",
      "3  We then convert to the latent-weight free sett...  neutral  0.998647   \n",
      "4  We draw inspiration from the seminal work of H...  neutral  0.997801   \n",
      "\n",
      "  m2_label  m2_score m3_label  m3_score m4_label  m4_score  m5_label  \\\n",
      "0  neutral  0.995685  neutral  0.920269  neutral  0.899298   neutral   \n",
      "1  neutral  0.945077  neutral  0.945042  neutral  0.916808   neutral   \n",
      "2  neutral  0.862153  neutral  0.832152  neutral  0.890012  positive   \n",
      "3  neutral  0.996675  neutral  0.947427  neutral  0.759134   neutral   \n",
      "4  neutral  0.991928  neutral  0.573023  neutral  0.758196   neutral   \n",
      "\n",
      "   m5_score majority_vote  \n",
      "0  0.567627       neutral  \n",
      "1  0.617363       neutral  \n",
      "2  0.611728       neutral  \n",
      "3  0.558994       neutral  \n",
      "4  0.450481       neutral  \n",
      "sentiment_analysis/inferences_from_all_5_models/RS_119_NeurIPS_2019_02.csv saved\n",
      "\n",
      "\n",
      "\n",
      "\n",
      "RS_025_MLRC_2022_25.csv - model 1 --- model 2 --- model 3 --- model 4 --- model 5 ---\n",
      "                                                text m1_label  m1_score  \\\n",
      "0  , 2021), training classifiers in the latent sp...  neutral  0.999067   \n",
      "\n",
      "  m2_label  m2_score m3_label  m3_score m4_label  m4_score m5_label  m5_score  \\\n",
      "0  neutral  0.997551  neutral  0.976958  neutral   0.90778  neutral  0.572693   \n",
      "\n",
      "  majority_vote  \n",
      "0       neutral  \n",
      "sentiment_analysis/inferences_from_all_5_models/RS_025_MLRC_2022_25.csv saved\n",
      "\n",
      "\n",
      "\n",
      "\n"
     ]
    },
    {
     "name": "stderr",
     "output_type": "stream",
     "text": [
      "/home/oruma001/envs/cs834_project/lib/python3.10/site-packages/transformers/pipelines/base.py:1123: UserWarning: You seem to be using the pipelines sequentially on GPU. In order to maximize efficiency please use a dataset\n",
      "  warnings.warn(\n",
      "/home/oruma001/envs/cs834_project/lib/python3.10/site-packages/transformers/pipelines/base.py:1123: UserWarning: You seem to be using the pipelines sequentially on GPU. In order to maximize efficiency please use a dataset\n",
      "  warnings.warn(\n",
      "/home/oruma001/envs/cs834_project/lib/python3.10/site-packages/transformers/pipelines/base.py:1123: UserWarning: You seem to be using the pipelines sequentially on GPU. In order to maximize efficiency please use a dataset\n",
      "  warnings.warn(\n",
      "/home/oruma001/envs/cs834_project/lib/python3.10/site-packages/transformers/pipelines/base.py:1123: UserWarning: You seem to be using the pipelines sequentially on GPU. In order to maximize efficiency please use a dataset\n",
      "  warnings.warn(\n",
      "/home/oruma001/envs/cs834_project/lib/python3.10/site-packages/transformers/pipelines/base.py:1123: UserWarning: You seem to be using the pipelines sequentially on GPU. In order to maximize efficiency please use a dataset\n",
      "  warnings.warn(\n",
      "/home/oruma001/envs/cs834_project/lib/python3.10/site-packages/transformers/pipelines/base.py:1123: UserWarning: You seem to be using the pipelines sequentially on GPU. In order to maximize efficiency please use a dataset\n",
      "  warnings.warn(\n"
     ]
    },
    {
     "name": "stdout",
     "output_type": "stream",
     "text": [
      "RS_075_MLRC_2021_30.csv - model 1 --- "
     ]
    },
    {
     "name": "stderr",
     "output_type": "stream",
     "text": [
      "/home/oruma001/envs/cs834_project/lib/python3.10/site-packages/transformers/pipelines/base.py:1123: UserWarning: You seem to be using the pipelines sequentially on GPU. In order to maximize efficiency please use a dataset\n",
      "  warnings.warn(\n"
     ]
    },
    {
     "name": "stdout",
     "output_type": "stream",
     "text": [
      "model 2 --- "
     ]
    },
    {
     "name": "stderr",
     "output_type": "stream",
     "text": [
      "/home/oruma001/envs/cs834_project/lib/python3.10/site-packages/transformers/pipelines/base.py:1123: UserWarning: You seem to be using the pipelines sequentially on GPU. In order to maximize efficiency please use a dataset\n",
      "  warnings.warn(\n"
     ]
    },
    {
     "name": "stdout",
     "output_type": "stream",
     "text": [
      "model 3 --- "
     ]
    },
    {
     "name": "stderr",
     "output_type": "stream",
     "text": [
      "/home/oruma001/envs/cs834_project/lib/python3.10/site-packages/transformers/pipelines/base.py:1123: UserWarning: You seem to be using the pipelines sequentially on GPU. In order to maximize efficiency please use a dataset\n",
      "  warnings.warn(\n"
     ]
    },
    {
     "name": "stdout",
     "output_type": "stream",
     "text": [
      "model 4 --- "
     ]
    },
    {
     "name": "stderr",
     "output_type": "stream",
     "text": [
      "/home/oruma001/envs/cs834_project/lib/python3.10/site-packages/transformers/pipelines/base.py:1123: UserWarning: You seem to be using the pipelines sequentially on GPU. In order to maximize efficiency please use a dataset\n",
      "  warnings.warn(\n"
     ]
    },
    {
     "name": "stdout",
     "output_type": "stream",
     "text": [
      "model 5 ---\n",
      "                                                text m1_label  m1_score  \\\n",
      "0  We apply an incremental fine-tuning algorithm ...  neutral  0.998954   \n",
      "1  To initiate the IMP procedure, we initialize m...  neutral  0.998709   \n",
      "2  For the pruning step, we simply raise the spar...  neutral  0.998841   \n",
      "3  When monolingual data is used in IMP, this pro...  neutral  0.998434   \n",
      "4  Within the framework of the IMP procedure, we ...  neutral  0.998811   \n",
      "\n",
      "   m2_label  m2_score m3_label  m3_score m4_label  m4_score  m5_label  \\\n",
      "0   neutral  0.997280  neutral  0.950851  neutral  0.852843   neutral   \n",
      "1   neutral  0.997653  neutral  0.972796  neutral  0.918529   neutral   \n",
      "2  positive  0.978986  neutral  0.965616  neutral  0.910602   neutral   \n",
      "3   neutral  0.987493  neutral  0.961716  neutral  0.920032  negative   \n",
      "4   neutral  0.996136  neutral  0.972241  neutral  0.898252   neutral   \n",
      "\n",
      "   m5_score majority_vote  \n",
      "0  0.517916       neutral  \n",
      "1  0.552415       neutral  \n",
      "2  0.538338       neutral  \n",
      "3  0.459281       neutral  \n",
      "4  0.542408       neutral  \n",
      "sentiment_analysis/inferences_from_all_5_models/RS_075_MLRC_2021_30.csv saved\n",
      "\n",
      "\n",
      "\n",
      "\n"
     ]
    },
    {
     "name": "stderr",
     "output_type": "stream",
     "text": [
      "/home/oruma001/envs/cs834_project/lib/python3.10/site-packages/transformers/pipelines/base.py:1123: UserWarning: You seem to be using the pipelines sequentially on GPU. In order to maximize efficiency please use a dataset\n",
      "  warnings.warn(\n"
     ]
    },
    {
     "name": "stdout",
     "output_type": "stream",
     "text": [
      "RS_130_ICLR_2019_02.csv - model 1 --- "
     ]
    },
    {
     "name": "stderr",
     "output_type": "stream",
     "text": [
      "/home/oruma001/envs/cs834_project/lib/python3.10/site-packages/transformers/pipelines/base.py:1123: UserWarning: You seem to be using the pipelines sequentially on GPU. In order to maximize efficiency please use a dataset\n",
      "  warnings.warn(\n"
     ]
    },
    {
     "name": "stdout",
     "output_type": "stream",
     "text": [
      "model 2 --- "
     ]
    },
    {
     "name": "stderr",
     "output_type": "stream",
     "text": [
      "/home/oruma001/envs/cs834_project/lib/python3.10/site-packages/transformers/pipelines/base.py:1123: UserWarning: You seem to be using the pipelines sequentially on GPU. In order to maximize efficiency please use a dataset\n",
      "  warnings.warn(\n"
     ]
    },
    {
     "name": "stdout",
     "output_type": "stream",
     "text": [
      "model 3 --- "
     ]
    },
    {
     "name": "stderr",
     "output_type": "stream",
     "text": [
      "/home/oruma001/envs/cs834_project/lib/python3.10/site-packages/transformers/pipelines/base.py:1123: UserWarning: You seem to be using the pipelines sequentially on GPU. In order to maximize efficiency please use a dataset\n",
      "  warnings.warn(\n"
     ]
    },
    {
     "name": "stdout",
     "output_type": "stream",
     "text": [
      "model 4 --- "
     ]
    },
    {
     "name": "stderr",
     "output_type": "stream",
     "text": [
      "/home/oruma001/envs/cs834_project/lib/python3.10/site-packages/transformers/pipelines/base.py:1123: UserWarning: You seem to be using the pipelines sequentially on GPU. In order to maximize efficiency please use a dataset\n",
      "  warnings.warn(\n"
     ]
    },
    {
     "name": "stdout",
     "output_type": "stream",
     "text": [
      "model 5 ---\n",
      "                                                text m1_label  m1_score  \\\n",
      "0  We investigate the effect of label noise on tw...  neutral  0.998912   \n",
      "1  It should be noted that on the miniImageNet da...  neutral  0.998933   \n",
      "2  We adhere to the widely used splitting protoco...  neutral  0.998047   \n",
      "3  Few-shot Learning Setting: We employ four prom...  neutral  0.998880   \n",
      "4  Few-shot Learning Setting: We employ four prom...  neutral  0.998823   \n",
      "\n",
      "   m2_label  m2_score  m3_label  m3_score  m4_label  m4_score  m5_label  \\\n",
      "0   neutral  0.997686   neutral  0.971624   neutral  0.898659   neutral   \n",
      "1  positive  0.994968  positive  0.792050  positive  0.758716   neutral   \n",
      "2   neutral  0.950576   neutral  0.776911   neutral  0.488490  positive   \n",
      "3   neutral  0.992313   neutral  0.843056   neutral  0.887556   neutral   \n",
      "4   neutral  0.993199   neutral  0.860006   neutral  0.781624   neutral   \n",
      "\n",
      "   m5_score majority_vote  \n",
      "0  0.622635       neutral  \n",
      "1  0.433952      positive  \n",
      "2  0.509769       neutral  \n",
      "3  0.497399       neutral  \n",
      "4  0.503190       neutral  \n",
      "sentiment_analysis/inferences_from_all_5_models/RS_130_ICLR_2019_02.csv saved\n",
      "\n",
      "\n",
      "\n",
      "\n",
      "RS_031_MLRC_2022_31.csv - model 1 --- "
     ]
    },
    {
     "name": "stderr",
     "output_type": "stream",
     "text": [
      "/home/oruma001/envs/cs834_project/lib/python3.10/site-packages/transformers/pipelines/base.py:1123: UserWarning: You seem to be using the pipelines sequentially on GPU. In order to maximize efficiency please use a dataset\n",
      "  warnings.warn(\n",
      "/home/oruma001/envs/cs834_project/lib/python3.10/site-packages/transformers/pipelines/base.py:1123: UserWarning: You seem to be using the pipelines sequentially on GPU. In order to maximize efficiency please use a dataset\n",
      "  warnings.warn(\n"
     ]
    },
    {
     "name": "stdout",
     "output_type": "stream",
     "text": [
      "model 2 --- model 3 --- model 4 --- "
     ]
    },
    {
     "name": "stderr",
     "output_type": "stream",
     "text": [
      "/home/oruma001/envs/cs834_project/lib/python3.10/site-packages/transformers/pipelines/base.py:1123: UserWarning: You seem to be using the pipelines sequentially on GPU. In order to maximize efficiency please use a dataset\n",
      "  warnings.warn(\n",
      "/home/oruma001/envs/cs834_project/lib/python3.10/site-packages/transformers/pipelines/base.py:1123: UserWarning: You seem to be using the pipelines sequentially on GPU. In order to maximize efficiency please use a dataset\n",
      "  warnings.warn(\n",
      "/home/oruma001/envs/cs834_project/lib/python3.10/site-packages/transformers/pipelines/base.py:1123: UserWarning: You seem to be using the pipelines sequentially on GPU. In order to maximize efficiency please use a dataset\n",
      "  warnings.warn(\n"
     ]
    },
    {
     "name": "stdout",
     "output_type": "stream",
     "text": [
      "model 5 ---\n",
      "                                                text  m1_label  m1_score  \\\n",
      "0  We implement a U-Net-based CA (UNetCA) baselin...   neutral  0.998962   \n",
      "1  To train the ViTCA update rule, we follow a “p...   neutral  0.999014   \n",
      "2  It was therefore unclear how to get the datase...   neutral  0.997418   \n",
      "3  Presented in figure 1 is a corrected version o...  negative  0.801782   \n",
      "4  2 Datasets The dataset used by the original au...   neutral  0.998788   \n",
      "\n",
      "  m2_label  m2_score  m3_label  m3_score  m4_label  m4_score  m5_label  \\\n",
      "0  neutral  0.992069   neutral  0.955213   neutral  0.913259   neutral   \n",
      "1  neutral  0.997338   neutral  0.967781   neutral  0.834607  negative   \n",
      "2  neutral  0.992680   neutral  0.824283   neutral  0.739866  negative   \n",
      "3  neutral  0.944051  negative  0.602017  negative  0.854046  negative   \n",
      "4  neutral  0.997783   neutral  0.974343   neutral  0.925407   neutral   \n",
      "\n",
      "   m5_score majority_vote  \n",
      "0  0.709067       neutral  \n",
      "1  0.450913       neutral  \n",
      "2  0.554143       neutral  \n",
      "3  0.637060      negative  \n",
      "4  0.570627       neutral  \n",
      "sentiment_analysis/inferences_from_all_5_models/RS_031_MLRC_2022_31.csv saved\n",
      "\n",
      "\n",
      "\n",
      "\n",
      "RS_039_MLRC_2022_39.csv - model 1 --- model 2 --- model 3 --- model 4 --- "
     ]
    },
    {
     "name": "stderr",
     "output_type": "stream",
     "text": [
      "/home/oruma001/envs/cs834_project/lib/python3.10/site-packages/transformers/pipelines/base.py:1123: UserWarning: You seem to be using the pipelines sequentially on GPU. In order to maximize efficiency please use a dataset\n",
      "  warnings.warn(\n",
      "/home/oruma001/envs/cs834_project/lib/python3.10/site-packages/transformers/pipelines/base.py:1123: UserWarning: You seem to be using the pipelines sequentially on GPU. In order to maximize efficiency please use a dataset\n",
      "  warnings.warn(\n",
      "/home/oruma001/envs/cs834_project/lib/python3.10/site-packages/transformers/pipelines/base.py:1123: UserWarning: You seem to be using the pipelines sequentially on GPU. In order to maximize efficiency please use a dataset\n",
      "  warnings.warn(\n",
      "/home/oruma001/envs/cs834_project/lib/python3.10/site-packages/transformers/pipelines/base.py:1123: UserWarning: You seem to be using the pipelines sequentially on GPU. In order to maximize efficiency please use a dataset\n",
      "  warnings.warn(\n",
      "/home/oruma001/envs/cs834_project/lib/python3.10/site-packages/transformers/pipelines/base.py:1123: UserWarning: You seem to be using the pipelines sequentially on GPU. In order to maximize efficiency please use a dataset\n",
      "  warnings.warn(\n"
     ]
    },
    {
     "name": "stdout",
     "output_type": "stream",
     "text": [
      "model 5 ---\n",
      "                                                text m1_label  m1_score  \\\n",
      "0  Compared to [16, 17], we revisit IM with fairn...  neutral  0.998729   \n",
      "1  The remaining parameters are the same as state...  neutral  0.998636   \n",
      "2  Method Reference Code Pre-processing In traini...  neutral  0.999020   \n",
      "\n",
      "   m2_label  m2_score m3_label  m3_score  m4_label  m4_score  m5_label  \\\n",
      "0  positive  0.974688  neutral  0.718163  positive  0.509007  positive   \n",
      "1   neutral  0.997439  neutral  0.976866   neutral  0.937112   neutral   \n",
      "2   neutral  0.997288  neutral  0.962624   neutral  0.711869   neutral   \n",
      "\n",
      "   m5_score majority_vote  \n",
      "0  0.584718      positive  \n",
      "1  0.653113       neutral  \n",
      "2  0.668061       neutral  \n",
      "sentiment_analysis/inferences_from_all_5_models/RS_039_MLRC_2022_39.csv saved\n",
      "\n",
      "\n",
      "\n",
      "\n"
     ]
    },
    {
     "name": "stderr",
     "output_type": "stream",
     "text": [
      "/home/oruma001/envs/cs834_project/lib/python3.10/site-packages/transformers/pipelines/base.py:1123: UserWarning: You seem to be using the pipelines sequentially on GPU. In order to maximize efficiency please use a dataset\n",
      "  warnings.warn(\n"
     ]
    },
    {
     "name": "stdout",
     "output_type": "stream",
     "text": [
      "RS_109_MLRC_2020_16.csv - model 1 --- model 2 --- "
     ]
    },
    {
     "name": "stderr",
     "output_type": "stream",
     "text": [
      "/home/oruma001/envs/cs834_project/lib/python3.10/site-packages/transformers/pipelines/base.py:1123: UserWarning: You seem to be using the pipelines sequentially on GPU. In order to maximize efficiency please use a dataset\n",
      "  warnings.warn(\n",
      "/home/oruma001/envs/cs834_project/lib/python3.10/site-packages/transformers/pipelines/base.py:1123: UserWarning: You seem to be using the pipelines sequentially on GPU. In order to maximize efficiency please use a dataset\n",
      "  warnings.warn(\n"
     ]
    },
    {
     "name": "stdout",
     "output_type": "stream",
     "text": [
      "model 3 --- "
     ]
    },
    {
     "name": "stderr",
     "output_type": "stream",
     "text": [
      "/home/oruma001/envs/cs834_project/lib/python3.10/site-packages/transformers/pipelines/base.py:1123: UserWarning: You seem to be using the pipelines sequentially on GPU. In order to maximize efficiency please use a dataset\n",
      "  warnings.warn(\n"
     ]
    },
    {
     "name": "stdout",
     "output_type": "stream",
     "text": [
      "model 4 --- model 5 ---\n",
      "                                                text m1_label  m1_score  \\\n",
      "0  Further possible candidates are the GCE transl...  neutral  0.998921   \n",
      "1  …the GLOBE-CE framework recovers minimum cost ...  neutral  0.998792   \n",
      "2  [51] propose another counterfactual-summarymet...  neutral  0.999000   \n",
      "3  To generate the simulated sc-RNA-seq dataset, ...  neutral  0.998975   \n",
      "4  Also, we compare GCE to Kratos, combined with ...  neutral  0.999111   \n",
      "\n",
      "   m2_label  m2_score m3_label  m3_score  m4_label  m4_score  m5_label  \\\n",
      "0   neutral  0.997324  neutral  0.934733   neutral  0.633292  negative   \n",
      "1  positive  0.829491  neutral  0.538630  positive  0.496838  negative   \n",
      "2   neutral  0.995917  neutral  0.966174   neutral  0.944439   neutral   \n",
      "3   neutral  0.996601  neutral  0.949579   neutral  0.822779   neutral   \n",
      "4   neutral  0.992705  neutral  0.890320   neutral  0.690510   neutral   \n",
      "\n",
      "   m5_score majority_vote  \n",
      "0  0.487917       neutral  \n",
      "1  0.516801       neutral  \n",
      "2  0.716527       neutral  \n",
      "3  0.669524       neutral  \n",
      "4  0.508223       neutral  \n",
      "sentiment_analysis/inferences_from_all_5_models/RS_109_MLRC_2020_16.csv saved\n",
      "\n",
      "\n",
      "\n",
      "\n"
     ]
    },
    {
     "name": "stderr",
     "output_type": "stream",
     "text": [
      "/home/oruma001/envs/cs834_project/lib/python3.10/site-packages/transformers/pipelines/base.py:1123: UserWarning: You seem to be using the pipelines sequentially on GPU. In order to maximize efficiency please use a dataset\n",
      "  warnings.warn(\n",
      "/home/oruma001/envs/cs834_project/lib/python3.10/site-packages/transformers/pipelines/base.py:1123: UserWarning: You seem to be using the pipelines sequentially on GPU. In order to maximize efficiency please use a dataset\n",
      "  warnings.warn(\n"
     ]
    },
    {
     "name": "stdout",
     "output_type": "stream",
     "text": [
      "RS_034_MLRC_2022_34.csv - model 1 --- "
     ]
    },
    {
     "name": "stderr",
     "output_type": "stream",
     "text": [
      "/home/oruma001/envs/cs834_project/lib/python3.10/site-packages/transformers/pipelines/base.py:1123: UserWarning: You seem to be using the pipelines sequentially on GPU. In order to maximize efficiency please use a dataset\n",
      "  warnings.warn(\n"
     ]
    },
    {
     "name": "stdout",
     "output_type": "stream",
     "text": [
      "model 2 --- "
     ]
    },
    {
     "name": "stderr",
     "output_type": "stream",
     "text": [
      "/home/oruma001/envs/cs834_project/lib/python3.10/site-packages/transformers/pipelines/base.py:1123: UserWarning: You seem to be using the pipelines sequentially on GPU. In order to maximize efficiency please use a dataset\n",
      "  warnings.warn(\n"
     ]
    },
    {
     "name": "stdout",
     "output_type": "stream",
     "text": [
      "model 3 --- "
     ]
    },
    {
     "name": "stderr",
     "output_type": "stream",
     "text": [
      "/home/oruma001/envs/cs834_project/lib/python3.10/site-packages/transformers/pipelines/base.py:1123: UserWarning: You seem to be using the pipelines sequentially on GPU. In order to maximize efficiency please use a dataset\n",
      "  warnings.warn(\n"
     ]
    },
    {
     "name": "stdout",
     "output_type": "stream",
     "text": [
      "model 4 --- "
     ]
    },
    {
     "name": "stderr",
     "output_type": "stream",
     "text": [
      "/home/oruma001/envs/cs834_project/lib/python3.10/site-packages/transformers/pipelines/base.py:1123: UserWarning: You seem to be using the pipelines sequentially on GPU. In order to maximize efficiency please use a dataset\n",
      "  warnings.warn(\n"
     ]
    },
    {
     "name": "stdout",
     "output_type": "stream",
     "text": [
      "model 5 ---\n",
      "                                                text m1_label  m1_score  \\\n",
      "0  For G-Mixup, we use the same hyper-parameters ...  neutral  0.998802   \n",
      "1  Only in the case of the Reddit-5K dataset with...  neutral  0.998806   \n",
      "2  We apply our proposed Graph Dual Mixup on the ...  neutral  0.999005   \n",
      "3  Our result generalizes that of [16] by allowin...  neutral  0.998482   \n",
      "4  Note that for complexons of dimension 1, when ...  neutral  0.997926   \n",
      "\n",
      "  m2_label  m2_score m3_label  m3_score m4_label  m4_score  m5_label  \\\n",
      "0  neutral  0.956996  neutral  0.933677  neutral  0.928219   neutral   \n",
      "1  neutral  0.930049  neutral  0.649649  neutral  0.482644  negative   \n",
      "2  neutral  0.995606  neutral  0.958729  neutral  0.881675   neutral   \n",
      "3  neutral  0.992574  neutral  0.927701  neutral  0.866984   neutral   \n",
      "4  neutral  0.977237  neutral  0.963883  neutral  0.823722   neutral   \n",
      "\n",
      "   m5_score majority_vote  \n",
      "0  0.645646       neutral  \n",
      "1  0.837037       neutral  \n",
      "2  0.569903       neutral  \n",
      "3  0.504486       neutral  \n",
      "4  0.560515       neutral  \n",
      "sentiment_analysis/inferences_from_all_5_models/RS_034_MLRC_2022_34.csv saved\n",
      "\n",
      "\n",
      "\n",
      "\n",
      "RS_135_ICDAR_2018_02.csv - model 1 --- model 2 --- model 3 --- "
     ]
    },
    {
     "name": "stderr",
     "output_type": "stream",
     "text": [
      "/home/oruma001/envs/cs834_project/lib/python3.10/site-packages/transformers/pipelines/base.py:1123: UserWarning: You seem to be using the pipelines sequentially on GPU. In order to maximize efficiency please use a dataset\n",
      "  warnings.warn(\n",
      "/home/oruma001/envs/cs834_project/lib/python3.10/site-packages/transformers/pipelines/base.py:1123: UserWarning: You seem to be using the pipelines sequentially on GPU. In order to maximize efficiency please use a dataset\n",
      "  warnings.warn(\n",
      "/home/oruma001/envs/cs834_project/lib/python3.10/site-packages/transformers/pipelines/base.py:1123: UserWarning: You seem to be using the pipelines sequentially on GPU. In order to maximize efficiency please use a dataset\n",
      "  warnings.warn(\n",
      "/home/oruma001/envs/cs834_project/lib/python3.10/site-packages/transformers/pipelines/base.py:1123: UserWarning: You seem to be using the pipelines sequentially on GPU. In order to maximize efficiency please use a dataset\n",
      "  warnings.warn(\n"
     ]
    },
    {
     "name": "stdout",
     "output_type": "stream",
     "text": [
      "model 4 --- model 5 ---\n",
      "                                                text m1_label  m1_score  \\\n",
      "0  [44] leveraged the ICDAR 2017 POD dataset to a...  neutral  0.998575   \n",
      "1  Class Labels TabStructDB [14] TableBank [7] TN...  neutral  0.999125   \n",
      "2  TabStructDB TabStructDB is a different publicl...  neutral  0.998842   \n",
      "3  Furthermore, we have also surpassed the baseli...  neutral  0.998690   \n",
      "\n",
      "  m2_label  m2_score  m3_label  m3_score  m4_label  m4_score m5_label  \\\n",
      "0  neutral  0.997011   neutral  0.796503   neutral  0.915286  neutral   \n",
      "1  neutral  0.988602   neutral  0.969690   neutral  0.955432  neutral   \n",
      "2  neutral  0.997603   neutral  0.958561   neutral  0.894544  neutral   \n",
      "3  neutral  0.538157  positive  0.769803  positive  0.553209  neutral   \n",
      "\n",
      "   m5_score majority_vote  \n",
      "0  0.586773       neutral  \n",
      "1  0.822532       neutral  \n",
      "2  0.608484       neutral  \n",
      "3  0.544810       neutral  \n",
      "sentiment_analysis/inferences_from_all_5_models/RS_135_ICDAR_2018_02.csv saved\n",
      "\n",
      "\n",
      "\n",
      "\n"
     ]
    },
    {
     "name": "stderr",
     "output_type": "stream",
     "text": [
      "/home/oruma001/envs/cs834_project/lib/python3.10/site-packages/transformers/pipelines/base.py:1123: UserWarning: You seem to be using the pipelines sequentially on GPU. In order to maximize efficiency please use a dataset\n",
      "  warnings.warn(\n",
      "/home/oruma001/envs/cs834_project/lib/python3.10/site-packages/transformers/pipelines/base.py:1123: UserWarning: You seem to be using the pipelines sequentially on GPU. In order to maximize efficiency please use a dataset\n",
      "  warnings.warn(\n"
     ]
    },
    {
     "name": "stdout",
     "output_type": "stream",
     "text": [
      "RS_138_ICDAR_2018_05.csv - model 1 --- "
     ]
    },
    {
     "name": "stderr",
     "output_type": "stream",
     "text": [
      "/home/oruma001/envs/cs834_project/lib/python3.10/site-packages/transformers/pipelines/base.py:1123: UserWarning: You seem to be using the pipelines sequentially on GPU. In order to maximize efficiency please use a dataset\n",
      "  warnings.warn(\n"
     ]
    },
    {
     "name": "stdout",
     "output_type": "stream",
     "text": [
      "model 2 --- "
     ]
    },
    {
     "name": "stderr",
     "output_type": "stream",
     "text": [
      "/home/oruma001/envs/cs834_project/lib/python3.10/site-packages/transformers/pipelines/base.py:1123: UserWarning: You seem to be using the pipelines sequentially on GPU. In order to maximize efficiency please use a dataset\n",
      "  warnings.warn(\n"
     ]
    },
    {
     "name": "stdout",
     "output_type": "stream",
     "text": [
      "model 3 --- "
     ]
    },
    {
     "name": "stderr",
     "output_type": "stream",
     "text": [
      "/home/oruma001/envs/cs834_project/lib/python3.10/site-packages/transformers/pipelines/base.py:1123: UserWarning: You seem to be using the pipelines sequentially on GPU. In order to maximize efficiency please use a dataset\n",
      "  warnings.warn(\n"
     ]
    },
    {
     "name": "stdout",
     "output_type": "stream",
     "text": [
      "model 4 --- "
     ]
    },
    {
     "name": "stderr",
     "output_type": "stream",
     "text": [
      "/home/oruma001/envs/cs834_project/lib/python3.10/site-packages/transformers/pipelines/base.py:1123: UserWarning: You seem to be using the pipelines sequentially on GPU. In order to maximize efficiency please use a dataset\n",
      "  warnings.warn(\n"
     ]
    },
    {
     "name": "stdout",
     "output_type": "stream",
     "text": [
      "model 5 ---\n",
      "                                                text m1_label  m1_score  \\\n",
      "0  Furthermore, to assess the effectiveness of ou...  neutral  0.998937   \n",
      "1  Furthermore, to assess the effectiveness of ou...  neutral  0.998990   \n",
      "2  The results shown in Figure 3 and Figure 4 ind...  neutral  0.744393   \n",
      "3  Under the new evaluation setting, the result o...  neutral  0.944699   \n",
      "4  Method #Param FLOPs GPU CPU SPLERGE [41] 0.37 ...  neutral  0.999173   \n",
      "\n",
      "   m2_label  m2_score  m3_label  m3_score  m4_label  m4_score  m5_label  \\\n",
      "0   neutral  0.991943   neutral  0.746154   neutral  0.673064   neutral   \n",
      "1   neutral  0.991903   neutral  0.733150   neutral  0.673782   neutral   \n",
      "2   neutral  0.989662   neutral  0.846819   neutral  0.732220  negative   \n",
      "3  negative  0.904051  negative  0.806090  negative  0.531530  negative   \n",
      "4   neutral  0.865565   neutral  0.973597   neutral  0.889777   neutral   \n",
      "\n",
      "   m5_score majority_vote  \n",
      "0  0.469008       neutral  \n",
      "1  0.467862       neutral  \n",
      "2  0.585488       neutral  \n",
      "3  0.882802      negative  \n",
      "4  0.821270       neutral  \n",
      "sentiment_analysis/inferences_from_all_5_models/RS_138_ICDAR_2018_05.csv saved\n",
      "\n",
      "\n",
      "\n",
      "\n",
      "RS_017_MLRC_2022_17.csv - model 1 --- model 2 --- model 3 --- "
     ]
    },
    {
     "name": "stderr",
     "output_type": "stream",
     "text": [
      "/home/oruma001/envs/cs834_project/lib/python3.10/site-packages/transformers/pipelines/base.py:1123: UserWarning: You seem to be using the pipelines sequentially on GPU. In order to maximize efficiency please use a dataset\n",
      "  warnings.warn(\n",
      "/home/oruma001/envs/cs834_project/lib/python3.10/site-packages/transformers/pipelines/base.py:1123: UserWarning: You seem to be using the pipelines sequentially on GPU. In order to maximize efficiency please use a dataset\n",
      "  warnings.warn(\n",
      "/home/oruma001/envs/cs834_project/lib/python3.10/site-packages/transformers/pipelines/base.py:1123: UserWarning: You seem to be using the pipelines sequentially on GPU. In order to maximize efficiency please use a dataset\n",
      "  warnings.warn(\n",
      "/home/oruma001/envs/cs834_project/lib/python3.10/site-packages/transformers/pipelines/base.py:1123: UserWarning: You seem to be using the pipelines sequentially on GPU. In order to maximize efficiency please use a dataset\n",
      "  warnings.warn(\n",
      "/home/oruma001/envs/cs834_project/lib/python3.10/site-packages/transformers/pipelines/base.py:1123: UserWarning: You seem to be using the pipelines sequentially on GPU. In order to maximize efficiency please use a dataset\n",
      "  warnings.warn(\n"
     ]
    },
    {
     "name": "stdout",
     "output_type": "stream",
     "text": [
      "model 4 --- model 5 ---\n",
      "                                                text m1_label  m1_score  \\\n",
      "0  However, we note that ignoring points where no...  neutral  0.990947   \n",
      "1  At zero error, these librairies fix arbitraril...  neutral  0.996843   \n",
      "2  Abusing notation slightly, we write dPC2 dz ∣∣...  neutral  0.998722   \n",
      "\n",
      "  m2_label  m2_score  m3_label  m3_score  m4_label  m4_score  m5_label  \\\n",
      "0  neutral  0.849424  negative  0.580944  negative  0.728893  negative   \n",
      "1  neutral  0.996552   neutral  0.945875   neutral  0.678214  negative   \n",
      "2  neutral  0.986129   neutral  0.882693  positive  0.564459  negative   \n",
      "\n",
      "   m5_score majority_vote  \n",
      "0  0.534040      negative  \n",
      "1  0.744824       neutral  \n",
      "2  0.592213       neutral  \n",
      "sentiment_analysis/inferences_from_all_5_models/RS_017_MLRC_2022_17.csv saved\n",
      "\n",
      "\n",
      "\n",
      "\n"
     ]
    },
    {
     "name": "stderr",
     "output_type": "stream",
     "text": [
      "/home/oruma001/envs/cs834_project/lib/python3.10/site-packages/transformers/pipelines/base.py:1123: UserWarning: You seem to be using the pipelines sequentially on GPU. In order to maximize efficiency please use a dataset\n",
      "  warnings.warn(\n"
     ]
    },
    {
     "name": "stdout",
     "output_type": "stream",
     "text": [
      "RS_098_MLRC_2020_05.csv - model 1 --- model 2 --- "
     ]
    },
    {
     "name": "stderr",
     "output_type": "stream",
     "text": [
      "/home/oruma001/envs/cs834_project/lib/python3.10/site-packages/transformers/pipelines/base.py:1123: UserWarning: You seem to be using the pipelines sequentially on GPU. In order to maximize efficiency please use a dataset\n",
      "  warnings.warn(\n",
      "/home/oruma001/envs/cs834_project/lib/python3.10/site-packages/transformers/pipelines/base.py:1123: UserWarning: You seem to be using the pipelines sequentially on GPU. In order to maximize efficiency please use a dataset\n",
      "  warnings.warn(\n"
     ]
    },
    {
     "name": "stdout",
     "output_type": "stream",
     "text": [
      "model 3 --- "
     ]
    },
    {
     "name": "stderr",
     "output_type": "stream",
     "text": [
      "/home/oruma001/envs/cs834_project/lib/python3.10/site-packages/transformers/pipelines/base.py:1123: UserWarning: You seem to be using the pipelines sequentially on GPU. In order to maximize efficiency please use a dataset\n",
      "  warnings.warn(\n"
     ]
    },
    {
     "name": "stdout",
     "output_type": "stream",
     "text": [
      "model 4 --- model 5 ---\n",
      "                                                text m1_label  m1_score  \\\n",
      "0  The rest of the derivations is similar to prev...  neutral  0.998420   \n",
      "1  In order to estimate the gradient in Equation ...  neutral  0.998791   \n",
      "2  When τ in Equation (20) tends to zero, the tan...  neutral  0.998386   \n",
      "3  Following previous works [3,6,29], we use clas...  neutral  0.998552   \n",
      "4  We compare our algorithm against state-of-the-...  neutral  0.998935   \n",
      "\n",
      "   m2_label  m2_score m3_label  m3_score m4_label  m4_score  m5_label  \\\n",
      "0   neutral  0.997592  neutral  0.974190  neutral  0.902233   neutral   \n",
      "1  positive  0.937338  neutral  0.952450  neutral  0.870811   neutral   \n",
      "2   neutral  0.996813  neutral  0.972496  neutral  0.850615   neutral   \n",
      "3   neutral  0.995834  neutral  0.918614  neutral  0.898087  positive   \n",
      "4   neutral  0.996368  neutral  0.921105  neutral  0.843467   neutral   \n",
      "\n",
      "   m5_score majority_vote  \n",
      "0  0.569529       neutral  \n",
      "1  0.581759       neutral  \n",
      "2  0.518886       neutral  \n",
      "3  0.537073       neutral  \n",
      "4  0.537268       neutral  \n",
      "sentiment_analysis/inferences_from_all_5_models/RS_098_MLRC_2020_05.csv saved\n",
      "\n",
      "\n",
      "\n",
      "\n"
     ]
    },
    {
     "name": "stderr",
     "output_type": "stream",
     "text": [
      "/home/oruma001/envs/cs834_project/lib/python3.10/site-packages/transformers/pipelines/base.py:1123: UserWarning: You seem to be using the pipelines sequentially on GPU. In order to maximize efficiency please use a dataset\n",
      "  warnings.warn(\n",
      "/home/oruma001/envs/cs834_project/lib/python3.10/site-packages/transformers/pipelines/base.py:1123: UserWarning: You seem to be using the pipelines sequentially on GPU. In order to maximize efficiency please use a dataset\n",
      "  warnings.warn(\n"
     ]
    },
    {
     "name": "stdout",
     "output_type": "stream",
     "text": [
      "RS_011_MLRC_2022_11.csv - model 1 --- model 2 --- model 3 --- model 4 --- "
     ]
    },
    {
     "name": "stderr",
     "output_type": "stream",
     "text": [
      "/home/oruma001/envs/cs834_project/lib/python3.10/site-packages/transformers/pipelines/base.py:1123: UserWarning: You seem to be using the pipelines sequentially on GPU. In order to maximize efficiency please use a dataset\n",
      "  warnings.warn(\n",
      "/home/oruma001/envs/cs834_project/lib/python3.10/site-packages/transformers/pipelines/base.py:1123: UserWarning: You seem to be using the pipelines sequentially on GPU. In order to maximize efficiency please use a dataset\n",
      "  warnings.warn(\n",
      "/home/oruma001/envs/cs834_project/lib/python3.10/site-packages/transformers/pipelines/base.py:1123: UserWarning: You seem to be using the pipelines sequentially on GPU. In order to maximize efficiency please use a dataset\n",
      "  warnings.warn(\n",
      "/home/oruma001/envs/cs834_project/lib/python3.10/site-packages/transformers/pipelines/base.py:1123: UserWarning: You seem to be using the pipelines sequentially on GPU. In order to maximize efficiency please use a dataset\n",
      "  warnings.warn(\n"
     ]
    },
    {
     "name": "stdout",
     "output_type": "stream",
     "text": [
      "model 5 ---\n",
      "                                                text m1_label  m1_score  \\\n",
      "0  (2)We also restrict to supervised models, sinc...  neutral  0.998970   \n",
      "1  We compared the performance of our likelihood ...  neutral  0.998579   \n",
      "2  the latent space of an autoencoder), and an ad...  neutral  0.999042   \n",
      "3  We quantitatively compare these various featur...  neutral  0.998774   \n",
      "4  We do not compare with methods that are not po...  neutral  0.998839   \n",
      "\n",
      "  m2_label  m2_score  m3_label  m3_score m4_label  m4_score  m5_label  \\\n",
      "0  neutral  0.996826   neutral  0.948091  neutral  0.855668   neutral   \n",
      "1  neutral  0.991427   neutral  0.966729  neutral  0.804515   neutral   \n",
      "2  neutral  0.993482   neutral  0.965769  neutral  0.899714   neutral   \n",
      "3  neutral  0.996297   neutral  0.956345  neutral  0.858440   neutral   \n",
      "4  neutral  0.994300  negative  0.599333  neutral  0.532652  negative   \n",
      "\n",
      "   m5_score majority_vote  \n",
      "0  0.467430       neutral  \n",
      "1  0.542039       neutral  \n",
      "2  0.470383       neutral  \n",
      "3  0.587204       neutral  \n",
      "4  0.663046       neutral  \n",
      "sentiment_analysis/inferences_from_all_5_models/RS_011_MLRC_2022_11.csv saved\n",
      "\n",
      "\n",
      "\n",
      "\n",
      "RS_038_MLRC_2022_38.csv - model 1 --- model 2 --- model 3 --- model 4 --- "
     ]
    },
    {
     "name": "stderr",
     "output_type": "stream",
     "text": [
      "/home/oruma001/envs/cs834_project/lib/python3.10/site-packages/transformers/pipelines/base.py:1123: UserWarning: You seem to be using the pipelines sequentially on GPU. In order to maximize efficiency please use a dataset\n",
      "  warnings.warn(\n",
      "/home/oruma001/envs/cs834_project/lib/python3.10/site-packages/transformers/pipelines/base.py:1123: UserWarning: You seem to be using the pipelines sequentially on GPU. In order to maximize efficiency please use a dataset\n",
      "  warnings.warn(\n",
      "/home/oruma001/envs/cs834_project/lib/python3.10/site-packages/transformers/pipelines/base.py:1123: UserWarning: You seem to be using the pipelines sequentially on GPU. In order to maximize efficiency please use a dataset\n",
      "  warnings.warn(\n",
      "/home/oruma001/envs/cs834_project/lib/python3.10/site-packages/transformers/pipelines/base.py:1123: UserWarning: You seem to be using the pipelines sequentially on GPU. In order to maximize efficiency please use a dataset\n",
      "  warnings.warn(\n",
      "/home/oruma001/envs/cs834_project/lib/python3.10/site-packages/transformers/pipelines/base.py:1123: UserWarning: You seem to be using the pipelines sequentially on GPU. In order to maximize efficiency please use a dataset\n",
      "  warnings.warn(\n"
     ]
    },
    {
     "name": "stdout",
     "output_type": "stream",
     "text": [
      "model 5 ---\n",
      "                                                text m1_label  m1_score  \\\n",
      "0  Compared to [16, 17], we revisit IM with fairn...  neutral  0.998729   \n",
      "1  The remaining parameters are the same as state...  neutral  0.998636   \n",
      "2  Method Reference Code Pre-processing In traini...  neutral  0.999020   \n",
      "\n",
      "   m2_label  m2_score m3_label  m3_score  m4_label  m4_score  m5_label  \\\n",
      "0  positive  0.974688  neutral  0.718163  positive  0.509007  positive   \n",
      "1   neutral  0.997439  neutral  0.976866   neutral  0.937112   neutral   \n",
      "2   neutral  0.997288  neutral  0.962624   neutral  0.711869   neutral   \n",
      "\n",
      "   m5_score majority_vote  \n",
      "0  0.584718      positive  \n",
      "1  0.653113       neutral  \n",
      "2  0.668061       neutral  \n",
      "sentiment_analysis/inferences_from_all_5_models/RS_038_MLRC_2022_38.csv saved\n",
      "\n",
      "\n",
      "\n",
      "\n",
      "RS_024_MLRC_2022_24.csv - model 1 --- model 2 --- "
     ]
    },
    {
     "name": "stderr",
     "output_type": "stream",
     "text": [
      "/home/oruma001/envs/cs834_project/lib/python3.10/site-packages/transformers/pipelines/base.py:1123: UserWarning: You seem to be using the pipelines sequentially on GPU. In order to maximize efficiency please use a dataset\n",
      "  warnings.warn(\n",
      "/home/oruma001/envs/cs834_project/lib/python3.10/site-packages/transformers/pipelines/base.py:1123: UserWarning: You seem to be using the pipelines sequentially on GPU. In order to maximize efficiency please use a dataset\n",
      "  warnings.warn(\n",
      "/home/oruma001/envs/cs834_project/lib/python3.10/site-packages/transformers/pipelines/base.py:1123: UserWarning: You seem to be using the pipelines sequentially on GPU. In order to maximize efficiency please use a dataset\n",
      "  warnings.warn(\n"
     ]
    },
    {
     "name": "stdout",
     "output_type": "stream",
     "text": [
      "model 3 --- model 4 --- model 5 ---\n",
      "                                                text m1_label  m1_score  \\\n",
      "0  (2)We also restrict to supervised models, sinc...  neutral  0.998970   \n",
      "1  We compared the performance of our likelihood ...  neutral  0.998579   \n",
      "2  the latent space of an autoencoder), and an ad...  neutral  0.999042   \n",
      "3  We quantitatively compare these various featur...  neutral  0.998774   \n",
      "4  We do not compare with methods that are not po...  neutral  0.998839   \n",
      "\n",
      "  m2_label  m2_score  m3_label  m3_score m4_label  m4_score  m5_label  \\\n",
      "0  neutral  0.996826   neutral  0.948091  neutral  0.855668   neutral   \n",
      "1  neutral  0.991427   neutral  0.966729  neutral  0.804515   neutral   \n",
      "2  neutral  0.993482   neutral  0.965769  neutral  0.899714   neutral   \n",
      "3  neutral  0.996297   neutral  0.956345  neutral  0.858440   neutral   \n",
      "4  neutral  0.994300  negative  0.599333  neutral  0.532652  negative   \n",
      "\n",
      "   m5_score majority_vote  \n",
      "0  0.467430       neutral  \n",
      "1  0.542039       neutral  \n",
      "2  0.470383       neutral  \n",
      "3  0.587204       neutral  \n",
      "4  0.663046       neutral  \n",
      "sentiment_analysis/inferences_from_all_5_models/RS_024_MLRC_2022_24.csv saved\n",
      "\n",
      "\n",
      "\n",
      "\n"
     ]
    },
    {
     "name": "stderr",
     "output_type": "stream",
     "text": [
      "/home/oruma001/envs/cs834_project/lib/python3.10/site-packages/transformers/pipelines/base.py:1123: UserWarning: You seem to be using the pipelines sequentially on GPU. In order to maximize efficiency please use a dataset\n",
      "  warnings.warn(\n",
      "/home/oruma001/envs/cs834_project/lib/python3.10/site-packages/transformers/pipelines/base.py:1123: UserWarning: You seem to be using the pipelines sequentially on GPU. In order to maximize efficiency please use a dataset\n",
      "  warnings.warn(\n",
      "/home/oruma001/envs/cs834_project/lib/python3.10/site-packages/transformers/pipelines/base.py:1123: UserWarning: You seem to be using the pipelines sequentially on GPU. In order to maximize efficiency please use a dataset\n",
      "  warnings.warn(\n"
     ]
    },
    {
     "name": "stdout",
     "output_type": "stream",
     "text": [
      "RS_100_MLRC_2020_07.csv - model 1 --- "
     ]
    },
    {
     "name": "stderr",
     "output_type": "stream",
     "text": [
      "/home/oruma001/envs/cs834_project/lib/python3.10/site-packages/transformers/pipelines/base.py:1123: UserWarning: You seem to be using the pipelines sequentially on GPU. In order to maximize efficiency please use a dataset\n",
      "  warnings.warn(\n"
     ]
    },
    {
     "name": "stdout",
     "output_type": "stream",
     "text": [
      "model 2 --- "
     ]
    },
    {
     "name": "stderr",
     "output_type": "stream",
     "text": [
      "/home/oruma001/envs/cs834_project/lib/python3.10/site-packages/transformers/pipelines/base.py:1123: UserWarning: You seem to be using the pipelines sequentially on GPU. In order to maximize efficiency please use a dataset\n",
      "  warnings.warn(\n"
     ]
    },
    {
     "name": "stdout",
     "output_type": "stream",
     "text": [
      "model 3 --- "
     ]
    },
    {
     "name": "stderr",
     "output_type": "stream",
     "text": [
      "/home/oruma001/envs/cs834_project/lib/python3.10/site-packages/transformers/pipelines/base.py:1123: UserWarning: You seem to be using the pipelines sequentially on GPU. In order to maximize efficiency please use a dataset\n",
      "  warnings.warn(\n"
     ]
    },
    {
     "name": "stdout",
     "output_type": "stream",
     "text": [
      "model 4 --- "
     ]
    },
    {
     "name": "stderr",
     "output_type": "stream",
     "text": [
      "/home/oruma001/envs/cs834_project/lib/python3.10/site-packages/transformers/pipelines/base.py:1123: UserWarning: You seem to be using the pipelines sequentially on GPU. In order to maximize efficiency please use a dataset\n",
      "  warnings.warn(\n"
     ]
    },
    {
     "name": "stdout",
     "output_type": "stream",
     "text": [
      "model 5 ---\n",
      "                                                text m1_label  m1_score  \\\n",
      "0  In a follow-up work, PGExplainer [30] extends ...  neutral  0.999014   \n",
      "1  Specifically, in the CFAD framework, we first ...  neutral  0.998939   \n",
      "2  Like most GNN-interpretability methods (Luo et...  neutral  0.998830   \n",
      "3  Datasets For graph classification, we use two ...  neutral  0.998850   \n",
      "4  Our implementations mainly follows the setting...  neutral  0.998973   \n",
      "\n",
      "  m2_label  m2_score m3_label  m3_score m4_label  m4_score m5_label  m5_score  \\\n",
      "0  neutral  0.995846  neutral  0.955450  neutral  0.890317  neutral  0.552023   \n",
      "1  neutral  0.993365  neutral  0.962358  neutral  0.814800  neutral  0.541387   \n",
      "2  neutral  0.992250  neutral  0.874656  neutral  0.869958  neutral  0.426507   \n",
      "3  neutral  0.997406  neutral  0.944059  neutral  0.934984  neutral  0.685056   \n",
      "4  neutral  0.997749  neutral  0.924839  neutral  0.931418  neutral  0.594049   \n",
      "\n",
      "  majority_vote  \n",
      "0       neutral  \n",
      "1       neutral  \n",
      "2       neutral  \n",
      "3       neutral  \n",
      "4       neutral  \n",
      "sentiment_analysis/inferences_from_all_5_models/RS_100_MLRC_2020_07.csv saved\n",
      "\n",
      "\n",
      "\n",
      "\n"
     ]
    },
    {
     "name": "stderr",
     "output_type": "stream",
     "text": [
      "/home/oruma001/envs/cs834_project/lib/python3.10/site-packages/transformers/pipelines/base.py:1123: UserWarning: You seem to be using the pipelines sequentially on GPU. In order to maximize efficiency please use a dataset\n",
      "  warnings.warn(\n"
     ]
    },
    {
     "name": "stdout",
     "output_type": "stream",
     "text": [
      "RS_081_MLRC_2021_36.csv - model 1 --- model 2 --- "
     ]
    },
    {
     "name": "stderr",
     "output_type": "stream",
     "text": [
      "/home/oruma001/envs/cs834_project/lib/python3.10/site-packages/transformers/pipelines/base.py:1123: UserWarning: You seem to be using the pipelines sequentially on GPU. In order to maximize efficiency please use a dataset\n",
      "  warnings.warn(\n",
      "/home/oruma001/envs/cs834_project/lib/python3.10/site-packages/transformers/pipelines/base.py:1123: UserWarning: You seem to be using the pipelines sequentially on GPU. In order to maximize efficiency please use a dataset\n",
      "  warnings.warn(\n"
     ]
    },
    {
     "name": "stdout",
     "output_type": "stream",
     "text": [
      "model 3 --- model 4 --- "
     ]
    },
    {
     "name": "stderr",
     "output_type": "stream",
     "text": [
      "/home/oruma001/envs/cs834_project/lib/python3.10/site-packages/transformers/pipelines/base.py:1123: UserWarning: You seem to be using the pipelines sequentially on GPU. In order to maximize efficiency please use a dataset\n",
      "  warnings.warn(\n",
      "/home/oruma001/envs/cs834_project/lib/python3.10/site-packages/transformers/pipelines/base.py:1123: UserWarning: You seem to be using the pipelines sequentially on GPU. In order to maximize efficiency please use a dataset\n",
      "  warnings.warn(\n"
     ]
    },
    {
     "name": "stdout",
     "output_type": "stream",
     "text": [
      "model 5 ---\n",
      "                                                text m1_label  m1_score  \\\n",
      "0  Another category exploits the variational auto...  neutral  0.999057   \n",
      "1  Another category exploits the variational auto...  neutral  0.998862   \n",
      "2  Trajectron++ [41] uses the observation as the ...  neutral  0.999049   \n",
      "3  We optimize these end-points whose prior is th...  neutral  0.998823   \n",
      "4  The first part of Table V reports simple basel...  neutral  0.998916   \n",
      "\n",
      "  m2_label  m2_score m3_label  m3_score m4_label  m4_score  m5_label  \\\n",
      "0  neutral  0.997707  neutral  0.930764  neutral  0.909304  negative   \n",
      "1  neutral  0.996938  neutral  0.934305  neutral  0.923326  negative   \n",
      "2  neutral  0.996922  neutral  0.958485  neutral  0.883813   neutral   \n",
      "3  neutral  0.935192  neutral  0.902724  neutral  0.746596   neutral   \n",
      "4  neutral  0.997355  neutral  0.975938  neutral  0.917962   neutral   \n",
      "\n",
      "   m5_score majority_vote  \n",
      "0  0.677916       neutral  \n",
      "1  0.667737       neutral  \n",
      "2  0.534628       neutral  \n",
      "3  0.535405       neutral  \n",
      "4  0.625023       neutral  \n",
      "sentiment_analysis/inferences_from_all_5_models/RS_081_MLRC_2021_36.csv saved\n",
      "\n",
      "\n",
      "\n",
      "\n"
     ]
    },
    {
     "name": "stderr",
     "output_type": "stream",
     "text": [
      "/home/oruma001/envs/cs834_project/lib/python3.10/site-packages/transformers/pipelines/base.py:1123: UserWarning: You seem to be using the pipelines sequentially on GPU. In order to maximize efficiency please use a dataset\n",
      "  warnings.warn(\n"
     ]
    },
    {
     "name": "stdout",
     "output_type": "stream",
     "text": [
      "RS_128_NeurIPS_2019_11.csv - model 1 --- "
     ]
    },
    {
     "name": "stderr",
     "output_type": "stream",
     "text": [
      "/home/oruma001/envs/cs834_project/lib/python3.10/site-packages/transformers/pipelines/base.py:1123: UserWarning: You seem to be using the pipelines sequentially on GPU. In order to maximize efficiency please use a dataset\n",
      "  warnings.warn(\n"
     ]
    },
    {
     "name": "stdout",
     "output_type": "stream",
     "text": [
      "model 2 --- "
     ]
    },
    {
     "name": "stderr",
     "output_type": "stream",
     "text": [
      "/home/oruma001/envs/cs834_project/lib/python3.10/site-packages/transformers/pipelines/base.py:1123: UserWarning: You seem to be using the pipelines sequentially on GPU. In order to maximize efficiency please use a dataset\n",
      "  warnings.warn(\n"
     ]
    },
    {
     "name": "stdout",
     "output_type": "stream",
     "text": [
      "model 3 --- "
     ]
    },
    {
     "name": "stderr",
     "output_type": "stream",
     "text": [
      "/home/oruma001/envs/cs834_project/lib/python3.10/site-packages/transformers/pipelines/base.py:1123: UserWarning: You seem to be using the pipelines sequentially on GPU. In order to maximize efficiency please use a dataset\n",
      "  warnings.warn(\n"
     ]
    },
    {
     "name": "stdout",
     "output_type": "stream",
     "text": [
      "model 4 --- "
     ]
    },
    {
     "name": "stderr",
     "output_type": "stream",
     "text": [
      "/home/oruma001/envs/cs834_project/lib/python3.10/site-packages/transformers/pipelines/base.py:1123: UserWarning: You seem to be using the pipelines sequentially on GPU. In order to maximize efficiency please use a dataset\n",
      "  warnings.warn(\n"
     ]
    },
    {
     "name": "stdout",
     "output_type": "stream",
     "text": [
      "model 5 ---\n",
      "                                                text m1_label  m1_score  \\\n",
      "0  OE = M∑ i=1 |Bi| |D| · 1(Ci > Ai) · |Ci −Ai|, ...  neutral  0.998960   \n",
      "1  Evaluation Metrics: We use Equal-Width Expecte...  neutral  0.998976   \n",
      "2  We also compare with model calibration methods...  neutral  0.999004   \n",
      "3  Evaluation Metrics: We use Equal-Width Expecte...  neutral  0.998976   \n",
      "4  We report model calibration results evaluated ...  neutral  0.999019   \n",
      "\n",
      "   m2_label  m2_score m3_label  m3_score m4_label  m4_score  m5_label  \\\n",
      "0  positive  0.606237  neutral  0.892536  neutral  0.913230   neutral   \n",
      "1   neutral  0.977125  neutral  0.971557  neutral  0.776475   neutral   \n",
      "2   neutral  0.997226  neutral  0.969647  neutral  0.838890   neutral   \n",
      "3   neutral  0.977125  neutral  0.969391  neutral  0.776475   neutral   \n",
      "4   neutral  0.997609  neutral  0.941613  neutral  0.786069  negative   \n",
      "\n",
      "   m5_score majority_vote  \n",
      "0  0.482533       neutral  \n",
      "1  0.570678       neutral  \n",
      "2  0.547692       neutral  \n",
      "3  0.570678       neutral  \n",
      "4  0.504253       neutral  \n",
      "sentiment_analysis/inferences_from_all_5_models/RS_128_NeurIPS_2019_11.csv saved\n",
      "\n",
      "\n",
      "\n",
      "\n"
     ]
    },
    {
     "name": "stderr",
     "output_type": "stream",
     "text": [
      "/home/oruma001/envs/cs834_project/lib/python3.10/site-packages/transformers/pipelines/base.py:1123: UserWarning: You seem to be using the pipelines sequentially on GPU. In order to maximize efficiency please use a dataset\n",
      "  warnings.warn(\n"
     ]
    },
    {
     "name": "stdout",
     "output_type": "stream",
     "text": [
      "RS_134_ICDAR_2018_01.csv - model 1 --- "
     ]
    },
    {
     "name": "stderr",
     "output_type": "stream",
     "text": [
      "/home/oruma001/envs/cs834_project/lib/python3.10/site-packages/transformers/pipelines/base.py:1123: UserWarning: You seem to be using the pipelines sequentially on GPU. In order to maximize efficiency please use a dataset\n",
      "  warnings.warn(\n"
     ]
    },
    {
     "name": "stdout",
     "output_type": "stream",
     "text": [
      "model 2 --- "
     ]
    },
    {
     "name": "stderr",
     "output_type": "stream",
     "text": [
      "/home/oruma001/envs/cs834_project/lib/python3.10/site-packages/transformers/pipelines/base.py:1123: UserWarning: You seem to be using the pipelines sequentially on GPU. In order to maximize efficiency please use a dataset\n",
      "  warnings.warn(\n"
     ]
    },
    {
     "name": "stdout",
     "output_type": "stream",
     "text": [
      "model 3 --- "
     ]
    },
    {
     "name": "stderr",
     "output_type": "stream",
     "text": [
      "/home/oruma001/envs/cs834_project/lib/python3.10/site-packages/transformers/pipelines/base.py:1123: UserWarning: You seem to be using the pipelines sequentially on GPU. In order to maximize efficiency please use a dataset\n",
      "  warnings.warn(\n"
     ]
    },
    {
     "name": "stdout",
     "output_type": "stream",
     "text": [
      "model 4 --- "
     ]
    },
    {
     "name": "stderr",
     "output_type": "stream",
     "text": [
      "/home/oruma001/envs/cs834_project/lib/python3.10/site-packages/transformers/pipelines/base.py:1123: UserWarning: You seem to be using the pipelines sequentially on GPU. In order to maximize efficiency please use a dataset\n",
      "  warnings.warn(\n"
     ]
    },
    {
     "name": "stdout",
     "output_type": "stream",
     "text": [
      "model 5 ---\n",
      "                                                text  m1_label  m1_score  \\\n",
      "0  Distinct from previous segmentationbased metho...   neutral  0.998942   \n",
      "1  The original dataset suffered from incorrect g...  negative  0.615024   \n",
      "2  Methods span\\n5 makesense.ai 6 http://www.astr...   neutral  0.998800   \n",
      "3  ICDAR2013 UNLV Method Prec Recall F1 Prec Reca...   neutral  0.998767   \n",
      "4  For the TSR task, we list TabbyPDF [19], Graph...   neutral  0.998823   \n",
      "\n",
      "  m2_label  m2_score  m3_label  m3_score  m4_label  m4_score m5_label  \\\n",
      "0  neutral  0.995812   neutral  0.928630   neutral  0.883881  neutral   \n",
      "1  neutral  0.996675  negative  0.683259  negative  0.819492  neutral   \n",
      "2  neutral  0.997556   neutral  0.962718   neutral  0.895217  neutral   \n",
      "3  neutral  0.988534   neutral  0.977488   neutral  0.773389  neutral   \n",
      "4  neutral  0.997544   neutral  0.914187   neutral  0.928063  neutral   \n",
      "\n",
      "   m5_score majority_vote  \n",
      "0  0.493793       neutral  \n",
      "1  0.558376      negative  \n",
      "2  0.666637       neutral  \n",
      "3  0.827869       neutral  \n",
      "4  0.707447       neutral  \n",
      "sentiment_analysis/inferences_from_all_5_models/RS_134_ICDAR_2018_01.csv saved\n",
      "\n",
      "\n",
      "\n",
      "\n"
     ]
    },
    {
     "name": "stderr",
     "output_type": "stream",
     "text": [
      "/home/oruma001/envs/cs834_project/lib/python3.10/site-packages/transformers/pipelines/base.py:1123: UserWarning: You seem to be using the pipelines sequentially on GPU. In order to maximize efficiency please use a dataset\n",
      "  warnings.warn(\n"
     ]
    },
    {
     "name": "stdout",
     "output_type": "stream",
     "text": [
      "RS_041_MLRC_2022_41.csv - model 1 --- "
     ]
    },
    {
     "name": "stderr",
     "output_type": "stream",
     "text": [
      "/home/oruma001/envs/cs834_project/lib/python3.10/site-packages/transformers/pipelines/base.py:1123: UserWarning: You seem to be using the pipelines sequentially on GPU. In order to maximize efficiency please use a dataset\n",
      "  warnings.warn(\n"
     ]
    },
    {
     "name": "stdout",
     "output_type": "stream",
     "text": [
      "model 2 --- "
     ]
    },
    {
     "name": "stderr",
     "output_type": "stream",
     "text": [
      "/home/oruma001/envs/cs834_project/lib/python3.10/site-packages/transformers/pipelines/base.py:1123: UserWarning: You seem to be using the pipelines sequentially on GPU. In order to maximize efficiency please use a dataset\n",
      "  warnings.warn(\n"
     ]
    },
    {
     "name": "stdout",
     "output_type": "stream",
     "text": [
      "model 3 --- "
     ]
    },
    {
     "name": "stderr",
     "output_type": "stream",
     "text": [
      "/home/oruma001/envs/cs834_project/lib/python3.10/site-packages/transformers/pipelines/base.py:1123: UserWarning: You seem to be using the pipelines sequentially on GPU. In order to maximize efficiency please use a dataset\n",
      "  warnings.warn(\n"
     ]
    },
    {
     "name": "stdout",
     "output_type": "stream",
     "text": [
      "model 4 --- "
     ]
    },
    {
     "name": "stderr",
     "output_type": "stream",
     "text": [
      "/home/oruma001/envs/cs834_project/lib/python3.10/site-packages/transformers/pipelines/base.py:1123: UserWarning: You seem to be using the pipelines sequentially on GPU. In order to maximize efficiency please use a dataset\n",
      "  warnings.warn(\n"
     ]
    },
    {
     "name": "stdout",
     "output_type": "stream",
     "text": [
      "model 5 ---\n",
      "                                                text m1_label  m1_score  \\\n",
      "0  com/wanyu-lin/ICML2021-Gem/ SubgraphX [62] htt...  neutral  0.998784   \n",
      "1  Following routinely adopted settings (Ying et ...  neutral  0.998824   \n",
      "2  In our experiments, we employ the Fidelity+ an...  neutral  0.998884   \n",
      "3  We compare non-generative methods, including t...  neutral  0.999046   \n",
      "4  To evaluate the performance of explanation qua...  neutral  0.998876   \n",
      "\n",
      "   m2_label  m2_score  m3_label  m3_score  m4_label  m4_score  m5_label  \\\n",
      "0   neutral  0.997164   neutral  0.967723   neutral  0.947442   neutral   \n",
      "1   neutral  0.994701  positive  0.536693  positive  0.508855   neutral   \n",
      "2  positive  0.947588   neutral  0.911139   neutral  0.795012  positive   \n",
      "3   neutral  0.997259   neutral  0.970939   neutral  0.836364   neutral   \n",
      "4   neutral  0.923260   neutral  0.943224   neutral  0.801732   neutral   \n",
      "\n",
      "   m5_score majority_vote  \n",
      "0  0.788877       neutral  \n",
      "1  0.518656       neutral  \n",
      "2  0.490585       neutral  \n",
      "3  0.590708       neutral  \n",
      "4  0.515189       neutral  \n",
      "sentiment_analysis/inferences_from_all_5_models/RS_041_MLRC_2022_41.csv saved\n",
      "\n",
      "\n",
      "\n",
      "\n"
     ]
    },
    {
     "name": "stderr",
     "output_type": "stream",
     "text": [
      "/home/oruma001/envs/cs834_project/lib/python3.10/site-packages/transformers/pipelines/base.py:1123: UserWarning: You seem to be using the pipelines sequentially on GPU. In order to maximize efficiency please use a dataset\n",
      "  warnings.warn(\n"
     ]
    },
    {
     "name": "stdout",
     "output_type": "stream",
     "text": [
      "RS_053_MLRC_2021_08.csv - model 1 --- model 2 --- "
     ]
    },
    {
     "name": "stderr",
     "output_type": "stream",
     "text": [
      "/home/oruma001/envs/cs834_project/lib/python3.10/site-packages/transformers/pipelines/base.py:1123: UserWarning: You seem to be using the pipelines sequentially on GPU. In order to maximize efficiency please use a dataset\n",
      "  warnings.warn(\n",
      "/home/oruma001/envs/cs834_project/lib/python3.10/site-packages/transformers/pipelines/base.py:1123: UserWarning: You seem to be using the pipelines sequentially on GPU. In order to maximize efficiency please use a dataset\n",
      "  warnings.warn(\n"
     ]
    },
    {
     "name": "stdout",
     "output_type": "stream",
     "text": [
      "model 3 --- model 4 --- "
     ]
    },
    {
     "name": "stderr",
     "output_type": "stream",
     "text": [
      "/home/oruma001/envs/cs834_project/lib/python3.10/site-packages/transformers/pipelines/base.py:1123: UserWarning: You seem to be using the pipelines sequentially on GPU. In order to maximize efficiency please use a dataset\n",
      "  warnings.warn(\n",
      "/home/oruma001/envs/cs834_project/lib/python3.10/site-packages/transformers/pipelines/base.py:1123: UserWarning: You seem to be using the pipelines sequentially on GPU. In order to maximize efficiency please use a dataset\n",
      "  warnings.warn(\n"
     ]
    },
    {
     "name": "stdout",
     "output_type": "stream",
     "text": [
      "model 5 ---\n",
      "                                                text m1_label  m1_score  \\\n",
      "0  According to [12], we update the slot T = 3 ti...  neutral  0.998886   \n",
      "1  We adopt a slot attention-based mechanism [26,...  neutral  0.998729   \n",
      "2  In this study, we use a slot attention-based c...  neutral  0.998737   \n",
      "3  In this study, we combine an advanced classifi...  neutral  0.998755   \n",
      "4  We adopt SCOUTER (Li et al., 2021), a classifi...  neutral  0.999085   \n",
      "\n",
      "   m2_label  m2_score m3_label  m3_score  m4_label  m4_score  m5_label  \\\n",
      "0   neutral  0.629022  neutral  0.957408   neutral  0.890440   neutral   \n",
      "1   neutral  0.918579  neutral  0.954230   neutral  0.934779   neutral   \n",
      "2   neutral  0.995628  neutral  0.946076   neutral  0.897291   neutral   \n",
      "3  positive  0.908857  neutral  0.916647  positive  0.521916  positive   \n",
      "4   neutral  0.994304  neutral  0.935245   neutral  0.887464   neutral   \n",
      "\n",
      "   m5_score majority_vote  \n",
      "0  0.576444       neutral  \n",
      "1  0.588254       neutral  \n",
      "2  0.574597       neutral  \n",
      "3  0.773183      positive  \n",
      "4  0.686550       neutral  \n",
      "sentiment_analysis/inferences_from_all_5_models/RS_053_MLRC_2021_08.csv saved\n",
      "\n",
      "\n",
      "\n",
      "\n",
      "RS_027_MLRC_2022_27.csv - model 1 --- model 2 --- model 3 --- model 4 --- "
     ]
    },
    {
     "name": "stderr",
     "output_type": "stream",
     "text": [
      "/home/oruma001/envs/cs834_project/lib/python3.10/site-packages/transformers/pipelines/base.py:1123: UserWarning: You seem to be using the pipelines sequentially on GPU. In order to maximize efficiency please use a dataset\n",
      "  warnings.warn(\n",
      "/home/oruma001/envs/cs834_project/lib/python3.10/site-packages/transformers/pipelines/base.py:1123: UserWarning: You seem to be using the pipelines sequentially on GPU. In order to maximize efficiency please use a dataset\n",
      "  warnings.warn(\n",
      "/home/oruma001/envs/cs834_project/lib/python3.10/site-packages/transformers/pipelines/base.py:1123: UserWarning: You seem to be using the pipelines sequentially on GPU. In order to maximize efficiency please use a dataset\n",
      "  warnings.warn(\n",
      "/home/oruma001/envs/cs834_project/lib/python3.10/site-packages/transformers/pipelines/base.py:1123: UserWarning: You seem to be using the pipelines sequentially on GPU. In order to maximize efficiency please use a dataset\n",
      "  warnings.warn(\n",
      "/home/oruma001/envs/cs834_project/lib/python3.10/site-packages/transformers/pipelines/base.py:1123: UserWarning: You seem to be using the pipelines sequentially on GPU. In order to maximize efficiency please use a dataset\n",
      "  warnings.warn(\n"
     ]
    },
    {
     "name": "stdout",
     "output_type": "stream",
     "text": [
      "model 5 ---\n",
      "                                                text m1_label  m1_score  \\\n",
      "0  Compared to [16, 17], we revisit IM with fairn...  neutral  0.998729   \n",
      "1  The remaining parameters are the same as state...  neutral  0.998636   \n",
      "2  Method Reference Code Pre-processing In traini...  neutral  0.999020   \n",
      "\n",
      "   m2_label  m2_score m3_label  m3_score  m4_label  m4_score  m5_label  \\\n",
      "0  positive  0.974688  neutral  0.718163  positive  0.509007  positive   \n",
      "1   neutral  0.997439  neutral  0.976866   neutral  0.937112   neutral   \n",
      "2   neutral  0.997288  neutral  0.962624   neutral  0.711869   neutral   \n",
      "\n",
      "   m5_score majority_vote  \n",
      "0  0.584718      positive  \n",
      "1  0.653113       neutral  \n",
      "2  0.668061       neutral  \n",
      "sentiment_analysis/inferences_from_all_5_models/RS_027_MLRC_2022_27.csv saved\n",
      "\n",
      "\n",
      "\n",
      "\n"
     ]
    },
    {
     "name": "stderr",
     "output_type": "stream",
     "text": [
      "/home/oruma001/envs/cs834_project/lib/python3.10/site-packages/transformers/pipelines/base.py:1123: UserWarning: You seem to be using the pipelines sequentially on GPU. In order to maximize efficiency please use a dataset\n",
      "  warnings.warn(\n"
     ]
    },
    {
     "name": "stdout",
     "output_type": "stream",
     "text": [
      "RS_066_MLRC_2021_21.csv - model 1 --- "
     ]
    },
    {
     "name": "stderr",
     "output_type": "stream",
     "text": [
      "/home/oruma001/envs/cs834_project/lib/python3.10/site-packages/transformers/pipelines/base.py:1123: UserWarning: You seem to be using the pipelines sequentially on GPU. In order to maximize efficiency please use a dataset\n",
      "  warnings.warn(\n"
     ]
    },
    {
     "name": "stdout",
     "output_type": "stream",
     "text": [
      "model 2 --- "
     ]
    },
    {
     "name": "stderr",
     "output_type": "stream",
     "text": [
      "/home/oruma001/envs/cs834_project/lib/python3.10/site-packages/transformers/pipelines/base.py:1123: UserWarning: You seem to be using the pipelines sequentially on GPU. In order to maximize efficiency please use a dataset\n",
      "  warnings.warn(\n"
     ]
    },
    {
     "name": "stdout",
     "output_type": "stream",
     "text": [
      "model 3 --- "
     ]
    },
    {
     "name": "stderr",
     "output_type": "stream",
     "text": [
      "/home/oruma001/envs/cs834_project/lib/python3.10/site-packages/transformers/pipelines/base.py:1123: UserWarning: You seem to be using the pipelines sequentially on GPU. In order to maximize efficiency please use a dataset\n",
      "  warnings.warn(\n"
     ]
    },
    {
     "name": "stdout",
     "output_type": "stream",
     "text": [
      "model 4 --- "
     ]
    },
    {
     "name": "stderr",
     "output_type": "stream",
     "text": [
      "/home/oruma001/envs/cs834_project/lib/python3.10/site-packages/transformers/pipelines/base.py:1123: UserWarning: You seem to be using the pipelines sequentially on GPU. In order to maximize efficiency please use a dataset\n",
      "  warnings.warn(\n"
     ]
    },
    {
     "name": "stdout",
     "output_type": "stream",
     "text": [
      "model 5 ---\n",
      "                                                text m1_label  m1_score  \\\n",
      "0  To accurately measure the model’s dependence o...  neutral  0.998205   \n",
      "1  The work of (Lang et al. 2021) proposes a trai...  neutral  0.999025   \n",
      "2  Domain Adaptation: Our approach builds on adva...  neutral  0.998769   \n",
      "3  We also did not compare with [13] because thei...  neutral  0.998770   \n",
      "4  Then, we borrow and revise the feature attribu...  neutral  0.998938   \n",
      "\n",
      "  m2_label  m2_score  m3_label  m3_score m4_label  m4_score  m5_label  \\\n",
      "0  neutral  0.993821   neutral  0.937373  neutral  0.666510   neutral   \n",
      "1  neutral  0.996802   neutral  0.960215  neutral  0.880965   neutral   \n",
      "2  neutral  0.994622  positive  0.673383  neutral  0.708800  positive   \n",
      "3  neutral  0.996876   neutral  0.685839  neutral  0.828780  negative   \n",
      "4  neutral  0.996459   neutral  0.946276  neutral  0.752070   neutral   \n",
      "\n",
      "   m5_score majority_vote  \n",
      "0  0.498816       neutral  \n",
      "1  0.542137       neutral  \n",
      "2  0.446468       neutral  \n",
      "3  0.529409       neutral  \n",
      "4  0.638560       neutral  \n",
      "sentiment_analysis/inferences_from_all_5_models/RS_066_MLRC_2021_21.csv saved\n",
      "\n",
      "\n",
      "\n",
      "\n"
     ]
    },
    {
     "name": "stderr",
     "output_type": "stream",
     "text": [
      "/home/oruma001/envs/cs834_project/lib/python3.10/site-packages/transformers/pipelines/base.py:1123: UserWarning: You seem to be using the pipelines sequentially on GPU. In order to maximize efficiency please use a dataset\n",
      "  warnings.warn(\n"
     ]
    },
    {
     "name": "stdout",
     "output_type": "stream",
     "text": [
      "RS_115_MLRC_2020_22.csv - model 1 --- model 2 --- "
     ]
    },
    {
     "name": "stderr",
     "output_type": "stream",
     "text": [
      "/home/oruma001/envs/cs834_project/lib/python3.10/site-packages/transformers/pipelines/base.py:1123: UserWarning: You seem to be using the pipelines sequentially on GPU. In order to maximize efficiency please use a dataset\n",
      "  warnings.warn(\n",
      "/home/oruma001/envs/cs834_project/lib/python3.10/site-packages/transformers/pipelines/base.py:1123: UserWarning: You seem to be using the pipelines sequentially on GPU. In order to maximize efficiency please use a dataset\n",
      "  warnings.warn(\n"
     ]
    },
    {
     "name": "stdout",
     "output_type": "stream",
     "text": [
      "model 3 --- model 4 --- "
     ]
    },
    {
     "name": "stderr",
     "output_type": "stream",
     "text": [
      "/home/oruma001/envs/cs834_project/lib/python3.10/site-packages/transformers/pipelines/base.py:1123: UserWarning: You seem to be using the pipelines sequentially on GPU. In order to maximize efficiency please use a dataset\n",
      "  warnings.warn(\n",
      "/home/oruma001/envs/cs834_project/lib/python3.10/site-packages/transformers/pipelines/base.py:1123: UserWarning: You seem to be using the pipelines sequentially on GPU. In order to maximize efficiency please use a dataset\n",
      "  warnings.warn(\n"
     ]
    },
    {
     "name": "stdout",
     "output_type": "stream",
     "text": [
      "model 5 ---\n",
      "                                                text m1_label  m1_score  \\\n",
      "0  We assume a generic model framework and notati...  neutral  0.998720   \n",
      "1  For regularization methods, we conducted a gri...  neutral  0.998892   \n",
      "2  Taking a step further, we applied two regulari...  neutral  0.999039   \n",
      "3  In Table 2 we report correlation scores on the...  neutral  0.998851   \n",
      "4  We include the results for all datasets across...  neutral  0.998984   \n",
      "\n",
      "  m2_label  m2_score m3_label  m3_score m4_label  m4_score m5_label  m5_score  \\\n",
      "0  neutral  0.997308  neutral  0.968846  neutral  0.925588  neutral  0.610157   \n",
      "1  neutral  0.997450  neutral  0.974894  neutral  0.928150  neutral  0.597491   \n",
      "2  neutral  0.979724  neutral  0.923383  neutral  0.660203  neutral  0.354448   \n",
      "3  neutral  0.997316  neutral  0.970891  neutral  0.870139  neutral  0.628660   \n",
      "4  neutral  0.997045  neutral  0.931455  neutral  0.889048  neutral  0.688341   \n",
      "\n",
      "  majority_vote  \n",
      "0       neutral  \n",
      "1       neutral  \n",
      "2       neutral  \n",
      "3       neutral  \n",
      "4       neutral  \n",
      "sentiment_analysis/inferences_from_all_5_models/RS_115_MLRC_2020_22.csv saved\n",
      "\n",
      "\n",
      "\n",
      "\n"
     ]
    },
    {
     "name": "stderr",
     "output_type": "stream",
     "text": [
      "/home/oruma001/envs/cs834_project/lib/python3.10/site-packages/transformers/pipelines/base.py:1123: UserWarning: You seem to be using the pipelines sequentially on GPU. In order to maximize efficiency please use a dataset\n",
      "  warnings.warn(\n"
     ]
    },
    {
     "name": "stdout",
     "output_type": "stream",
     "text": [
      "RS_126_NeurIPS_2019_09.csv - model 1 --- "
     ]
    },
    {
     "name": "stderr",
     "output_type": "stream",
     "text": [
      "/home/oruma001/envs/cs834_project/lib/python3.10/site-packages/transformers/pipelines/base.py:1123: UserWarning: You seem to be using the pipelines sequentially on GPU. In order to maximize efficiency please use a dataset\n",
      "  warnings.warn(\n"
     ]
    },
    {
     "name": "stdout",
     "output_type": "stream",
     "text": [
      "model 2 --- "
     ]
    },
    {
     "name": "stderr",
     "output_type": "stream",
     "text": [
      "/home/oruma001/envs/cs834_project/lib/python3.10/site-packages/transformers/pipelines/base.py:1123: UserWarning: You seem to be using the pipelines sequentially on GPU. In order to maximize efficiency please use a dataset\n",
      "  warnings.warn(\n"
     ]
    },
    {
     "name": "stdout",
     "output_type": "stream",
     "text": [
      "model 3 --- "
     ]
    },
    {
     "name": "stderr",
     "output_type": "stream",
     "text": [
      "/home/oruma001/envs/cs834_project/lib/python3.10/site-packages/transformers/pipelines/base.py:1123: UserWarning: You seem to be using the pipelines sequentially on GPU. In order to maximize efficiency please use a dataset\n",
      "  warnings.warn(\n"
     ]
    },
    {
     "name": "stdout",
     "output_type": "stream",
     "text": [
      "model 4 --- "
     ]
    },
    {
     "name": "stderr",
     "output_type": "stream",
     "text": [
      "/home/oruma001/envs/cs834_project/lib/python3.10/site-packages/transformers/pipelines/base.py:1123: UserWarning: You seem to be using the pipelines sequentially on GPU. In order to maximize efficiency please use a dataset\n",
      "  warnings.warn(\n"
     ]
    },
    {
     "name": "stdout",
     "output_type": "stream",
     "text": [
      "model 5 ---\n",
      "                                                text m1_label  m1_score  \\\n",
      "0  In particular, we follow the linear probing pr...  neutral  0.998803   \n",
      "1  We conduct linear probing tasks [22] on the de...  neutral  0.998641   \n",
      "2  In case when K > 1, because if E[Zt+K , [Zt, U...  neutral  0.998483   \n",
      "3  Then, our method aims to maximize the mutual i...  neutral  0.998798   \n",
      "4  , Ut+K−1]) (2) Here, K ≥ 1 is a fixed hyperpar...  neutral  0.998969   \n",
      "\n",
      "  m2_label  m2_score m3_label  m3_score m4_label  m4_score  m5_label  \\\n",
      "0  neutral  0.996677  neutral  0.966051  neutral  0.894891   neutral   \n",
      "1  neutral  0.997494  neutral  0.962432  neutral  0.936871   neutral   \n",
      "2  neutral  0.827025  neutral  0.942709  neutral  0.849697  negative   \n",
      "3  neutral  0.967680  neutral  0.728577  neutral  0.656281   neutral   \n",
      "4  neutral  0.996154  neutral  0.968524  neutral  0.904160   neutral   \n",
      "\n",
      "   m5_score majority_vote  \n",
      "0  0.482703       neutral  \n",
      "1  0.595823       neutral  \n",
      "2  0.528055       neutral  \n",
      "3  0.569658       neutral  \n",
      "4  0.540727       neutral  \n",
      "sentiment_analysis/inferences_from_all_5_models/RS_126_NeurIPS_2019_09.csv saved\n",
      "\n",
      "\n",
      "\n",
      "\n"
     ]
    },
    {
     "name": "stderr",
     "output_type": "stream",
     "text": [
      "/home/oruma001/envs/cs834_project/lib/python3.10/site-packages/transformers/pipelines/base.py:1123: UserWarning: You seem to be using the pipelines sequentially on GPU. In order to maximize efficiency please use a dataset\n",
      "  warnings.warn(\n"
     ]
    },
    {
     "name": "stdout",
     "output_type": "stream",
     "text": [
      "RS_094_MLRC_2020_01.csv - model 1 --- model 2 --- "
     ]
    },
    {
     "name": "stderr",
     "output_type": "stream",
     "text": [
      "/home/oruma001/envs/cs834_project/lib/python3.10/site-packages/transformers/pipelines/base.py:1123: UserWarning: You seem to be using the pipelines sequentially on GPU. In order to maximize efficiency please use a dataset\n",
      "  warnings.warn(\n",
      "/home/oruma001/envs/cs834_project/lib/python3.10/site-packages/transformers/pipelines/base.py:1123: UserWarning: You seem to be using the pipelines sequentially on GPU. In order to maximize efficiency please use a dataset\n",
      "  warnings.warn(\n"
     ]
    },
    {
     "name": "stdout",
     "output_type": "stream",
     "text": [
      "model 3 --- "
     ]
    },
    {
     "name": "stderr",
     "output_type": "stream",
     "text": [
      "/home/oruma001/envs/cs834_project/lib/python3.10/site-packages/transformers/pipelines/base.py:1123: UserWarning: You seem to be using the pipelines sequentially on GPU. In order to maximize efficiency please use a dataset\n",
      "  warnings.warn(\n"
     ]
    },
    {
     "name": "stdout",
     "output_type": "stream",
     "text": [
      "model 4 --- model 5 ---\n",
      "                                                text m1_label  m1_score  \\\n",
      "0  Further possible candidates are the GCE transl...  neutral  0.998921   \n",
      "1  …the GLOBE-CE framework recovers minimum cost ...  neutral  0.998792   \n",
      "2  [51] propose another counterfactual-summarymet...  neutral  0.999000   \n",
      "3  To generate the simulated sc-RNA-seq dataset, ...  neutral  0.998975   \n",
      "4  Also, we compare GCE to Kratos, combined with ...  neutral  0.999111   \n",
      "\n",
      "   m2_label  m2_score m3_label  m3_score  m4_label  m4_score  m5_label  \\\n",
      "0   neutral  0.997324  neutral  0.934733   neutral  0.633292  negative   \n",
      "1  positive  0.829491  neutral  0.538630  positive  0.496838  negative   \n",
      "2   neutral  0.995917  neutral  0.966174   neutral  0.944439   neutral   \n",
      "3   neutral  0.996601  neutral  0.949579   neutral  0.822779   neutral   \n",
      "4   neutral  0.992705  neutral  0.890320   neutral  0.690510   neutral   \n",
      "\n",
      "   m5_score majority_vote  \n",
      "0  0.487917       neutral  \n",
      "1  0.516801       neutral  \n",
      "2  0.716527       neutral  \n",
      "3  0.669524       neutral  \n",
      "4  0.508223       neutral  \n",
      "sentiment_analysis/inferences_from_all_5_models/RS_094_MLRC_2020_01.csv saved\n",
      "\n",
      "\n",
      "\n",
      "\n"
     ]
    },
    {
     "name": "stderr",
     "output_type": "stream",
     "text": [
      "/home/oruma001/envs/cs834_project/lib/python3.10/site-packages/transformers/pipelines/base.py:1123: UserWarning: You seem to be using the pipelines sequentially on GPU. In order to maximize efficiency please use a dataset\n",
      "  warnings.warn(\n",
      "/home/oruma001/envs/cs834_project/lib/python3.10/site-packages/transformers/pipelines/base.py:1123: UserWarning: You seem to be using the pipelines sequentially on GPU. In order to maximize efficiency please use a dataset\n",
      "  warnings.warn(\n"
     ]
    },
    {
     "name": "stdout",
     "output_type": "stream",
     "text": [
      "RS_139_ICDAR_2018_06.csv - model 1 --- "
     ]
    },
    {
     "name": "stderr",
     "output_type": "stream",
     "text": [
      "/home/oruma001/envs/cs834_project/lib/python3.10/site-packages/transformers/pipelines/base.py:1123: UserWarning: You seem to be using the pipelines sequentially on GPU. In order to maximize efficiency please use a dataset\n",
      "  warnings.warn(\n"
     ]
    },
    {
     "name": "stdout",
     "output_type": "stream",
     "text": [
      "model 2 --- "
     ]
    },
    {
     "name": "stderr",
     "output_type": "stream",
     "text": [
      "/home/oruma001/envs/cs834_project/lib/python3.10/site-packages/transformers/pipelines/base.py:1123: UserWarning: You seem to be using the pipelines sequentially on GPU. In order to maximize efficiency please use a dataset\n",
      "  warnings.warn(\n"
     ]
    },
    {
     "name": "stdout",
     "output_type": "stream",
     "text": [
      "model 3 --- "
     ]
    },
    {
     "name": "stderr",
     "output_type": "stream",
     "text": [
      "/home/oruma001/envs/cs834_project/lib/python3.10/site-packages/transformers/pipelines/base.py:1123: UserWarning: You seem to be using the pipelines sequentially on GPU. In order to maximize efficiency please use a dataset\n",
      "  warnings.warn(\n"
     ]
    },
    {
     "name": "stdout",
     "output_type": "stream",
     "text": [
      "model 4 --- "
     ]
    },
    {
     "name": "stderr",
     "output_type": "stream",
     "text": [
      "/home/oruma001/envs/cs834_project/lib/python3.10/site-packages/transformers/pipelines/base.py:1123: UserWarning: You seem to be using the pipelines sequentially on GPU. In order to maximize efficiency please use a dataset\n",
      "  warnings.warn(\n"
     ]
    },
    {
     "name": "stdout",
     "output_type": "stream",
     "text": [
      "model 5 ---\n",
      "                                                text m1_label  m1_score  \\\n",
      "0  We use large-scale annotated datasets like Pub...  neutral  0.998992   \n",
      "1  Here, we need a temperature hyperparameter τ t...  neutral  0.998838   \n",
      "2  For direct comparison against the prior state-...  neutral  0.998987   \n",
      "3  The results shown in Figure 3 and Figure 4 ind...  neutral  0.727209   \n",
      "4  In this work, we investigate the reproducibili...  neutral  0.998733   \n",
      "\n",
      "  m2_label  m2_score m3_label  m3_score m4_label  m4_score  m5_label  \\\n",
      "0  neutral  0.997421  neutral  0.943847  neutral  0.890244   neutral   \n",
      "1  neutral  0.844916  neutral  0.948581  neutral  0.885857   neutral   \n",
      "2  neutral  0.996143  neutral  0.830799  neutral  0.909268   neutral   \n",
      "3  neutral  0.985674  neutral  0.845199  neutral  0.734433  negative   \n",
      "4  neutral  0.997075  neutral  0.915645  neutral  0.852033   neutral   \n",
      "\n",
      "   m5_score majority_vote  \n",
      "0  0.723400       neutral  \n",
      "1  0.649637       neutral  \n",
      "2  0.633860       neutral  \n",
      "3  0.582147       neutral  \n",
      "4  0.458504       neutral  \n",
      "sentiment_analysis/inferences_from_all_5_models/RS_139_ICDAR_2018_06.csv saved\n",
      "\n",
      "\n",
      "\n",
      "\n"
     ]
    },
    {
     "name": "stderr",
     "output_type": "stream",
     "text": [
      "/home/oruma001/envs/cs834_project/lib/python3.10/site-packages/transformers/pipelines/base.py:1123: UserWarning: You seem to be using the pipelines sequentially on GPU. In order to maximize efficiency please use a dataset\n",
      "  warnings.warn(\n"
     ]
    },
    {
     "name": "stdout",
     "output_type": "stream",
     "text": [
      "RS_050_MLRC_2021_05.csv - model 1 --- "
     ]
    },
    {
     "name": "stderr",
     "output_type": "stream",
     "text": [
      "/home/oruma001/envs/cs834_project/lib/python3.10/site-packages/transformers/pipelines/base.py:1123: UserWarning: You seem to be using the pipelines sequentially on GPU. In order to maximize efficiency please use a dataset\n",
      "  warnings.warn(\n"
     ]
    },
    {
     "name": "stdout",
     "output_type": "stream",
     "text": [
      "model 2 --- "
     ]
    },
    {
     "name": "stderr",
     "output_type": "stream",
     "text": [
      "/home/oruma001/envs/cs834_project/lib/python3.10/site-packages/transformers/pipelines/base.py:1123: UserWarning: You seem to be using the pipelines sequentially on GPU. In order to maximize efficiency please use a dataset\n",
      "  warnings.warn(\n"
     ]
    },
    {
     "name": "stdout",
     "output_type": "stream",
     "text": [
      "model 3 --- "
     ]
    },
    {
     "name": "stderr",
     "output_type": "stream",
     "text": [
      "/home/oruma001/envs/cs834_project/lib/python3.10/site-packages/transformers/pipelines/base.py:1123: UserWarning: You seem to be using the pipelines sequentially on GPU. In order to maximize efficiency please use a dataset\n",
      "  warnings.warn(\n"
     ]
    },
    {
     "name": "stdout",
     "output_type": "stream",
     "text": [
      "model 4 --- "
     ]
    },
    {
     "name": "stderr",
     "output_type": "stream",
     "text": [
      "/home/oruma001/envs/cs834_project/lib/python3.10/site-packages/transformers/pipelines/base.py:1123: UserWarning: You seem to be using the pipelines sequentially on GPU. In order to maximize efficiency please use a dataset\n",
      "  warnings.warn(\n"
     ]
    },
    {
     "name": "stdout",
     "output_type": "stream",
     "text": [
      "model 5 ---\n",
      "                                                text m1_label  m1_score  \\\n",
      "0  Similar to the interpretation of image generat...  neutral  0.998992   \n",
      "1  We adopt this hypothesis from Schölkopf et al....  neutral  0.998886   \n",
      "2  , n}, X := g(Z) (5) U ∼ pU, Zi ∼ pZi ; ∀Zi ∈ Z...  neutral  0.998980   \n",
      "3  X Y Gdo({Z0}∪Zcnf ) [43, 15] Gdo(X) [16, 57, 1...  neutral  0.999189   \n",
      "4  Recall that we use CGN [19] to generate counte...  neutral  0.998899   \n",
      "\n",
      "  m2_label  m2_score m3_label  m3_score m4_label  m4_score  m5_label  \\\n",
      "0  neutral  0.993975  neutral  0.971033  neutral  0.925057   neutral   \n",
      "1  neutral  0.996331  neutral  0.956501  neutral  0.859875   neutral   \n",
      "2  neutral  0.997184  neutral  0.967278  neutral  0.780951  negative   \n",
      "3  neutral  0.981424  neutral  0.971272  neutral  0.920046   neutral   \n",
      "4  neutral  0.995837  neutral  0.967588  neutral  0.909668   neutral   \n",
      "\n",
      "   m5_score majority_vote  \n",
      "0  0.567100       neutral  \n",
      "1  0.509276       neutral  \n",
      "2  0.588431       neutral  \n",
      "3  0.685162       neutral  \n",
      "4  0.720147       neutral  \n",
      "sentiment_analysis/inferences_from_all_5_models/RS_050_MLRC_2021_05.csv saved\n",
      "\n",
      "\n",
      "\n",
      "\n",
      "RS_004_MLRC_2022_04.csv - model 1 --- "
     ]
    },
    {
     "name": "stderr",
     "output_type": "stream",
     "text": [
      "/home/oruma001/envs/cs834_project/lib/python3.10/site-packages/transformers/pipelines/base.py:1123: UserWarning: You seem to be using the pipelines sequentially on GPU. In order to maximize efficiency please use a dataset\n",
      "  warnings.warn(\n",
      "/home/oruma001/envs/cs834_project/lib/python3.10/site-packages/transformers/pipelines/base.py:1123: UserWarning: You seem to be using the pipelines sequentially on GPU. In order to maximize efficiency please use a dataset\n",
      "  warnings.warn(\n",
      "/home/oruma001/envs/cs834_project/lib/python3.10/site-packages/transformers/pipelines/base.py:1123: UserWarning: You seem to be using the pipelines sequentially on GPU. In order to maximize efficiency please use a dataset\n",
      "  warnings.warn(\n"
     ]
    },
    {
     "name": "stdout",
     "output_type": "stream",
     "text": [
      "model 2 --- model 3 --- model 4 --- model 5 ---\n"
     ]
    },
    {
     "name": "stderr",
     "output_type": "stream",
     "text": [
      "/home/oruma001/envs/cs834_project/lib/python3.10/site-packages/transformers/pipelines/base.py:1123: UserWarning: You seem to be using the pipelines sequentially on GPU. In order to maximize efficiency please use a dataset\n",
      "  warnings.warn(\n",
      "/home/oruma001/envs/cs834_project/lib/python3.10/site-packages/transformers/pipelines/base.py:1123: UserWarning: You seem to be using the pipelines sequentially on GPU. In order to maximize efficiency please use a dataset\n",
      "  warnings.warn(\n",
      "/home/oruma001/envs/cs834_project/lib/python3.10/site-packages/transformers/pipelines/base.py:1123: UserWarning: You seem to be using the pipelines sequentially on GPU. In order to maximize efficiency please use a dataset\n",
      "  warnings.warn(\n"
     ]
    },
    {
     "name": "stdout",
     "output_type": "stream",
     "text": [
      "                                                text m1_label  m1_score  \\\n",
      "0  (2)We also restrict to supervised models, sinc...  neutral  0.998970   \n",
      "1  We compared the performance of our likelihood ...  neutral  0.998579   \n",
      "2  the latent space of an autoencoder), and an ad...  neutral  0.999042   \n",
      "3  We quantitatively compare these various featur...  neutral  0.998774   \n",
      "4  We do not compare with methods that are not po...  neutral  0.998839   \n",
      "\n",
      "  m2_label  m2_score  m3_label  m3_score m4_label  m4_score  m5_label  \\\n",
      "0  neutral  0.996826   neutral  0.948091  neutral  0.855668   neutral   \n",
      "1  neutral  0.991427   neutral  0.966729  neutral  0.804515   neutral   \n",
      "2  neutral  0.993482   neutral  0.965769  neutral  0.899714   neutral   \n",
      "3  neutral  0.996297   neutral  0.956345  neutral  0.858440   neutral   \n",
      "4  neutral  0.994300  negative  0.599333  neutral  0.532652  negative   \n",
      "\n",
      "   m5_score majority_vote  \n",
      "0  0.467430       neutral  \n",
      "1  0.542039       neutral  \n",
      "2  0.470383       neutral  \n",
      "3  0.587204       neutral  \n",
      "4  0.663046       neutral  \n",
      "sentiment_analysis/inferences_from_all_5_models/RS_004_MLRC_2022_04.csv saved\n",
      "\n",
      "\n",
      "\n",
      "\n",
      "RS_074_MLRC_2021_29.csv - model 1 --- "
     ]
    },
    {
     "name": "stderr",
     "output_type": "stream",
     "text": [
      "/home/oruma001/envs/cs834_project/lib/python3.10/site-packages/transformers/pipelines/base.py:1123: UserWarning: You seem to be using the pipelines sequentially on GPU. In order to maximize efficiency please use a dataset\n",
      "  warnings.warn(\n"
     ]
    },
    {
     "name": "stdout",
     "output_type": "stream",
     "text": [
      "model 2 --- "
     ]
    },
    {
     "name": "stderr",
     "output_type": "stream",
     "text": [
      "/home/oruma001/envs/cs834_project/lib/python3.10/site-packages/transformers/pipelines/base.py:1123: UserWarning: You seem to be using the pipelines sequentially on GPU. In order to maximize efficiency please use a dataset\n",
      "  warnings.warn(\n"
     ]
    },
    {
     "name": "stdout",
     "output_type": "stream",
     "text": [
      "model 3 --- "
     ]
    },
    {
     "name": "stderr",
     "output_type": "stream",
     "text": [
      "/home/oruma001/envs/cs834_project/lib/python3.10/site-packages/transformers/pipelines/base.py:1123: UserWarning: You seem to be using the pipelines sequentially on GPU. In order to maximize efficiency please use a dataset\n",
      "  warnings.warn(\n"
     ]
    },
    {
     "name": "stdout",
     "output_type": "stream",
     "text": [
      "model 4 --- "
     ]
    },
    {
     "name": "stderr",
     "output_type": "stream",
     "text": [
      "/home/oruma001/envs/cs834_project/lib/python3.10/site-packages/transformers/pipelines/base.py:1123: UserWarning: You seem to be using the pipelines sequentially on GPU. In order to maximize efficiency please use a dataset\n",
      "  warnings.warn(\n"
     ]
    },
    {
     "name": "stdout",
     "output_type": "stream",
     "text": [
      "model 5 ---\n",
      "                                                text m1_label  m1_score  \\\n",
      "0  Our experimental results show comparable perfo...  neutral  0.998433   \n",
      "1  Method 3DMMCNN [5]\\n3DMM GCN [18] Nonlinear 3D...  neutral  0.999188   \n",
      "2  We compare our method with five state-of-the-a...  neutral  0.999039   \n",
      "3  To this end, we use the pre-trained model of U...  neutral  0.998633   \n",
      "4  Using the knowledge that 2D GANs can learn 3D ...  neutral  0.998825   \n",
      "\n",
      "   m2_label  m2_score m3_label  m3_score  m4_label  m4_score  m5_label  \\\n",
      "0   neutral  0.991933  neutral  0.627198  positive  0.540737  positive   \n",
      "1   neutral  0.997338  neutral  0.974838   neutral  0.832496   neutral   \n",
      "2   neutral  0.945817  neutral  0.911292   neutral  0.921995   neutral   \n",
      "3  positive  0.966469  neutral  0.921605   neutral  0.855175   neutral   \n",
      "4   neutral  0.995505  neutral  0.659004   neutral  0.900589   neutral   \n",
      "\n",
      "   m5_score majority_vote  \n",
      "0  0.835151       neutral  \n",
      "1  0.829507       neutral  \n",
      "2  0.660523       neutral  \n",
      "3  0.455964       neutral  \n",
      "4  0.414066       neutral  \n",
      "sentiment_analysis/inferences_from_all_5_models/RS_074_MLRC_2021_29.csv saved\n",
      "\n",
      "\n",
      "\n",
      "\n"
     ]
    },
    {
     "name": "stderr",
     "output_type": "stream",
     "text": [
      "/home/oruma001/envs/cs834_project/lib/python3.10/site-packages/transformers/pipelines/base.py:1123: UserWarning: You seem to be using the pipelines sequentially on GPU. In order to maximize efficiency please use a dataset\n",
      "  warnings.warn(\n"
     ]
    },
    {
     "name": "stdout",
     "output_type": "stream",
     "text": [
      "RS_133_ICLR_2019_05.csv - model 1 --- model 2 --- "
     ]
    },
    {
     "name": "stderr",
     "output_type": "stream",
     "text": [
      "/home/oruma001/envs/cs834_project/lib/python3.10/site-packages/transformers/pipelines/base.py:1123: UserWarning: You seem to be using the pipelines sequentially on GPU. In order to maximize efficiency please use a dataset\n",
      "  warnings.warn(\n",
      "/home/oruma001/envs/cs834_project/lib/python3.10/site-packages/transformers/pipelines/base.py:1123: UserWarning: You seem to be using the pipelines sequentially on GPU. In order to maximize efficiency please use a dataset\n",
      "  warnings.warn(\n"
     ]
    },
    {
     "name": "stdout",
     "output_type": "stream",
     "text": [
      "model 3 --- model 4 --- "
     ]
    },
    {
     "name": "stderr",
     "output_type": "stream",
     "text": [
      "/home/oruma001/envs/cs834_project/lib/python3.10/site-packages/transformers/pipelines/base.py:1123: UserWarning: You seem to be using the pipelines sequentially on GPU. In order to maximize efficiency please use a dataset\n",
      "  warnings.warn(\n",
      "/home/oruma001/envs/cs834_project/lib/python3.10/site-packages/transformers/pipelines/base.py:1123: UserWarning: You seem to be using the pipelines sequentially on GPU. In order to maximize efficiency please use a dataset\n",
      "  warnings.warn(\n"
     ]
    },
    {
     "name": "stdout",
     "output_type": "stream",
     "text": [
      "model 5 ---\n",
      "                                                text m1_label  m1_score  \\\n",
      "0  Always in Table 1, we compare with two state-o...  neutral  0.999074   \n",
      "1  Following the setup proposed in (Arpit et al.,...  neutral  0.998667   \n",
      "2  To apply the stochastic gradient truncation [A...  neutral  0.998683   \n",
      "3  For the orthogonal LMN, we plot the gradient f...  neutral  0.998865   \n",
      "4  In the case of an LSTM, Kanuparthi et al. (201...  neutral  0.998408   \n",
      "\n",
      "  m2_label  m2_score m3_label  m3_score m4_label  m4_score m5_label  m5_score  \\\n",
      "0  neutral  0.587914  neutral  0.932261  neutral  0.886160  neutral  0.573457   \n",
      "1  neutral  0.997118  neutral  0.949508  neutral  0.901027  neutral  0.575060   \n",
      "2  neutral  0.997749  neutral  0.972437  neutral  0.855550  neutral  0.686837   \n",
      "3  neutral  0.997350  neutral  0.969924  neutral  0.879871  neutral  0.572672   \n",
      "4  neutral  0.994868  neutral  0.967604  neutral  0.705855  neutral  0.503583   \n",
      "\n",
      "  majority_vote  \n",
      "0       neutral  \n",
      "1       neutral  \n",
      "2       neutral  \n",
      "3       neutral  \n",
      "4       neutral  \n",
      "sentiment_analysis/inferences_from_all_5_models/RS_133_ICLR_2019_05.csv saved\n",
      "\n",
      "\n",
      "\n",
      "\n"
     ]
    },
    {
     "name": "stderr",
     "output_type": "stream",
     "text": [
      "/home/oruma001/envs/cs834_project/lib/python3.10/site-packages/transformers/pipelines/base.py:1123: UserWarning: You seem to be using the pipelines sequentially on GPU. In order to maximize efficiency please use a dataset\n",
      "  warnings.warn(\n"
     ]
    },
    {
     "name": "stdout",
     "output_type": "stream",
     "text": [
      "RS_061_MLRC_2021_16.csv - model 1 --- "
     ]
    },
    {
     "name": "stderr",
     "output_type": "stream",
     "text": [
      "/home/oruma001/envs/cs834_project/lib/python3.10/site-packages/transformers/pipelines/base.py:1123: UserWarning: You seem to be using the pipelines sequentially on GPU. In order to maximize efficiency please use a dataset\n",
      "  warnings.warn(\n"
     ]
    },
    {
     "name": "stdout",
     "output_type": "stream",
     "text": [
      "model 2 --- "
     ]
    },
    {
     "name": "stderr",
     "output_type": "stream",
     "text": [
      "/home/oruma001/envs/cs834_project/lib/python3.10/site-packages/transformers/pipelines/base.py:1123: UserWarning: You seem to be using the pipelines sequentially on GPU. In order to maximize efficiency please use a dataset\n",
      "  warnings.warn(\n"
     ]
    },
    {
     "name": "stdout",
     "output_type": "stream",
     "text": [
      "model 3 --- "
     ]
    },
    {
     "name": "stderr",
     "output_type": "stream",
     "text": [
      "/home/oruma001/envs/cs834_project/lib/python3.10/site-packages/transformers/pipelines/base.py:1123: UserWarning: You seem to be using the pipelines sequentially on GPU. In order to maximize efficiency please use a dataset\n",
      "  warnings.warn(\n"
     ]
    },
    {
     "name": "stdout",
     "output_type": "stream",
     "text": [
      "model 4 --- "
     ]
    },
    {
     "name": "stderr",
     "output_type": "stream",
     "text": [
      "/home/oruma001/envs/cs834_project/lib/python3.10/site-packages/transformers/pipelines/base.py:1123: UserWarning: You seem to be using the pipelines sequentially on GPU. In order to maximize efficiency please use a dataset\n",
      "  warnings.warn(\n"
     ]
    },
    {
     "name": "stdout",
     "output_type": "stream",
     "text": [
      "model 5 ---\n",
      "                                                text m1_label  m1_score  \\\n",
      "0  …on the CIFAR-10 dataset classifies “cat” and ...  neutral  0.999138   \n",
      "1  We consider a binary classification task of na...  neutral  0.999058   \n",
      "2  Based on the findings in (Xu et al., 2021; Ma ...  neutral  0.997386   \n",
      "3  Theorem 1 ((Xu et al., 2021)) Given a Gaussian...  neutral  0.999013   \n",
      "4  For example, a naturally trained PreactResNet-...  neutral  0.998878   \n",
      "\n",
      "   m2_label  m2_score m3_label  m3_score  m4_label  m4_score  m5_label  \\\n",
      "0  positive  0.977237  neutral  0.870965   neutral  0.624881  negative   \n",
      "1   neutral  0.997619  neutral  0.972483   neutral  0.870923   neutral   \n",
      "2  negative  0.975691  neutral  0.656934  negative  0.885303  negative   \n",
      "3   neutral  0.991000  neutral  0.866158   neutral  0.654702   neutral   \n",
      "4  positive  0.958105  neutral  0.892810   neutral  0.613596   neutral   \n",
      "\n",
      "   m5_score majority_vote  \n",
      "0  0.373928       neutral  \n",
      "1  0.614749       neutral  \n",
      "2  0.708101      negative  \n",
      "3  0.548084       neutral  \n",
      "4  0.373115       neutral  \n",
      "sentiment_analysis/inferences_from_all_5_models/RS_061_MLRC_2021_16.csv saved\n",
      "\n",
      "\n",
      "\n",
      "\n"
     ]
    },
    {
     "name": "stderr",
     "output_type": "stream",
     "text": [
      "/home/oruma001/envs/cs834_project/lib/python3.10/site-packages/transformers/pipelines/base.py:1123: UserWarning: You seem to be using the pipelines sequentially on GPU. In order to maximize efficiency please use a dataset\n",
      "  warnings.warn(\n"
     ]
    },
    {
     "name": "stdout",
     "output_type": "stream",
     "text": [
      "RS_131_ICLR_2019_03.csv - model 1 --- "
     ]
    },
    {
     "name": "stderr",
     "output_type": "stream",
     "text": [
      "/home/oruma001/envs/cs834_project/lib/python3.10/site-packages/transformers/pipelines/base.py:1123: UserWarning: You seem to be using the pipelines sequentially on GPU. In order to maximize efficiency please use a dataset\n",
      "  warnings.warn(\n"
     ]
    },
    {
     "name": "stdout",
     "output_type": "stream",
     "text": [
      "model 2 --- "
     ]
    },
    {
     "name": "stderr",
     "output_type": "stream",
     "text": [
      "/home/oruma001/envs/cs834_project/lib/python3.10/site-packages/transformers/pipelines/base.py:1123: UserWarning: You seem to be using the pipelines sequentially on GPU. In order to maximize efficiency please use a dataset\n",
      "  warnings.warn(\n"
     ]
    },
    {
     "name": "stdout",
     "output_type": "stream",
     "text": [
      "model 3 --- "
     ]
    },
    {
     "name": "stderr",
     "output_type": "stream",
     "text": [
      "/home/oruma001/envs/cs834_project/lib/python3.10/site-packages/transformers/pipelines/base.py:1123: UserWarning: You seem to be using the pipelines sequentially on GPU. In order to maximize efficiency please use a dataset\n",
      "  warnings.warn(\n"
     ]
    },
    {
     "name": "stdout",
     "output_type": "stream",
     "text": [
      "model 4 --- "
     ]
    },
    {
     "name": "stderr",
     "output_type": "stream",
     "text": [
      "/home/oruma001/envs/cs834_project/lib/python3.10/site-packages/transformers/pipelines/base.py:1123: UserWarning: You seem to be using the pipelines sequentially on GPU. In order to maximize efficiency please use a dataset\n",
      "  warnings.warn(\n"
     ]
    },
    {
     "name": "stdout",
     "output_type": "stream",
     "text": [
      "model 5 ---\n",
      "                                                text m1_label  m1_score  \\\n",
      "0  In this paper, we propose to extend the VSC ap...  neutral  0.998663   \n",
      "1  We adapt the framework of [2] for convolutiona...  neutral  0.998750   \n",
      "2  VARIATIONAL CONVOLUTIONAL SPARSE CODING\\nIn th...  neutral  0.998876   \n",
      "3  To address these requirements for quick infere...  neutral  0.998646   \n",
      "4  We hypothesise that a DirVAE will allow a mult...  neutral  0.998751   \n",
      "\n",
      "   m2_label  m2_score m3_label  m3_score m4_label  m4_score  m5_label  \\\n",
      "0   neutral  0.886153  neutral  0.810244  neutral  0.874952   neutral   \n",
      "1   neutral  0.986220  neutral  0.956041  neutral  0.902524   neutral   \n",
      "2  positive  0.649343  neutral  0.898480  neutral  0.892841   neutral   \n",
      "3   neutral  0.984986  neutral  0.512377  neutral  0.796071  positive   \n",
      "4   neutral  0.985821  neutral  0.887830  neutral  0.603947  negative   \n",
      "\n",
      "   m5_score majority_vote  \n",
      "0  0.567639       neutral  \n",
      "1  0.626578       neutral  \n",
      "2  0.584265       neutral  \n",
      "3  0.513406       neutral  \n",
      "4  0.479486       neutral  \n",
      "sentiment_analysis/inferences_from_all_5_models/RS_131_ICLR_2019_03.csv saved\n",
      "\n",
      "\n",
      "\n",
      "\n"
     ]
    },
    {
     "name": "stderr",
     "output_type": "stream",
     "text": [
      "/home/oruma001/envs/cs834_project/lib/python3.10/site-packages/transformers/pipelines/base.py:1123: UserWarning: You seem to be using the pipelines sequentially on GPU. In order to maximize efficiency please use a dataset\n",
      "  warnings.warn(\n"
     ]
    },
    {
     "name": "stdout",
     "output_type": "stream",
     "text": [
      "RS_049_MLRC_2021_04.csv - model 1 --- "
     ]
    },
    {
     "name": "stderr",
     "output_type": "stream",
     "text": [
      "/home/oruma001/envs/cs834_project/lib/python3.10/site-packages/transformers/pipelines/base.py:1123: UserWarning: You seem to be using the pipelines sequentially on GPU. In order to maximize efficiency please use a dataset\n",
      "  warnings.warn(\n"
     ]
    },
    {
     "name": "stdout",
     "output_type": "stream",
     "text": [
      "model 2 --- "
     ]
    },
    {
     "name": "stderr",
     "output_type": "stream",
     "text": [
      "/home/oruma001/envs/cs834_project/lib/python3.10/site-packages/transformers/pipelines/base.py:1123: UserWarning: You seem to be using the pipelines sequentially on GPU. In order to maximize efficiency please use a dataset\n",
      "  warnings.warn(\n"
     ]
    },
    {
     "name": "stdout",
     "output_type": "stream",
     "text": [
      "model 3 --- "
     ]
    },
    {
     "name": "stderr",
     "output_type": "stream",
     "text": [
      "/home/oruma001/envs/cs834_project/lib/python3.10/site-packages/transformers/pipelines/base.py:1123: UserWarning: You seem to be using the pipelines sequentially on GPU. In order to maximize efficiency please use a dataset\n",
      "  warnings.warn(\n"
     ]
    },
    {
     "name": "stdout",
     "output_type": "stream",
     "text": [
      "model 4 --- "
     ]
    },
    {
     "name": "stderr",
     "output_type": "stream",
     "text": [
      "/home/oruma001/envs/cs834_project/lib/python3.10/site-packages/transformers/pipelines/base.py:1123: UserWarning: You seem to be using the pipelines sequentially on GPU. In order to maximize efficiency please use a dataset\n",
      "  warnings.warn(\n"
     ]
    },
    {
     "name": "stdout",
     "output_type": "stream",
     "text": [
      "model 5 ---\n",
      "                                                text m1_label  m1_score  \\\n",
      "0  Method Drop (↓) Inc (↑) Coher (↑) Compl (↓) AD...  neutral  0.999087   \n",
      "1  Chefer et al. [2021] improved the visualizatio...  neutral  0.998783   \n",
      "2  The relevancy map loss, uses a CLIP-based rele...  neutral  0.999031   \n",
      "3  For the intepretation of the attention in ShE,...  neutral  0.999129   \n",
      "4  The current effective methods are Rollout [1],...  neutral  0.998594   \n",
      "\n",
      "   m2_label  m2_score  m3_label  m3_score  m4_label  m4_score  m5_label  \\\n",
      "0   neutral  0.848477   neutral  0.978040   neutral  0.832994   neutral   \n",
      "1  positive  0.978798  positive  0.589503  positive  0.747713  positive   \n",
      "2   neutral  0.995203   neutral  0.963253   neutral  0.499817  negative   \n",
      "3   neutral  0.996606   neutral  0.935225   neutral  0.923438   neutral   \n",
      "4   neutral  0.997517   neutral  0.692609   neutral  0.878342   neutral   \n",
      "\n",
      "   m5_score majority_vote  \n",
      "0  0.753114       neutral  \n",
      "1  0.456307      positive  \n",
      "2  0.732862       neutral  \n",
      "3  0.625938       neutral  \n",
      "4  0.517649       neutral  \n",
      "sentiment_analysis/inferences_from_all_5_models/RS_049_MLRC_2021_04.csv saved\n",
      "\n",
      "\n",
      "\n",
      "\n"
     ]
    },
    {
     "name": "stderr",
     "output_type": "stream",
     "text": [
      "/home/oruma001/envs/cs834_project/lib/python3.10/site-packages/transformers/pipelines/base.py:1123: UserWarning: You seem to be using the pipelines sequentially on GPU. In order to maximize efficiency please use a dataset\n",
      "  warnings.warn(\n"
     ]
    },
    {
     "name": "stdout",
     "output_type": "stream",
     "text": [
      "RS_018_MLRC_2022_18.csv - model 1 --- model 2 --- model 3 --- "
     ]
    },
    {
     "name": "stderr",
     "output_type": "stream",
     "text": [
      "/home/oruma001/envs/cs834_project/lib/python3.10/site-packages/transformers/pipelines/base.py:1123: UserWarning: You seem to be using the pipelines sequentially on GPU. In order to maximize efficiency please use a dataset\n",
      "  warnings.warn(\n",
      "/home/oruma001/envs/cs834_project/lib/python3.10/site-packages/transformers/pipelines/base.py:1123: UserWarning: You seem to be using the pipelines sequentially on GPU. In order to maximize efficiency please use a dataset\n",
      "  warnings.warn(\n",
      "/home/oruma001/envs/cs834_project/lib/python3.10/site-packages/transformers/pipelines/base.py:1123: UserWarning: You seem to be using the pipelines sequentially on GPU. In order to maximize efficiency please use a dataset\n",
      "  warnings.warn(\n"
     ]
    },
    {
     "name": "stdout",
     "output_type": "stream",
     "text": [
      "model 4 --- model 5 ---\n",
      "                                                text m1_label  m1_score  \\\n",
      "0  Within the domain of algorithmic fairness, our...  neutral  0.998390   \n",
      "1  , 2021), Shifty (Giguere et al., 2022), and ou...  neutral  0.998926   \n",
      "2  6, we add a new baseline called Shifty (Giguer...  neutral  0.998708   \n",
      "3  Our framework thus works best when the x distr...  neutral  0.998776   \n",
      "4  • Similarly, the demographic shift (Giguere et...  neutral  0.998914   \n",
      "\n",
      "  m2_label  m2_score m3_label  m3_score  m4_label  m4_score  m5_label  \\\n",
      "0  neutral  0.996943  neutral  0.959855   neutral  0.712557  positive   \n",
      "1  neutral  0.996831  neutral  0.968199   neutral  0.874701   neutral   \n",
      "2  neutral  0.991583  neutral  0.870186   neutral  0.880878   neutral   \n",
      "3  neutral  0.930761  neutral  0.731712  positive  0.625875  positive   \n",
      "4  neutral  0.996867  neutral  0.968490   neutral  0.904818   neutral   \n",
      "\n",
      "   m5_score majority_vote  \n",
      "0  0.606998       neutral  \n",
      "1  0.567291       neutral  \n",
      "2  0.630850       neutral  \n",
      "3  0.547351       neutral  \n",
      "4  0.583074       neutral  \n",
      "sentiment_analysis/inferences_from_all_5_models/RS_018_MLRC_2022_18.csv saved\n",
      "\n",
      "\n",
      "\n",
      "\n",
      "RS_008_MLRC_2022_08.csv - model 1 --- "
     ]
    },
    {
     "name": "stderr",
     "output_type": "stream",
     "text": [
      "/home/oruma001/envs/cs834_project/lib/python3.10/site-packages/transformers/pipelines/base.py:1123: UserWarning: You seem to be using the pipelines sequentially on GPU. In order to maximize efficiency please use a dataset\n",
      "  warnings.warn(\n",
      "/home/oruma001/envs/cs834_project/lib/python3.10/site-packages/transformers/pipelines/base.py:1123: UserWarning: You seem to be using the pipelines sequentially on GPU. In order to maximize efficiency please use a dataset\n",
      "  warnings.warn(\n",
      "/home/oruma001/envs/cs834_project/lib/python3.10/site-packages/transformers/pipelines/base.py:1123: UserWarning: You seem to be using the pipelines sequentially on GPU. In order to maximize efficiency please use a dataset\n",
      "  warnings.warn(\n"
     ]
    },
    {
     "name": "stdout",
     "output_type": "stream",
     "text": [
      "model 2 --- model 3 --- model 4 --- model 5 ---\n",
      "                                                text m1_label  m1_score  \\\n",
      "0    Please refer to [18] for detailed explanations.  neutral  0.998371   \n",
      "1  To further demonstrate the effectiveness of Bi...  neutral  0.998487   \n",
      "2  focusing on the feature fusion [39], [49] with...  neutral  0.998717   \n",
      "3  To improve embedding quality, detaching class-...  neutral  0.998877   \n",
      "\n",
      "   m2_label  m2_score m3_label  m3_score m4_label  m4_score  m5_label  \\\n",
      "0   neutral  0.996090  neutral  0.971337  neutral  0.919732   neutral   \n",
      "1  positive  0.577282  neutral  0.632146  neutral  0.586110  positive   \n",
      "2  positive  0.878871  neutral  0.813552  neutral  0.900423   neutral   \n",
      "3  positive  0.896007  neutral  0.674895  neutral  0.687090   neutral   \n",
      "\n",
      "   m5_score majority_vote  \n",
      "0  0.747789       neutral  \n",
      "1  0.491564       neutral  \n",
      "2  0.431629       neutral  \n",
      "3  0.553823       neutral  \n",
      "sentiment_analysis/inferences_from_all_5_models/RS_008_MLRC_2022_08.csv saved\n",
      "\n",
      "\n",
      "\n",
      "\n"
     ]
    },
    {
     "name": "stderr",
     "output_type": "stream",
     "text": [
      "/home/oruma001/envs/cs834_project/lib/python3.10/site-packages/transformers/pipelines/base.py:1123: UserWarning: You seem to be using the pipelines sequentially on GPU. In order to maximize efficiency please use a dataset\n",
      "  warnings.warn(\n",
      "/home/oruma001/envs/cs834_project/lib/python3.10/site-packages/transformers/pipelines/base.py:1123: UserWarning: You seem to be using the pipelines sequentially on GPU. In order to maximize efficiency please use a dataset\n",
      "  warnings.warn(\n",
      "/home/oruma001/envs/cs834_project/lib/python3.10/site-packages/transformers/pipelines/base.py:1123: UserWarning: You seem to be using the pipelines sequentially on GPU. In order to maximize efficiency please use a dataset\n",
      "  warnings.warn(\n",
      "/home/oruma001/envs/cs834_project/lib/python3.10/site-packages/transformers/pipelines/base.py:1123: UserWarning: You seem to be using the pipelines sequentially on GPU. In order to maximize efficiency please use a dataset\n",
      "  warnings.warn(\n"
     ]
    },
    {
     "name": "stdout",
     "output_type": "stream",
     "text": [
      "RS_101_MLRC_2020_08.csv - model 1 --- model 2 --- "
     ]
    },
    {
     "name": "stderr",
     "output_type": "stream",
     "text": [
      "/home/oruma001/envs/cs834_project/lib/python3.10/site-packages/transformers/pipelines/base.py:1123: UserWarning: You seem to be using the pipelines sequentially on GPU. In order to maximize efficiency please use a dataset\n",
      "  warnings.warn(\n",
      "/home/oruma001/envs/cs834_project/lib/python3.10/site-packages/transformers/pipelines/base.py:1123: UserWarning: You seem to be using the pipelines sequentially on GPU. In order to maximize efficiency please use a dataset\n",
      "  warnings.warn(\n"
     ]
    },
    {
     "name": "stdout",
     "output_type": "stream",
     "text": [
      "model 3 --- model 4 --- "
     ]
    },
    {
     "name": "stderr",
     "output_type": "stream",
     "text": [
      "/home/oruma001/envs/cs834_project/lib/python3.10/site-packages/transformers/pipelines/base.py:1123: UserWarning: You seem to be using the pipelines sequentially on GPU. In order to maximize efficiency please use a dataset\n",
      "  warnings.warn(\n",
      "/home/oruma001/envs/cs834_project/lib/python3.10/site-packages/transformers/pipelines/base.py:1123: UserWarning: You seem to be using the pipelines sequentially on GPU. In order to maximize efficiency please use a dataset\n",
      "  warnings.warn(\n"
     ]
    },
    {
     "name": "stdout",
     "output_type": "stream",
     "text": [
      "model 5 ---\n",
      "                                                text m1_label  m1_score  \\\n",
      "0  In the field of EGL, we have started to see se...  neutral  0.998864   \n",
      "1  What blindspots do we study? We consider blind...  neutral  0.998967   \n",
      "2  We consider blindspots discovered by prior wor...  neutral  0.998949   \n",
      "3  We hypothesize this would be especially useful...  neutral  0.998037   \n",
      "4  To ensure that the pretext task does not encou...  neutral  0.998454   \n",
      "\n",
      "   m2_label  m2_score  m3_label  m3_score  m4_label  m4_score  m5_label  \\\n",
      "0   neutral  0.997548   neutral  0.955468   neutral  0.889687  negative   \n",
      "1   neutral  0.997291   neutral  0.973656   neutral  0.901803   neutral   \n",
      "2   neutral  0.997257   neutral  0.975577   neutral  0.812072   neutral   \n",
      "3  positive  0.941495  positive  0.591295  positive  0.629757   neutral   \n",
      "4   neutral  0.996705   neutral  0.920635   neutral  0.696018   neutral   \n",
      "\n",
      "   m5_score majority_vote  \n",
      "0  0.562788       neutral  \n",
      "1  0.589723       neutral  \n",
      "2  0.550079       neutral  \n",
      "3  0.508016      positive  \n",
      "4  0.496027       neutral  \n",
      "sentiment_analysis/inferences_from_all_5_models/RS_101_MLRC_2020_08.csv saved\n",
      "\n",
      "\n",
      "\n",
      "\n"
     ]
    },
    {
     "name": "stderr",
     "output_type": "stream",
     "text": [
      "/home/oruma001/envs/cs834_project/lib/python3.10/site-packages/transformers/pipelines/base.py:1123: UserWarning: You seem to be using the pipelines sequentially on GPU. In order to maximize efficiency please use a dataset\n",
      "  warnings.warn(\n"
     ]
    },
    {
     "name": "stdout",
     "output_type": "stream",
     "text": [
      "RS_142_ICDAR_2018_09.csv - model 1 --- "
     ]
    },
    {
     "name": "stderr",
     "output_type": "stream",
     "text": [
      "/home/oruma001/envs/cs834_project/lib/python3.10/site-packages/transformers/pipelines/base.py:1123: UserWarning: You seem to be using the pipelines sequentially on GPU. In order to maximize efficiency please use a dataset\n",
      "  warnings.warn(\n"
     ]
    },
    {
     "name": "stdout",
     "output_type": "stream",
     "text": [
      "model 2 --- "
     ]
    },
    {
     "name": "stderr",
     "output_type": "stream",
     "text": [
      "/home/oruma001/envs/cs834_project/lib/python3.10/site-packages/transformers/pipelines/base.py:1123: UserWarning: You seem to be using the pipelines sequentially on GPU. In order to maximize efficiency please use a dataset\n",
      "  warnings.warn(\n"
     ]
    },
    {
     "name": "stdout",
     "output_type": "stream",
     "text": [
      "model 3 --- "
     ]
    },
    {
     "name": "stderr",
     "output_type": "stream",
     "text": [
      "/home/oruma001/envs/cs834_project/lib/python3.10/site-packages/transformers/pipelines/base.py:1123: UserWarning: You seem to be using the pipelines sequentially on GPU. In order to maximize efficiency please use a dataset\n",
      "  warnings.warn(\n"
     ]
    },
    {
     "name": "stdout",
     "output_type": "stream",
     "text": [
      "model 4 --- "
     ]
    },
    {
     "name": "stderr",
     "output_type": "stream",
     "text": [
      "/home/oruma001/envs/cs834_project/lib/python3.10/site-packages/transformers/pipelines/base.py:1123: UserWarning: You seem to be using the pipelines sequentially on GPU. In order to maximize efficiency please use a dataset\n",
      "  warnings.warn(\n"
     ]
    },
    {
     "name": "stdout",
     "output_type": "stream",
     "text": [
      "model 5 ---\n",
      "                                                text  m1_label  m1_score  \\\n",
      "0  The source codes of 6 papers were not executab...  negative  0.963882   \n",
      "1  Raja et al.[34]6 2020 TabStruct Net ECCV SciTS...   neutral  0.999058   \n",
      "2  Similar to [36], we randomly extract 80% of th...   neutral  0.998689   \n",
      "3          21 PubTabNet TabStructNet [37] SciTSR 90.   neutral  0.999069   \n",
      "4  It should be noted that ICDAR-2013 provides no...   neutral  0.998934   \n",
      "\n",
      "  m2_label  m2_score  m3_label  m3_score m4_label  m4_score  m5_label  \\\n",
      "0  neutral  0.997458  negative  0.874491  neutral  0.797379  negative   \n",
      "1  neutral  0.997438   neutral  0.966935  neutral  0.900691   neutral   \n",
      "2  neutral  0.997518   neutral  0.967476  neutral  0.930148   neutral   \n",
      "3  neutral  0.997325   neutral  0.958287  neutral  0.944686   neutral   \n",
      "4  neutral  0.949129   neutral  0.921732  neutral  0.844903   neutral   \n",
      "\n",
      "   m5_score majority_vote  \n",
      "0  0.583812      negative  \n",
      "1  0.769972       neutral  \n",
      "2  0.571861       neutral  \n",
      "3  0.790326       neutral  \n",
      "4  0.690436       neutral  \n",
      "sentiment_analysis/inferences_from_all_5_models/RS_142_ICDAR_2018_09.csv saved\n",
      "\n",
      "\n",
      "\n",
      "\n"
     ]
    },
    {
     "name": "stderr",
     "output_type": "stream",
     "text": [
      "/home/oruma001/envs/cs834_project/lib/python3.10/site-packages/transformers/pipelines/base.py:1123: UserWarning: You seem to be using the pipelines sequentially on GPU. In order to maximize efficiency please use a dataset\n",
      "  warnings.warn(\n"
     ]
    },
    {
     "name": "stdout",
     "output_type": "stream",
     "text": [
      "RS_002_MLRC_2022_02.csv - model 1 --- "
     ]
    },
    {
     "name": "stderr",
     "output_type": "stream",
     "text": [
      "/home/oruma001/envs/cs834_project/lib/python3.10/site-packages/transformers/pipelines/base.py:1123: UserWarning: You seem to be using the pipelines sequentially on GPU. In order to maximize efficiency please use a dataset\n",
      "  warnings.warn(\n"
     ]
    },
    {
     "name": "stdout",
     "output_type": "stream",
     "text": [
      "model 2 --- "
     ]
    },
    {
     "name": "stderr",
     "output_type": "stream",
     "text": [
      "/home/oruma001/envs/cs834_project/lib/python3.10/site-packages/transformers/pipelines/base.py:1123: UserWarning: You seem to be using the pipelines sequentially on GPU. In order to maximize efficiency please use a dataset\n",
      "  warnings.warn(\n"
     ]
    },
    {
     "name": "stdout",
     "output_type": "stream",
     "text": [
      "model 3 --- "
     ]
    },
    {
     "name": "stderr",
     "output_type": "stream",
     "text": [
      "/home/oruma001/envs/cs834_project/lib/python3.10/site-packages/transformers/pipelines/base.py:1123: UserWarning: You seem to be using the pipelines sequentially on GPU. In order to maximize efficiency please use a dataset\n",
      "  warnings.warn(\n"
     ]
    },
    {
     "name": "stdout",
     "output_type": "stream",
     "text": [
      "model 4 --- "
     ]
    },
    {
     "name": "stderr",
     "output_type": "stream",
     "text": [
      "/home/oruma001/envs/cs834_project/lib/python3.10/site-packages/transformers/pipelines/base.py:1123: UserWarning: You seem to be using the pipelines sequentially on GPU. In order to maximize efficiency please use a dataset\n",
      "  warnings.warn(\n"
     ]
    },
    {
     "name": "stdout",
     "output_type": "stream",
     "text": [
      "model 5 ---\n",
      "                                                text m1_label  m1_score  \\\n",
      "0  We further perform a user study [1, 2, 4, 35, ...  neutral  0.998918   \n",
      "1  Specifically, we\\nre-implement the TENT [34], ...  neutral  0.998998   \n",
      "2  Following the methodology described in [5], we...  neutral  0.998375   \n",
      "3  We compare our method with several SOTA method...  neutral  0.998913   \n",
      "4  ERM 71.8 76.1 44.6 36.0 57.1 MixStyle [44] 73....  neutral  0.999291   \n",
      "\n",
      "  m2_label  m2_score m3_label  m3_score m4_label  m4_score  m5_label  \\\n",
      "0  neutral  0.997199  neutral  0.964308  neutral  0.924786   neutral   \n",
      "1  neutral  0.994770  neutral  0.954282  neutral  0.901775   neutral   \n",
      "2  neutral  0.976676  neutral  0.711545  neutral  0.881873  positive   \n",
      "3  neutral  0.997008  neutral  0.955533  neutral  0.889814   neutral   \n",
      "4  neutral  0.997530  neutral  0.978024  neutral  0.873734   neutral   \n",
      "\n",
      "   m5_score majority_vote  \n",
      "0  0.656938       neutral  \n",
      "1  0.663797       neutral  \n",
      "2  0.510910       neutral  \n",
      "3  0.542349       neutral  \n",
      "4  0.771762       neutral  \n",
      "sentiment_analysis/inferences_from_all_5_models/RS_002_MLRC_2022_02.csv saved\n",
      "\n",
      "\n",
      "\n",
      "\n"
     ]
    },
    {
     "name": "stderr",
     "output_type": "stream",
     "text": [
      "/home/oruma001/envs/cs834_project/lib/python3.10/site-packages/transformers/pipelines/base.py:1123: UserWarning: You seem to be using the pipelines sequentially on GPU. In order to maximize efficiency please use a dataset\n",
      "  warnings.warn(\n"
     ]
    },
    {
     "name": "stdout",
     "output_type": "stream",
     "text": [
      "RS_105_MLRC_2020_12.csv - model 1 --- "
     ]
    },
    {
     "name": "stderr",
     "output_type": "stream",
     "text": [
      "/home/oruma001/envs/cs834_project/lib/python3.10/site-packages/transformers/pipelines/base.py:1123: UserWarning: You seem to be using the pipelines sequentially on GPU. In order to maximize efficiency please use a dataset\n",
      "  warnings.warn(\n"
     ]
    },
    {
     "name": "stdout",
     "output_type": "stream",
     "text": [
      "model 2 --- "
     ]
    },
    {
     "name": "stderr",
     "output_type": "stream",
     "text": [
      "/home/oruma001/envs/cs834_project/lib/python3.10/site-packages/transformers/pipelines/base.py:1123: UserWarning: You seem to be using the pipelines sequentially on GPU. In order to maximize efficiency please use a dataset\n",
      "  warnings.warn(\n"
     ]
    },
    {
     "name": "stdout",
     "output_type": "stream",
     "text": [
      "model 3 --- "
     ]
    },
    {
     "name": "stderr",
     "output_type": "stream",
     "text": [
      "/home/oruma001/envs/cs834_project/lib/python3.10/site-packages/transformers/pipelines/base.py:1123: UserWarning: You seem to be using the pipelines sequentially on GPU. In order to maximize efficiency please use a dataset\n",
      "  warnings.warn(\n"
     ]
    },
    {
     "name": "stdout",
     "output_type": "stream",
     "text": [
      "model 4 --- "
     ]
    },
    {
     "name": "stderr",
     "output_type": "stream",
     "text": [
      "/home/oruma001/envs/cs834_project/lib/python3.10/site-packages/transformers/pipelines/base.py:1123: UserWarning: You seem to be using the pipelines sequentially on GPU. In order to maximize efficiency please use a dataset\n",
      "  warnings.warn(\n"
     ]
    },
    {
     "name": "stdout",
     "output_type": "stream",
     "text": [
      "model 5 ---\n",
      "                                                text m1_label  m1_score  \\\n",
      "0  Next, we improved the structure of the loss us...  neutral  0.998498   \n",
      "1  We selected SADNet [25], which represents a sm...  neutral  0.998837   \n",
      "2  We select eight image enhancement methods (SRN...  neutral  0.998961   \n",
      "3  Models Parameters Gray Color TNRD [68] 27 DnCN...  neutral  0.999290   \n",
      "4  TABLE IV REAL IMAGE DENOISING COMPARISON WITH ...  neutral  0.999089   \n",
      "\n",
      "   m2_label  m2_score  m3_label  m3_score  m4_label  m4_score  m5_label  \\\n",
      "0  positive  0.982012  positive  0.670981   neutral  0.681164   neutral   \n",
      "1   neutral  0.966159  positive  0.676972  positive  0.580743  positive   \n",
      "2   neutral  0.997691   neutral  0.974489   neutral  0.825925   neutral   \n",
      "3   neutral  0.996441   neutral  0.975934   neutral  0.779173   neutral   \n",
      "4   neutral  0.995048   neutral  0.973537   neutral  0.932049   neutral   \n",
      "\n",
      "   m5_score majority_vote  \n",
      "0  0.483198       neutral  \n",
      "1  0.752675      positive  \n",
      "2  0.752284       neutral  \n",
      "3  0.822263       neutral  \n",
      "4  0.715790       neutral  \n",
      "sentiment_analysis/inferences_from_all_5_models/RS_105_MLRC_2020_12.csv saved\n",
      "\n",
      "\n",
      "\n",
      "\n"
     ]
    },
    {
     "name": "stderr",
     "output_type": "stream",
     "text": [
      "/home/oruma001/envs/cs834_project/lib/python3.10/site-packages/transformers/pipelines/base.py:1123: UserWarning: You seem to be using the pipelines sequentially on GPU. In order to maximize efficiency please use a dataset\n",
      "  warnings.warn(\n"
     ]
    },
    {
     "name": "stdout",
     "output_type": "stream",
     "text": [
      "RS_121_NeurIPS_2019_04.csv - model 1 --- "
     ]
    },
    {
     "name": "stderr",
     "output_type": "stream",
     "text": [
      "/home/oruma001/envs/cs834_project/lib/python3.10/site-packages/transformers/pipelines/base.py:1123: UserWarning: You seem to be using the pipelines sequentially on GPU. In order to maximize efficiency please use a dataset\n",
      "  warnings.warn(\n"
     ]
    },
    {
     "name": "stdout",
     "output_type": "stream",
     "text": [
      "model 2 --- "
     ]
    },
    {
     "name": "stderr",
     "output_type": "stream",
     "text": [
      "/home/oruma001/envs/cs834_project/lib/python3.10/site-packages/transformers/pipelines/base.py:1123: UserWarning: You seem to be using the pipelines sequentially on GPU. In order to maximize efficiency please use a dataset\n",
      "  warnings.warn(\n"
     ]
    },
    {
     "name": "stdout",
     "output_type": "stream",
     "text": [
      "model 3 --- "
     ]
    },
    {
     "name": "stderr",
     "output_type": "stream",
     "text": [
      "/home/oruma001/envs/cs834_project/lib/python3.10/site-packages/transformers/pipelines/base.py:1123: UserWarning: You seem to be using the pipelines sequentially on GPU. In order to maximize efficiency please use a dataset\n",
      "  warnings.warn(\n"
     ]
    },
    {
     "name": "stdout",
     "output_type": "stream",
     "text": [
      "model 4 --- "
     ]
    },
    {
     "name": "stderr",
     "output_type": "stream",
     "text": [
      "/home/oruma001/envs/cs834_project/lib/python3.10/site-packages/transformers/pipelines/base.py:1123: UserWarning: You seem to be using the pipelines sequentially on GPU. In order to maximize efficiency please use a dataset\n",
      "  warnings.warn(\n"
     ]
    },
    {
     "name": "stdout",
     "output_type": "stream",
     "text": [
      "model 5 ---\n",
      "                                                text m1_label  m1_score  \\\n",
      "0  Srlt Franceschi et al. (2019): The abbreviatio...  neutral  0.998835   \n",
      "1  of representing learning on the UTS and the MT...  neutral  0.999012   \n",
      "2  of representing learning on the UTS and the MT...  neutral  0.998978   \n",
      "3  (2020); Franceschi et al. (2019). Second, unde...  neutral  0.998361   \n",
      "4  Srlt Franceschi et al. (2019): The abbreviatio...  neutral  0.999019   \n",
      "\n",
      "  m2_label  m2_score  m3_label  m3_score  m4_label  m4_score  m5_label  \\\n",
      "0  neutral  0.847589   neutral  0.864553   neutral  0.725828   neutral   \n",
      "1  neutral  0.983728  positive  0.619005  positive  0.590561   neutral   \n",
      "2  neutral  0.976469  positive  0.619005  positive  0.623639   neutral   \n",
      "3  neutral  0.684337   neutral  0.587666  positive  0.535388  positive   \n",
      "4  neutral  0.933882   neutral  0.962433   neutral  0.850689   neutral   \n",
      "\n",
      "   m5_score majority_vote  \n",
      "0  0.440424       neutral  \n",
      "1  0.466053       neutral  \n",
      "2  0.465026       neutral  \n",
      "3  0.576681       neutral  \n",
      "4  0.503646       neutral  \n",
      "sentiment_analysis/inferences_from_all_5_models/RS_121_NeurIPS_2019_04.csv saved\n",
      "\n",
      "\n",
      "\n",
      "\n"
     ]
    },
    {
     "name": "stderr",
     "output_type": "stream",
     "text": [
      "/home/oruma001/envs/cs834_project/lib/python3.10/site-packages/transformers/pipelines/base.py:1123: UserWarning: You seem to be using the pipelines sequentially on GPU. In order to maximize efficiency please use a dataset\n",
      "  warnings.warn(\n"
     ]
    },
    {
     "name": "stdout",
     "output_type": "stream",
     "text": [
      "RS_107_MLRC_2020_14.csv - model 1 --- model 2 --- "
     ]
    },
    {
     "name": "stderr",
     "output_type": "stream",
     "text": [
      "/home/oruma001/envs/cs834_project/lib/python3.10/site-packages/transformers/pipelines/base.py:1123: UserWarning: You seem to be using the pipelines sequentially on GPU. In order to maximize efficiency please use a dataset\n",
      "  warnings.warn(\n",
      "/home/oruma001/envs/cs834_project/lib/python3.10/site-packages/transformers/pipelines/base.py:1123: UserWarning: You seem to be using the pipelines sequentially on GPU. In order to maximize efficiency please use a dataset\n",
      "  warnings.warn(\n"
     ]
    },
    {
     "name": "stdout",
     "output_type": "stream",
     "text": [
      "model 3 --- model 4 --- "
     ]
    },
    {
     "name": "stderr",
     "output_type": "stream",
     "text": [
      "/home/oruma001/envs/cs834_project/lib/python3.10/site-packages/transformers/pipelines/base.py:1123: UserWarning: You seem to be using the pipelines sequentially on GPU. In order to maximize efficiency please use a dataset\n",
      "  warnings.warn(\n",
      "/home/oruma001/envs/cs834_project/lib/python3.10/site-packages/transformers/pipelines/base.py:1123: UserWarning: You seem to be using the pipelines sequentially on GPU. In order to maximize efficiency please use a dataset\n",
      "  warnings.warn(\n"
     ]
    },
    {
     "name": "stdout",
     "output_type": "stream",
     "text": [
      "model 5 ---\n",
      "                                                text m1_label  m1_score  \\\n",
      "0  Finally, we retrain our model from scratch eac...  neutral  0.998588   \n",
      "1  Finally, we retrain our model form scratch eac...  neutral  0.998380   \n",
      "2  Vertex for P1 only\\nVertex for P2 only\\nVertex...  neutral  0.998921   \n",
      "3  For example, for the second execution of p1 in...  neutral  0.998901   \n",
      "4  Therefore, for p2, the interval for training i...  neutral  0.998848   \n",
      "\n",
      "   m2_label  m2_score m3_label  m3_score m4_label  m4_score  m5_label  \\\n",
      "0  negative  0.875986  neutral  0.806034  neutral  0.821965  negative   \n",
      "1  negative  0.983515  neutral  0.938619  neutral  0.816238  negative   \n",
      "2   neutral  0.630431  neutral  0.978471  neutral  0.887095  negative   \n",
      "3   neutral  0.992555  neutral  0.968726  neutral  0.940803   neutral   \n",
      "4   neutral  0.993589  neutral  0.975076  neutral  0.874918   neutral   \n",
      "\n",
      "   m5_score majority_vote  \n",
      "0  0.542554       neutral  \n",
      "1  0.892294       neutral  \n",
      "2  0.798051       neutral  \n",
      "3  0.666792       neutral  \n",
      "4  0.497764       neutral  \n",
      "sentiment_analysis/inferences_from_all_5_models/RS_107_MLRC_2020_14.csv saved\n",
      "\n",
      "\n",
      "\n",
      "\n",
      "RS_051_MLRC_2021_06.csv - model 1 --- model 2 --- model 3 --- model 4 --- model 5 ---\n",
      "                                                text m1_label  m1_score  \\\n",
      "0  We examine two different categories of related...  neutral  0.998793   \n",
      "1  [19] as a baseline for fairness, using their p...  neutral  0.998848   \n",
      "\n",
      "  m2_label  m2_score m3_label  m3_score m4_label  m4_score m5_label  m5_score  \\\n",
      "0  neutral  0.997364  neutral  0.969866  neutral  0.767221  neutral  0.513705   \n",
      "1  neutral  0.993701  neutral  0.736033  neutral  0.558948  neutral  0.469789   \n",
      "\n",
      "  majority_vote  \n",
      "0       neutral  \n",
      "1       neutral  \n",
      "sentiment_analysis/inferences_from_all_5_models/RS_051_MLRC_2021_06.csv saved\n",
      "\n",
      "\n",
      "\n",
      "\n"
     ]
    },
    {
     "name": "stderr",
     "output_type": "stream",
     "text": [
      "/home/oruma001/envs/cs834_project/lib/python3.10/site-packages/transformers/pipelines/base.py:1123: UserWarning: You seem to be using the pipelines sequentially on GPU. In order to maximize efficiency please use a dataset\n",
      "  warnings.warn(\n",
      "/home/oruma001/envs/cs834_project/lib/python3.10/site-packages/transformers/pipelines/base.py:1123: UserWarning: You seem to be using the pipelines sequentially on GPU. In order to maximize efficiency please use a dataset\n",
      "  warnings.warn(\n",
      "/home/oruma001/envs/cs834_project/lib/python3.10/site-packages/transformers/pipelines/base.py:1123: UserWarning: You seem to be using the pipelines sequentially on GPU. In order to maximize efficiency please use a dataset\n",
      "  warnings.warn(\n",
      "/home/oruma001/envs/cs834_project/lib/python3.10/site-packages/transformers/pipelines/base.py:1123: UserWarning: You seem to be using the pipelines sequentially on GPU. In order to maximize efficiency please use a dataset\n",
      "  warnings.warn(\n",
      "/home/oruma001/envs/cs834_project/lib/python3.10/site-packages/transformers/pipelines/base.py:1123: UserWarning: You seem to be using the pipelines sequentially on GPU. In order to maximize efficiency please use a dataset\n",
      "  warnings.warn(\n",
      "/home/oruma001/envs/cs834_project/lib/python3.10/site-packages/transformers/pipelines/base.py:1123: UserWarning: You seem to be using the pipelines sequentially on GPU. In order to maximize efficiency please use a dataset\n",
      "  warnings.warn(\n"
     ]
    },
    {
     "name": "stdout",
     "output_type": "stream",
     "text": [
      "RS_055_MLRC_2021_10.csv - model 1 --- "
     ]
    },
    {
     "name": "stderr",
     "output_type": "stream",
     "text": [
      "/home/oruma001/envs/cs834_project/lib/python3.10/site-packages/transformers/pipelines/base.py:1123: UserWarning: You seem to be using the pipelines sequentially on GPU. In order to maximize efficiency please use a dataset\n",
      "  warnings.warn(\n"
     ]
    },
    {
     "name": "stdout",
     "output_type": "stream",
     "text": [
      "model 2 --- "
     ]
    },
    {
     "name": "stderr",
     "output_type": "stream",
     "text": [
      "/home/oruma001/envs/cs834_project/lib/python3.10/site-packages/transformers/pipelines/base.py:1123: UserWarning: You seem to be using the pipelines sequentially on GPU. In order to maximize efficiency please use a dataset\n",
      "  warnings.warn(\n"
     ]
    },
    {
     "name": "stdout",
     "output_type": "stream",
     "text": [
      "model 3 --- "
     ]
    },
    {
     "name": "stderr",
     "output_type": "stream",
     "text": [
      "/home/oruma001/envs/cs834_project/lib/python3.10/site-packages/transformers/pipelines/base.py:1123: UserWarning: You seem to be using the pipelines sequentially on GPU. In order to maximize efficiency please use a dataset\n",
      "  warnings.warn(\n"
     ]
    },
    {
     "name": "stdout",
     "output_type": "stream",
     "text": [
      "model 4 --- "
     ]
    },
    {
     "name": "stderr",
     "output_type": "stream",
     "text": [
      "/home/oruma001/envs/cs834_project/lib/python3.10/site-packages/transformers/pipelines/base.py:1123: UserWarning: You seem to be using the pipelines sequentially on GPU. In order to maximize efficiency please use a dataset\n",
      "  warnings.warn(\n"
     ]
    },
    {
     "name": "stdout",
     "output_type": "stream",
     "text": [
      "model 5 ---\n",
      "                                                text m1_label  m1_score  \\\n",
      "0  Technically speaking, we implemented and appli...  neutral  0.998629   \n",
      "1  On the left panel, we put three sliders which ...  neutral  0.999022   \n",
      "2  Additional qualitative comparisons for editing...  neutral  0.998924   \n",
      "3  Such a direction can be found by either using ...  neutral  0.998835   \n",
      "4  Differently, the unsupervised methods [1,2,9,1...  neutral  0.998261   \n",
      "\n",
      "  m2_label  m2_score m3_label  m3_score m4_label  m4_score  m5_label  \\\n",
      "0  neutral  0.991990  neutral  0.811732  neutral  0.914742  positive   \n",
      "1  neutral  0.995650  neutral  0.951706  neutral  0.940008   neutral   \n",
      "2  neutral  0.997405  neutral  0.968789  neutral  0.908445   neutral   \n",
      "3  neutral  0.995112  neutral  0.977379  neutral  0.889937  negative   \n",
      "4  neutral  0.996840  neutral  0.677584  neutral  0.478808  negative   \n",
      "\n",
      "   m5_score majority_vote  \n",
      "0  0.638956       neutral  \n",
      "1  0.517646       neutral  \n",
      "2  0.651065       neutral  \n",
      "3  0.561314       neutral  \n",
      "4  0.813876       neutral  \n",
      "sentiment_analysis/inferences_from_all_5_models/RS_055_MLRC_2021_10.csv saved\n",
      "\n",
      "\n",
      "\n",
      "\n"
     ]
    },
    {
     "name": "stderr",
     "output_type": "stream",
     "text": [
      "/home/oruma001/envs/cs834_project/lib/python3.10/site-packages/transformers/pipelines/base.py:1123: UserWarning: You seem to be using the pipelines sequentially on GPU. In order to maximize efficiency please use a dataset\n",
      "  warnings.warn(\n",
      "/home/oruma001/envs/cs834_project/lib/python3.10/site-packages/transformers/pipelines/base.py:1123: UserWarning: You seem to be using the pipelines sequentially on GPU. In order to maximize efficiency please use a dataset\n",
      "  warnings.warn(\n",
      "/home/oruma001/envs/cs834_project/lib/python3.10/site-packages/transformers/pipelines/base.py:1123: UserWarning: You seem to be using the pipelines sequentially on GPU. In order to maximize efficiency please use a dataset\n",
      "  warnings.warn(\n"
     ]
    },
    {
     "name": "stdout",
     "output_type": "stream",
     "text": [
      "RS_016_MLRC_2022_16.csv - model 1 --- model 2 --- model 3 --- model 4 --- "
     ]
    },
    {
     "name": "stderr",
     "output_type": "stream",
     "text": [
      "/home/oruma001/envs/cs834_project/lib/python3.10/site-packages/transformers/pipelines/base.py:1123: UserWarning: You seem to be using the pipelines sequentially on GPU. In order to maximize efficiency please use a dataset\n",
      "  warnings.warn(\n",
      "/home/oruma001/envs/cs834_project/lib/python3.10/site-packages/transformers/pipelines/base.py:1123: UserWarning: You seem to be using the pipelines sequentially on GPU. In order to maximize efficiency please use a dataset\n",
      "  warnings.warn(\n",
      "/home/oruma001/envs/cs834_project/lib/python3.10/site-packages/transformers/pipelines/base.py:1123: UserWarning: You seem to be using the pipelines sequentially on GPU. In order to maximize efficiency please use a dataset\n",
      "  warnings.warn(\n"
     ]
    },
    {
     "name": "stdout",
     "output_type": "stream",
     "text": [
      "model 5 ---\n",
      "                                                text m1_label  m1_score  \\\n",
      "0  (2)We also restrict to supervised models, sinc...  neutral  0.998970   \n",
      "1  We compared the performance of our likelihood ...  neutral  0.998579   \n",
      "2  the latent space of an autoencoder), and an ad...  neutral  0.999042   \n",
      "3  We quantitatively compare these various featur...  neutral  0.998774   \n",
      "4  We do not compare with methods that are not po...  neutral  0.998839   \n",
      "\n",
      "  m2_label  m2_score  m3_label  m3_score m4_label  m4_score  m5_label  \\\n",
      "0  neutral  0.996826   neutral  0.948091  neutral  0.855668   neutral   \n",
      "1  neutral  0.991427   neutral  0.966729  neutral  0.804515   neutral   \n",
      "2  neutral  0.993482   neutral  0.965769  neutral  0.899714   neutral   \n",
      "3  neutral  0.996297   neutral  0.956345  neutral  0.858440   neutral   \n",
      "4  neutral  0.994300  negative  0.599333  neutral  0.532652  negative   \n",
      "\n",
      "   m5_score majority_vote  \n",
      "0  0.467430       neutral  \n",
      "1  0.542039       neutral  \n",
      "2  0.470383       neutral  \n",
      "3  0.587204       neutral  \n",
      "4  0.663046       neutral  \n",
      "sentiment_analysis/inferences_from_all_5_models/RS_016_MLRC_2022_16.csv saved\n",
      "\n",
      "\n",
      "\n",
      "\n",
      "RS_062_MLRC_2021_17.csv - model 1 --- "
     ]
    },
    {
     "name": "stderr",
     "output_type": "stream",
     "text": [
      "/home/oruma001/envs/cs834_project/lib/python3.10/site-packages/transformers/pipelines/base.py:1123: UserWarning: You seem to be using the pipelines sequentially on GPU. In order to maximize efficiency please use a dataset\n",
      "  warnings.warn(\n"
     ]
    },
    {
     "name": "stdout",
     "output_type": "stream",
     "text": [
      "model 2 --- "
     ]
    },
    {
     "name": "stderr",
     "output_type": "stream",
     "text": [
      "/home/oruma001/envs/cs834_project/lib/python3.10/site-packages/transformers/pipelines/base.py:1123: UserWarning: You seem to be using the pipelines sequentially on GPU. In order to maximize efficiency please use a dataset\n",
      "  warnings.warn(\n"
     ]
    },
    {
     "name": "stdout",
     "output_type": "stream",
     "text": [
      "model 3 --- "
     ]
    },
    {
     "name": "stderr",
     "output_type": "stream",
     "text": [
      "/home/oruma001/envs/cs834_project/lib/python3.10/site-packages/transformers/pipelines/base.py:1123: UserWarning: You seem to be using the pipelines sequentially on GPU. In order to maximize efficiency please use a dataset\n",
      "  warnings.warn(\n"
     ]
    },
    {
     "name": "stdout",
     "output_type": "stream",
     "text": [
      "model 4 --- "
     ]
    },
    {
     "name": "stderr",
     "output_type": "stream",
     "text": [
      "/home/oruma001/envs/cs834_project/lib/python3.10/site-packages/transformers/pipelines/base.py:1123: UserWarning: You seem to be using the pipelines sequentially on GPU. In order to maximize efficiency please use a dataset\n",
      "  warnings.warn(\n"
     ]
    },
    {
     "name": "stdout",
     "output_type": "stream",
     "text": [
      "model 5 ---\n",
      "                                                text m1_label  m1_score  \\\n",
      "0  We will use BYOL (Grill et al. (2020), Definit...  neutral  0.998822   \n",
      "1  3)6 for our investigation into scaling as it i...  neutral  0.998810   \n",
      "2  Kontrastif öğrenme, aynı nesnenin artırılmış g...  neutral  0.998724   \n",
      "3  Specifically, inspired by (Chen & He, 2021; Gr...  neutral  0.999020   \n",
      "4  Specifically, inspired by (Chen & He, 2021; Gr...  neutral  0.999007   \n",
      "\n",
      "   m2_label  m2_score  m3_label  m3_score  m4_label  m4_score  m5_label  \\\n",
      "0  positive  0.992711  positive  0.549443  positive  0.700467  negative   \n",
      "1  positive  0.990306  positive  0.669100  positive  0.685762  positive   \n",
      "2   neutral  0.995932   neutral  0.959489   neutral  0.734097   neutral   \n",
      "3   neutral  0.995981   neutral  0.966345   neutral  0.698790   neutral   \n",
      "4   neutral  0.996622   neutral  0.963144   neutral  0.656775  negative   \n",
      "\n",
      "   m5_score majority_vote  \n",
      "0  0.424683      positive  \n",
      "1  0.665931      positive  \n",
      "2  0.580335       neutral  \n",
      "3  0.442528       neutral  \n",
      "4  0.429304       neutral  \n",
      "sentiment_analysis/inferences_from_all_5_models/RS_062_MLRC_2021_17.csv saved\n",
      "\n",
      "\n",
      "\n",
      "\n"
     ]
    },
    {
     "name": "stderr",
     "output_type": "stream",
     "text": [
      "/home/oruma001/envs/cs834_project/lib/python3.10/site-packages/transformers/pipelines/base.py:1123: UserWarning: You seem to be using the pipelines sequentially on GPU. In order to maximize efficiency please use a dataset\n",
      "  warnings.warn(\n"
     ]
    },
    {
     "name": "stdout",
     "output_type": "stream",
     "text": [
      "RS_108_MLRC_2020_15.csv - model 1 --- "
     ]
    },
    {
     "name": "stderr",
     "output_type": "stream",
     "text": [
      "/home/oruma001/envs/cs834_project/lib/python3.10/site-packages/transformers/pipelines/base.py:1123: UserWarning: You seem to be using the pipelines sequentially on GPU. In order to maximize efficiency please use a dataset\n",
      "  warnings.warn(\n"
     ]
    },
    {
     "name": "stdout",
     "output_type": "stream",
     "text": [
      "model 2 --- "
     ]
    },
    {
     "name": "stderr",
     "output_type": "stream",
     "text": [
      "/home/oruma001/envs/cs834_project/lib/python3.10/site-packages/transformers/pipelines/base.py:1123: UserWarning: You seem to be using the pipelines sequentially on GPU. In order to maximize efficiency please use a dataset\n",
      "  warnings.warn(\n"
     ]
    },
    {
     "name": "stdout",
     "output_type": "stream",
     "text": [
      "model 3 --- "
     ]
    },
    {
     "name": "stderr",
     "output_type": "stream",
     "text": [
      "/home/oruma001/envs/cs834_project/lib/python3.10/site-packages/transformers/pipelines/base.py:1123: UserWarning: You seem to be using the pipelines sequentially on GPU. In order to maximize efficiency please use a dataset\n",
      "  warnings.warn(\n"
     ]
    },
    {
     "name": "stdout",
     "output_type": "stream",
     "text": [
      "model 4 --- "
     ]
    },
    {
     "name": "stderr",
     "output_type": "stream",
     "text": [
      "/home/oruma001/envs/cs834_project/lib/python3.10/site-packages/transformers/pipelines/base.py:1123: UserWarning: You seem to be using the pipelines sequentially on GPU. In order to maximize efficiency please use a dataset\n",
      "  warnings.warn(\n"
     ]
    },
    {
     "name": "stdout",
     "output_type": "stream",
     "text": [
      "model 5 ---\n",
      "                                                text m1_label  m1_score  \\\n",
      "0  Other models compare entity embeddings from KG...  neutral  0.999068   \n",
      "1  Following [30], we prune the KG to contain onl...  neutral  0.998841   \n",
      "2  We mainly compare SKP with multiple state-of-t...  neutral  0.999051   \n",
      "3  We conducted experiments using the WebQuestion...  neutral  0.998853   \n",
      "4  In EmbedKGQA, we incorporated the results of t...  neutral  0.998870   \n",
      "\n",
      "  m2_label  m2_score m3_label  m3_score m4_label  m4_score m5_label  m5_score  \\\n",
      "0  neutral  0.997596  neutral  0.976910  neutral  0.917045  neutral  0.601881   \n",
      "1  neutral  0.995842  neutral  0.975986  neutral  0.943237  neutral  0.725990   \n",
      "2  neutral  0.996645  neutral  0.921669  neutral  0.898320  neutral  0.590747   \n",
      "3  neutral  0.996977  neutral  0.933002  neutral  0.928886  neutral  0.446140   \n",
      "4  neutral  0.996477  neutral  0.671614  neutral  0.903379  neutral  0.534026   \n",
      "\n",
      "  majority_vote  \n",
      "0       neutral  \n",
      "1       neutral  \n",
      "2       neutral  \n",
      "3       neutral  \n",
      "4       neutral  \n",
      "sentiment_analysis/inferences_from_all_5_models/RS_108_MLRC_2020_15.csv saved\n",
      "\n",
      "\n",
      "\n",
      "\n"
     ]
    },
    {
     "name": "stderr",
     "output_type": "stream",
     "text": [
      "/home/oruma001/envs/cs834_project/lib/python3.10/site-packages/transformers/pipelines/base.py:1123: UserWarning: You seem to be using the pipelines sequentially on GPU. In order to maximize efficiency please use a dataset\n",
      "  warnings.warn(\n"
     ]
    },
    {
     "name": "stdout",
     "output_type": "stream",
     "text": [
      "RS_092_MLRC_2021_47.csv - model 1 --- model 2 --- "
     ]
    },
    {
     "name": "stderr",
     "output_type": "stream",
     "text": [
      "/home/oruma001/envs/cs834_project/lib/python3.10/site-packages/transformers/pipelines/base.py:1123: UserWarning: You seem to be using the pipelines sequentially on GPU. In order to maximize efficiency please use a dataset\n",
      "  warnings.warn(\n",
      "/home/oruma001/envs/cs834_project/lib/python3.10/site-packages/transformers/pipelines/base.py:1123: UserWarning: You seem to be using the pipelines sequentially on GPU. In order to maximize efficiency please use a dataset\n",
      "  warnings.warn(\n"
     ]
    },
    {
     "name": "stdout",
     "output_type": "stream",
     "text": [
      "model 3 --- "
     ]
    },
    {
     "name": "stderr",
     "output_type": "stream",
     "text": [
      "/home/oruma001/envs/cs834_project/lib/python3.10/site-packages/transformers/pipelines/base.py:1123: UserWarning: You seem to be using the pipelines sequentially on GPU. In order to maximize efficiency please use a dataset\n",
      "  warnings.warn(\n"
     ]
    },
    {
     "name": "stdout",
     "output_type": "stream",
     "text": [
      "model 4 --- model 5 ---\n",
      "                                                text  m1_label  m1_score  \\\n",
      "0  1) Base train: We follow GNN-PPI [Lv et al., 2...   neutral  0.998773   \n",
      "1  We follow partition algorithms in GNN-PPI [Lv ...   neutral  0.998607   \n",
      "2  Such a setting makes GNN-PPI impractical to fi...  negative  0.936497   \n",
      "3  Baselines Following Zhang et al. (2022), we in...   neutral  0.998775   \n",
      "4  In the second setting, KeAP outperforms OntoPr...   neutral  0.999023   \n",
      "\n",
      "  m2_label  m2_score  m3_label  m3_score  m4_label  m4_score  m5_label  \\\n",
      "0  neutral  0.997008   neutral  0.965427   neutral  0.929431   neutral   \n",
      "1  neutral  0.997637   neutral  0.969762   neutral  0.928262   neutral   \n",
      "2  neutral  0.679249  negative  0.640133  negative  0.839790  negative   \n",
      "3  neutral  0.987734   neutral  0.949351   neutral  0.879264   neutral   \n",
      "4  neutral  0.992414  positive  0.588978   neutral  0.752256   neutral   \n",
      "\n",
      "   m5_score majority_vote  \n",
      "0  0.745155       neutral  \n",
      "1  0.611995       neutral  \n",
      "2  0.769514      negative  \n",
      "3  0.669882       neutral  \n",
      "4  0.456900       neutral  \n",
      "sentiment_analysis/inferences_from_all_5_models/RS_092_MLRC_2021_47.csv saved\n",
      "\n",
      "\n",
      "\n",
      "\n"
     ]
    },
    {
     "name": "stderr",
     "output_type": "stream",
     "text": [
      "/home/oruma001/envs/cs834_project/lib/python3.10/site-packages/transformers/pipelines/base.py:1123: UserWarning: You seem to be using the pipelines sequentially on GPU. In order to maximize efficiency please use a dataset\n",
      "  warnings.warn(\n",
      "/home/oruma001/envs/cs834_project/lib/python3.10/site-packages/transformers/pipelines/base.py:1123: UserWarning: You seem to be using the pipelines sequentially on GPU. In order to maximize efficiency please use a dataset\n",
      "  warnings.warn(\n"
     ]
    },
    {
     "name": "stdout",
     "output_type": "stream",
     "text": [
      "RS_088_MLRC_2021_43.csv - model 1 --- model 2 --- "
     ]
    },
    {
     "name": "stderr",
     "output_type": "stream",
     "text": [
      "/home/oruma001/envs/cs834_project/lib/python3.10/site-packages/transformers/pipelines/base.py:1123: UserWarning: You seem to be using the pipelines sequentially on GPU. In order to maximize efficiency please use a dataset\n",
      "  warnings.warn(\n",
      "/home/oruma001/envs/cs834_project/lib/python3.10/site-packages/transformers/pipelines/base.py:1123: UserWarning: You seem to be using the pipelines sequentially on GPU. In order to maximize efficiency please use a dataset\n",
      "  warnings.warn(\n"
     ]
    },
    {
     "name": "stdout",
     "output_type": "stream",
     "text": [
      "model 3 --- "
     ]
    },
    {
     "name": "stderr",
     "output_type": "stream",
     "text": [
      "/home/oruma001/envs/cs834_project/lib/python3.10/site-packages/transformers/pipelines/base.py:1123: UserWarning: You seem to be using the pipelines sequentially on GPU. In order to maximize efficiency please use a dataset\n",
      "  warnings.warn(\n"
     ]
    },
    {
     "name": "stdout",
     "output_type": "stream",
     "text": [
      "model 4 --- model 5 ---\n",
      "                                                text m1_label  m1_score  \\\n",
      "0  While some researchers generate data to make t...  neutral  0.998756   \n",
      "1  In our paper (including this appendix) we repr...  neutral  0.999019   \n",
      "2  We compare ProgSyn to two recent non-private (...  neutral  0.998865   \n",
      "3  Second, CDG-VAE can be applied to chain graphs...  neutral  0.998936   \n",
      "4  Otherwise the model can just learn the protect...  neutral  0.998733   \n",
      "\n",
      "  m2_label  m2_score m3_label  m3_score  m4_label  m4_score  m5_label  \\\n",
      "0  neutral  0.996196  neutral  0.908561   neutral  0.616563  negative   \n",
      "1  neutral  0.987204  neutral  0.966350  positive  0.579247   neutral   \n",
      "2  neutral  0.994049  neutral  0.922387  positive  0.512741   neutral   \n",
      "3  neutral  0.996375  neutral  0.969264   neutral  0.845366   neutral   \n",
      "4  neutral  0.996762  neutral  0.965165   neutral  0.887393  negative   \n",
      "\n",
      "   m5_score majority_vote  \n",
      "0  0.470195       neutral  \n",
      "1  0.790549       neutral  \n",
      "2  0.613451       neutral  \n",
      "3  0.666797       neutral  \n",
      "4  0.639989       neutral  \n",
      "sentiment_analysis/inferences_from_all_5_models/RS_088_MLRC_2021_43.csv saved\n",
      "\n",
      "\n",
      "\n",
      "\n"
     ]
    },
    {
     "name": "stderr",
     "output_type": "stream",
     "text": [
      "/home/oruma001/envs/cs834_project/lib/python3.10/site-packages/transformers/pipelines/base.py:1123: UserWarning: You seem to be using the pipelines sequentially on GPU. In order to maximize efficiency please use a dataset\n",
      "  warnings.warn(\n",
      "/home/oruma001/envs/cs834_project/lib/python3.10/site-packages/transformers/pipelines/base.py:1123: UserWarning: You seem to be using the pipelines sequentially on GPU. In order to maximize efficiency please use a dataset\n",
      "  warnings.warn(\n"
     ]
    },
    {
     "name": "stdout",
     "output_type": "stream",
     "text": [
      "RS_013_MLRC_2022_13.csv - model 1 --- model 2 --- model 3 --- "
     ]
    },
    {
     "name": "stderr",
     "output_type": "stream",
     "text": [
      "/home/oruma001/envs/cs834_project/lib/python3.10/site-packages/transformers/pipelines/base.py:1123: UserWarning: You seem to be using the pipelines sequentially on GPU. In order to maximize efficiency please use a dataset\n",
      "  warnings.warn(\n",
      "/home/oruma001/envs/cs834_project/lib/python3.10/site-packages/transformers/pipelines/base.py:1123: UserWarning: You seem to be using the pipelines sequentially on GPU. In order to maximize efficiency please use a dataset\n",
      "  warnings.warn(\n",
      "/home/oruma001/envs/cs834_project/lib/python3.10/site-packages/transformers/pipelines/base.py:1123: UserWarning: You seem to be using the pipelines sequentially on GPU. In order to maximize efficiency please use a dataset\n",
      "  warnings.warn(\n"
     ]
    },
    {
     "name": "stdout",
     "output_type": "stream",
     "text": [
      "model 4 --- model 5 ---\n",
      "                                                text m1_label  m1_score  \\\n",
      "0  Within the domain of algorithmic fairness, our...  neutral  0.998390   \n",
      "1  , 2021), Shifty (Giguere et al., 2022), and ou...  neutral  0.998926   \n",
      "2  6, we add a new baseline called Shifty (Giguer...  neutral  0.998708   \n",
      "3  Our framework thus works best when the x distr...  neutral  0.998776   \n",
      "4  • Similarly, the demographic shift (Giguere et...  neutral  0.998914   \n",
      "\n",
      "  m2_label  m2_score m3_label  m3_score  m4_label  m4_score  m5_label  \\\n",
      "0  neutral  0.996943  neutral  0.959855   neutral  0.712557  positive   \n",
      "1  neutral  0.996831  neutral  0.968199   neutral  0.874701   neutral   \n",
      "2  neutral  0.991583  neutral  0.870186   neutral  0.880878   neutral   \n",
      "3  neutral  0.930761  neutral  0.731712  positive  0.625875  positive   \n",
      "4  neutral  0.996867  neutral  0.968490   neutral  0.904818   neutral   \n",
      "\n",
      "   m5_score majority_vote  \n",
      "0  0.606998       neutral  \n",
      "1  0.567291       neutral  \n",
      "2  0.630850       neutral  \n",
      "3  0.547351       neutral  \n",
      "4  0.583074       neutral  \n",
      "sentiment_analysis/inferences_from_all_5_models/RS_013_MLRC_2022_13.csv saved\n",
      "\n",
      "\n",
      "\n",
      "\n"
     ]
    },
    {
     "name": "stderr",
     "output_type": "stream",
     "text": [
      "/home/oruma001/envs/cs834_project/lib/python3.10/site-packages/transformers/pipelines/base.py:1123: UserWarning: You seem to be using the pipelines sequentially on GPU. In order to maximize efficiency please use a dataset\n",
      "  warnings.warn(\n",
      "/home/oruma001/envs/cs834_project/lib/python3.10/site-packages/transformers/pipelines/base.py:1123: UserWarning: You seem to be using the pipelines sequentially on GPU. In order to maximize efficiency please use a dataset\n",
      "  warnings.warn(\n"
     ]
    },
    {
     "name": "stdout",
     "output_type": "stream",
     "text": [
      "RS_001_MLRC_2022_01.csv - model 1 --- "
     ]
    },
    {
     "name": "stderr",
     "output_type": "stream",
     "text": [
      "/home/oruma001/envs/cs834_project/lib/python3.10/site-packages/transformers/pipelines/base.py:1123: UserWarning: You seem to be using the pipelines sequentially on GPU. In order to maximize efficiency please use a dataset\n",
      "  warnings.warn(\n"
     ]
    },
    {
     "name": "stdout",
     "output_type": "stream",
     "text": [
      "model 2 --- "
     ]
    },
    {
     "name": "stderr",
     "output_type": "stream",
     "text": [
      "/home/oruma001/envs/cs834_project/lib/python3.10/site-packages/transformers/pipelines/base.py:1123: UserWarning: You seem to be using the pipelines sequentially on GPU. In order to maximize efficiency please use a dataset\n",
      "  warnings.warn(\n"
     ]
    },
    {
     "name": "stdout",
     "output_type": "stream",
     "text": [
      "model 3 --- "
     ]
    },
    {
     "name": "stderr",
     "output_type": "stream",
     "text": [
      "/home/oruma001/envs/cs834_project/lib/python3.10/site-packages/transformers/pipelines/base.py:1123: UserWarning: You seem to be using the pipelines sequentially on GPU. In order to maximize efficiency please use a dataset\n",
      "  warnings.warn(\n"
     ]
    },
    {
     "name": "stdout",
     "output_type": "stream",
     "text": [
      "model 4 --- "
     ]
    },
    {
     "name": "stderr",
     "output_type": "stream",
     "text": [
      "/home/oruma001/envs/cs834_project/lib/python3.10/site-packages/transformers/pipelines/base.py:1123: UserWarning: You seem to be using the pipelines sequentially on GPU. In order to maximize efficiency please use a dataset\n",
      "  warnings.warn(\n"
     ]
    },
    {
     "name": "stdout",
     "output_type": "stream",
     "text": [
      "model 5 ---\n",
      "                                                text m1_label  m1_score  \\\n",
      "0  For G-Mixup, we use the same hyper-parameters ...  neutral  0.998802   \n",
      "1  Only in the case of the Reddit-5K dataset with...  neutral  0.998806   \n",
      "2  We apply our proposed Graph Dual Mixup on the ...  neutral  0.999005   \n",
      "3  Our result generalizes that of [16] by allowin...  neutral  0.998482   \n",
      "4  Note that for complexons of dimension 1, when ...  neutral  0.997926   \n",
      "\n",
      "  m2_label  m2_score m3_label  m3_score m4_label  m4_score  m5_label  \\\n",
      "0  neutral  0.956996  neutral  0.933677  neutral  0.928219   neutral   \n",
      "1  neutral  0.930049  neutral  0.649649  neutral  0.482644  negative   \n",
      "2  neutral  0.995606  neutral  0.958729  neutral  0.881675   neutral   \n",
      "3  neutral  0.992574  neutral  0.927701  neutral  0.866984   neutral   \n",
      "4  neutral  0.977237  neutral  0.963883  neutral  0.823722   neutral   \n",
      "\n",
      "   m5_score majority_vote  \n",
      "0  0.645646       neutral  \n",
      "1  0.837037       neutral  \n",
      "2  0.569903       neutral  \n",
      "3  0.504486       neutral  \n",
      "4  0.560515       neutral  \n",
      "sentiment_analysis/inferences_from_all_5_models/RS_001_MLRC_2022_01.csv saved\n",
      "\n",
      "\n",
      "\n",
      "\n"
     ]
    },
    {
     "name": "stderr",
     "output_type": "stream",
     "text": [
      "/home/oruma001/envs/cs834_project/lib/python3.10/site-packages/transformers/pipelines/base.py:1123: UserWarning: You seem to be using the pipelines sequentially on GPU. In order to maximize efficiency please use a dataset\n",
      "  warnings.warn(\n"
     ]
    },
    {
     "name": "stdout",
     "output_type": "stream",
     "text": [
      "RS_082_MLRC_2021_37.csv - model 1 --- "
     ]
    },
    {
     "name": "stderr",
     "output_type": "stream",
     "text": [
      "/home/oruma001/envs/cs834_project/lib/python3.10/site-packages/transformers/pipelines/base.py:1123: UserWarning: You seem to be using the pipelines sequentially on GPU. In order to maximize efficiency please use a dataset\n",
      "  warnings.warn(\n"
     ]
    },
    {
     "name": "stdout",
     "output_type": "stream",
     "text": [
      "model 2 --- "
     ]
    },
    {
     "name": "stderr",
     "output_type": "stream",
     "text": [
      "/home/oruma001/envs/cs834_project/lib/python3.10/site-packages/transformers/pipelines/base.py:1123: UserWarning: You seem to be using the pipelines sequentially on GPU. In order to maximize efficiency please use a dataset\n",
      "  warnings.warn(\n"
     ]
    },
    {
     "name": "stdout",
     "output_type": "stream",
     "text": [
      "model 3 --- "
     ]
    },
    {
     "name": "stderr",
     "output_type": "stream",
     "text": [
      "/home/oruma001/envs/cs834_project/lib/python3.10/site-packages/transformers/pipelines/base.py:1123: UserWarning: You seem to be using the pipelines sequentially on GPU. In order to maximize efficiency please use a dataset\n",
      "  warnings.warn(\n"
     ]
    },
    {
     "name": "stdout",
     "output_type": "stream",
     "text": [
      "model 4 --- "
     ]
    },
    {
     "name": "stderr",
     "output_type": "stream",
     "text": [
      "/home/oruma001/envs/cs834_project/lib/python3.10/site-packages/transformers/pipelines/base.py:1123: UserWarning: You seem to be using the pipelines sequentially on GPU. In order to maximize efficiency please use a dataset\n",
      "  warnings.warn(\n"
     ]
    },
    {
     "name": "stdout",
     "output_type": "stream",
     "text": [
      "model 5 ---\n",
      "                                                text m1_label  m1_score  \\\n",
      "0  We chose representative trajectory prediction ...  neutral  0.998407   \n",
      "1  In addition, comparing with Y-net [32] with th...  neutral  0.998628   \n",
      "2  The output settings are in line with the data ...  neutral  0.998892   \n",
      "3  We have made some improvements on the basis of...  neutral  0.998638   \n",
      "4  The data alignment results are processed by YN...  neutral  0.998791   \n",
      "\n",
      "   m2_label  m2_score  m3_label  m3_score  m4_label  m4_score  m5_label  \\\n",
      "0   neutral  0.997669   neutral  0.940007   neutral  0.885030   neutral   \n",
      "1  positive  0.995270   neutral  0.510882  negative  0.473274  negative   \n",
      "2   neutral  0.996494   neutral  0.827459   neutral  0.931818   neutral   \n",
      "3  positive  0.934118  positive  0.934933   neutral  0.595305  positive   \n",
      "4   neutral  0.997231   neutral  0.964444   neutral  0.927130   neutral   \n",
      "\n",
      "   m5_score majority_vote  \n",
      "0  0.551762       neutral  \n",
      "1  0.745050      negative  \n",
      "2  0.698823       neutral  \n",
      "3  0.455598      positive  \n",
      "4  0.689041       neutral  \n",
      "sentiment_analysis/inferences_from_all_5_models/RS_082_MLRC_2021_37.csv saved\n",
      "\n",
      "\n",
      "\n",
      "\n",
      "RS_076_MLRC_2021_31.csv - model 1 --- model 2 --- model 3 --- "
     ]
    },
    {
     "name": "stderr",
     "output_type": "stream",
     "text": [
      "/home/oruma001/envs/cs834_project/lib/python3.10/site-packages/transformers/pipelines/base.py:1123: UserWarning: You seem to be using the pipelines sequentially on GPU. In order to maximize efficiency please use a dataset\n",
      "  warnings.warn(\n",
      "/home/oruma001/envs/cs834_project/lib/python3.10/site-packages/transformers/pipelines/base.py:1123: UserWarning: You seem to be using the pipelines sequentially on GPU. In order to maximize efficiency please use a dataset\n",
      "  warnings.warn(\n",
      "/home/oruma001/envs/cs834_project/lib/python3.10/site-packages/transformers/pipelines/base.py:1123: UserWarning: You seem to be using the pipelines sequentially on GPU. In order to maximize efficiency please use a dataset\n",
      "  warnings.warn(\n",
      "/home/oruma001/envs/cs834_project/lib/python3.10/site-packages/transformers/pipelines/base.py:1123: UserWarning: You seem to be using the pipelines sequentially on GPU. In order to maximize efficiency please use a dataset\n",
      "  warnings.warn(\n",
      "/home/oruma001/envs/cs834_project/lib/python3.10/site-packages/transformers/pipelines/base.py:1123: UserWarning: You seem to be using the pipelines sequentially on GPU. In order to maximize efficiency please use a dataset\n",
      "  warnings.warn(\n"
     ]
    },
    {
     "name": "stdout",
     "output_type": "stream",
     "text": [
      "model 4 --- model 5 ---\n",
      "                                                text m1_label  m1_score  \\\n",
      "0  , [21, 42] is needed for our increasing use ca...  neutral  0.998187   \n",
      "1  Unhackability provides a notion of what it mea...  neutral  0.998943   \n",
      "2  cent work focused on value alignment verificat...  neutral  0.998667   \n",
      "\n",
      "   m2_label  m2_score m3_label  m3_score m4_label  m4_score  m5_label  \\\n",
      "0  positive  0.955550  neutral  0.909886  neutral  0.835516  positive   \n",
      "1  positive  0.534440  neutral  0.943937  neutral  0.743476  negative   \n",
      "2   neutral  0.994528  neutral  0.953374  neutral  0.868302  negative   \n",
      "\n",
      "   m5_score majority_vote  \n",
      "0  0.531237       neutral  \n",
      "1  0.489574       neutral  \n",
      "2  0.396441       neutral  \n",
      "sentiment_analysis/inferences_from_all_5_models/RS_076_MLRC_2021_31.csv saved\n",
      "\n",
      "\n",
      "\n",
      "\n"
     ]
    },
    {
     "name": "stderr",
     "output_type": "stream",
     "text": [
      "/home/oruma001/envs/cs834_project/lib/python3.10/site-packages/transformers/pipelines/base.py:1123: UserWarning: You seem to be using the pipelines sequentially on GPU. In order to maximize efficiency please use a dataset\n",
      "  warnings.warn(\n"
     ]
    },
    {
     "name": "stdout",
     "output_type": "stream",
     "text": [
      "RS_125_NeurIPS_2019_08.csv - model 1 --- "
     ]
    },
    {
     "name": "stderr",
     "output_type": "stream",
     "text": [
      "/home/oruma001/envs/cs834_project/lib/python3.10/site-packages/transformers/pipelines/base.py:1123: UserWarning: You seem to be using the pipelines sequentially on GPU. In order to maximize efficiency please use a dataset\n",
      "  warnings.warn(\n"
     ]
    },
    {
     "name": "stdout",
     "output_type": "stream",
     "text": [
      "model 2 --- "
     ]
    },
    {
     "name": "stderr",
     "output_type": "stream",
     "text": [
      "/home/oruma001/envs/cs834_project/lib/python3.10/site-packages/transformers/pipelines/base.py:1123: UserWarning: You seem to be using the pipelines sequentially on GPU. In order to maximize efficiency please use a dataset\n",
      "  warnings.warn(\n"
     ]
    },
    {
     "name": "stdout",
     "output_type": "stream",
     "text": [
      "model 3 --- "
     ]
    },
    {
     "name": "stderr",
     "output_type": "stream",
     "text": [
      "/home/oruma001/envs/cs834_project/lib/python3.10/site-packages/transformers/pipelines/base.py:1123: UserWarning: You seem to be using the pipelines sequentially on GPU. In order to maximize efficiency please use a dataset\n",
      "  warnings.warn(\n"
     ]
    },
    {
     "name": "stdout",
     "output_type": "stream",
     "text": [
      "model 4 --- "
     ]
    },
    {
     "name": "stderr",
     "output_type": "stream",
     "text": [
      "/home/oruma001/envs/cs834_project/lib/python3.10/site-packages/transformers/pipelines/base.py:1123: UserWarning: You seem to be using the pipelines sequentially on GPU. In order to maximize efficiency please use a dataset\n",
      "  warnings.warn(\n"
     ]
    },
    {
     "name": "stdout",
     "output_type": "stream",
     "text": [
      "model 5 ---\n",
      "                                                text m1_label  m1_score  \\\n",
      "0  For the pre-training objective, we use forward...  neutral  0.998856   \n",
      "1  • Official codes distributed from the paper [2...  neutral  0.999004   \n",
      "2  Hence, we are inclined to propose a generic al...  neutral  0.998971   \n",
      "3  By minimizing this optimization objective afte...  neutral  0.998744   \n",
      "4  We follow the previous work [19] to use the co...  neutral  0.998899   \n",
      "\n",
      "   m2_label  m2_score  m3_label  m3_score m4_label  m4_score  m5_label  \\\n",
      "0  positive  0.966676  positive  0.501704  neutral  0.620718   neutral   \n",
      "1   neutral  0.997860   neutral  0.974760  neutral  0.957636   neutral   \n",
      "2   neutral  0.996911   neutral  0.955815  neutral  0.763671   neutral   \n",
      "3  positive  0.884990   neutral  0.844602  neutral  0.495213  negative   \n",
      "4   neutral  0.988666   neutral  0.955043  neutral  0.646077   neutral   \n",
      "\n",
      "   m5_score majority_vote  \n",
      "0  0.436924       neutral  \n",
      "1  0.802007       neutral  \n",
      "2  0.566029       neutral  \n",
      "3  0.598249       neutral  \n",
      "4  0.447521       neutral  \n",
      "sentiment_analysis/inferences_from_all_5_models/RS_125_NeurIPS_2019_08.csv saved\n",
      "\n",
      "\n",
      "\n",
      "\n"
     ]
    },
    {
     "name": "stderr",
     "output_type": "stream",
     "text": [
      "/home/oruma001/envs/cs834_project/lib/python3.10/site-packages/transformers/pipelines/base.py:1123: UserWarning: You seem to be using the pipelines sequentially on GPU. In order to maximize efficiency please use a dataset\n",
      "  warnings.warn(\n"
     ]
    },
    {
     "name": "stdout",
     "output_type": "stream",
     "text": [
      "RS_120_NeurIPS_2019_03.csv - model 1 --- "
     ]
    },
    {
     "name": "stderr",
     "output_type": "stream",
     "text": [
      "/home/oruma001/envs/cs834_project/lib/python3.10/site-packages/transformers/pipelines/base.py:1123: UserWarning: You seem to be using the pipelines sequentially on GPU. In order to maximize efficiency please use a dataset\n",
      "  warnings.warn(\n"
     ]
    },
    {
     "name": "stdout",
     "output_type": "stream",
     "text": [
      "model 2 --- "
     ]
    },
    {
     "name": "stderr",
     "output_type": "stream",
     "text": [
      "/home/oruma001/envs/cs834_project/lib/python3.10/site-packages/transformers/pipelines/base.py:1123: UserWarning: You seem to be using the pipelines sequentially on GPU. In order to maximize efficiency please use a dataset\n",
      "  warnings.warn(\n"
     ]
    },
    {
     "name": "stdout",
     "output_type": "stream",
     "text": [
      "model 3 --- "
     ]
    },
    {
     "name": "stderr",
     "output_type": "stream",
     "text": [
      "/home/oruma001/envs/cs834_project/lib/python3.10/site-packages/transformers/pipelines/base.py:1123: UserWarning: You seem to be using the pipelines sequentially on GPU. In order to maximize efficiency please use a dataset\n",
      "  warnings.warn(\n"
     ]
    },
    {
     "name": "stdout",
     "output_type": "stream",
     "text": [
      "model 4 --- "
     ]
    },
    {
     "name": "stderr",
     "output_type": "stream",
     "text": [
      "/home/oruma001/envs/cs834_project/lib/python3.10/site-packages/transformers/pipelines/base.py:1123: UserWarning: You seem to be using the pipelines sequentially on GPU. In order to maximize efficiency please use a dataset\n",
      "  warnings.warn(\n"
     ]
    },
    {
     "name": "stdout",
     "output_type": "stream",
     "text": [
      "model 5 ---\n",
      "                                                text m1_label  m1_score  \\\n",
      "0  This loss can be justified as a lower bound on...  neutral  0.998706   \n",
      "1  We will exploit in this paper the connection b...  neutral  0.998981   \n",
      "2  Specifically, inspired by the connection betwe...  neutral  0.998856   \n",
      "3  In scorebased models [63, 64], ∇φ log pt(φ) is...  neutral  0.998836   \n",
      "4  Because the σ ( s ) has a 1:1 correspondence t...  neutral  0.998686   \n",
      "\n",
      "   m2_label  m2_score  m3_label  m3_score  m4_label  m4_score  m5_label  \\\n",
      "0   neutral  0.595756   neutral  0.825314   neutral  0.486397  negative   \n",
      "1  positive  0.945644  positive  0.838489  positive  0.766907   neutral   \n",
      "2   neutral  0.995534  positive  0.571016   neutral  0.685245   neutral   \n",
      "3   neutral  0.997459   neutral  0.975661   neutral  0.887957   neutral   \n",
      "4   neutral  0.997157   neutral  0.968450   neutral  0.877209   neutral   \n",
      "\n",
      "   m5_score majority_vote  \n",
      "0  0.604068       neutral  \n",
      "1  0.542567      positive  \n",
      "2  0.509467       neutral  \n",
      "3  0.577491       neutral  \n",
      "4  0.560871       neutral  \n",
      "sentiment_analysis/inferences_from_all_5_models/RS_120_NeurIPS_2019_03.csv saved\n",
      "\n",
      "\n",
      "\n",
      "\n"
     ]
    },
    {
     "name": "stderr",
     "output_type": "stream",
     "text": [
      "/home/oruma001/envs/cs834_project/lib/python3.10/site-packages/transformers/pipelines/base.py:1123: UserWarning: You seem to be using the pipelines sequentially on GPU. In order to maximize efficiency please use a dataset\n",
      "  warnings.warn(\n"
     ]
    },
    {
     "name": "stdout",
     "output_type": "stream",
     "text": [
      "RS_043_MLRC_2022_43.csv - model 1 --- model 2 --- "
     ]
    },
    {
     "name": "stderr",
     "output_type": "stream",
     "text": [
      "/home/oruma001/envs/cs834_project/lib/python3.10/site-packages/transformers/pipelines/base.py:1123: UserWarning: You seem to be using the pipelines sequentially on GPU. In order to maximize efficiency please use a dataset\n",
      "  warnings.warn(\n",
      "/home/oruma001/envs/cs834_project/lib/python3.10/site-packages/transformers/pipelines/base.py:1123: UserWarning: You seem to be using the pipelines sequentially on GPU. In order to maximize efficiency please use a dataset\n",
      "  warnings.warn(\n"
     ]
    },
    {
     "name": "stdout",
     "output_type": "stream",
     "text": [
      "model 3 --- "
     ]
    },
    {
     "name": "stderr",
     "output_type": "stream",
     "text": [
      "/home/oruma001/envs/cs834_project/lib/python3.10/site-packages/transformers/pipelines/base.py:1123: UserWarning: You seem to be using the pipelines sequentially on GPU. In order to maximize efficiency please use a dataset\n",
      "  warnings.warn(\n"
     ]
    },
    {
     "name": "stdout",
     "output_type": "stream",
     "text": [
      "model 4 --- model 5 ---\n",
      "                                                text  m1_label  m1_score  \\\n",
      "0  2) BC-BeT [62]: We implement and run a state-o...   neutral  0.998957   \n",
      "1  We see that BC-BeT is unable to complete any o...  negative  0.993307   \n",
      "2  Inspired by the recent cross-pollination of na...   neutral  0.998761   \n",
      "3  Prior work has leveraged these ideas in simila...   neutral  0.998742   \n",
      "4  Following prior work (Dadashi et al., 2021; Sh...   neutral  0.999027   \n",
      "\n",
      "   m2_label  m2_score  m3_label  m3_score  m4_label  m4_score  m5_label  \\\n",
      "0   neutral  0.996018   neutral  0.963863   neutral  0.923192   neutral   \n",
      "1  negative  0.979610  negative  0.956793  negative  0.916196  negative   \n",
      "2   neutral  0.981397   neutral  0.809044   neutral  0.825586   neutral   \n",
      "3   neutral  0.995786   neutral  0.726961   neutral  0.844072   neutral   \n",
      "4   neutral  0.997264   neutral  0.965923   neutral  0.905529   neutral   \n",
      "\n",
      "   m5_score majority_vote  \n",
      "0  0.563408       neutral  \n",
      "1  0.938817      negative  \n",
      "2  0.473158       neutral  \n",
      "3  0.438027       neutral  \n",
      "4  0.673372       neutral  \n",
      "sentiment_analysis/inferences_from_all_5_models/RS_043_MLRC_2022_43.csv saved\n",
      "\n",
      "\n",
      "\n",
      "\n"
     ]
    },
    {
     "name": "stderr",
     "output_type": "stream",
     "text": [
      "/home/oruma001/envs/cs834_project/lib/python3.10/site-packages/transformers/pipelines/base.py:1123: UserWarning: You seem to be using the pipelines sequentially on GPU. In order to maximize efficiency please use a dataset\n",
      "  warnings.warn(\n",
      "/home/oruma001/envs/cs834_project/lib/python3.10/site-packages/transformers/pipelines/base.py:1123: UserWarning: You seem to be using the pipelines sequentially on GPU. In order to maximize efficiency please use a dataset\n",
      "  warnings.warn(\n"
     ]
    },
    {
     "name": "stdout",
     "output_type": "stream",
     "text": [
      "RS_091_MLRC_2021_46.csv - model 1 --- "
     ]
    },
    {
     "name": "stderr",
     "output_type": "stream",
     "text": [
      "/home/oruma001/envs/cs834_project/lib/python3.10/site-packages/transformers/pipelines/base.py:1123: UserWarning: You seem to be using the pipelines sequentially on GPU. In order to maximize efficiency please use a dataset\n",
      "  warnings.warn(\n"
     ]
    },
    {
     "name": "stdout",
     "output_type": "stream",
     "text": [
      "model 2 --- "
     ]
    },
    {
     "name": "stderr",
     "output_type": "stream",
     "text": [
      "/home/oruma001/envs/cs834_project/lib/python3.10/site-packages/transformers/pipelines/base.py:1123: UserWarning: You seem to be using the pipelines sequentially on GPU. In order to maximize efficiency please use a dataset\n",
      "  warnings.warn(\n"
     ]
    },
    {
     "name": "stdout",
     "output_type": "stream",
     "text": [
      "model 3 --- "
     ]
    },
    {
     "name": "stderr",
     "output_type": "stream",
     "text": [
      "/home/oruma001/envs/cs834_project/lib/python3.10/site-packages/transformers/pipelines/base.py:1123: UserWarning: You seem to be using the pipelines sequentially on GPU. In order to maximize efficiency please use a dataset\n",
      "  warnings.warn(\n"
     ]
    },
    {
     "name": "stdout",
     "output_type": "stream",
     "text": [
      "model 4 --- "
     ]
    },
    {
     "name": "stderr",
     "output_type": "stream",
     "text": [
      "/home/oruma001/envs/cs834_project/lib/python3.10/site-packages/transformers/pipelines/base.py:1123: UserWarning: You seem to be using the pipelines sequentially on GPU. In order to maximize efficiency please use a dataset\n",
      "  warnings.warn(\n"
     ]
    },
    {
     "name": "stdout",
     "output_type": "stream",
     "text": [
      "model 5 ---\n",
      "                                                text m1_label  m1_score  \\\n",
      "0  , [Pan et al. 2022, 2021; Shi et al. 2021]) wh...  neutral  0.999080   \n",
      "1  We compare our method with ShadeGAN [Pan et al...  neutral  0.998855   \n",
      "2  We also quantitatively compare texture and ren...  neutral  0.998785   \n",
      "3  • Identity consistency (ID): As in [6, 7, 31, ...  neutral  0.998851   \n",
      "4  For depth consistency, following previous work...  neutral  0.998797   \n",
      "\n",
      "  m2_label  m2_score m3_label  m3_score m4_label  m4_score  m5_label  \\\n",
      "0  neutral  0.997861  neutral  0.942044  neutral  0.896692  negative   \n",
      "1  neutral  0.992391  neutral  0.958799  neutral  0.849675   neutral   \n",
      "2  neutral  0.997470  neutral  0.948708  neutral  0.887011   neutral   \n",
      "3  neutral  0.996254  neutral  0.957861  neutral  0.862680   neutral   \n",
      "4  neutral  0.882174  neutral  0.965760  neutral  0.908730   neutral   \n",
      "\n",
      "   m5_score majority_vote  \n",
      "0  0.573848       neutral  \n",
      "1  0.657216       neutral  \n",
      "2  0.597415       neutral  \n",
      "3  0.595541       neutral  \n",
      "4  0.591614       neutral  \n",
      "sentiment_analysis/inferences_from_all_5_models/RS_091_MLRC_2021_46.csv saved\n",
      "\n",
      "\n",
      "\n",
      "\n",
      "RS_023_MLRC_2022_23.csv - model 1 --- model 2 --- "
     ]
    },
    {
     "name": "stderr",
     "output_type": "stream",
     "text": [
      "/home/oruma001/envs/cs834_project/lib/python3.10/site-packages/transformers/pipelines/base.py:1123: UserWarning: You seem to be using the pipelines sequentially on GPU. In order to maximize efficiency please use a dataset\n",
      "  warnings.warn(\n",
      "/home/oruma001/envs/cs834_project/lib/python3.10/site-packages/transformers/pipelines/base.py:1123: UserWarning: You seem to be using the pipelines sequentially on GPU. In order to maximize efficiency please use a dataset\n",
      "  warnings.warn(\n",
      "/home/oruma001/envs/cs834_project/lib/python3.10/site-packages/transformers/pipelines/base.py:1123: UserWarning: You seem to be using the pipelines sequentially on GPU. In order to maximize efficiency please use a dataset\n",
      "  warnings.warn(\n"
     ]
    },
    {
     "name": "stdout",
     "output_type": "stream",
     "text": [
      "model 3 --- model 4 --- model 5 ---\n",
      "                                                text m1_label  m1_score  \\\n",
      "0  Given that CGD aims to improve multi-task lear...  neutral  0.998606   \n",
      "1  The performance of the recent general multitas...  neutral  0.998823   \n",
      "2  To be same as previous works [42], [63] and WI...  neutral  0.999096   \n",
      "3  We denote this metric as “Wg Acc”, which is a ...  neutral  0.998738   \n",
      "4  To be consistent with existing works [33, 56, ...  neutral  0.998938   \n",
      "\n",
      "   m2_label  m2_score  m3_label  m3_score  m4_label  m4_score  m5_label  \\\n",
      "0  positive  0.788640  positive  0.571189  positive  0.640172  negative   \n",
      "1   neutral  0.994208   neutral  0.898701   neutral  0.826983   neutral   \n",
      "2   neutral  0.997663   neutral  0.967726   neutral  0.864310   neutral   \n",
      "3   neutral  0.994615   neutral  0.965321   neutral  0.860022   neutral   \n",
      "4   neutral  0.997462   neutral  0.927857   neutral  0.826095   neutral   \n",
      "\n",
      "   m5_score majority_vote  \n",
      "0  0.417039      positive  \n",
      "1  0.491304       neutral  \n",
      "2  0.541540       neutral  \n",
      "3  0.615632       neutral  \n",
      "4  0.464144       neutral  \n",
      "sentiment_analysis/inferences_from_all_5_models/RS_023_MLRC_2022_23.csv saved\n",
      "\n",
      "\n",
      "\n",
      "\n"
     ]
    },
    {
     "name": "stderr",
     "output_type": "stream",
     "text": [
      "/home/oruma001/envs/cs834_project/lib/python3.10/site-packages/transformers/pipelines/base.py:1123: UserWarning: You seem to be using the pipelines sequentially on GPU. In order to maximize efficiency please use a dataset\n",
      "  warnings.warn(\n",
      "/home/oruma001/envs/cs834_project/lib/python3.10/site-packages/transformers/pipelines/base.py:1123: UserWarning: You seem to be using the pipelines sequentially on GPU. In order to maximize efficiency please use a dataset\n",
      "  warnings.warn(\n",
      "/home/oruma001/envs/cs834_project/lib/python3.10/site-packages/transformers/pipelines/base.py:1123: UserWarning: You seem to be using the pipelines sequentially on GPU. In order to maximize efficiency please use a dataset\n",
      "  warnings.warn(\n"
     ]
    },
    {
     "name": "stdout",
     "output_type": "stream",
     "text": [
      "RS_071_MLRC_2021_26.csv - model 1 --- model 2 --- model 3 --- "
     ]
    },
    {
     "name": "stderr",
     "output_type": "stream",
     "text": [
      "/home/oruma001/envs/cs834_project/lib/python3.10/site-packages/transformers/pipelines/base.py:1123: UserWarning: You seem to be using the pipelines sequentially on GPU. In order to maximize efficiency please use a dataset\n",
      "  warnings.warn(\n",
      "/home/oruma001/envs/cs834_project/lib/python3.10/site-packages/transformers/pipelines/base.py:1123: UserWarning: You seem to be using the pipelines sequentially on GPU. In order to maximize efficiency please use a dataset\n",
      "  warnings.warn(\n",
      "/home/oruma001/envs/cs834_project/lib/python3.10/site-packages/transformers/pipelines/base.py:1123: UserWarning: You seem to be using the pipelines sequentially on GPU. In order to maximize efficiency please use a dataset\n",
      "  warnings.warn(\n"
     ]
    },
    {
     "name": "stdout",
     "output_type": "stream",
     "text": [
      "model 4 --- model 5 ---\n",
      "                                                text m1_label  m1_score  \\\n",
      "0  Here, we compare our model with four of the la...  neutral  0.998960   \n",
      "1  Instead of using fixed sources of regional inf...  neutral  0.998754   \n",
      "2  The achievements of our method and BANA sugges...  neutral  0.997440   \n",
      "3  The pseudo-mask results from BANA and our mode...  neutral  0.997199   \n",
      "4  Furthermore, a WSSS method using bounding box ...  neutral  0.999055   \n",
      "\n",
      "   m2_label  m2_score  m3_label  m3_score  m4_label  m4_score  m5_label  \\\n",
      "0   neutral  0.996737   neutral  0.953091   neutral  0.905225   neutral   \n",
      "1   neutral  0.997167   neutral  0.912681   neutral  0.930063   neutral   \n",
      "2  positive  0.850827  positive  0.973058  positive  0.894167  positive   \n",
      "3   neutral  0.742320  positive  0.709228   neutral  0.581126  negative   \n",
      "4   neutral  0.997457   neutral  0.968000   neutral  0.682680   neutral   \n",
      "\n",
      "   m5_score majority_vote  \n",
      "0  0.703884       neutral  \n",
      "1  0.525996       neutral  \n",
      "2  0.678976      positive  \n",
      "3  0.871924       neutral  \n",
      "4  0.478493       neutral  \n",
      "sentiment_analysis/inferences_from_all_5_models/RS_071_MLRC_2021_26.csv saved\n",
      "\n",
      "\n",
      "\n",
      "\n"
     ]
    },
    {
     "name": "stderr",
     "output_type": "stream",
     "text": [
      "/home/oruma001/envs/cs834_project/lib/python3.10/site-packages/transformers/pipelines/base.py:1123: UserWarning: You seem to be using the pipelines sequentially on GPU. In order to maximize efficiency please use a dataset\n",
      "  warnings.warn(\n",
      "/home/oruma001/envs/cs834_project/lib/python3.10/site-packages/transformers/pipelines/base.py:1123: UserWarning: You seem to be using the pipelines sequentially on GPU. In order to maximize efficiency please use a dataset\n",
      "  warnings.warn(\n"
     ]
    },
    {
     "name": "stdout",
     "output_type": "stream",
     "text": [
      "RS_090_MLRC_2021_45.csv - model 1 --- model 2 --- "
     ]
    },
    {
     "name": "stderr",
     "output_type": "stream",
     "text": [
      "/home/oruma001/envs/cs834_project/lib/python3.10/site-packages/transformers/pipelines/base.py:1123: UserWarning: You seem to be using the pipelines sequentially on GPU. In order to maximize efficiency please use a dataset\n",
      "  warnings.warn(\n",
      "/home/oruma001/envs/cs834_project/lib/python3.10/site-packages/transformers/pipelines/base.py:1123: UserWarning: You seem to be using the pipelines sequentially on GPU. In order to maximize efficiency please use a dataset\n",
      "  warnings.warn(\n"
     ]
    },
    {
     "name": "stdout",
     "output_type": "stream",
     "text": [
      "model 3 --- "
     ]
    },
    {
     "name": "stderr",
     "output_type": "stream",
     "text": [
      "/home/oruma001/envs/cs834_project/lib/python3.10/site-packages/transformers/pipelines/base.py:1123: UserWarning: You seem to be using the pipelines sequentially on GPU. In order to maximize efficiency please use a dataset\n",
      "  warnings.warn(\n"
     ]
    },
    {
     "name": "stdout",
     "output_type": "stream",
     "text": [
      "model 4 --- model 5 ---\n",
      "                                                text m1_label  m1_score  \\\n",
      "0  com/chrisjtan/gnn_cff RCExplainer [6] https://...  neutral  0.999138   \n",
      "1  Overall, RCExplainer performs best in terms of...  neutral  0.998890   \n",
      "2  We also consider generative methods: PGExplain...  neutral  0.998945   \n",
      "3  We observe that a random edge modification rem...  neutral  0.996449   \n",
      "4  We also observe that RCExplainer and PGExplain...  neutral  0.998374   \n",
      "\n",
      "   m2_label  m2_score  m3_label  m3_score  m4_label  m4_score  m5_label  \\\n",
      "0  negative  0.917482   neutral  0.964496   neutral  0.949034   neutral   \n",
      "1  positive  0.968091  positive  0.892548  positive  0.845483  positive   \n",
      "2   neutral  0.997733   neutral  0.957331   neutral  0.897843   neutral   \n",
      "3   neutral  0.994630   neutral  0.830274   neutral  0.818427  negative   \n",
      "4   neutral  0.994943   neutral  0.892068   neutral  0.534004  negative   \n",
      "\n",
      "   m5_score majority_vote  \n",
      "0  0.796837       neutral  \n",
      "1  0.756311      positive  \n",
      "2  0.678650       neutral  \n",
      "3  0.594152       neutral  \n",
      "4  0.398557       neutral  \n",
      "sentiment_analysis/inferences_from_all_5_models/RS_090_MLRC_2021_45.csv saved\n",
      "\n",
      "\n",
      "\n",
      "\n"
     ]
    },
    {
     "name": "stderr",
     "output_type": "stream",
     "text": [
      "/home/oruma001/envs/cs834_project/lib/python3.10/site-packages/transformers/pipelines/base.py:1123: UserWarning: You seem to be using the pipelines sequentially on GPU. In order to maximize efficiency please use a dataset\n",
      "  warnings.warn(\n",
      "/home/oruma001/envs/cs834_project/lib/python3.10/site-packages/transformers/pipelines/base.py:1123: UserWarning: You seem to be using the pipelines sequentially on GPU. In order to maximize efficiency please use a dataset\n",
      "  warnings.warn(\n"
     ]
    },
    {
     "name": "stdout",
     "output_type": "stream",
     "text": [
      "RS_124_NeurIPS_2019_07.csv - model 1 --- "
     ]
    },
    {
     "name": "stderr",
     "output_type": "stream",
     "text": [
      "/home/oruma001/envs/cs834_project/lib/python3.10/site-packages/transformers/pipelines/base.py:1123: UserWarning: You seem to be using the pipelines sequentially on GPU. In order to maximize efficiency please use a dataset\n",
      "  warnings.warn(\n"
     ]
    },
    {
     "name": "stdout",
     "output_type": "stream",
     "text": [
      "model 2 --- "
     ]
    },
    {
     "name": "stderr",
     "output_type": "stream",
     "text": [
      "/home/oruma001/envs/cs834_project/lib/python3.10/site-packages/transformers/pipelines/base.py:1123: UserWarning: You seem to be using the pipelines sequentially on GPU. In order to maximize efficiency please use a dataset\n",
      "  warnings.warn(\n"
     ]
    },
    {
     "name": "stdout",
     "output_type": "stream",
     "text": [
      "model 3 --- "
     ]
    },
    {
     "name": "stderr",
     "output_type": "stream",
     "text": [
      "/home/oruma001/envs/cs834_project/lib/python3.10/site-packages/transformers/pipelines/base.py:1123: UserWarning: You seem to be using the pipelines sequentially on GPU. In order to maximize efficiency please use a dataset\n",
      "  warnings.warn(\n"
     ]
    },
    {
     "name": "stdout",
     "output_type": "stream",
     "text": [
      "model 4 --- "
     ]
    },
    {
     "name": "stderr",
     "output_type": "stream",
     "text": [
      "/home/oruma001/envs/cs834_project/lib/python3.10/site-packages/transformers/pipelines/base.py:1123: UserWarning: You seem to be using the pipelines sequentially on GPU. In order to maximize efficiency please use a dataset\n",
      "  warnings.warn(\n"
     ]
    },
    {
     "name": "stdout",
     "output_type": "stream",
     "text": [
      "model 5 ---\n",
      "                                                text m1_label  m1_score  \\\n",
      "0  As exhibited in Table 2 , we compare the propo...  neutral  0.999010   \n",
      "1  Comparison of DFKD methods\\nAs exhibited in Ta...  neutral  0.999097   \n",
      "2  DFKD methods incline to exploit a generator to...  neutral  0.999012   \n",
      "3  Given the aforementioned context, we present a...  neutral  0.998890   \n",
      "4  Compared Methods: We compare our proposed KD(3...  neutral  0.998945   \n",
      "\n",
      "  m2_label  m2_score m3_label  m3_score m4_label  m4_score  m5_label  \\\n",
      "0  neutral  0.997585  neutral  0.914541  neutral  0.870178   neutral   \n",
      "1  neutral  0.996999  neutral  0.933207  neutral  0.843098   neutral   \n",
      "2  neutral  0.997593  neutral  0.918957  neutral  0.780862  negative   \n",
      "3  neutral  0.994285  neutral  0.955039  neutral  0.926728   neutral   \n",
      "4  neutral  0.997856  neutral  0.959729  neutral  0.763800   neutral   \n",
      "\n",
      "   m5_score majority_vote  \n",
      "0  0.625730       neutral  \n",
      "1  0.680051       neutral  \n",
      "2  0.886433       neutral  \n",
      "3  0.535015       neutral  \n",
      "4  0.610791       neutral  \n",
      "sentiment_analysis/inferences_from_all_5_models/RS_124_NeurIPS_2019_07.csv saved\n",
      "\n",
      "\n",
      "\n",
      "\n"
     ]
    },
    {
     "name": "stderr",
     "output_type": "stream",
     "text": [
      "/home/oruma001/envs/cs834_project/lib/python3.10/site-packages/transformers/pipelines/base.py:1123: UserWarning: You seem to be using the pipelines sequentially on GPU. In order to maximize efficiency please use a dataset\n",
      "  warnings.warn(\n"
     ]
    },
    {
     "name": "stdout",
     "output_type": "stream",
     "text": [
      "RS_095_MLRC_2020_02.csv - model 1 --- "
     ]
    },
    {
     "name": "stderr",
     "output_type": "stream",
     "text": [
      "/home/oruma001/envs/cs834_project/lib/python3.10/site-packages/transformers/pipelines/base.py:1123: UserWarning: You seem to be using the pipelines sequentially on GPU. In order to maximize efficiency please use a dataset\n",
      "  warnings.warn(\n"
     ]
    },
    {
     "name": "stdout",
     "output_type": "stream",
     "text": [
      "model 2 --- "
     ]
    },
    {
     "name": "stderr",
     "output_type": "stream",
     "text": [
      "/home/oruma001/envs/cs834_project/lib/python3.10/site-packages/transformers/pipelines/base.py:1123: UserWarning: You seem to be using the pipelines sequentially on GPU. In order to maximize efficiency please use a dataset\n",
      "  warnings.warn(\n"
     ]
    },
    {
     "name": "stdout",
     "output_type": "stream",
     "text": [
      "model 3 --- "
     ]
    },
    {
     "name": "stderr",
     "output_type": "stream",
     "text": [
      "/home/oruma001/envs/cs834_project/lib/python3.10/site-packages/transformers/pipelines/base.py:1123: UserWarning: You seem to be using the pipelines sequentially on GPU. In order to maximize efficiency please use a dataset\n",
      "  warnings.warn(\n"
     ]
    },
    {
     "name": "stdout",
     "output_type": "stream",
     "text": [
      "model 4 --- "
     ]
    },
    {
     "name": "stderr",
     "output_type": "stream",
     "text": [
      "/home/oruma001/envs/cs834_project/lib/python3.10/site-packages/transformers/pipelines/base.py:1123: UserWarning: You seem to be using the pipelines sequentially on GPU. In order to maximize efficiency please use a dataset\n",
      "  warnings.warn(\n"
     ]
    },
    {
     "name": "stdout",
     "output_type": "stream",
     "text": [
      "model 5 ---\n",
      "                                                text m1_label  m1_score  \\\n",
      "0  Nevertheless, to the best of our knowledge, al...  neutral  0.998856   \n",
      "1  We also compare our loss function with the sta...  neutral  0.998951   \n",
      "2  Note that BPnP [6] does not fully constrain th...  neutral  0.998800   \n",
      "3  We also design a unique training scheme for th...  neutral  0.998976   \n",
      "4  We employ reprojection error as loss function ...  neutral  0.998932   \n",
      "\n",
      "  m2_label  m2_score m3_label  m3_score m4_label  m4_score  m5_label  \\\n",
      "0  neutral  0.975749  neutral  0.800174  neutral  0.753994   neutral   \n",
      "1  neutral  0.975365  neutral  0.945131  neutral  0.834758   neutral   \n",
      "2  neutral  0.969600  neutral  0.847715  neutral  0.829639   neutral   \n",
      "3  neutral  0.995475  neutral  0.929287  neutral  0.751065   neutral   \n",
      "4  neutral  0.948773  neutral  0.914429  neutral  0.493110  negative   \n",
      "\n",
      "   m5_score majority_vote  \n",
      "0  0.457705       neutral  \n",
      "1  0.511351       neutral  \n",
      "2  0.614448       neutral  \n",
      "3  0.458579       neutral  \n",
      "4  0.631122       neutral  \n",
      "sentiment_analysis/inferences_from_all_5_models/RS_095_MLRC_2020_02.csv saved\n",
      "\n",
      "\n",
      "\n",
      "\n"
     ]
    },
    {
     "name": "stderr",
     "output_type": "stream",
     "text": [
      "/home/oruma001/envs/cs834_project/lib/python3.10/site-packages/transformers/pipelines/base.py:1123: UserWarning: You seem to be using the pipelines sequentially on GPU. In order to maximize efficiency please use a dataset\n",
      "  warnings.warn(\n"
     ]
    },
    {
     "name": "stdout",
     "output_type": "stream",
     "text": [
      "RS_132_ICLR_2019_04.csv - model 1 --- model 2 --- "
     ]
    },
    {
     "name": "stderr",
     "output_type": "stream",
     "text": [
      "/home/oruma001/envs/cs834_project/lib/python3.10/site-packages/transformers/pipelines/base.py:1123: UserWarning: You seem to be using the pipelines sequentially on GPU. In order to maximize efficiency please use a dataset\n",
      "  warnings.warn(\n",
      "/home/oruma001/envs/cs834_project/lib/python3.10/site-packages/transformers/pipelines/base.py:1123: UserWarning: You seem to be using the pipelines sequentially on GPU. In order to maximize efficiency please use a dataset\n",
      "  warnings.warn(\n"
     ]
    },
    {
     "name": "stdout",
     "output_type": "stream",
     "text": [
      "model 3 --- model 4 --- "
     ]
    },
    {
     "name": "stderr",
     "output_type": "stream",
     "text": [
      "/home/oruma001/envs/cs834_project/lib/python3.10/site-packages/transformers/pipelines/base.py:1123: UserWarning: You seem to be using the pipelines sequentially on GPU. In order to maximize efficiency please use a dataset\n",
      "  warnings.warn(\n",
      "/home/oruma001/envs/cs834_project/lib/python3.10/site-packages/transformers/pipelines/base.py:1123: UserWarning: You seem to be using the pipelines sequentially on GPU. In order to maximize efficiency please use a dataset\n",
      "  warnings.warn(\n"
     ]
    },
    {
     "name": "stdout",
     "output_type": "stream",
     "text": [
      "model 5 ---\n",
      "                                                text m1_label  m1_score  \\\n",
      "0  Using, for example, the special activation fun...  neutral  0.998773   \n",
      "1  The other multilevel solver that we tried is a...  neutral  0.998980   \n",
      "2  As we pointed in Section VI, we cannot be sure...  neutral  0.758686   \n",
      "3  Given that, the whole scheme from [17] is a ge...  neutral  0.998675   \n",
      "4  As suggested in [Hsieh et al., 2019], we also ...  neutral  0.999120   \n",
      "\n",
      "   m2_label  m2_score  m3_label  m3_score m4_label  m4_score  m5_label  \\\n",
      "0   neutral  0.985329   neutral  0.964377  neutral  0.867325  negative   \n",
      "1   neutral  0.996365   neutral  0.937141  neutral  0.919076   neutral   \n",
      "2  negative  0.684150  negative  0.643344  neutral  0.571430  negative   \n",
      "3   neutral  0.995661   neutral  0.965757  neutral  0.864480   neutral   \n",
      "4   neutral  0.996327   neutral  0.897384  neutral  0.784619  negative   \n",
      "\n",
      "   m5_score majority_vote  \n",
      "0  0.462428       neutral  \n",
      "1  0.585718       neutral  \n",
      "2  0.527520      negative  \n",
      "3  0.501037       neutral  \n",
      "4  0.480897       neutral  \n",
      "sentiment_analysis/inferences_from_all_5_models/RS_132_ICLR_2019_04.csv saved\n",
      "\n",
      "\n",
      "\n",
      "\n"
     ]
    },
    {
     "name": "stderr",
     "output_type": "stream",
     "text": [
      "/home/oruma001/envs/cs834_project/lib/python3.10/site-packages/transformers/pipelines/base.py:1123: UserWarning: You seem to be using the pipelines sequentially on GPU. In order to maximize efficiency please use a dataset\n",
      "  warnings.warn(\n"
     ]
    },
    {
     "name": "stdout",
     "output_type": "stream",
     "text": [
      "RS_110_MLRC_2020_17.csv - model 1 --- model 2 --- "
     ]
    },
    {
     "name": "stderr",
     "output_type": "stream",
     "text": [
      "/home/oruma001/envs/cs834_project/lib/python3.10/site-packages/transformers/pipelines/base.py:1123: UserWarning: You seem to be using the pipelines sequentially on GPU. In order to maximize efficiency please use a dataset\n",
      "  warnings.warn(\n",
      "/home/oruma001/envs/cs834_project/lib/python3.10/site-packages/transformers/pipelines/base.py:1123: UserWarning: You seem to be using the pipelines sequentially on GPU. In order to maximize efficiency please use a dataset\n",
      "  warnings.warn(\n"
     ]
    },
    {
     "name": "stdout",
     "output_type": "stream",
     "text": [
      "model 3 --- "
     ]
    },
    {
     "name": "stderr",
     "output_type": "stream",
     "text": [
      "/home/oruma001/envs/cs834_project/lib/python3.10/site-packages/transformers/pipelines/base.py:1123: UserWarning: You seem to be using the pipelines sequentially on GPU. In order to maximize efficiency please use a dataset\n",
      "  warnings.warn(\n"
     ]
    },
    {
     "name": "stdout",
     "output_type": "stream",
     "text": [
      "model 4 --- model 5 ---\n",
      "                                                text m1_label  m1_score  \\\n",
      "0  We create synthetic data to evaluate model per...  neutral  0.998812   \n",
      "1  Our discussion of the range of potential u-tas...  neutral  0.998790   \n",
      "2  4.1 Synthetic Data\\nWe create synthetic data t...  neutral  0.998823   \n",
      "3  …the parameters are not identifiable), while s...  neutral  0.998896   \n",
      "4  Here we bring together these ideas to demonstr...  neutral  0.998645   \n",
      "\n",
      "  m2_label  m2_score m3_label  m3_score m4_label  m4_score  m5_label  \\\n",
      "0  neutral  0.997452  neutral  0.964106  neutral  0.829091   neutral   \n",
      "1  neutral  0.996499  neutral  0.956441  neutral  0.795793   neutral   \n",
      "2  neutral  0.997040  neutral  0.965969  neutral  0.837124   neutral   \n",
      "3  neutral  0.997661  neutral  0.910539  neutral  0.894444   neutral   \n",
      "4  neutral  0.996396  neutral  0.691061  neutral  0.764442  positive   \n",
      "\n",
      "   m5_score majority_vote  \n",
      "0  0.537353       neutral  \n",
      "1  0.466680       neutral  \n",
      "2  0.510257       neutral  \n",
      "3  0.604693       neutral  \n",
      "4  0.555087       neutral  \n",
      "sentiment_analysis/inferences_from_all_5_models/RS_110_MLRC_2020_17.csv saved\n",
      "\n",
      "\n",
      "\n",
      "\n"
     ]
    },
    {
     "name": "stderr",
     "output_type": "stream",
     "text": [
      "/home/oruma001/envs/cs834_project/lib/python3.10/site-packages/transformers/pipelines/base.py:1123: UserWarning: You seem to be using the pipelines sequentially on GPU. In order to maximize efficiency please use a dataset\n",
      "  warnings.warn(\n",
      "/home/oruma001/envs/cs834_project/lib/python3.10/site-packages/transformers/pipelines/base.py:1123: UserWarning: You seem to be using the pipelines sequentially on GPU. In order to maximize efficiency please use a dataset\n",
      "  warnings.warn(\n"
     ]
    },
    {
     "name": "stdout",
     "output_type": "stream",
     "text": [
      "RS_021_MLRC_2022_21.csv - model 1 --- model 2 --- model 3 --- "
     ]
    },
    {
     "name": "stderr",
     "output_type": "stream",
     "text": [
      "/home/oruma001/envs/cs834_project/lib/python3.10/site-packages/transformers/pipelines/base.py:1123: UserWarning: You seem to be using the pipelines sequentially on GPU. In order to maximize efficiency please use a dataset\n",
      "  warnings.warn(\n",
      "/home/oruma001/envs/cs834_project/lib/python3.10/site-packages/transformers/pipelines/base.py:1123: UserWarning: You seem to be using the pipelines sequentially on GPU. In order to maximize efficiency please use a dataset\n",
      "  warnings.warn(\n",
      "/home/oruma001/envs/cs834_project/lib/python3.10/site-packages/transformers/pipelines/base.py:1123: UserWarning: You seem to be using the pipelines sequentially on GPU. In order to maximize efficiency please use a dataset\n",
      "  warnings.warn(\n"
     ]
    },
    {
     "name": "stdout",
     "output_type": "stream",
     "text": [
      "model 4 --- model 5 ---\n",
      "                                                text m1_label  m1_score  \\\n",
      "0  We noticed an inconsistency in LIC [17], when ...  neutral  0.999183   \n",
      "1  We chose T5-generation and Merged as it well b...  neutral  0.998738   \n",
      "2  Given y ∈ Dg, FPG instantiated by first maskin...  neutral  0.998947   \n",
      "3  First, based on the observations in previous w...  neutral  0.998662   \n",
      "4  Bias metrics We mainly rely on three metrics t...  neutral  0.998864   \n",
      "\n",
      "   m2_label  m2_score m3_label  m3_score m4_label  m4_score  m5_label  \\\n",
      "0   neutral  0.969009  neutral  0.800683  neutral  0.590080   neutral   \n",
      "1   neutral  0.775910  neutral  0.661553  neutral  0.632498  negative   \n",
      "2   neutral  0.994216  neutral  0.967841  neutral  0.932529   neutral   \n",
      "3  negative  0.876526  neutral  0.946692  neutral  0.614815  negative   \n",
      "4   neutral  0.995701  neutral  0.932901  neutral  0.792337  negative   \n",
      "\n",
      "   m5_score majority_vote  \n",
      "0  0.455172       neutral  \n",
      "1  0.825147       neutral  \n",
      "2  0.492489       neutral  \n",
      "3  0.428513       neutral  \n",
      "4  0.718447       neutral  \n",
      "sentiment_analysis/inferences_from_all_5_models/RS_021_MLRC_2022_21.csv saved\n",
      "\n",
      "\n",
      "\n",
      "\n",
      "RS_149_ICDAR_2018_16.csv - model 1 --- model 2 --- model 3 --- model 4 --- model 5 ---\n",
      "                                                text  m1_label  m1_score  \\\n",
      "0  The source codes of 6 papers were not executab...  negative  0.963882   \n",
      "\n",
      "  m2_label  m2_score  m3_label  m3_score m4_label  m4_score  m5_label  \\\n",
      "0  neutral  0.997458  negative  0.874491  neutral  0.797379  negative   \n",
      "\n",
      "   m5_score majority_vote  \n",
      "0  0.583812      negative  \n",
      "sentiment_analysis/inferences_from_all_5_models/RS_149_ICDAR_2018_16.csv saved\n",
      "\n",
      "\n",
      "\n",
      "\n"
     ]
    },
    {
     "name": "stderr",
     "output_type": "stream",
     "text": [
      "/home/oruma001/envs/cs834_project/lib/python3.10/site-packages/transformers/pipelines/base.py:1123: UserWarning: You seem to be using the pipelines sequentially on GPU. In order to maximize efficiency please use a dataset\n",
      "  warnings.warn(\n",
      "/home/oruma001/envs/cs834_project/lib/python3.10/site-packages/transformers/pipelines/base.py:1123: UserWarning: You seem to be using the pipelines sequentially on GPU. In order to maximize efficiency please use a dataset\n",
      "  warnings.warn(\n",
      "/home/oruma001/envs/cs834_project/lib/python3.10/site-packages/transformers/pipelines/base.py:1123: UserWarning: You seem to be using the pipelines sequentially on GPU. In order to maximize efficiency please use a dataset\n",
      "  warnings.warn(\n",
      "/home/oruma001/envs/cs834_project/lib/python3.10/site-packages/transformers/pipelines/base.py:1123: UserWarning: You seem to be using the pipelines sequentially on GPU. In order to maximize efficiency please use a dataset\n",
      "  warnings.warn(\n",
      "/home/oruma001/envs/cs834_project/lib/python3.10/site-packages/transformers/pipelines/base.py:1123: UserWarning: You seem to be using the pipelines sequentially on GPU. In order to maximize efficiency please use a dataset\n",
      "  warnings.warn(\n",
      "/home/oruma001/envs/cs834_project/lib/python3.10/site-packages/transformers/pipelines/base.py:1123: UserWarning: You seem to be using the pipelines sequentially on GPU. In order to maximize efficiency please use a dataset\n",
      "  warnings.warn(\n",
      "/home/oruma001/envs/cs834_project/lib/python3.10/site-packages/transformers/pipelines/base.py:1123: UserWarning: You seem to be using the pipelines sequentially on GPU. In order to maximize efficiency please use a dataset\n",
      "  warnings.warn(\n"
     ]
    },
    {
     "name": "stdout",
     "output_type": "stream",
     "text": [
      "RS_112_MLRC_2020_19.csv - model 1 --- "
     ]
    },
    {
     "name": "stderr",
     "output_type": "stream",
     "text": [
      "/home/oruma001/envs/cs834_project/lib/python3.10/site-packages/transformers/pipelines/base.py:1123: UserWarning: You seem to be using the pipelines sequentially on GPU. In order to maximize efficiency please use a dataset\n",
      "  warnings.warn(\n"
     ]
    },
    {
     "name": "stdout",
     "output_type": "stream",
     "text": [
      "model 2 --- "
     ]
    },
    {
     "name": "stderr",
     "output_type": "stream",
     "text": [
      "/home/oruma001/envs/cs834_project/lib/python3.10/site-packages/transformers/pipelines/base.py:1123: UserWarning: You seem to be using the pipelines sequentially on GPU. In order to maximize efficiency please use a dataset\n",
      "  warnings.warn(\n"
     ]
    },
    {
     "name": "stdout",
     "output_type": "stream",
     "text": [
      "model 3 --- "
     ]
    },
    {
     "name": "stderr",
     "output_type": "stream",
     "text": [
      "/home/oruma001/envs/cs834_project/lib/python3.10/site-packages/transformers/pipelines/base.py:1123: UserWarning: You seem to be using the pipelines sequentially on GPU. In order to maximize efficiency please use a dataset\n",
      "  warnings.warn(\n"
     ]
    },
    {
     "name": "stdout",
     "output_type": "stream",
     "text": [
      "model 4 --- "
     ]
    },
    {
     "name": "stderr",
     "output_type": "stream",
     "text": [
      "/home/oruma001/envs/cs834_project/lib/python3.10/site-packages/transformers/pipelines/base.py:1123: UserWarning: You seem to be using the pipelines sequentially on GPU. In order to maximize efficiency please use a dataset\n",
      "  warnings.warn(\n"
     ]
    },
    {
     "name": "stdout",
     "output_type": "stream",
     "text": [
      "model 5 ---\n",
      "                                                text m1_label  m1_score  \\\n",
      "0  We retain the computational simplifications of...  neutral  0.998811   \n",
      "1  Unlike [2], we employ data-driven queries to p...  neutral  0.998662   \n",
      "2  The L-TAE’s parameters are kept to their defau...  neutral  0.998793   \n",
      "3  We use a dropout rate of 0.1 on the attention ...  neutral  0.998856   \n",
      "4  Contrary to previous work, we only use the L-T...  neutral  0.998361   \n",
      "\n",
      "  m2_label  m2_score m3_label  m3_score m4_label  m4_score  m5_label  \\\n",
      "0  neutral  0.991729  neutral  0.943643  neutral  0.869456   neutral   \n",
      "1  neutral  0.995747  neutral  0.905589  neutral  0.883568   neutral   \n",
      "2  neutral  0.997681  neutral  0.970786  neutral  0.903755   neutral   \n",
      "3  neutral  0.981586  neutral  0.970095  neutral  0.888775   neutral   \n",
      "4  neutral  0.997107  neutral  0.940554  neutral  0.850812  negative   \n",
      "\n",
      "   m5_score majority_vote  \n",
      "0  0.598243       neutral  \n",
      "1  0.466845       neutral  \n",
      "2  0.645607       neutral  \n",
      "3  0.512475       neutral  \n",
      "4  0.519871       neutral  \n",
      "sentiment_analysis/inferences_from_all_5_models/RS_112_MLRC_2020_19.csv saved\n",
      "\n",
      "\n",
      "\n",
      "\n",
      "12442\n"
     ]
    }
   ],
   "source": [
    "# all at once\n",
    "\n",
    "# # model paths\n",
    "model_01_path = \"sentiment_analysis/saved_5_models/model_01/\"\n",
    "model_02_path = \"sentiment_analysis/saved_5_models/model_02/\"\n",
    "model_03_path = \"sentiment_analysis/saved_5_models/model_03/\"\n",
    "model_04_path = \"sentiment_analysis/saved_5_models/model_04/\"\n",
    "model_05_path = \"sentiment_analysis/saved_5_models/model_05/\"\n",
    "\n",
    "## loaded models\n",
    "loaded_model_01 = pipeline(\"text-classification\", model = model_01_path, device=0)\n",
    "print(\"Model 01 loaded\")\n",
    "loaded_model_02 = pipeline(\"text-classification\", model = model_02_path, device=0)\n",
    "print(\"Models 02 loaded\")\n",
    "loaded_model_03 = pipeline(\"text-classification\", model = model_03_path, device=0)\n",
    "print(\"Models 03 loaded\")\n",
    "loaded_model_04 = pipeline(\"text-classification\", model = model_04_path, device=0)\n",
    "print(\"Models 04 loaded\")\n",
    "loaded_model_05 = pipeline(\"text-classification\", model = model_05_path, device=0)\n",
    "print(\"Models 05 loaded\")\n",
    "\n",
    "label_file_list = [i for i in glob.glob(\"related_binary_labelled/*.csv\")]\n",
    "label_file_list\n",
    "\n",
    "count = 0 \n",
    "sum_ = 0\n",
    "\n",
    "for file_ in label_file_list:\n",
    "\n",
    "    filename = file_.replace(\"related_binary_labelled/\",\"\")\n",
    "    full_filename = os.path.join(\"sentiment_analysis/inferences_from_all_5_models\", filename)\n",
    "    \n",
    "    df_ = pd.read_csv(file_)\n",
    "\n",
    "    df_test_1 = df_.copy()\n",
    "    \n",
    "    df_test_filtered = df_test_1[df_test_1['target_predict_label']=='related'][['text','target_predict','target_predict_label']].reset_index(drop=True)\n",
    "\n",
    "    if len(df_test_filtered) == 0:\n",
    "        continue\n",
    "\n",
    "    # model_1\n",
    "    predictions_df = df_test_filtered.copy()[[\"text\"]]\n",
    "    x_test_series = predictions_df['text']   \n",
    "    predicted = loaded_model_01(list(x_test_series),truncation=True)\n",
    "    \n",
    "    df_predicted = pd.DataFrame(predicted)\n",
    "    joined_new_df = predictions_df.reset_index().join(df_predicted, on='index', lsuffix='_')\n",
    "    # joined_new_df = joined_new_df[[\"text\",\"label\",\"score\"]]\n",
    "    joined_new_df = joined_new_df.rename(columns={\"label\": \"m1_label\", \"score\": \"m1_score\"})\n",
    "    joined_new_df = joined_new_df.drop(columns=['index'])    \n",
    "    print(f\"{filename} - model 1\",end=\" --- \")\n",
    "\n",
    "    # model_2\n",
    "    predictions_df_m2 = joined_new_df.copy() #[[\"text\"]]\n",
    "    x_test_series_m2 = predictions_df_m2['text']   \n",
    "    predicted_m2 = loaded_model_02(list(x_test_series_m2),truncation=True)\n",
    "    df_predicted_m2 = pd.DataFrame(predicted_m2)\n",
    "    joined_new_df_m2 = predictions_df_m2.reset_index().join(df_predicted_m2, on='index', lsuffix='_')\n",
    "    \n",
    "    model_2_label_mapping = {'LABEL_1':'neutral','LABEL_0':'negative','LABEL_2':'positive'}\n",
    "    joined_new_df_m2['label'] = joined_new_df_m2['label'].map(model_2_label_mapping)\n",
    "    \n",
    "    joined_new_df_m2 = joined_new_df_m2.rename(columns={\"label\": \"m2_label\", \"score\": \"m2_score\"})\n",
    "    joined_new_df_m2 = joined_new_df_m2.drop(columns=['index'])\n",
    "    print(\"model 2\",end=\" --- \")\n",
    " \n",
    "    # model 3\n",
    "    predictions_df_m3 = joined_new_df_m2.copy() #[[\"text\"]]    \n",
    "    x_test_series_m3 = predictions_df_m3['text']    \n",
    "    predicted_m3 = loaded_model_03(list(x_test_series_m3),truncation=True)\n",
    "    df_predicted_m3 = pd.DataFrame(predicted_m3)\n",
    "    joined_new_df_m3 = predictions_df_m3.reset_index().join(df_predicted_m3, on='index', lsuffix='_')\n",
    "    \n",
    "    model_3_label_mapping = {'NEU':'neutral','NEG':'negative','POS':'positive'}\n",
    "    joined_new_df_m3['label'] = joined_new_df_m3['label'].map(model_3_label_mapping)\n",
    "    \n",
    "    joined_new_df_m3 = joined_new_df_m3.rename(columns={\"label\": \"m3_label\", \"score\": \"m3_score\"})\n",
    "    joined_new_df_m3 = joined_new_df_m3.drop(columns=['index'])\n",
    "    print(\"model 3\",end=\" --- \")\n",
    "\n",
    "    # model 4\n",
    "    predictions_df_m4 = joined_new_df_m3.copy() #[[\"text\"]]\n",
    "    x_test_series_m4 = predictions_df_m4['text']\n",
    "    predicted_m4 = loaded_model_04(list(x_test_series_m4),truncation=True)\n",
    "    df_predicted_m4 = pd.DataFrame(predicted_m4)\n",
    "    joined_new_df_m4 = predictions_df_m4.reset_index().join(df_predicted_m4, on='index', lsuffix='_')\n",
    "\n",
    "    joined_new_df_m4 = joined_new_df_m4.rename(columns={\"label\": \"m4_label\", \"score\": \"m4_score\"})\n",
    "    joined_new_df_m4 = joined_new_df_m4.drop(columns=['index'])\n",
    "    print(\"model 4\",end=\" --- \")\n",
    "\n",
    "    # model 5\n",
    "    predictions_df_m5 = joined_new_df_m4.copy() #[[\"text\"]]   \n",
    "    x_test_series_m5 = predictions_df_m5['text']\n",
    "    predicted_m5 = loaded_model_05(list(x_test_series_m5),truncation=True)\n",
    "    df_predicted_m5 = pd.DataFrame(predicted_m5)\n",
    "    joined_new_df_m5 = predictions_df_m5.reset_index().join(df_predicted_m5, on='index', lsuffix='_')\n",
    "    \n",
    "    model_5_label_mapping = {'LABEL_1':'neutral','LABEL_0':'negative','LABEL_2':'positive'}\n",
    "    joined_new_df_m5['label'] = joined_new_df_m5['label'].map(model_5_label_mapping)\n",
    "    \n",
    "    joined_new_df_m5 = joined_new_df_m5.rename(columns={\"label\": \"m5_label\", \"score\": \"m5_score\"})\n",
    "    joined_new_df_m5 = joined_new_df_m5.drop(columns=['index'])\n",
    "    print(\"model 5\",end=\" ---\\n\")\n",
    "\n",
    "    joined_new_df_m5['majority_vote'] = joined_new_df_m5[['m1_label','m2_label','m3_label','m4_label','m5_label']].mode(axis=1)[0]\n",
    "    \n",
    "    sum_ += len(df_test_filtered)\n",
    "    count += 1 \n",
    "\n",
    "    print(joined_new_df_m5.head())\n",
    "    \n",
    "    joined_new_df_m5.to_csv(full_filename,index=False)\n",
    "    print(full_filename + ' saved')\n",
    "    print(\"\\n\\n\\n\")\n",
    "\n",
    "print(sum_)"
   ]
  },
  {
   "cell_type": "code",
   "execution_count": null,
   "id": "NMRQ_Xn-pLIS",
   "metadata": {
    "id": "NMRQ_Xn-pLIS"
   },
   "outputs": [],
   "source": []
  },
  {
   "cell_type": "code",
   "execution_count": null,
   "id": "RYLJtHScpLKv",
   "metadata": {
    "id": "RYLJtHScpLKv"
   },
   "outputs": [],
   "source": []
  },
  {
   "cell_type": "code",
   "execution_count": null,
   "id": "1SOVwxk_pLM_",
   "metadata": {
    "id": "1SOVwxk_pLM_"
   },
   "outputs": [],
   "source": []
  },
  {
   "cell_type": "code",
   "execution_count": null,
   "id": "J4v7cv2wpLRS",
   "metadata": {
    "id": "J4v7cv2wpLRS"
   },
   "outputs": [],
   "source": []
  }
 ],
 "metadata": {
  "colab": {
   "provenance": []
  },
  "kernelspec": {
   "display_name": "Python 3 (ipykernel)",
   "language": "python",
   "name": "python3"
  },
  "language_info": {
   "codemirror_mode": {
    "name": "ipython",
    "version": 3
   },
   "file_extension": ".py",
   "mimetype": "text/x-python",
   "name": "python",
   "nbconvert_exporter": "python",
   "pygments_lexer": "ipython3",
   "version": "3.9.13"
  },
  "papermill": {
   "default_parameters": {},
   "duration": 343.946818,
   "end_time": "2023-08-02T23:52:09.318853",
   "environment_variables": {},
   "exception": null,
   "input_path": "__notebook__.ipynb",
   "output_path": "__notebook__.ipynb",
   "parameters": {},
   "start_time": "2023-08-02T23:46:25.372035",
   "version": "2.4.0"
  }
 },
 "nbformat": 4,
 "nbformat_minor": 5
}
